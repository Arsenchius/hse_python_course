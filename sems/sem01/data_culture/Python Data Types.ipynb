{
 "cells": [
  {
   "cell_type": "markdown",
   "metadata": {
    "colab_type": "text",
    "id": "Ry0G3jEjCLnw"
   },
   "source": [
    "# Типы данных\n",
    "\n",
    "<div class=\"alert alert-info alertinfo\">\n",
    "\n",
    "<b><span style=\"color: black; font-style: italic\">Если вы нашли опечатку или другую проблему в этом материале, пожалуйста, расскажите нам об этом на <a href=\"https://edu.hse.ru/mod/forum/discuss.php?d=22849\" style=\"color: blue; font-style: italic\">форуме курса</a>. Спасибо, что помогаете нам стать лучше!</span></b>\n",
    "\n",
    "</div>\n"
   ]
  },
  {
   "cell_type": "markdown",
   "metadata": {
    "colab_type": "text",
    "id": "dRcZ7syRyiz-"
   },
   "source": [
    "Мы — люди — мастера классифицировать вещи. Мы легко отличаем велосипеды от автомобилей, и всегда сразу понимаем, что ездить на них нужно по-разному. Все автомобили (как и все велосипеды) — разные, но, говоря слово \"велосипед\" мы примерно понимаем, о чём идёт речь — как он выглядит, как на нём ехать. Такое классифицирование предметов наш мозг делает постоянно: мы видим книгу или газету, и понимаем, что её можно читать, видим хлеб или яблоко — их можно резать, можно есть. Такая типизация окружающих предметов происходит постоянно и это упрощает нам жизнь, позволяя принимать решения быстрее и меньше ошибаться."
   ]
  },
  {
   "cell_type": "markdown",
   "metadata": {
    "colab_type": "text",
    "id": "B3rJlPol3jQK"
   },
   "source": [
    "Компьютер тоже может работать с различной информацией, и поддерживает некоторые из знакомых нам **типов данных**:\n",
    "\n",
    "\n",
    "*   с **целыми числами**: мы пользуемся ими, когда покупаем *2 упаковки* печенья;\n",
    "*   с **дробными числами**: мы пользуемся ими, когда покупаем *1,5 л*. газировки за *75,5 рублей*\n",
    "*   со **строками**: мы пользуемся ими, когда *читаем этот текст*"
   ]
  },
  {
   "cell_type": "markdown",
   "metadata": {
    "colab_type": "text",
    "id": "B9AfylQa6yF_"
   },
   "source": [
    "Что может делать компьютер с целыми числами?"
   ]
  },
  {
   "cell_type": "code",
   "execution_count": 1,
   "metadata": {
    "colab": {
     "base_uri": "https://localhost:8080/",
     "height": 89
    },
    "colab_type": "code",
    "executionInfo": {
     "elapsed": 734,
     "status": "ok",
     "timestamp": 1596921210382,
     "user": {
      "displayName": "Дмитрий Широков",
      "photoUrl": "https://lh3.googleusercontent.com/a-/AOh14Gj5ZAs-5dMegnzmhLzTxoLXJmKnF6n7i3ZxETt9Vw=s64",
      "userId": "13642431705883450455"
     },
     "user_tz": -180
    },
    "id": "3KeiVJF_60wN",
    "outputId": "7e826784-bac1-4c83-ea15-4abc6515b2a8"
   },
   "outputs": [
    {
     "name": "stdout",
     "output_type": "stream",
     "text": [
      "13\n",
      "9\n",
      "22\n",
      "5.5\n"
     ]
    }
   ],
   "source": [
    "print(11 + 2)  # Складывать\n",
    "print(11 - 2)  # Вычитать\n",
    "print(11 * 2)  # Умножать\n",
    "print(11 / 2)  # Делить. Результатом, как и на калькуляторе, будет дробное число"
   ]
  },
  {
   "cell_type": "markdown",
   "metadata": {
    "colab_type": "text",
    "id": "7ZC0ANzG8byi"
   },
   "source": [
    "Кроме того, компьютер умеет делить целые числа нацело, подсчитывая результат такого деления или остаток:"
   ]
  },
  {
   "cell_type": "code",
   "execution_count": 2,
   "metadata": {
    "colab": {
     "base_uri": "https://localhost:8080/",
     "height": 53
    },
    "colab_type": "code",
    "executionInfo": {
     "elapsed": 676,
     "status": "ok",
     "timestamp": 1596921921696,
     "user": {
      "displayName": "Дмитрий Широков",
      "photoUrl": "https://lh3.googleusercontent.com/a-/AOh14Gj5ZAs-5dMegnzmhLzTxoLXJmKnF6n7i3ZxETt9Vw=s64",
      "userId": "13642431705883450455"
     },
     "user_tz": -180
    },
    "id": "6PY81ubX9e_6",
    "outputId": "eb6e3c78-cda3-4f12-ddb5-3bb8634ca38e"
   },
   "outputs": [
    {
     "name": "stdout",
     "output_type": "stream",
     "text": [
      "5\n",
      "1\n"
     ]
    }
   ],
   "source": [
    "print(11 // 2)  # Деление нацело даст целое число в качестве результата\n",
    "print(11 % 2)   # Остаток от деления нацело"
   ]
  },
  {
   "cell_type": "markdown",
   "metadata": {
    "colab_type": "text",
    "id": "XLtsP0s3EHPE"
   },
   "source": [
    "С дробными числами тоже можно делать то же самое, что и с целыми:"
   ]
  },
  {
   "cell_type": "code",
   "execution_count": 3,
   "metadata": {
    "colab": {
     "base_uri": "https://localhost:8080/",
     "height": 125
    },
    "colab_type": "code",
    "executionInfo": {
     "elapsed": 710,
     "status": "ok",
     "timestamp": 1598564881758,
     "user": {
      "displayName": "Дмитрий Широков",
      "photoUrl": "https://lh3.googleusercontent.com/a-/AOh14Gj5ZAs-5dMegnzmhLzTxoLXJmKnF6n7i3ZxETt9Vw=s64",
      "userId": "13642431705883450455"
     },
     "user_tz": -180
    },
    "id": "mO5QzdcWJOP1",
    "outputId": "d431fe46-dc78-4bcb-93a7-2e64212d137a"
   },
   "outputs": [
    {
     "name": "stdout",
     "output_type": "stream",
     "text": [
      "13.5\n",
      "9.5\n",
      "23.0\n",
      "5.75\n",
      "5.0\n",
      "1.5\n"
     ]
    }
   ],
   "source": [
    "print(11.5 + 2)  # Складывать\n",
    "print(11.5 - 2)  # Вычитать\n",
    "print(11.5 * 2)  # Умножать\n",
    "print(11.5 / 2)  # Делить\n",
    "\n",
    "# Делить нацело и брать остаток от деления — тоже можно:\n",
    "print(11.5 // 2)    # Деление нацело с дробным результатом\n",
    "print(11.5 % 2)     # Остаток от деления нацело "
   ]
  },
  {
   "cell_type": "markdown",
   "metadata": {
    "colab_type": "text",
    "id": "UntzzYZp_nEE"
   },
   "source": [
    "Ещё компьютер умеет возводить любые числа в степень:"
   ]
  },
  {
   "cell_type": "code",
   "execution_count": 5,
   "metadata": {
    "colab": {
     "base_uri": "https://localhost:8080/",
     "height": 71
    },
    "colab_type": "code",
    "executionInfo": {
     "elapsed": 1288,
     "status": "ok",
     "timestamp": 1596922575380,
     "user": {
      "displayName": "Дмитрий Широков",
      "photoUrl": "https://lh3.googleusercontent.com/a-/AOh14Gj5ZAs-5dMegnzmhLzTxoLXJmKnF6n7i3ZxETt9Vw=s64",
      "userId": "13642431705883450455"
     },
     "user_tz": -180
    },
    "id": "ySPmJ-xy_mC7",
    "outputId": "3f80d875-0992-4023-c37d-02ee75cb776d"
   },
   "outputs": [
    {
     "name": "stdout",
     "output_type": "stream",
     "text": [
      "9\n",
      "27\n",
      "12.25\n"
     ]
    }
   ],
   "source": [
    "print(3 ** 2)   # 3 во второй степени = 9\n",
    "print(3 ** 3)   # 3 в третьей степени = 27\n",
    "\n",
    "print(3.5 ** 2) # 3.25 во второй степени = 12.25"
   ]
  },
  {
   "cell_type": "code",
   "execution_count": 10,
   "metadata": {},
   "outputs": [
    {
     "data": {
      "text/plain": [
       "int"
      ]
     },
     "execution_count": 10,
     "metadata": {},
     "output_type": "execute_result"
    }
   ],
   "source": [
    "type(12)"
   ]
  },
  {
   "cell_type": "markdown",
   "metadata": {
    "colab_type": "text",
    "id": "hCBbdClsC9dg"
   },
   "source": [
    "Что можно сделать со строчками?"
   ]
  },
  {
   "cell_type": "code",
   "execution_count": 11,
   "metadata": {
    "colab": {
     "base_uri": "https://localhost:8080/",
     "height": 89
    },
    "colab_type": "code",
    "executionInfo": {
     "elapsed": 796,
     "status": "ok",
     "timestamp": 1596923518207,
     "user": {
      "displayName": "Дмитрий Широков",
      "photoUrl": "https://lh3.googleusercontent.com/a-/AOh14Gj5ZAs-5dMegnzmhLzTxoLXJmKnF6n7i3ZxETt9Vw=s64",
      "userId": "13642431705883450455"
     },
     "user_tz": -180
    },
    "id": "SvZUTu4kDDPU",
    "outputId": "ee45f0a9-d173-46b6-b98c-3018ce27283e"
   },
   "outputs": [
    {
     "name": "stdout",
     "output_type": "stream",
     "text": [
      "Helloworld\n",
      "Hello world\n",
      "Hello world\n",
      "OneMoreTime!OneMoreTime!OneMoreTime!OneMoreTime!\n"
     ]
    }
   ],
   "source": [
    "print('Hello' + 'world')        # Можно их склеить \n",
    "\n",
    "# Склейка произойдёт без каких-либо дополнительных отступов\n",
    "print('Hello' + ' ' + 'world')  # Отступ можно добавить в дополнительной строке\n",
    "print('Hello' + ' world')       # или добавить в какую-то из склеиваемых строк\n",
    "\n",
    "print('OneMoreTime!' * 4)       # Можно попросить компьютер повторить строчку несколько раз"
   ]
  },
  {
   "cell_type": "markdown",
   "metadata": {
    "colab_type": "text",
    "id": "itp2_h8ypJs6"
   },
   "source": [
    "Сколько будет 19920630 + 1?"
   ]
  },
  {
   "cell_type": "code",
   "execution_count": 12,
   "metadata": {
    "colab": {
     "base_uri": "https://localhost:8080/",
     "height": 71
    },
    "colab_type": "code",
    "executionInfo": {
     "elapsed": 1455,
     "status": "ok",
     "timestamp": 1596918770713,
     "user": {
      "displayName": "Дмитрий Широков",
      "photoUrl": "https://lh3.googleusercontent.com/a-/AOh14Gj5ZAs-5dMegnzmhLzTxoLXJmKnF6n7i3ZxETt9Vw=s64",
      "userId": "13642431705883450455"
     },
     "user_tz": -180
    },
    "id": "7gZg9sw6Qxya",
    "outputId": "181d4a8a-34e5-4b8d-dad1-c9efe44610da"
   },
   "outputs": [
    {
     "name": "stdout",
     "output_type": "stream",
     "text": [
      "199206301\n",
      "19920631\n",
      "19920631.0\n"
     ]
    }
   ],
   "source": [
    "print('19920630' + '1')   # Если посчитать это строками и склеить их\n",
    "print(19920630 + 1)       # Если посчитать это целыми числами и сложить их\n",
    "print(19920630.0 + 1.0)   # Если посчитать это дробными числами и сложить их"
   ]
  },
  {
   "cell_type": "markdown",
   "metadata": {
    "colab_type": "text",
    "id": "HohzXaFCCeQV"
   },
   "source": [
    "Что будет, если случайно попросить сложить число и строку?"
   ]
  },
  {
   "cell_type": "code",
   "execution_count": 13,
   "metadata": {
    "colab": {
     "base_uri": "https://localhost:8080/",
     "height": 170
    },
    "colab_type": "code",
    "executionInfo": {
     "elapsed": 1007,
     "status": "error",
     "timestamp": 1598986842572,
     "user": {
      "displayName": "Дмитрий Широков",
      "photoUrl": "https://lh3.googleusercontent.com/a-/AOh14Gj5ZAs-5dMegnzmhLzTxoLXJmKnF6n7i3ZxETt9Vw=s64",
      "userId": "13642431705883450455"
     },
     "user_tz": -180
    },
    "id": "8OSJyEMpCkwD",
    "outputId": "0981396d-250e-4b1e-f739-b395cf01e242"
   },
   "outputs": [
    {
     "ename": "TypeError",
     "evalue": "can only concatenate str (not \"int\") to str",
     "output_type": "error",
     "traceback": [
      "\u001b[0;31m---------------------------------------------------------------------------\u001b[0m",
      "\u001b[0;31mTypeError\u001b[0m                                 Traceback (most recent call last)",
      "Cell \u001b[0;32mIn[13], line 1\u001b[0m\n\u001b[0;32m----> 1\u001b[0m \u001b[38;5;28mprint\u001b[39m(\u001b[38;5;124;43m'\u001b[39;49m\u001b[38;5;124;43m19920630\u001b[39;49m\u001b[38;5;124;43m'\u001b[39;49m\u001b[43m \u001b[49m\u001b[38;5;241;43m+\u001b[39;49m\u001b[43m \u001b[49m\u001b[38;5;241;43m1\u001b[39;49m)\n",
      "\u001b[0;31mTypeError\u001b[0m: can only concatenate str (not \"int\") to str"
     ]
    }
   ],
   "source": [
    "print('19920630' + 1)"
   ]
  },
  {
   "cell_type": "markdown",
   "metadata": {
    "colab_type": "text",
    "id": "pBdkgqZPC0ft"
   },
   "source": [
    "`TypeError: must be str`: компьютер не знает, как добавить к тексту число, — он умеет склеивать строки и складывать числа, но не умеет склеивать число со строкой или прибавлять к числу текст."
   ]
  },
  {
   "cell_type": "markdown",
   "metadata": {
    "colab_type": "text",
    "id": "L-nglL5jJl6_"
   },
   "source": [
    "Как объяснить компьютеру, с каким типом данных ему предстоит работать?"
   ]
  },
  {
   "cell_type": "code",
   "execution_count": 14,
   "metadata": {
    "colab": {
     "base_uri": "https://localhost:8080/",
     "height": 71
    },
    "colab_type": "code",
    "executionInfo": {
     "elapsed": 18245,
     "status": "ok",
     "timestamp": 1596925458229,
     "user": {
      "displayName": "Дмитрий Широков",
      "photoUrl": "https://lh3.googleusercontent.com/a-/AOh14Gj5ZAs-5dMegnzmhLzTxoLXJmKnF6n7i3ZxETt9Vw=s64",
      "userId": "13642431705883450455"
     },
     "user_tz": -180
    },
    "id": "pHEd_jLTJ9j4",
    "outputId": "c43db365-3867-4aac-cacb-7f041ee2b03a"
   },
   "outputs": [
    {
     "name": "stdout",
     "output_type": "stream",
     "text": [
      "Введите число: 1\n",
      "и ещё одно: 2\n",
      "12\n"
     ]
    }
   ],
   "source": [
    "a = input('Введите число: ')  # Спросим два числа\n",
    "b = input('и ещё одно: ')\n",
    "print(a + b)"
   ]
  },
  {
   "cell_type": "markdown",
   "metadata": {
    "colab_type": "text",
    "id": "8uXHupckAq1A"
   },
   "source": [
    "Почему так? Посмотрим, как понимает введённые числа компьютер с помощью функции `type()`:"
   ]
  },
  {
   "cell_type": "code",
   "execution_count": 15,
   "metadata": {
    "colab": {
     "base_uri": "https://localhost:8080/",
     "height": 89
    },
    "colab_type": "code",
    "executionInfo": {
     "elapsed": 8658,
     "status": "ok",
     "timestamp": 1598986368024,
     "user": {
      "displayName": "Дмитрий Широков",
      "photoUrl": "https://lh3.googleusercontent.com/a-/AOh14Gj5ZAs-5dMegnzmhLzTxoLXJmKnF6n7i3ZxETt9Vw=s64",
      "userId": "13642431705883450455"
     },
     "user_tz": -180
    },
    "id": "VjxD45oVAx3k",
    "outputId": "5dfda774-97cd-44f5-ecf3-9d01808d5e78"
   },
   "outputs": [
    {
     "name": "stdout",
     "output_type": "stream",
     "text": [
      "Введите число: 1\n",
      "и ещё одно: 2\n",
      "<class 'str'> <class 'str'>\n",
      "12\n"
     ]
    }
   ],
   "source": [
    "a = input('Введите число: ')  # Спросим два числа\n",
    "b = input('и ещё одно: ')\n",
    "print(type(a), type(b))\n",
    "print(a + b)"
   ]
  },
  {
   "cell_type": "markdown",
   "metadata": {
    "colab_type": "text",
    "id": "iLUUmzFU1mYF"
   },
   "source": [
    "А как понимает числа?"
   ]
  },
  {
   "cell_type": "code",
   "execution_count": null,
   "metadata": {
    "colab": {
     "base_uri": "https://localhost:8080/",
     "height": 35
    },
    "colab_type": "code",
    "executionInfo": {
     "elapsed": 1542,
     "status": "ok",
     "timestamp": 1599050543102,
     "user": {
      "displayName": "Дмитрий Широков",
      "photoUrl": "https://lh3.googleusercontent.com/a-/AOh14Gj5ZAs-5dMegnzmhLzTxoLXJmKnF6n7i3ZxETt9Vw=s64",
      "userId": "13642431705883450455"
     },
     "user_tz": -180
    },
    "id": "GW7gJtxA1nvY",
    "outputId": "9f8d7a1c-e403-4f0b-c863-c35391050cc1"
   },
   "outputs": [
    {
     "name": "stdout",
     "output_type": "stream",
     "text": [
      "<class 'int'> <class 'float'>\n"
     ]
    }
   ],
   "source": [
    "print(type(4), type(3.5))"
   ]
  },
  {
   "cell_type": "markdown",
   "metadata": {
    "colab_type": "text",
    "id": "hDYd14WX2cxk"
   },
   "source": [
    "* Целые числа называются ``int``, от английского integer (целое). \n",
    "* Дробные называются ``float``, так как внутри дроби есть запятая, и компьютеру нужно помнить, где она находится. \n",
    "* Строки называются ``str``, от английского string."
   ]
  },
  {
   "cell_type": "markdown",
   "metadata": {
    "colab_type": "text",
    "id": "OVK_zfd7LMKV"
   },
   "source": [
    "Изначально компьютер всё считает строками. Если нам нужен другой тип данных — нужно превратить строку в целое число, воспользовавшись функцией ``int()``, либо в дробное, с помощью функции ``float()``:\n",
    "\n",
    "\n",
    "1.   Спросим первое число (компьютер прочитает его строчкой)\n",
    "2.   Перезапишем переменную, превратив её из строки в целое число\n",
    "3. Спросим второе число, и сразу превратим его из строки в число, совместив две команды в одну\n",
    "4. Выведем результат \n",
    "\n"
   ]
  },
  {
   "cell_type": "code",
   "execution_count": 22,
   "metadata": {},
   "outputs": [
    {
     "ename": "ValueError",
     "evalue": "invalid literal for int() with base 10: 'beer'",
     "output_type": "error",
     "traceback": [
      "\u001b[0;31m---------------------------------------------------------------------------\u001b[0m",
      "\u001b[0;31mValueError\u001b[0m                                Traceback (most recent call last)",
      "Cell \u001b[0;32mIn[22], line 4\u001b[0m\n\u001b[1;32m      1\u001b[0m \u001b[38;5;66;03m# type(int(\"123456\"))\u001b[39;00m\n\u001b[1;32m      2\u001b[0m \u001b[38;5;66;03m# float(\"123456\")\u001b[39;00m\n\u001b[1;32m      3\u001b[0m \u001b[38;5;66;03m# str(12345)\u001b[39;00m\n\u001b[0;32m----> 4\u001b[0m \u001b[38;5;28;43mint\u001b[39;49m\u001b[43m(\u001b[49m\u001b[38;5;124;43m\"\u001b[39;49m\u001b[38;5;124;43mbeer\u001b[39;49m\u001b[38;5;124;43m\"\u001b[39;49m\u001b[43m)\u001b[49m\n",
      "\u001b[0;31mValueError\u001b[0m: invalid literal for int() with base 10: 'beer'"
     ]
    }
   ],
   "source": [
    "# type(int(\"123456\"))\n",
    "# float(\"123456\")\n",
    "# str(12345)\n",
    "int(\"beer\")"
   ]
  },
  {
   "cell_type": "code",
   "execution_count": 16,
   "metadata": {
    "colab": {
     "base_uri": "https://localhost:8080/",
     "height": 71
    },
    "colab_type": "code",
    "executionInfo": {
     "elapsed": 6738,
     "status": "ok",
     "timestamp": 1596925748674,
     "user": {
      "displayName": "Дмитрий Широков",
      "photoUrl": "https://lh3.googleusercontent.com/a-/AOh14Gj5ZAs-5dMegnzmhLzTxoLXJmKnF6n7i3ZxETt9Vw=s64",
      "userId": "13642431705883450455"
     },
     "user_tz": -180
    },
    "id": "aC5o0HZULd4B",
    "outputId": "9455202c-9c3c-4670-8bc0-7e3ff5e78e50"
   },
   "outputs": [
    {
     "name": "stdout",
     "output_type": "stream",
     "text": [
      "Введите число: 1\n",
      "и ещё одно: 2\n",
      "3\n"
     ]
    }
   ],
   "source": [
    "a = input('Введите число: ')   # Спросим два числа\n",
    "a = int(a)                     # Перезапишем переменную a, указав, что было введено именно число\n",
    "b = int(input('и ещё одно: ')) # Для второго числа совместим две команды в одну\n",
    "print(a + b)"
   ]
  },
  {
   "cell_type": "markdown",
   "metadata": {
    "colab_type": "text",
    "id": "Hadogf59pVAK"
   },
   "source": [
    "Попробуем посчитать вес кусков торта. Мы знаем, что торт редко весит целое число килограмм и, обычно, на весах мы видим килограммы и граммы в виде дроби. Так же мы знаем, что торт получится порезать только на целое число кусков — на два, на три, ... на десять. И не забудем превратить вес каждого куска из числа в текст при выводе!"
   ]
  },
  {
   "cell_type": "code",
   "execution_count": 23,
   "metadata": {
    "colab": {
     "base_uri": "https://localhost:8080/",
     "height": 71
    },
    "colab_type": "code",
    "executionInfo": {
     "elapsed": 5629,
     "status": "ok",
     "timestamp": 1598987005394,
     "user": {
      "displayName": "Дмитрий Широков",
      "photoUrl": "https://lh3.googleusercontent.com/a-/AOh14Gj5ZAs-5dMegnzmhLzTxoLXJmKnF6n7i3ZxETt9Vw=s64",
      "userId": "13642431705883450455"
     },
     "user_tz": -180
    },
    "id": "s3pINicTQx1E",
    "outputId": "c12a5547-687f-493b-f4d5-a06d40e8f294"
   },
   "outputs": [
    {
     "name": "stdout",
     "output_type": "stream",
     "text": [
      "Введите количество кусков: 7\n",
      "Введите вес торта в килограммах: 28\n",
      "Вес одного куска составит 4.0 килограмм\n"
     ]
    }
   ],
   "source": [
    "# Попросим компьютер узнать, на сколько кусков мы порежем торт и, с помощью функции int(), \n",
    "# сразу превратим количество кусков из текста в целое число\n",
    "a = int(input('Введите количество кусков: ')) \n",
    "\n",
    "# Попросим компьютер узнать, сколько весит торт и, с помощью функции float(),\n",
    "# сразу превратим вес торта из текста в дробное число\n",
    "b = float(input('Введите вес торта в килограммах: '))\n",
    "\n",
    "# Разделим вес торта на количество кусков\n",
    "c = b / a \n",
    "\n",
    "# Попробуем составить текст ответа, сложив его из фразы про вес одного куска, посчитанного веса и слова \"килограмм\"\n",
    "d = 'Вес одного куска составит ' + str(c) + ' килограмм'  \n",
    "print(d)"
   ]
  },
  {
   "cell_type": "markdown",
   "metadata": {
    "colab_type": "text",
    "id": "Tf5Wq9F9t9Sc"
   },
   "source": [
    "Повторим возможные действия и команды:"
   ]
  },
  {
   "cell_type": "code",
   "execution_count": 1,
   "metadata": {
    "colab": {
     "base_uri": "https://localhost:8080/",
     "height": 359
    },
    "colab_type": "code",
    "executionInfo": {
     "elapsed": 646,
     "status": "ok",
     "timestamp": 1598565765803,
     "user": {
      "displayName": "Дмитрий Широков",
      "photoUrl": "https://lh3.googleusercontent.com/a-/AOh14Gj5ZAs-5dMegnzmhLzTxoLXJmKnF6n7i3ZxETt9Vw=s64",
      "userId": "13642431705883450455"
     },
     "user_tz": -180
    },
    "id": "6g3gW8XU7iCS",
    "outputId": "4424ac55-e9c2-44d0-da09-3090bf6f1522"
   },
   "outputs": [
    {
     "name": "stdout",
     "output_type": "stream",
     "text": [
      "Числа (целые и вещественные) можно:\n",
      "Складывать:\n",
      "12\n",
      "12.0\n",
      "Вычитать:\n",
      "-2\n",
      "-2.0\n",
      "Умножать:\n",
      "35\n",
      "38.5\n",
      "Делить:\n",
      "0.5\n",
      "2.1\n",
      "Делить нацело:\n",
      "2\n",
      "2.0\n",
      "Брать остаток от деления:\n",
      "1\n",
      "1.5\n",
      "Возводить в степень:\n",
      "25\n",
      "30.25\n"
     ]
    }
   ],
   "source": [
    "print('Числа (целые и вещественные) можно:')\n",
    "print('Складывать:')\n",
    "print(5 + 7)\n",
    "print(5.5 + 6.5)\n",
    "\n",
    "print('Вычитать:')\n",
    "print(5 - 7)    \n",
    "print(5.5 - 7.5)\n",
    "\n",
    "print('Умножать:')\n",
    "print(5 * 7)\n",
    "print(5.5 * 7)\n",
    "\n",
    "print('Делить:')\n",
    "print(8 / 16)\n",
    "print(4.2 / 2)\n",
    "\n",
    "print('Делить нацело:')\n",
    "print(5 // 2)\n",
    "print(5.5 // 2)\n",
    "\n",
    "print('Брать остаток от деления:')\n",
    "print(5 % 2)\n",
    "print(5.5 % 2)\n",
    "\n",
    "print('Возводить в степень:')\n",
    "print(5 ** 2)\n",
    "print(5.5 ** 2)"
   ]
  },
  {
   "cell_type": "code",
   "execution_count": null,
   "metadata": {
    "colab": {
     "base_uri": "https://localhost:8080/",
     "height": 107
    },
    "colab_type": "code",
    "executionInfo": {
     "elapsed": 730,
     "status": "ok",
     "timestamp": 1598565848742,
     "user": {
      "displayName": "Дмитрий Широков",
      "photoUrl": "https://lh3.googleusercontent.com/a-/AOh14Gj5ZAs-5dMegnzmhLzTxoLXJmKnF6n7i3ZxETt9Vw=s64",
      "userId": "13642431705883450455"
     },
     "user_tz": -180
    },
    "id": "k8X1lNI48d1c",
    "outputId": "613a36a1-c574-47f3-b5d0-6ad7a9aa7215"
   },
   "outputs": [
    {
     "name": "stdout",
     "output_type": "stream",
     "text": [
      "Со строками всё немного проще:\n",
      "Их можно склеивать:\n",
      "Hello World!\n",
      "И умножать на целое число:\n",
      "Hello Hello Hello Hello \n"
     ]
    }
   ],
   "source": [
    "print('Со строками всё немного проще:')\n",
    "print('Их можно склеивать:')\n",
    "first = 'Hello '\n",
    "second = 'World!'\n",
    "text = first + second\n",
    "print(text)\n",
    "\n",
    "print('И умножать на целое число:')\n",
    "text = first * 4\n",
    "print(text)"
   ]
  }
 ],
 "metadata": {
  "colab": {
   "collapsed_sections": [],
   "name": "1.2.2 Типы данных.ipynb",
   "provenance": []
  },
  "kernelspec": {
   "display_name": "Python 3 (ipykernel)",
   "language": "python",
   "name": "python3"
  },
  "language_info": {
   "codemirror_mode": {
    "name": "ipython",
    "version": 3
   },
   "file_extension": ".py",
   "mimetype": "text/x-python",
   "name": "python",
   "nbconvert_exporter": "python",
   "pygments_lexer": "ipython3",
   "version": "3.10.8"
  }
 },
 "nbformat": 4,
 "nbformat_minor": 4
}
