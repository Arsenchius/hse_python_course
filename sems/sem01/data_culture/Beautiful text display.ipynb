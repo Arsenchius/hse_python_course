{
 "cells": [
  {
   "cell_type": "markdown",
   "metadata": {
    "id": "fj7vm204FP7Z"
   },
   "source": [
    "# Красивый вывод текста на экран\n",
    "<div class=\"alert alert-info alertinfo\">\n",
    "\n",
    "<b><span style=\"color: black; font-style: italic\">Если вы нашли опечатку или другую проблему в этом материале, пожалуйста, расскажите нам об этом на <a href=\"https://edu.hse.ru/mod/forum/discuss.php?d=22849\" style=\"color: blue; font-style: italic\">форуме курса</a>. Спасибо, что помогаете нам стать лучше!</span></b>\n",
    "\n",
    "</div>\n"
   ]
  },
  {
   "cell_type": "markdown",
   "metadata": {
    "id": "2eS1zhvgcaIU"
   },
   "source": [
    "Мы живём в мире текстов. Python — тоже. И он прекрасно умеет их оформлять"
   ]
  },
  {
   "cell_type": "code",
   "execution_count": 2,
   "metadata": {
    "colab": {
     "base_uri": "https://localhost:8080/",
     "height": 89
    },
    "executionInfo": {
     "elapsed": 83165,
     "status": "ok",
     "timestamp": 1595956702637,
     "user": {
      "displayName": "Дмитрий Широков",
      "photoUrl": "https://lh3.googleusercontent.com/a-/AOh14Gj5ZAs-5dMegnzmhLzTxoLXJmKnF6n7i3ZxETt9Vw=s64",
      "userId": "13642431705883450455"
     },
     "user_tz": -180
    },
    "id": "edeLhKvOvWNm",
    "outputId": "9bede8e2-5274-4e81-8433-58cde14353a0"
   },
   "outputs": [
    {
     "name": "stdout",
     "output_type": "stream",
     "text": [
      "Что вы возьмёте на необитаемый остров? пиво\n",
      "А ещё? пиво\n",
      "И, конечно, ещё и пиво\n",
      "Вы возьмёте на необитаемый остров: пиво, пиво, пиво\n",
      "А еще вина?\n"
     ]
    }
   ],
   "source": [
    "first = input('Что вы возьмёте на необитаемый остров? ')\n",
    "second = input('А ещё? ')\n",
    "third = input('И, конечно, ещё и ')\n",
    "\n",
    "print('Вы возьмёте на необитаемый остров', end=\": \") # end=\": \" — Так можно попросить Python не заканчивать строчку, \n",
    "                                                     # а продолжить писать после знаков \": \"\n",
    "    \n",
    "print(first, second, third, sep=\", \") # sep=\", \" — так мы просим Python вывести три строчки не просто через пробел, \n",
    "                                      # как обычно, а через запятую и пробел\n",
    "    \n",
    "print(\"А еще вина?\")"
   ]
  },
  {
   "cell_type": "markdown",
   "metadata": {
    "id": "8cOAzyzoxFIW"
   },
   "source": [
    "С помощью слов sep и end мы *настраиваем* функцию ``print()``, мы уточняем для компьютера, что же мы от него хотим. Мы не знаем, как работает ``print()`` внутри себя, как мы не знаем об устройстве автомата по продаже кофе. Но, с помощью слов ``sep`` и ``end``, мы можем точнее описать компьютеру, как именно он должен вывести наш текст на экран. Слова ``sep`` и ``end`` — прямо как кнопки \"Больше сахара\" и \"Меньше сахара\" при заказе кофе в автомате — позволяют тонко настроить желаемый результат.\n",
    "Такие слова для *настройки* функций мы будем называть **аргументами**. *``sep``* и *``end``* — именованные аргументы, так как у них есть названия."
   ]
  },
  {
   "cell_type": "code",
   "execution_count": null,
   "metadata": {
    "colab": {
     "base_uri": "https://localhost:8080/",
     "height": 35
    },
    "executionInfo": {
     "elapsed": 1945,
     "status": "ok",
     "timestamp": 1599406746992,
     "user": {
      "displayName": "Дмитрий Широков",
      "photoUrl": "https://lh3.googleusercontent.com/a-/AOh14Gj5ZAs-5dMegnzmhLzTxoLXJmKnF6n7i3ZxETt9Vw=s64",
      "userId": "13642431705883450455"
     },
     "user_tz": -180
    },
    "id": "QKiGIOMxxg2D",
    "outputId": "52130159-751f-44a3-c425-0df1e777ae2f"
   },
   "outputs": [
    {
     "name": "stdout",
     "output_type": "stream",
     "text": [
      "Текст в кавычках — тоже аргумент, но у него названия нет\n"
     ]
    }
   ],
   "source": [
    "print('Текст в кавычках — тоже аргумент, но у него названия нет')"
   ]
  },
  {
   "cell_type": "markdown",
   "metadata": {
    "id": "KuaMY9SDyfha"
   },
   "source": [
    "Чтобы подставить значение переменной в готовый текст, нужно превратить обычную строку (которую мы пишем для компьютера в одинарных кавычках) в `f-строку`. \n",
    "Это хорошо тем, что мы можем подставлять имя студента в разные тексты и не городить уйму кавычек."
   ]
  },
  {
   "cell_type": "code",
   "execution_count": 4,
   "metadata": {
    "colab": {
     "base_uri": "https://localhost:8080/",
     "height": 89
    },
    "executionInfo": {
     "elapsed": 7312,
     "status": "ok",
     "timestamp": 1599049565429,
     "user": {
      "displayName": "Дмитрий Широков",
      "photoUrl": "https://lh3.googleusercontent.com/a-/AOh14Gj5ZAs-5dMegnzmhLzTxoLXJmKnF6n7i3ZxETt9Vw=s64",
      "userId": "13642431705883450455"
     },
     "user_tz": -180
    },
    "id": "RyVVcLXDxvv0",
    "outputId": "1f26b17b-4609-45cf-8d8c-037314ecb8f0"
   },
   "outputs": [
    {
     "name": "stdout",
     "output_type": "stream",
     "text": [
      "Как зовут студента? Настя\n",
      "Любимый напиток? Пиво\n",
      "Привет, Настя! Ты любишь Пиво?\n",
      "Hello, Настя!\n",
      "おはようございます, Настя!\n"
     ]
    }
   ],
   "source": [
    "name = input('Как зовут студента? ')\n",
    "drink = input(\"Любимый напиток? \")\n",
    "print(f'Привет, {name}! Ты любишь {drink}?')\n",
    "print(f'Hello, {name}!')\n",
    "print(f'おはようございます, {name}!')"
   ]
  },
  {
   "cell_type": "markdown",
   "metadata": {
    "id": "a_krAu4c2Z5o"
   },
   "source": [
    "А если полей в бланке много?"
   ]
  },
  {
   "cell_type": "code",
   "execution_count": null,
   "metadata": {
    "colab": {
     "base_uri": "https://localhost:8080/",
     "height": 127
    },
    "executionInfo": {
     "elapsed": 20832,
     "status": "ok",
     "timestamp": 1598566543413,
     "user": {
      "displayName": "Дмитрий Широков",
      "photoUrl": "https://lh3.googleusercontent.com/a-/AOh14Gj5ZAs-5dMegnzmhLzTxoLXJmKnF6n7i3ZxETt9Vw=s64",
      "userId": "13642431705883450455"
     },
     "user_tz": -180
    },
    "id": "hJYb6NsX2f2a",
    "outputId": "053d4dfc-324c-458e-a6b7-992c63f91703"
   },
   "outputs": [
    {
     "name": "stdout",
     "output_type": "stream",
     "text": [
      "Как зовут студента? Аня\n",
      "Где будет бал? Покровка, 11\n",
      "Когда? надцатого мартобря\n",
      "Во сколько? 40:96\n",
      "Привет, Аня! Приглашаем тебя на бал первокурсников, который состоится по адресу Покровка, 11, надцатого мартобря в 40:96. Приходи, будем ждать!\n"
     ]
    }
   ],
   "source": [
    "name = input('Как зовут студента? ')\n",
    "addr = input('Где будет бал? ')\n",
    "date = input('Когда? ')\n",
    "time = input('Во сколько? ')\n",
    "print(f'Привет, {name}! Приглашаем тебя на бал первокурсников, который состоится по адресу {addr}, {date} в {time}. Приходи, будем ждать!')"
   ]
  },
  {
   "cell_type": "markdown",
   "metadata": {
    "id": "7jj4Goa54Jvu"
   },
   "source": [
    "Чтобы напечатать приглашение в несколько строк, в том месте, где нам нужен переход на новую строчку, нужно написать `\\n`:"
   ]
  },
  {
   "cell_type": "code",
   "execution_count": null,
   "metadata": {
    "colab": {
     "base_uri": "https://localhost:8080/",
     "height": 143
    },
    "executionInfo": {
     "elapsed": 13932,
     "status": "ok",
     "timestamp": 1598566626207,
     "user": {
      "displayName": "Дмитрий Широков",
      "photoUrl": "https://lh3.googleusercontent.com/a-/AOh14Gj5ZAs-5dMegnzmhLzTxoLXJmKnF6n7i3ZxETt9Vw=s64",
      "userId": "13642431705883450455"
     },
     "user_tz": -180
    },
    "id": "9h1NICwI4QIX",
    "outputId": "9b803312-4b5b-4199-da4c-7be241528eb4"
   },
   "outputs": [
    {
     "name": "stdout",
     "output_type": "stream",
     "text": [
      "Как зовут студента? Аня\n",
      "Где будет бал? Покровка, 11\n",
      "Когда? надцатого мартобря\n",
      "Во сколько? 40:96\n",
      "Привет, Аня!\n",
      "Приглашаем тебя на бал первокурсников, который состоится надцатого мартобря в 40:96 по адресу Покровка, 11.\n",
      "Приходи, будем ждать!\n"
     ]
    }
   ],
   "source": [
    "name = input('Как зовут студента? ')\n",
    "addr = input('Где будет бал? ')\n",
    "date = input('Когда? ')\n",
    "time = input('Во сколько? ')\n",
    "text = f'Привет, {name}!\\nПриглашаем тебя на бал первокурсников, который состоится {date} в {time} по адресу {addr}.\\nПриходи, будем ждать!'\n",
    "print(text) # Здесь текст приглашения уже оформлен и готов к выводу в 3 строки"
   ]
  },
  {
   "cell_type": "markdown",
   "metadata": {
    "id": "Nfg43UZ6WIgd"
   },
   "source": [
    "Чудесно. А как мне написать в строке фигурную скобку, если я захочу её вывести на экран, раз она используется самим компьютером?"
   ]
  },
  {
   "cell_type": "code",
   "execution_count": null,
   "metadata": {
    "colab": {
     "base_uri": "https://localhost:8080/",
     "height": 53
    },
    "executionInfo": {
     "elapsed": 1024,
     "status": "ok",
     "timestamp": 1598567199528,
     "user": {
      "displayName": "Дмитрий Широков",
      "photoUrl": "https://lh3.googleusercontent.com/a-/AOh14Gj5ZAs-5dMegnzmhLzTxoLXJmKnF6n7i3ZxETt9Vw=s64",
      "userId": "13642431705883450455"
     },
     "user_tz": -180
    },
    "id": "4xt0wvMMWi-V",
    "outputId": "5ef3d317-cd3d-41f4-bf96-dfc92cf5e407"
   },
   "outputs": [
    {
     "name": "stdout",
     "output_type": "stream",
     "text": [
      "Имя: {name}\n",
      "Имя: Фыва Пролджэ\n"
     ]
    }
   ],
   "source": [
    "name = 'Фыва Пролджэ'\n",
    "print(f'Имя: {{name}}')  # Для вывода фигурных скобок их нужно превратить в обычные \n",
    "                         # символы, удвоив их. Переменная name не будет заменена в этой строке\n",
    "    \n",
    "print(f'Имя: {name}')    # А в этой — будет"
   ]
  },
  {
   "cell_type": "markdown",
   "metadata": {
    "id": "JjscDhqRtZRS"
   },
   "source": [
    "Важно заметить, что компьютер подставляет переменные именно в момент чтения строчки с командой, и если f-строку поставить до объявления переменных, мы получим сообщение об ошибке (`NameError: name 'name' is not defined`, ОшибкаИмени: переменной 'name' не существует):"
   ]
  },
  {
   "cell_type": "code",
   "execution_count": null,
   "metadata": {
    "colab": {
     "base_uri": "https://localhost:8080/",
     "height": 260
    },
    "executionInfo": {
     "elapsed": 1251,
     "status": "error",
     "timestamp": 1596968047481,
     "user": {
      "displayName": "Дмитрий Широков",
      "photoUrl": "https://lh3.googleusercontent.com/a-/AOh14Gj5ZAs-5dMegnzmhLzTxoLXJmKnF6n7i3ZxETt9Vw=s64",
      "userId": "13642431705883450455"
     },
     "user_tz": -180
    },
    "id": "LpdY_vHBtk3D",
    "outputId": "929f1c57-b384-4aae-ac81-3a9469762867"
   },
   "outputs": [
    {
     "ename": "NameError",
     "evalue": "ignored",
     "output_type": "error",
     "traceback": [
      "\u001b[0;31m---------------------------------------------------------------------------\u001b[0m",
      "\u001b[0;31mNameError\u001b[0m                                 Traceback (most recent call last)",
      "\u001b[0;32m<ipython-input-2-4a9fcb5cd119>\u001b[0m in \u001b[0;36m<module>\u001b[0;34m()\u001b[0m\n\u001b[0;32m----> 1\u001b[0;31m \u001b[0mtext\u001b[0m \u001b[0;34m=\u001b[0m \u001b[0;34mf'Привет, {name}!\\nПриглашаем тебя на бал первокурсников, который состоится {date} в {time} по адресу {addr}.\\nПриходи, будем ждать!'\u001b[0m\u001b[0;34m\u001b[0m\u001b[0;34m\u001b[0m\u001b[0m\n\u001b[0m\u001b[1;32m      2\u001b[0m \u001b[0mname\u001b[0m \u001b[0;34m=\u001b[0m \u001b[0minput\u001b[0m\u001b[0;34m(\u001b[0m\u001b[0;34m'Как зовут студента? '\u001b[0m\u001b[0;34m)\u001b[0m\u001b[0;34m\u001b[0m\u001b[0;34m\u001b[0m\u001b[0m\n\u001b[1;32m      3\u001b[0m \u001b[0maddr\u001b[0m \u001b[0;34m=\u001b[0m \u001b[0minput\u001b[0m\u001b[0;34m(\u001b[0m\u001b[0;34m'Где будет бал? '\u001b[0m\u001b[0;34m)\u001b[0m\u001b[0;34m\u001b[0m\u001b[0;34m\u001b[0m\u001b[0m\n\u001b[1;32m      4\u001b[0m \u001b[0mdate\u001b[0m \u001b[0;34m=\u001b[0m \u001b[0minput\u001b[0m\u001b[0;34m(\u001b[0m\u001b[0;34m'Когда? '\u001b[0m\u001b[0;34m)\u001b[0m\u001b[0;34m\u001b[0m\u001b[0;34m\u001b[0m\u001b[0m\n\u001b[1;32m      5\u001b[0m \u001b[0mtime\u001b[0m \u001b[0;34m=\u001b[0m \u001b[0minput\u001b[0m\u001b[0;34m(\u001b[0m\u001b[0;34m'Во сколько? '\u001b[0m\u001b[0;34m)\u001b[0m\u001b[0;34m\u001b[0m\u001b[0;34m\u001b[0m\u001b[0m\n",
      "\u001b[0;31mNameError\u001b[0m: name 'name' is not defined"
     ]
    }
   ],
   "source": [
    "text = f'Привет, {name}!\\nПриглашаем тебя на бал первокурсников, который состоится {date} в {time} по адресу {addr}.\\nПриходи, будем ждать!'\n",
    "# Переменная name появится только в 3 строчке, так что сейчас компьютер напишет ошибку\n",
    "name = input('Как зовут студента? ')\n",
    "addr = input('Где будет бал? ')\n",
    "date = input('Когда? ')\n",
    "time = input('Во сколько? ')\n",
    "print(text)"
   ]
  },
  {
   "cell_type": "markdown",
   "metadata": {
    "id": "JbjbD9GxxIWu"
   },
   "source": [
    "Компьютер напишет такую ошибку для первой же переменной, которую он не сможет найти:"
   ]
  },
  {
   "cell_type": "code",
   "execution_count": null,
   "metadata": {
    "colab": {
     "base_uri": "https://localhost:8080/",
     "height": 314
    },
    "executionInfo": {
     "elapsed": 12247,
     "status": "error",
     "timestamp": 1596969227288,
     "user": {
      "displayName": "Дмитрий Широков",
      "photoUrl": "https://lh3.googleusercontent.com/a-/AOh14Gj5ZAs-5dMegnzmhLzTxoLXJmKnF6n7i3ZxETt9Vw=s64",
      "userId": "13642431705883450455"
     },
     "user_tz": -180
    },
    "id": "kBY2W98yx8Ao",
    "outputId": "28619136-5227-41b9-c01a-6dc76e968113"
   },
   "outputs": [
    {
     "name": "stdout",
     "output_type": "stream",
     "text": [
      "Как зовут студента? Аня\n",
      "Где будет бал? Покровка, 11\n",
      "Когда? надцатого мартобря\n"
     ]
    },
    {
     "ename": "NameError",
     "evalue": "ignored",
     "output_type": "error",
     "traceback": [
      "\u001b[0;31m---------------------------------------------------------------------------\u001b[0m",
      "\u001b[0;31mNameError\u001b[0m                                 Traceback (most recent call last)",
      "\u001b[0;32m<ipython-input-3-1cd12f62b997>\u001b[0m in \u001b[0;36m<module>\u001b[0;34m()\u001b[0m\n\u001b[1;32m      2\u001b[0m \u001b[0maddr\u001b[0m \u001b[0;34m=\u001b[0m \u001b[0minput\u001b[0m\u001b[0;34m(\u001b[0m\u001b[0;34m'Где будет бал? '\u001b[0m\u001b[0;34m)\u001b[0m\u001b[0;34m\u001b[0m\u001b[0;34m\u001b[0m\u001b[0m\n\u001b[1;32m      3\u001b[0m \u001b[0mdate\u001b[0m \u001b[0;34m=\u001b[0m \u001b[0minput\u001b[0m\u001b[0;34m(\u001b[0m\u001b[0;34m'Когда? '\u001b[0m\u001b[0;34m)\u001b[0m\u001b[0;34m\u001b[0m\u001b[0;34m\u001b[0m\u001b[0m\n\u001b[0;32m----> 4\u001b[0;31m \u001b[0mtext\u001b[0m \u001b[0;34m=\u001b[0m \u001b[0;34mf'Привет, {name}!\\nПриглашаем тебя на бал первокурсников, который состоится {date} в {time} по адресу {addr}.\\nПриходи, будем ждать!'\u001b[0m\u001b[0;34m\u001b[0m\u001b[0;34m\u001b[0m\u001b[0m\n\u001b[0m\u001b[1;32m      5\u001b[0m \u001b[0;31m# У нас всё ещё нет переменной time, она появится только в 6 строке, сейчас компьютер напишет ошибку NameError\u001b[0m\u001b[0;34m\u001b[0m\u001b[0;34m\u001b[0m\u001b[0;34m\u001b[0m\u001b[0m\n\u001b[1;32m      6\u001b[0m \u001b[0mtime\u001b[0m \u001b[0;34m=\u001b[0m \u001b[0minput\u001b[0m\u001b[0;34m(\u001b[0m\u001b[0;34m'Во сколько? '\u001b[0m\u001b[0;34m)\u001b[0m\u001b[0;34m\u001b[0m\u001b[0;34m\u001b[0m\u001b[0m\n",
      "\u001b[0;31mNameError\u001b[0m: name 'time' is not defined"
     ]
    }
   ],
   "source": [
    "name = input('Как зовут студента? ')\n",
    "addr = input('Где будет бал? ')\n",
    "date = input('Когда? ')\n",
    "text = f'Привет, {name}!\\nПриглашаем тебя на бал первокурсников, который состоится {date} в {time} по адресу {addr}.\\nПриходи, будем ждать!'\n",
    "# У нас всё ещё нет переменной time, она появится только в 6 строке, сейчас компьютер напишет ошибку NameError\n",
    "time = input('Во сколько? ')\n",
    "print(text)"
   ]
  }
 ],
 "metadata": {
  "colab": {
   "collapsed_sections": [],
   "name": "0.2.4 Форматирование строк.ipynb",
   "provenance": []
  },
  "kernelspec": {
   "display_name": "Python 3 (ipykernel)",
   "language": "python",
   "name": "python3"
  },
  "language_info": {
   "codemirror_mode": {
    "name": "ipython",
    "version": 3
   },
   "file_extension": ".py",
   "mimetype": "text/x-python",
   "name": "python",
   "nbconvert_exporter": "python",
   "pygments_lexer": "ipython3",
   "version": "3.10.8"
  }
 },
 "nbformat": 4,
 "nbformat_minor": 4
}
