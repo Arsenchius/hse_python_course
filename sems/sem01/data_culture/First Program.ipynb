{
 "cells": [
  {
   "cell_type": "markdown",
   "metadata": {
    "id": "A2yojpy9_wkf"
   },
   "source": [
    "# Первая программа\n",
    "\n",
    "<div class=\"alert alert-info alertinfo\">\n",
    "\n",
    "<b><span style=\"color: black; font-style: italic\">Если вы нашли опечатку или другую проблему в этом материале, пожалуйста, расскажите нам об этом на <a href=\"https://edu.hse.ru/mod/forum/discuss.php?d=22849\" style=\"color: blue; font-style: italic\">форуме курса</a>. Спасибо, что помогаете нам стать лучше!</span></b>\n",
    "\n",
    "</div>\n"
   ]
  },
  {
   "cell_type": "markdown",
   "metadata": {
    "id": "PukBimQ1kj4B"
   },
   "source": [
    "Напишем первую программу — поздороваемся с миром:"
   ]
  },
  {
   "cell_type": "code",
   "execution_count": 6,
   "metadata": {},
   "outputs": [
    {
     "data": {
      "text/plain": [
       "'Привет, мир!'"
      ]
     },
     "execution_count": 6,
     "metadata": {},
     "output_type": "execute_result"
    }
   ],
   "source": [
    "'Привет, мир!'"
   ]
  },
  {
   "cell_type": "code",
   "execution_count": 5,
   "metadata": {
    "colab": {
     "base_uri": "https://localhost:8080/",
     "height": 35
    },
    "executionInfo": {
     "elapsed": 1306,
     "status": "ok",
     "timestamp": 1598341445597,
     "user": {
      "displayName": "Дмитрий Широков",
      "photoUrl": "https://lh3.googleusercontent.com/a-/AOh14Gj5ZAs-5dMegnzmhLzTxoLXJmKnF6n7i3ZxETt9Vw=s64",
      "userId": "13642431705883450455"
     },
     "user_tz": -180
    },
    "id": "IePX5XRFH8u-",
    "outputId": "221972e0-dd3c-4663-f37c-021ad6c10bae"
   },
   "outputs": [
    {
     "name": "stdout",
     "output_type": "stream",
     "text": [
      "Привет, мир!\n"
     ]
    }
   ],
   "source": [
    "print('Привет, мир!')"
   ]
  },
  {
   "cell_type": "markdown",
   "metadata": {
    "id": "6r6x2WAtkp-S"
   },
   "source": [
    "Разберём написанное:\n",
    "\n",
    "*   `print()` — команда языка Python\n",
    "*   `'Привет, мир!'` — аргумент, который указывает команде, с какой информацией она будет работать\n",
    "\n"
   ]
  },
  {
   "cell_type": "code",
   "execution_count": 11,
   "metadata": {
    "id": "l3XUMaCppcbE"
   },
   "outputs": [
    {
     "name": "stdout",
     "output_type": "stream",
     "text": [
      "Hello, World!\n",
      "EHLO\n"
     ]
    }
   ],
   "source": [
    "print('Hello, World!')  # Аргументы могут быть разными\n",
    "print('EHLO')           # Но команда всегда делает одно и то же"
   ]
  },
  {
   "cell_type": "markdown",
   "metadata": {
    "id": "X8-7lHxBpp_L"
   },
   "source": [
    "Заметим, что компьютер не обратил внимание на текст после символа #\n",
    "\n",
    "Такой текст мы будем называть комментарием — он нужен не компьютеру (компьютер его и не видит), он нужен нам самим."
   ]
  },
  {
   "cell_type": "code",
   "execution_count": 8,
   "metadata": {
    "colab": {
     "base_uri": "https://localhost:8080/",
     "height": 53
    },
    "executionInfo": {
     "elapsed": 748,
     "status": "ok",
     "timestamp": 1598342845202,
     "user": {
      "displayName": "Дмитрий Широков",
      "photoUrl": "https://lh3.googleusercontent.com/a-/AOh14Gj5ZAs-5dMegnzmhLzTxoLXJmKnF6n7i3ZxETt9Vw=s64",
      "userId": "13642431705883450455"
     },
     "user_tz": -180
    },
    "id": "WKvvNDtxp4PA",
    "outputId": "d387a88a-a367-4528-c94d-12fea51fbb52"
   },
   "outputs": [
    {
     "name": "stdout",
     "output_type": "stream",
     "text": [
      "Так тоже работает\n",
      "И так\n"
     ]
    }
   ],
   "source": [
    "print(\"Так тоже работает\")\n",
    "print ( 'И так' )"
   ]
  },
  {
   "cell_type": "markdown",
   "metadata": {
    "id": "pWEmbW8UqGAu"
   },
   "source": [
    "Python позволяет писать исходный код так, как будет удобно нам — людям. \n",
    "Python умеет работать как с одинарными, так и с двойными кавычками, но в этом курсе мы будем использовать одинарные."
   ]
  },
  {
   "cell_type": "code",
   "execution_count": 15,
   "metadata": {
    "colab": {
     "base_uri": "https://localhost:8080/",
     "height": 134
    },
    "executionInfo": {
     "elapsed": 1324,
     "status": "error",
     "timestamp": 1599405457573,
     "user": {
      "displayName": "Дмитрий Широков",
      "photoUrl": "https://lh3.googleusercontent.com/a-/AOh14Gj5ZAs-5dMegnzmhLzTxoLXJmKnF6n7i3ZxETt9Vw=s64",
      "userId": "13642431705883450455"
     },
     "user_tz": -180
    },
    "id": "zvMAbXSHqaBq",
    "outputId": "957179f2-32f5-4d54-891f-b273f08a3303"
   },
   "outputs": [
    {
     "ename": "SyntaxError",
     "evalue": "unterminated string literal (detected at line 1) (2297500433.py, line 1)",
     "output_type": "error",
     "traceback": [
      "\u001b[0;36m  Cell \u001b[0;32mIn[15], line 1\u001b[0;36m\u001b[0m\n\u001b[0;31m    print('А так — не будет работать\")\u001b[0m\n\u001b[0m          ^\u001b[0m\n\u001b[0;31mSyntaxError\u001b[0m\u001b[0;31m:\u001b[0m unterminated string literal (detected at line 1)\n"
     ]
    }
   ],
   "source": [
    "print('А так — не будет работать\")"
   ]
  },
  {
   "cell_type": "markdown",
   "metadata": {
    "id": "v0yp-Zjgrq17"
   },
   "source": [
    "`SyntaxError: EOL while scanning string literal`\n",
    "\n",
    "ОшибкаСинтаксиса: не смог найти конец текста-аргумента, линия с командой кончилась раньше."
   ]
  },
  {
   "cell_type": "markdown",
   "metadata": {
    "id": "yRyChykHqpMy"
   },
   "source": [
    "Смешивать кавычки нужно осторожно. \n",
    "\n",
    "А ещё мы теперь знаем, что компьютер очень хочет нам помочь и будет подсказывать нам о том, что конкретно ему не понравилось в наших исходных кодах и почему он не смог выполнить написанную нами **программу**."
   ]
  }
 ],
 "metadata": {
  "colab": {
   "collapsed_sections": [],
   "name": "0.1.3.ipynb",
   "provenance": []
  },
  "kernelspec": {
   "display_name": "Python 3 (ipykernel)",
   "language": "python",
   "name": "python3"
  },
  "language_info": {
   "codemirror_mode": {
    "name": "ipython",
    "version": 3
   },
   "file_extension": ".py",
   "mimetype": "text/x-python",
   "name": "python",
   "nbconvert_exporter": "python",
   "pygments_lexer": "ipython3",
   "version": "3.10.8"
  }
 },
 "nbformat": 4,
 "nbformat_minor": 4
}
