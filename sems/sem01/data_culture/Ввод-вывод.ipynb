{
 "cells": [
  {
   "cell_type": "markdown",
   "metadata": {
    "colab_type": "text",
    "id": "bqwj-rx7B6B2"
   },
   "source": [
    "# Ввод — вывод\n",
    "\n",
    "<div class=\"alert alert-info alertinfo\">\n",
    "\n",
    "<b><span style=\"color: black; font-style: italic\">Если вы нашли опечатку или другую проблему в этом материале, пожалуйста, расскажите нам об этом на <a href=\"https://edu.hse.ru/mod/forum/discuss.php?d=22849\" style=\"color: blue; font-style: italic\">форуме курса</a>. Спасибо, что помогаете нам стать лучше!</span></b>\n",
    "\n",
    "</div>\n"
   ]
  },
  {
   "cell_type": "markdown",
   "metadata": {
    "colab_type": "text",
    "id": "GWZG-OVdd3UG"
   },
   "source": [
    "Привет. В прошлый раз мы научились просить компьютер печатать текст на экране:"
   ]
  },
  {
   "cell_type": "code",
   "execution_count": 2,
   "metadata": {
    "colab": {},
    "colab_type": "code",
    "id": "k2_KAMhV4u8H",
    "outputId": "9063f46f-e373-4d22-8fc2-6d79d5f4d005"
   },
   "outputs": [
    {
     "name": "stdout",
     "output_type": "stream",
     "text": [
      "Привет, мир\n",
      "\n",
      "Я здесь\n"
     ]
    }
   ],
   "source": [
    "print('Привет, мир')\n",
    "print()\n",
    "print(\"Я здесь\")"
   ]
  },
  {
   "cell_type": "markdown",
   "metadata": {
    "colab_type": "text",
    "id": "PPBke1g3eNXP"
   },
   "source": [
    "Можно заметить, что компьютер каждый раз после выполнения функции ``print()`` переходит на новую строчку. Зная это, мы можем попросить Python вывести на экран фрагмент стихотворения Сергея Есенина \"Чёрный Человек\":"
   ]
  },
  {
   "cell_type": "code",
   "execution_count": null,
   "metadata": {
    "colab": {},
    "colab_type": "code",
    "id": "bIWs612r4u8Q",
    "outputId": "d2f4dc45-b342-4618-93d8-bc1a08e24938"
   },
   "outputs": [
    {
     "name": "stdout",
     "output_type": "stream",
     "text": [
      "В декабре в той стране\n",
      "Снег до дьявола чист,\n",
      "И метели заводят\n",
      "Веселые прялки.\n",
      "Был человек тот авантюрист,\n",
      "Но самой высокой\n",
      "И лучшей марки.\n"
     ]
    }
   ],
   "source": [
    "print('В декабре в той стране')\n",
    "print('Снег до дьявола чист,')\n",
    "print('И метели заводят')\n",
    "print('Веселые прялки.')\n",
    "print('Был человек тот авантюрист,')\n",
    "print('Но самой высокой')\n",
    "print('И лучшей марки.')"
   ]
  },
  {
   "cell_type": "markdown",
   "metadata": {
    "colab_type": "text",
    "id": "GyVoQX3EhxC8"
   },
   "source": [
    "Однако, нам не всегда интересно получать на экране заранее готовый текст. Намного чаще нам будет нужно попросить компьютер что-нибудь спросить у человека, чтобы он смог это запомнить и использовать. Такие вещи — с которыми компьютер будет работать, но которые могут меняться — нами или человеком, который будет использовать программу — мы будем называть **переменными**."
   ]
  },
  {
   "cell_type": "code",
   "execution_count": 3,
   "metadata": {
    "colab": {
     "base_uri": "https://localhost:8080/",
     "height": 125
    },
    "colab_type": "code",
    "executionInfo": {
     "elapsed": 952,
     "status": "ok",
     "timestamp": 1598562164237,
     "user": {
      "displayName": "Дмитрий Широков",
      "photoUrl": "https://lh3.googleusercontent.com/a-/AOh14Gj5ZAs-5dMegnzmhLzTxoLXJmKnF6n7i3ZxETt9Vw=s64",
      "userId": "13642431705883450455"
     },
     "user_tz": -180
    },
    "id": "GxGoKLokt9LJ",
    "outputId": "e164ef02-c709-4a31-ede5-a71f080c3698"
   },
   "outputs": [
    {
     "name": "stdout",
     "output_type": "stream",
     "text": [
      "Чёрный человек\n",
      "Чёрный человек\n",
      "Чёрный человек\n",
      "На кровать ко мне садится,\n",
      "Чёрный человек\n",
      "Спать не дает мне всю ночь.\n"
     ]
    }
   ],
   "source": [
    "text = 'Чёрный человек' # Создадим переменную с именем текст \n",
    "print(text)             # Попросим вывести её на экран \n",
    "print(text)             # и ещё раз\n",
    "print(text)             # и ещё\n",
    "print('На кровать ко мне садится,')\n",
    "print(text)\n",
    "print('Спать не дает мне всю ночь.')"
   ]
  },
  {
   "cell_type": "markdown",
   "metadata": {
    "colab_type": "text",
    "id": "1dZ0r46JmwY5"
   },
   "source": [
    "Напишем программу, которая будет помогать нам готовить пригласительные на студенческий спектакль: будет спрашивать имя приглашаемого человека и подставлять его в заранее готовый шаблон текста:\n",
    "\n",
    "\n",
    "1.   С помощью команды ``input()`` попросим компьютер создать поле для ввода\n",
    "    * Когда человек введёт имя студента — сохраним его в переменной ``name``\n",
    "2. Попросим компьютер вывести на экран подготовленный нами текст \"Привет,\" и, сделав небольшой отступ, дописать в той же строке имя человека, взяв его из переменной ``name``\n",
    "3. Напечатаем приглашение\n"
   ]
  },
  {
   "cell_type": "code",
   "execution_count": 5,
   "metadata": {
    "colab": {
     "base_uri": "https://localhost:8080/",
     "height": 71
    },
    "colab_type": "code",
    "executionInfo": {
     "elapsed": 3239,
     "status": "ok",
     "timestamp": 1598985896545,
     "user": {
      "displayName": "Дмитрий Широков",
      "photoUrl": "https://lh3.googleusercontent.com/a-/AOh14Gj5ZAs-5dMegnzmhLzTxoLXJmKnF6n7i3ZxETt9Vw=s64",
      "userId": "13642431705883450455"
     },
     "user_tz": -180
    },
    "id": "TCkVZCIE4u8W",
    "outputId": "6c687782-174e-4517-9f34-572e99afd140",
    "scrolled": true
   },
   "outputs": [
    {
     "name": "stdout",
     "output_type": "stream",
     "text": [
      "пмромр\n",
      "Привет, пмромр\n",
      "Приглашаем тебя на спектакль \"Обыкновенное чудо\" студенческого театра \"42 аудитория\"\n"
     ]
    }
   ],
   "source": [
    "name = input()\n",
    "print('Привет,', name)\n",
    "print('Приглашаем тебя на спектакль \"Обыкновенное чудо\" студенческого театра \"42 аудитория\"')\n",
    "# Чтобы компьютер не запутался в кавычках, их лучше не смешивать. Сейчас мы используем кавычки так:\n",
    "# одинарные говорят компьютеру, что именно нужно вывести;\n",
    "# двойные напечатаются для нас и оформят название спектакля и театра"
   ]
  },
  {
   "cell_type": "markdown",
   "metadata": {
    "colab_type": "text",
    "id": "zHtrpcgLiFw4"
   },
   "source": [
    "Чтобы компьютер не просто спрашивал что-то, но и говорил, что же именно ему от нас нужно, мы можем добавить текст подсказки внутрь функции запроса ``input()``:"
   ]
  },
  {
   "cell_type": "code",
   "execution_count": 6,
   "metadata": {
    "colab": {
     "base_uri": "https://localhost:8080/",
     "height": 71
    },
    "colab_type": "code",
    "executionInfo": {
     "elapsed": 4357,
     "status": "ok",
     "timestamp": 1596916606698,
     "user": {
      "displayName": "Дмитрий Широков",
      "photoUrl": "https://lh3.googleusercontent.com/a-/AOh14Gj5ZAs-5dMegnzmhLzTxoLXJmKnF6n7i3ZxETt9Vw=s64",
      "userId": "13642431705883450455"
     },
     "user_tz": -180
    },
    "id": "uN-uC_rL4u8e",
    "outputId": "826712b3-711d-497c-c8de-1c87445d82fe"
   },
   "outputs": [
    {
     "name": "stdout",
     "output_type": "stream",
     "text": [
      "Введите имя: Джастин\n",
      "Привет, Джастин\n",
      "Приглашаем тебя на спектакль 'Обыкновенное чудо' студенческого театра '42 аудитория'\n"
     ]
    }
   ],
   "source": [
    "name = input('Введите имя: ') # Команда input() теперь не только создаст строчку для ввода текста,\n",
    "                              # но и печатает для человека подсказку, о чём именно сейчас просит рассказать компьютер\n",
    "print('Привет,', name)\n",
    "print(\"Приглашаем тебя на спектакль 'Обыкновенное чудо' студенческого театра '42 аудитория'\")\n",
    "# В этот раз двойные кавычки говорят компьютеру, что именно нужно вывести на экран,\n",
    "# а одинарные — оформляют название спектакля и театра"
   ]
  },
  {
   "cell_type": "markdown",
   "metadata": {
    "colab_type": "text",
    "id": "bOCZAuiipgKb"
   },
   "source": [
    "Если попробовать использовать одинаковые кавычки и для людей, и для компьютеров, возникнет ошибка:"
   ]
  },
  {
   "cell_type": "code",
   "execution_count": 10,
   "metadata": {
    "colab": {
     "base_uri": "https://localhost:8080/",
     "height": 134
    },
    "colab_type": "code",
    "executionInfo": {
     "elapsed": 1690,
     "status": "error",
     "timestamp": 1596916676645,
     "user": {
      "displayName": "Дмитрий Широков",
      "photoUrl": "https://lh3.googleusercontent.com/a-/AOh14Gj5ZAs-5dMegnzmhLzTxoLXJmKnF6n7i3ZxETt9Vw=s64",
      "userId": "13642431705883450455"
     },
     "user_tz": -180
    },
    "id": "Posg5sFe4u8o",
    "outputId": "d002fc12-08ef-4a72-8dfb-27bbb2aa0a70"
   },
   "outputs": [
    {
     "name": "stdout",
     "output_type": "stream",
     "text": [
      "Введите имя: Justin\n",
      "Привет, Justin\n",
      "Приглашаем тебя на спектакль Обыкновенное чудо студенческого театра 42 аудитория\n"
     ]
    }
   ],
   "source": [
    "name = input('Введите имя: ')\n",
    "print('Привет,', name)\n",
    "print('Приглашаем тебя на спектакль','Обыкновенное чудо','студенческого театра','42 аудитория', sep=\" \")"
   ]
  },
  {
   "cell_type": "markdown",
   "metadata": {
    "colab_type": "text",
    "id": "RCHMB_kTpuLk"
   },
   "source": [
    "Можно заметить, что компьютер подсказывает нам, какой именно текст в нашей инструкции он не может разобрать, и даже указывает, что именно ему не нравится: `SyntaxError: invalid syntax` означает, что мы ошиблись в знаках препинания. В этом курсе мы будем использовать одинарные кавычки для оформления текстов для компьютера, а двойные будем выводить на экран."
   ]
  },
  {
   "cell_type": "markdown",
   "metadata": {
    "colab_type": "text",
    "id": "kGzqjZ6Q63aK"
   },
   "source": [
    "Кроме того, ошибка возникнет и если вдруг написать имя переменной с другим регистром букв, вместо ``name`` написать ``Name``, например:"
   ]
  },
  {
   "cell_type": "code",
   "execution_count": 11,
   "metadata": {
    "colab": {
     "base_uri": "https://localhost:8080/",
     "height": 224
    },
    "colab_type": "code",
    "executionInfo": {
     "elapsed": 4907,
     "status": "error",
     "timestamp": 1600324503785,
     "user": {
      "displayName": "Дмитрий Широков",
      "photoUrl": "https://lh3.googleusercontent.com/a-/AOh14Gj5ZAs-5dMegnzmhLzTxoLXJmKnF6n7i3ZxETt9Vw=s64",
      "userId": "13642431705883450455"
     },
     "user_tz": -180
    },
    "id": "cqcNxCQv7BQm",
    "outputId": "ab82a8d2-cbca-4947-9fc6-eb4a5bd03117"
   },
   "outputs": [
    {
     "name": "stdout",
     "output_type": "stream",
     "text": [
      "Введите имя: Пиво\n"
     ]
    },
    {
     "ename": "NameError",
     "evalue": "name 'Name' is not defined",
     "output_type": "error",
     "traceback": [
      "\u001b[0;31m---------------------------------------------------------------------------\u001b[0m",
      "\u001b[0;31mNameError\u001b[0m                                 Traceback (most recent call last)",
      "Cell \u001b[0;32mIn[11], line 2\u001b[0m\n\u001b[1;32m      1\u001b[0m name \u001b[38;5;241m=\u001b[39m \u001b[38;5;28minput\u001b[39m(\u001b[38;5;124m'\u001b[39m\u001b[38;5;124mВведите имя: \u001b[39m\u001b[38;5;124m'\u001b[39m)\n\u001b[0;32m----> 2\u001b[0m \u001b[38;5;28mprint\u001b[39m(\u001b[38;5;124m'\u001b[39m\u001b[38;5;124mПривет,\u001b[39m\u001b[38;5;124m'\u001b[39m, \u001b[43mName\u001b[49m)\n\u001b[1;32m      3\u001b[0m \u001b[38;5;28mprint\u001b[39m(\u001b[38;5;124m'\u001b[39m\u001b[38;5;124mПриглашаем тебя на спектакль \u001b[39m\u001b[38;5;124m\"\u001b[39m\u001b[38;5;124mОбыкновенное чудо\u001b[39m\u001b[38;5;124m\"\u001b[39m\u001b[38;5;124m студенческого театра \u001b[39m\u001b[38;5;124m\"\u001b[39m\u001b[38;5;124m42 аудитория\u001b[39m\u001b[38;5;124m\"\u001b[39m\u001b[38;5;124m'\u001b[39m)\n",
      "\u001b[0;31mNameError\u001b[0m: name 'Name' is not defined"
     ]
    }
   ],
   "source": [
    "name = input('Введите имя: ')\n",
    "print('Привет,', Name)\n",
    "print('Приглашаем тебя на спектакль \"Обыкновенное чудо\" студенческого театра \"42 аудитория\"')"
   ]
  },
  {
   "cell_type": "markdown",
   "metadata": {
    "colab_type": "text",
    "id": "YuW3vXNfvFxS"
   },
   "source": [
    "А ещё переменная не может начинаться с цифры. Например, если мы хотим отдельно хранить имя и фамилию студента, мы не сможем сохранить имя в переменной с именем ``1st_name``:"
   ]
  },
  {
   "cell_type": "code",
   "execution_count": 12,
   "metadata": {
    "colab": {
     "base_uri": "https://localhost:8080/",
     "height": 134
    },
    "colab_type": "code",
    "executionInfo": {
     "elapsed": 611,
     "status": "error",
     "timestamp": 1598562409903,
     "user": {
      "displayName": "Дмитрий Широков",
      "photoUrl": "https://lh3.googleusercontent.com/a-/AOh14Gj5ZAs-5dMegnzmhLzTxoLXJmKnF6n7i3ZxETt9Vw=s64",
      "userId": "13642431705883450455"
     },
     "user_tz": -180
    },
    "id": "WCejnZ_wvYqm",
    "outputId": "297b6843-228e-4eaa-ae8d-5339e0b1185e"
   },
   "outputs": [
    {
     "name": "stdout",
     "output_type": "stream",
     "text": [
      "Укажите имя студента: ]\n",
      "Укажите фамилию: рмро\n",
      "Привет, ] рмро\n"
     ]
    }
   ],
   "source": [
    "st_name_1 = input('Укажите имя студента: ')\n",
    "last_name = input('Укажите фамилию: ')\n",
    "print('Привет,', st_name_1, last_name)"
   ]
  },
  {
   "cell_type": "markdown",
   "metadata": {
    "colab_type": "text",
    "id": "dTSQ5jusvrg8"
   },
   "source": [
    "При попытке начать название переменной с цифры компьютер тоже покажет ошибку синтаксиса."
   ]
  }
 ],
 "metadata": {
  "colab": {
   "collapsed_sections": [],
   "name": "1.2.1 Ввод-вывод.ipynb",
   "provenance": []
  },
  "kernelspec": {
   "display_name": "Python 3 (ipykernel)",
   "language": "python",
   "name": "python3"
  },
  "language_info": {
   "codemirror_mode": {
    "name": "ipython",
    "version": 3
   },
   "file_extension": ".py",
   "mimetype": "text/x-python",
   "name": "python",
   "nbconvert_exporter": "python",
   "pygments_lexer": "ipython3",
   "version": "3.10.8"
  }
 },
 "nbformat": 4,
 "nbformat_minor": 4
}
