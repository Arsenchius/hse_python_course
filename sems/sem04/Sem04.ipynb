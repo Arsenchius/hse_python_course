{
 "cells": [
  {
   "cell_type": "markdown",
   "metadata": {},
   "source": [
    "### Форматирование строк с помощью оператора %"
   ]
  },
  {
   "cell_type": "code",
   "execution_count": 3,
   "metadata": {},
   "outputs": [
    {
     "data": {
      "text/plain": [
       "'Hello, Vasya!'"
      ]
     },
     "execution_count": 3,
     "metadata": {},
     "output_type": "execute_result"
    }
   ],
   "source": [
    "'Hello, %s!' % 'Vasya'"
   ]
  },
  {
   "cell_type": "code",
   "execution_count": 4,
   "metadata": {},
   "outputs": [
    {
     "data": {
      "text/plain": [
       "'6 bananas, 10 lemons'"
      ]
     },
     "execution_count": 4,
     "metadata": {},
     "output_type": "execute_result"
    }
   ],
   "source": [
    "'%d %s, %d %s' % (6, 'bananas', 10, 'lemons')"
   ]
  },
  {
   "cell_type": "code",
   "execution_count": 11,
   "metadata": {},
   "outputs": [
    {
     "name": "stdout",
     "output_type": "stream",
     "text": [
      "Hi, John\n"
     ]
    }
   ],
   "source": [
    "name = \"John\"\n",
    "print('Hi, %s' % name)"
   ]
  },
  {
   "cell_type": "markdown",
   "metadata": {},
   "source": [
    "![alt text](string_formatting.png \"Title\")"
   ]
  },
  {
   "cell_type": "code",
   "execution_count": 9,
   "metadata": {},
   "outputs": [
    {
     "name": "stdout",
     "output_type": "stream",
     "text": [
      "4\n",
      "beer\n"
     ]
    }
   ],
   "source": [
    "num = int(input())\n",
    "\n",
    "temp = \"beer\" if num % 2 == 0 else \"water\"\n",
    "print(temp)"
   ]
  },
  {
   "cell_type": "markdown",
   "metadata": {},
   "source": [
    "Числа Фиббоначи"
   ]
  },
  {
   "cell_type": "code",
   "execution_count": 10,
   "metadata": {},
   "outputs": [
    {
     "name": "stdout",
     "output_type": "stream",
     "text": [
      "6\n",
      "8\n"
     ]
    }
   ],
   "source": [
    "n=int(input())\n",
    "f0=0\n",
    "f1=1\n",
    "i=1\n",
    "if n==0:\n",
    "    print(f0)\n",
    "elif n==1:\n",
    "    print(f1)\n",
    "else:\n",
    "    while i<n:\n",
    "        f=f1+f0\n",
    "        f1,f0 = f,f1\n",
    "        i+=1\n",
    "    print(f)\n",
    "\n"
   ]
  },
  {
   "cell_type": "code",
   "execution_count": 14,
   "metadata": {},
   "outputs": [
    {
     "name": "stdout",
     "output_type": "stream",
     "text": [
      "6\n",
      "8\n"
     ]
    }
   ],
   "source": [
    "n=int(input())\n",
    "f0=0\n",
    "f1=1\n",
    "\n",
    "if n==0:\n",
    "    print(f0)\n",
    "elif n==1:\n",
    "    print(f1)\n",
    "else:\n",
    "    for i in range(n-1):\n",
    "        f=f1+f0\n",
    "        f1,f0 = f,f1\n",
    "    print(f)"
   ]
  },
  {
   "cell_type": "markdown",
   "metadata": {},
   "source": [
    "Задача А (контест на списки)"
   ]
  },
  {
   "cell_type": "code",
   "execution_count": 1,
   "metadata": {},
   "outputs": [
    {
     "name": "stdout",
     "output_type": "stream",
     "text": [
      "1 2 3 4 5\n",
      "1 3 5 "
     ]
    }
   ],
   "source": [
    "A = list(map(int, input().split()))\n",
    "for i in range(len(A)):\n",
    "    if i%2==0:\n",
    "        print(A[i], end=\" \")"
   ]
  },
  {
   "cell_type": "markdown",
   "metadata": {},
   "source": [
    "Задача про ферзей (контест про списки)"
   ]
  },
  {
   "cell_type": "code",
   "execution_count": 10,
   "metadata": {},
   "outputs": [
    {
     "name": "stdout",
     "output_type": "stream",
     "text": [
      "1 7\n",
      "2 4\n",
      "3 2\n",
      "4 8\n",
      "5 6\n",
      "6 1\n",
      "7 3\n",
      "8 5\n",
      "YES\n"
     ]
    }
   ],
   "source": [
    "x = list()\n",
    "y = list()\n",
    "check = False\n",
    "for i in range(8):\n",
    "    temp = list(map(int, input().split()))\n",
    "    x.append(temp[0])\n",
    "    y.append(temp[1])\n",
    "for i in range(8):\n",
    "    for j in range(8):\n",
    "        if(i!=j or x[i]==x[j] or y[i] == y[j] or x[i] - y[i] == x[j] - y[j] or x[7 - i] - y[i] == x[7 - j] - y[j]):\n",
    "            check = True\n",
    "            break\n",
    "\n",
    "if(check):\n",
    "    print(\"YES\")\n",
    "else:\n",
    "    print(\"NO\")\n",
    "\n"
   ]
  },
  {
   "cell_type": "code",
   "execution_count": 8,
   "metadata": {},
   "outputs": [
    {
     "name": "stdout",
     "output_type": "stream",
     "text": [
      "0\n",
      "0\n"
     ]
    }
   ],
   "source": [
    "for i in range(3):\n",
    "    print(i)\n",
    "    for g in range(3):\n",
    "        print(g)\n",
    "        break\n",
    "    break"
   ]
  },
  {
   "cell_type": "code",
   "execution_count": null,
   "metadata": {},
   "outputs": [],
   "source": []
  },
  {
   "cell_type": "code",
   "execution_count": null,
   "metadata": {},
   "outputs": [],
   "source": []
  }
 ],
 "metadata": {
  "kernelspec": {
   "display_name": "Python 3 (ipykernel)",
   "language": "python",
   "name": "python3"
  },
  "language_info": {
   "codemirror_mode": {
    "name": "ipython",
    "version": 3
   },
   "file_extension": ".py",
   "mimetype": "text/x-python",
   "name": "python",
   "nbconvert_exporter": "python",
   "pygments_lexer": "ipython3",
   "version": "3.11.0"
  }
 },
 "nbformat": 4,
 "nbformat_minor": 2
}
