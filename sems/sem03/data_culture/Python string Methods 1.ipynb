{
 "cells": [
  {
   "cell_type": "markdown",
   "metadata": {
    "id": "tJCEkjo3ecBp"
   },
   "source": [
    "# Методы строк\n",
    "\n",
    "<div class=\"alert alert-info alertinfo\">\n",
    "\n",
    "<b><span style=\"color: black; font-style: italic\">Если вы нашли опечатку или другую проблему в этом материале, пожалуйста, расскажите нам об этом на <a href=\"https://edu.hse.ru/mod/forum/discuss.php?d=22869\" style=\"color: blue; font-style: italic\">форуме курса</a>. Спасибо, что помогаете нам стать лучше!</span></b>\n",
    "\n",
    "</div>\n",
    "\n",
    "Очень часто мы сталкиваемся с задачей, в которой имеющийся у нас текст нужно как-либо исследовать или как-либо очистить перед дальнейшим использованием.\n",
    "В этом нам помогают *методы* строк — команды, которые применяются только к строкам и пишутся через точку после строки. Ранее мы работали с методом строк `.split()`, который позволяет превратить строку в список элементов:"
   ]
  },
  {
   "cell_type": "code",
   "execution_count": 2,
   "metadata": {
    "colab": {
     "base_uri": "https://localhost:8080/",
     "height": 35
    },
    "executionInfo": {
     "elapsed": 1315,
     "status": "ok",
     "timestamp": 1600533987706,
     "user": {
      "displayName": "Дмитрий Широков",
      "photoUrl": "https://lh3.googleusercontent.com/a-/AOh14Gj5ZAs-5dMegnzmhLzTxoLXJmKnF6n7i3ZxETt9Vw=s64",
      "userId": "13642431705883450455"
     },
     "user_tz": -180
    },
    "id": "-YEnbaP5QWag",
    "outputId": "467339a9-f23e-4efa-9da1-378428b30396"
   },
   "outputs": [
    {
     "name": "stdout",
     "output_type": "stream",
     "text": [
      "['', 'аз два т', 'и четы', 'е пять']\n"
     ]
    }
   ],
   "source": [
    "s = 'раз два три четыре пять'\n",
    "numbers = s.split(\"р\")\n",
    "print(numbers)"
   ]
  },
  {
   "cell_type": "markdown",
   "metadata": {
    "id": "RHiey6j1W9OE"
   },
   "source": [
    "Так как в этой неделе мы изучим очень много методов, в тексте блокнотов мы будем писать их названия с точек, так как в коде они всегда пишутся через точку, да и отличить от функций методы так тоже будет проще. Методы бывают не только у строк, например, далее мы будем изучать методы списков и других структур данных, с которым познакомимся позже."
   ]
  },
  {
   "cell_type": "markdown",
   "metadata": {
    "id": "GpNNeFHIuhxL"
   },
   "source": [
    "Со странными текстами, которые сложно обрабатывать руками, часто работают биологи, когда работают с текстами генетического кода. Тексты генов состоят из букв A,C,G и T, но иногда там встречается буква N, которая обозначает, что букву гена не удалось распознать. Пример текста генетического кода можно увидеть внизу [страницы](https://www.ncbi.nlm.nih.gov/nuccore/NC_000003.12?report=genbank&from=91374236&to=91513775).\n",
    "\n",
    "Давайте напишем программу, которая проверит текст генетического кода на наличие ошибок и удалит из него лишние пробелы."
   ]
  },
  {
   "cell_type": "code",
   "execution_count": 4,
   "metadata": {
    "colab": {
     "base_uri": "https://localhost:8080/",
     "height": 35
    },
    "executionInfo": {
     "elapsed": 1850,
     "status": "ok",
     "timestamp": 1600077468904,
     "user": {
      "displayName": "Дмитрий Широков",
      "photoUrl": "https://lh3.googleusercontent.com/a-/AOh14Gj5ZAs-5dMegnzmhLzTxoLXJmKnF6n7i3ZxETt9Vw=s64",
      "userId": "13642431705883450455"
     },
     "user_tz": -180
    },
    "id": "sw8Up_HOT984",
    "outputId": "1acc3761-612c-4def-b356-8a355ecd60ed"
   },
   "outputs": [
    {
     "name": "stdout",
     "output_type": "stream",
     "text": [
      "Анализируем текст гена \"aacaatggaa tcatttatga acttttttat tatgaacntt ttngttacat tcaattttca\"\n"
     ]
    }
   ],
   "source": [
    "gene = 'aacaatggaa tcatttatga acttttttat tatgaacntt ttngttacat tcaattttca '\n",
    "gene = gene.strip()\n",
    "print(f'Анализируем текст гена \"{gene}\"')"
   ]
  },
  {
   "cell_type": "markdown",
   "metadata": {
    "id": "ETOyMtwtDKbw"
   },
   "source": [
    "Метод строк `.strip()` позволяет удалить лишние символы по бокам строки. В нашем случае он создал новую строчку, удалив из старой лишний пробел в конце. Чтобы удалить все лишние пробелы, можно воспользоваться методом строк `.replace()`, который создаёт новую строчку, заменяя указанный символ (последовательность символов) другим символом (последовательностью символов):"
   ]
  },
  {
   "cell_type": "code",
   "execution_count": null,
   "metadata": {
    "colab": {
     "base_uri": "https://localhost:8080/",
     "height": 35
    },
    "executionInfo": {
     "elapsed": 1135,
     "status": "ok",
     "timestamp": 1600340708117,
     "user": {
      "displayName": "Дмитрий Широков",
      "photoUrl": "https://lh3.googleusercontent.com/a-/AOh14Gj5ZAs-5dMegnzmhLzTxoLXJmKnF6n7i3ZxETt9Vw=s64",
      "userId": "13642431705883450455"
     },
     "user_tz": -180
    },
    "id": "PfDTjkH_EFMh",
    "outputId": "b7b6a24a-a9dc-4dcd-ae12-f562615214f2"
   },
   "outputs": [
    {
     "name": "stdout",
     "output_type": "stream",
     "text": [
      "Анализируем текст гена \"aacaatggaatcatttatgaacttttttattatgaacnttttngttacattcaattttca\"\n"
     ]
    }
   ],
   "source": [
    "gene = 'aacaatggaa tcatttatga acttttttat tatgaacntt ttngttacat tcaattttca '\n",
    "gene = gene.replace(' ', '')  # замени каждый пробел пустотой в старой строке \n",
    "print(f'Анализируем текст гена \"{gene}\"')"
   ]
  },
  {
   "cell_type": "markdown",
   "metadata": {
    "id": "yPIdlslTEt8L"
   },
   "source": [
    "Попробуем узнать, есть ли в тексте гена ошибки:"
   ]
  },
  {
   "cell_type": "code",
   "execution_count": null,
   "metadata": {
    "colab": {
     "base_uri": "https://localhost:8080/",
     "height": 53
    },
    "executionInfo": {
     "elapsed": 953,
     "status": "ok",
     "timestamp": 1600340710007,
     "user": {
      "displayName": "Дмитрий Широков",
      "photoUrl": "https://lh3.googleusercontent.com/a-/AOh14Gj5ZAs-5dMegnzmhLzTxoLXJmKnF6n7i3ZxETt9Vw=s64",
      "userId": "13642431705883450455"
     },
     "user_tz": -180
    },
    "id": "Z0aK-YkWC_D3",
    "outputId": "4b1fc289-48bc-4c77-840c-88dbd57d30fd"
   },
   "outputs": [
    {
     "name": "stdout",
     "output_type": "stream",
     "text": [
      "Анализируем текст гена \"aacaatggaatcatttatgaacttttttattatgaacnttttngttacattcaattttca\"\n",
      "В тексте есть хотя бы одна ошибка!\n"
     ]
    }
   ],
   "source": [
    "print(f'Анализируем текст гена \"{gene}\"')\n",
    "if 'n' in gene: # есть ли вообще ошибочная буква (n) в тексте гена?\n",
    "    print('В тексте есть хотя бы одна ошибка!')\n",
    "else:\n",
    "    print('В тексте нет ошибок')"
   ]
  },
  {
   "cell_type": "markdown",
   "metadata": {
    "id": "T6-yky5AUE4H"
   },
   "source": [
    "Благодаря конструкции `if <символ> in <строка>:` мы можем узнать о наличии ошибок, но не можем узнать их точное количество.\n",
    "\n",
    "Чтобы узнать точное количество ошибочных букв в тексте гена, воспользуемся методом строк `.count()`:"
   ]
  },
  {
   "cell_type": "code",
   "execution_count": null,
   "metadata": {
    "colab": {
     "base_uri": "https://localhost:8080/",
     "height": 53
    },
    "executionInfo": {
     "elapsed": 751,
     "status": "ok",
     "timestamp": 1600078537257,
     "user": {
      "displayName": "Дмитрий Широков",
      "photoUrl": "https://lh3.googleusercontent.com/a-/AOh14Gj5ZAs-5dMegnzmhLzTxoLXJmKnF6n7i3ZxETt9Vw=s64",
      "userId": "13642431705883450455"
     },
     "user_tz": -180
    },
    "id": "RrtwibBdU8WF",
    "outputId": "e94cb23c-1b93-4fe5-b535-da0151e2fd47"
   },
   "outputs": [
    {
     "name": "stdout",
     "output_type": "stream",
     "text": [
      "Анализируем текст гена \"aacaatggaatcatttatgaacttttttattatgaacnttttngttacattcaattttca\"\n",
      "В тексте гена есть 2 ошибки!\n"
     ]
    }
   ],
   "source": [
    "print(f'Анализируем текст гена \"{gene}\"')\n",
    "errors = gene.count('n')  # сколько раз встречается буква-ошибка n в строке гена?\n",
    "print(f'В тексте гена есть {errors} ошибки!')"
   ]
  },
  {
   "cell_type": "markdown",
   "metadata": {
    "id": "nXPAvFjlGNfs"
   },
   "source": [
    "Метод count можно применять не только к одному символу, но и к нескольким сразу. Например, найдём, сколько раз строка \"atg\" встречается в строке из нашего примера:"
   ]
  },
  {
   "cell_type": "code",
   "execution_count": null,
   "metadata": {
    "colab": {
     "base_uri": "https://localhost:8080/",
     "height": 53
    },
    "executionInfo": {
     "elapsed": 1144,
     "status": "ok",
     "timestamp": 1600078541486,
     "user": {
      "displayName": "Дмитрий Широков",
      "photoUrl": "https://lh3.googleusercontent.com/a-/AOh14Gj5ZAs-5dMegnzmhLzTxoLXJmKnF6n7i3ZxETt9Vw=s64",
      "userId": "13642431705883450455"
     },
     "user_tz": -180
    },
    "id": "KpieJ6uDGIpB",
    "outputId": "661e915c-2f43-4522-ca34-82c456c37ecf"
   },
   "outputs": [
    {
     "name": "stdout",
     "output_type": "stream",
     "text": [
      "Анализируем текст гена \"aacaatggaatcatttatgaacttttttattatgaacnttttngttacattcaattttca\"\n",
      "ATG встречается 3 раз\n"
     ]
    }
   ],
   "source": [
    "gene = 'aacaatggaa tcatttatga acttttttat tatgaacntt ttngttacat tcaattttca '\n",
    "gene = gene.replace(' ', '') \n",
    "print(f'Анализируем текст гена \"{gene}\"')\n",
    "print(f'ATG встречается {gene.count(\"atg\")} раз')"
   ]
  },
  {
   "cell_type": "markdown",
   "metadata": {
    "id": "gGMcFL0zY7lW"
   },
   "source": [
    "Попробуем индексы букв, которые не прочитались. Для этого в Python есть два метода строк: `.find()`, который ищет слева направо и выводит индекс первого найденного фрагмента, и `.rfind()`, который ищет справа налево, и выводит индекс последнего найденного фрагмента:"
   ]
  },
  {
   "cell_type": "code",
   "execution_count": null,
   "metadata": {
    "colab": {
     "base_uri": "https://localhost:8080/",
     "height": 53
    },
    "executionInfo": {
     "elapsed": 712,
     "status": "ok",
     "timestamp": 1596997396649,
     "user": {
      "displayName": "Дмитрий Широков",
      "photoUrl": "https://lh3.googleusercontent.com/a-/AOh14Gj5ZAs-5dMegnzmhLzTxoLXJmKnF6n7i3ZxETt9Vw=s64",
      "userId": "13642431705883450455"
     },
     "user_tz": -180
    },
    "id": "XIlFkhqrbyxK",
    "outputId": "1f137360-722c-4e67-ffb8-00d92b6985d4"
   },
   "outputs": [
    {
     "name": "stdout",
     "output_type": "stream",
     "text": [
      "Первая ошибка в гене находится в символе с индексом 38!\n",
      "Посленяя ошибка в гене находится в символе с индексом 86!\n"
     ]
    }
   ],
   "source": [
    "first_error = gene.find('n')  # Переменная gene, заданная в одном из верхних примеров, будет работать и здесь\n",
    "last_error = gene.rfind('n')  # Если компьютер вывел NameError, что он не знает  \n",
    "                              # переменную gene — pапустите любой из верхних примеров\n",
    "    \n",
    "print(f'Первая ошибка в гене находится в символе с индексом {first_error}!')\n",
    "print(f'Посленяя ошибка в гене находится в символе с индексом {last_error}!')"
   ]
  },
  {
   "cell_type": "markdown",
   "metadata": {
    "id": "0NhNNaMXfg8d"
   },
   "source": [
    "Напишем теперь общую программу, которая будет проверять, есть ли во введённом гене ошибки, и если есть, сколько их и где находятся первая и последняя:"
   ]
  },
  {
   "cell_type": "code",
   "execution_count": null,
   "metadata": {
    "colab": {
     "base_uri": "https://localhost:8080/",
     "height": 107
    },
    "executionInfo": {
     "elapsed": 10075,
     "status": "ok",
     "timestamp": 1600079098401,
     "user": {
      "displayName": "Дмитрий Широков",
      "photoUrl": "https://lh3.googleusercontent.com/a-/AOh14Gj5ZAs-5dMegnzmhLzTxoLXJmKnF6n7i3ZxETt9Vw=s64",
      "userId": "13642431705883450455"
     },
     "user_tz": -180
    },
    "id": "I4pJeWHjn-V3",
    "outputId": "a3625655-3ce3-4ce8-bb5d-0dcbef74485f"
   },
   "outputs": [
    {
     "name": "stdout",
     "output_type": "stream",
     "text": [
      "Введите текст гена: aacaatggaa tcatttatga acttttttat tatgaacntt ttngttacat tcaattttca \n",
      "Анализируем текст гена \"aacaatggaatcatttatgaacttttttattatgaacnttttngttacattcaattttca\"\n",
      "В тексте гена есть 2 ошибки (ошибок)\n",
      "Первая в символе с индексом 37\n",
      "Последняя с индексом 42\n"
     ]
    }
   ],
   "source": [
    "gene = input('Введите текст гена: ')\n",
    "gene = gene.replace(' ', '') \n",
    "print(f'Анализируем текст гена \"{gene}\"')\n",
    "\n",
    "if \"n\" in gene:             # Есть ли вообще буквы с ошибкой в тексте гена?\n",
    "    if gene.count('n') > 1: # Если они есть и ошибок больше одной\n",
    "        print(f'В тексте гена есть {gene.count(\"n\")} ошибки (ошибок)')\n",
    "        print(f'Первая в символе с индексом {gene.find(\"n\")}')\n",
    "        print(f'Последняя с индексом {gene.rfind(\"n\")}')\n",
    "    elif gene.count('n') == 1:\n",
    "        print('В тексте гена только одна ошибка, под номером', gene.find('n'))\n",
    "else:\n",
    "    print('В тексте гена нет ошибок')"
   ]
  },
  {
   "cell_type": "markdown",
   "metadata": {
    "id": "hBMrcsK_JXip"
   },
   "source": [
    "К сожалению, если ошибок больше двух, то встроенных методов их поиска в Python нет."
   ]
  },
  {
   "cell_type": "markdown",
   "metadata": {
    "id": "sSQmtmNlBqTi"
   },
   "source": [
    "Кроме методов поиска, вроде `.find()`, `.rfind()` и `.count()`, мы можем проверить все символы нашей строки. \n",
    "\n",
    "Например, метод `.islower()` позволяет проверить, что все символы в строке — строчные:"
   ]
  },
  {
   "cell_type": "code",
   "execution_count": null,
   "metadata": {
    "colab": {
     "base_uri": "https://localhost:8080/",
     "height": 53
    },
    "executionInfo": {
     "elapsed": 2427,
     "status": "ok",
     "timestamp": 1601195827747,
     "user": {
      "displayName": "Дмитрий Широков",
      "photoUrl": "https://lh3.googleusercontent.com/a-/AOh14Gj5ZAs-5dMegnzmhLzTxoLXJmKnF6n7i3ZxETt9Vw=s64",
      "userId": "13642431705883450455"
     },
     "user_tz": -180
    },
    "id": "yEWNZm8LCYxA",
    "outputId": "1b5f2bf1-b88a-4d2d-fb27-91a299aadfc7"
   },
   "outputs": [
    {
     "name": "stdout",
     "output_type": "stream",
     "text": [
      "Во фразе \"все строчные\" все символы — строчные\n",
      "Во фразе \"А тут — НЕ ВСЕ\" не все символы — строчные\n"
     ]
    }
   ],
   "source": [
    "if 'все строчные'.islower():\n",
    "    print('Во фразе \"все строчные\" все символы — строчные')\n",
    "else:\n",
    "    print('Во фразе \"все строчные\" не все символы — строчные')\n",
    "\n",
    "if 'А тут — НЕ ВСЕ'.islower():\n",
    "    print('Во фразе \"А тут — НЕ ВСЕ\" все символы — строчные')\n",
    "else:\n",
    "    print('Во фразе \"А тут — НЕ ВСЕ\" не все символы — строчные')"
   ]
  },
  {
   "cell_type": "markdown",
   "metadata": {
    "id": "gvmC9UfZs6yB"
   },
   "source": [
    "Метод строк `.isdigit()` позволяет проверить, что строка состоит только из цифр:"
   ]
  },
  {
   "cell_type": "code",
   "execution_count": null,
   "metadata": {
    "colab": {
     "base_uri": "https://localhost:8080/",
     "height": 53
    },
    "executionInfo": {
     "elapsed": 1358,
     "status": "ok",
     "timestamp": 1601231018316,
     "user": {
      "displayName": "Дмитрий Широков",
      "photoUrl": "https://lh3.googleusercontent.com/a-/AOh14Gj5ZAs-5dMegnzmhLzTxoLXJmKnF6n7i3ZxETt9Vw=s64",
      "userId": "13642431705883450455"
     },
     "user_tz": -180
    },
    "id": "E0So98rps-p4",
    "outputId": "2b7ae7de-edcd-481f-8252-967978ca50a2"
   },
   "outputs": [
    {
     "name": "stdout",
     "output_type": "stream",
     "text": [
      "True\n",
      "False\n"
     ]
    }
   ],
   "source": [
    "print('42'.isdigit())           # Все символы в этой строке — цифры\n",
    "print('40plus2=42'.isdigit())   # А в этой — нет"
   ]
  },
  {
   "cell_type": "markdown",
   "metadata": {
    "id": "TxCBqnopzL6H"
   },
   "source": [
    "Метод `.isalpha()` позволяет проверить, что строка состоит только из букв:"
   ]
  },
  {
   "cell_type": "code",
   "execution_count": null,
   "metadata": {
    "colab": {
     "base_uri": "https://localhost:8080/",
     "height": 53
    },
    "executionInfo": {
     "elapsed": 821,
     "status": "ok",
     "timestamp": 1601231080149,
     "user": {
      "displayName": "Дмитрий Широков",
      "photoUrl": "https://lh3.googleusercontent.com/a-/AOh14Gj5ZAs-5dMegnzmhLzTxoLXJmKnF6n7i3ZxETt9Vw=s64",
      "userId": "13642431705883450455"
     },
     "user_tz": -180
    },
    "id": "SOW9ehNdzTgk",
    "outputId": "9505a4a9-cf0f-4ae6-82b1-b4e284b86566"
   },
   "outputs": [
    {
     "name": "stdout",
     "output_type": "stream",
     "text": [
      "True\n",
      "False\n"
     ]
    }
   ],
   "source": [
    "print('answer'.isalpha())           # В этой строке только буквы,\n",
    "print('answer is near'.isalpha())   # В этой есть ещё и пробелы"
   ]
  },
  {
   "cell_type": "markdown",
   "metadata": {
    "id": "aBYNl2cZz23L"
   },
   "source": [
    "Метод `.isalnum()` позволяет проверить, что строка состоит только из букв и цифр:"
   ]
  },
  {
   "cell_type": "code",
   "execution_count": null,
   "metadata": {
    "colab": {
     "base_uri": "https://localhost:8080/",
     "height": 71
    },
    "executionInfo": {
     "elapsed": 749,
     "status": "ok",
     "timestamp": 1601231210405,
     "user": {
      "displayName": "Дмитрий Широков",
      "photoUrl": "https://lh3.googleusercontent.com/a-/AOh14Gj5ZAs-5dMegnzmhLzTxoLXJmKnF6n7i3ZxETt9Vw=s64",
      "userId": "13642431705883450455"
     },
     "user_tz": -180
    },
    "id": "CXt6bcFTz521",
    "outputId": "f5e02cbe-396c-4485-bad8-179358e2a0c2"
   },
   "outputs": [
    {
     "name": "stdout",
     "output_type": "stream",
     "text": [
      "True\n",
      "False\n",
      "False\n"
     ]
    }
   ],
   "source": [
    "print('ответ42'.isalnum())      # В этой строке только цифры и буквы,\n",
    "print('ответ=42'.isalnum())     # В этой есть ещё знак равно,\n",
    "print('ответ 42'.isalnum())     # В этой есть ещё пробел"
   ]
  },
  {
   "cell_type": "markdown",
   "metadata": {
    "id": "fXaiABqTC9qX"
   },
   "source": [
    "Полный список методов проверки можно найти в [документации языка Python](https://docs.python.org/3/library/stdtypes.html#str.isalnum)."
   ]
  },
  {
   "cell_type": "markdown",
   "metadata": {
    "id": "MSLoQpTAvh-W"
   },
   "source": [
    "Коротко повторим все изученные методы строк:\n",
    "* `.isdigit()` позволяет проверить, что строка состоит только из цифр;\n",
    "* `.islower()` позволяет проверить, что строка состоит только из букв нижнего регистра (строчных);\n",
    "* `.isupper()` позволяет проверить, что строка состоит только из букв верхнего регистра (прописных);\n",
    "* `.isalpha()` позволяет проверить, что строка состоит только из букв;\n",
    "* `.isalnum()` позволяет проверить, что строка состоит только из букв и цифр;\n",
    "* `.strip()` позволяет создать новую строчку, удалив лишние символы по бокам исходной строки (например, лишние пробелы);\n",
    "* `.replace()` позволяет создать новую строчку, заменив что-то в изначальной;\n",
    "* `.count()` позволяет понять, сколько раз последовательность символов встречалась в строке;\n",
    "* `.find()` и `.rfind()` позволяют найти индекс самой первой и самой последней найденной последовательности символов в строке. "
   ]
  },
  {
   "cell_type": "code",
   "execution_count": 2,
   "metadata": {
    "colab": {
     "base_uri": "https://localhost:8080/",
     "height": 179
    },
    "executionInfo": {
     "elapsed": 800,
     "status": "ok",
     "timestamp": 1601231425134,
     "user": {
      "displayName": "Дмитрий Широков",
      "photoUrl": "https://lh3.googleusercontent.com/a-/AOh14Gj5ZAs-5dMegnzmhLzTxoLXJmKnF6n7i3ZxETt9Vw=s64",
      "userId": "13642431705883450455"
     },
     "user_tz": -180
    },
    "id": "f7ArUZcSwo4M",
    "outputId": "63e8be14-01d9-4c40-e0ee-9494370d822b"
   },
   "outputs": [
    {
     "name": "stdout",
     "output_type": "stream",
     "text": [
      "Проверим их работу на примере строки \" 4242HelloHello42!   \"\"\n",
      "Состоит ли строка только из цифр: False\n",
      "Состоит ли строка только из строчных букв: False\n",
      "Состоит ли строка только из прописных букв: False\n",
      "Состоит ли строка только из букв: False\n",
      "Состоит ли строка только из букв или цифр: False\n",
      "Удалим боковые пробелы: \"4242HelloHello42!\"\n",
      "Заменим число 42 на слово \"Ответ\": \" ОтветОтветHelloHelloОтвет!   \"\n",
      "Найдём первый и последний индекс для цифр \"42\" : 1, 15\n",
      "Сколько раз последовательность цифр \"42\" встречаются в строке: 3\n"
     ]
    }
   ],
   "source": [
    "s = ' 4242HelloHello42!   '\n",
    "print(f'Проверим их работу на примере строки \"{s}\"\"')\n",
    "print(f'Состоит ли строка только из цифр: {s.isdigit()}')\n",
    "print(f'Состоит ли строка только из строчных букв: {s.islower()}')\n",
    "print(f'Состоит ли строка только из прописных букв: {s.isupper()}')\n",
    "print(f'Состоит ли строка только из букв: {s.isalpha()}')\n",
    "print(f'Состоит ли строка только из букв или цифр: {s.isalnum()}')\n",
    "print(f'Удалим боковые пробелы: \"{s.strip()}\"')\n",
    "print(f'Заменим число 42 на слово \"Ответ\": \"{s.replace(\"42\",\"Ответ\")}\"')\n",
    "print(f'Найдём первый и последний индекс для цифр \"42\" : {s.find(\"42\")}, {s.rfind(\"42\")}')\n",
    "print(f'Сколько раз последовательность цифр \"42\" встречаются в строке: {s.count(\"42\")}')"
   ]
  }
 ],
 "metadata": {
  "colab": {
   "collapsed_sections": [],
   "name": "4.6.1 Методы строк.ipynb",
   "provenance": []
  },
  "kernelspec": {
   "display_name": "Python 3 (ipykernel)",
   "language": "python",
   "name": "python3"
  },
  "language_info": {
   "codemirror_mode": {
    "name": "ipython",
    "version": 3
   },
   "file_extension": ".py",
   "mimetype": "text/x-python",
   "name": "python",
   "nbconvert_exporter": "python",
   "pygments_lexer": "ipython3",
   "version": "3.10.8"
  }
 },
 "nbformat": 4,
 "nbformat_minor": 4
}
