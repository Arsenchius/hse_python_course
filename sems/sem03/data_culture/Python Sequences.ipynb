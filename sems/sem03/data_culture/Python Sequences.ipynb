{
 "cells": [
  {
   "cell_type": "markdown",
   "metadata": {
    "id": "QUwDhJEpHZGs"
   },
   "source": [
    "# Работа с последовательностью в Python\n",
    "\n",
    "<div class=\"alert alert-info alertinfo\">\n",
    "\n",
    "<b><span style=\"color: black; font-style: italic\">Если вы нашли опечатку или другую проблему в этом материале, пожалуйста, расскажите нам об этом на <a href=\"https://edu.hse.ru/mod/forum/discuss.php?d=22868\" style=\"color: blue; font-style: italic\">форуме курса</a>. Спасибо, что помогаете нам стать лучше!</span></b>\n",
    "\n",
    "</div>"
   ]
  },
  {
   "cell_type": "markdown",
   "metadata": {
    "id": "tTq_Lw07HZGt"
   },
   "source": [
    "В Python'е и <b>строка</b> и <b>список</b> и <b>кортеж</b> являются последовательностями, и многие функции работают для них одинаково. Например, уже известной нам функцией `len()` мы можем не только узнать количество символов (= элементов) строки, но и количество элементов списка и кортежа."
   ]
  },
  {
   "cell_type": "markdown",
   "metadata": {
    "id": "52zUM_oULC8P"
   },
   "source": [
    "Вспомним, как работает `len()` для строк:"
   ]
  },
  {
   "cell_type": "code",
   "execution_count": null,
   "metadata": {
    "colab": {
     "base_uri": "https://localhost:8080/",
     "height": 35
    },
    "executionInfo": {
     "elapsed": 1306,
     "status": "ok",
     "timestamp": 1600532377772,
     "user": {
      "displayName": "Дмитрий Широков",
      "photoUrl": "https://lh3.googleusercontent.com/a-/AOh14Gj5ZAs-5dMegnzmhLzTxoLXJmKnF6n7i3ZxETt9Vw=s64",
      "userId": "13642431705883450455"
     },
     "user_tz": -180
    },
    "id": "HGJRjDudHZG2",
    "outputId": "d0e0bb03-df25-439a-9106-526f9ca5dd41"
   },
   "outputs": [
    {
     "name": "stdout",
     "output_type": "stream",
     "text": [
      "В слове \"Hello\" ровно 5 символов.\n"
     ]
    }
   ],
   "source": [
    "print(f'В слове \"Hello\" ровно {len(\"Hello\")} символов.')"
   ]
  },
  {
   "cell_type": "markdown",
   "metadata": {
    "id": "EI7-0JCLHZG5"
   },
   "source": [
    "Так же можно узнать и количество элементов в списках:"
   ]
  },
  {
   "cell_type": "code",
   "execution_count": null,
   "metadata": {
    "colab": {
     "base_uri": "https://localhost:8080/",
     "height": 34
    },
    "executionInfo": {
     "elapsed": 1006,
     "status": "ok",
     "timestamp": 1601747978159,
     "user": {
      "displayName": "Tatiana Rogovich",
      "photoUrl": "https://lh3.googleusercontent.com/a-/AOh14Gjj1YqMwkiGsMOcK4XoZPpJp6kCbYZ6EqgvdL3EXA=s64",
      "userId": "08185984249235601298"
     },
     "user_tz": -180
    },
    "id": "rJqxWXygHZG6",
    "outputId": "ad048b2b-4c3c-4482-b7f8-2b2ac643587b"
   },
   "outputs": [
    {
     "name": "stdout",
     "output_type": "stream",
     "text": [
      "В вашем рюкзаке 5 вещей.\n"
     ]
    }
   ],
   "source": [
    "backpack = ['кошелек', 'наушники', 'студенческий', 'тетрадка', 'телефон']\n",
    "\n",
    "print(f'В вашем рюкзаке {len(backpack)} вещей.')"
   ]
  },
  {
   "cell_type": "markdown",
   "metadata": {
    "id": "1DF9wpGMHZG9"
   },
   "source": [
    "И количество элементов в кортежах:"
   ]
  },
  {
   "cell_type": "code",
   "execution_count": null,
   "metadata": {
    "colab": {
     "base_uri": "https://localhost:8080/",
     "height": 34
    },
    "executionInfo": {
     "elapsed": 909,
     "status": "ok",
     "timestamp": 1601748016217,
     "user": {
      "displayName": "Tatiana Rogovich",
      "photoUrl": "https://lh3.googleusercontent.com/a-/AOh14Gjj1YqMwkiGsMOcK4XoZPpJp6kCbYZ6EqgvdL3EXA=s64",
      "userId": "08185984249235601298"
     },
     "user_tz": -180
    },
    "id": "wjjuyIrNHZG-",
    "outputId": "0d90a6a1-22dc-4dad-dcfc-597188a823a2"
   },
   "outputs": [
    {
     "name": "stdout",
     "output_type": "stream",
     "text": [
      "В вашем рюкзаке 5 вещей.\n"
     ]
    }
   ],
   "source": [
    "backpack_tuple = ('кошелек', 'наушники', 'студенческий', 'тетрадка', 'телефон')\n",
    "\n",
    "print(f'В вашем рюкзаке {len(backpack_tuple)} вещей.')"
   ]
  },
  {
   "cell_type": "markdown",
   "metadata": {
    "id": "y2yKrTvHHZHB"
   },
   "source": [
    "## Наличие элемента в последовательности"
   ]
  },
  {
   "cell_type": "markdown",
   "metadata": {
    "id": "7bGpxvmLHZHB"
   },
   "source": [
    "В Python существует возможность проверить, содержится ли элемент в последовательности, с помощью ключевого слова `in`."
   ]
  },
  {
   "cell_type": "code",
   "execution_count": null,
   "metadata": {
    "colab": {
     "base_uri": "https://localhost:8080/",
     "height": 34
    },
    "executionInfo": {
     "elapsed": 912,
     "status": "ok",
     "timestamp": 1601748025987,
     "user": {
      "displayName": "Tatiana Rogovich",
      "photoUrl": "https://lh3.googleusercontent.com/a-/AOh14Gjj1YqMwkiGsMOcK4XoZPpJp6kCbYZ6EqgvdL3EXA=s64",
      "userId": "08185984249235601298"
     },
     "user_tz": -180
    },
    "id": "D7Kqn3BODBj0",
    "outputId": "82824efe-a8c6-43de-ebec-8589a3176960"
   },
   "outputs": [
    {
     "name": "stdout",
     "output_type": "stream",
     "text": [
      "True\n"
     ]
    }
   ],
   "source": [
    "backpack = ['кошелек', 'наушники', 'студенческий', 'тетрадка', 'телефон']\n",
    "\n",
    "# Проверяем, входит ли элемент 'наушники' в список\n",
    "print('наушники' in backpack) "
   ]
  },
  {
   "cell_type": "markdown",
   "metadata": {
    "id": "VGNdTlsdFnZO"
   },
   "source": [
    "Как мы видим, опратор `in` возвращает логическую переменную, в зависимоти от того, выполнилось условие или нет (если элемент в последовательности или нет).  \n",
    "\n",
    "С `in` можно использовать логическое отрицание `not`, чтобы проверить, что элемент не входит в последователность."
   ]
  },
  {
   "cell_type": "code",
   "execution_count": null,
   "metadata": {
    "colab": {
     "base_uri": "https://localhost:8080/",
     "height": 51
    },
    "executionInfo": {
     "elapsed": 954,
     "status": "ok",
     "timestamp": 1601739214806,
     "user": {
      "displayName": "Tatiana Rogovich",
      "photoUrl": "https://lh3.googleusercontent.com/a-/AOh14Gjj1YqMwkiGsMOcK4XoZPpJp6kCbYZ6EqgvdL3EXA=s64",
      "userId": "08185984249235601298"
     },
     "user_tz": -180
    },
    "id": "z8UVHRrTGAM-",
    "outputId": "af6f41b9-a27e-42cf-eb89-b10822129c97"
   },
   "outputs": [
    {
     "name": "stdout",
     "output_type": "stream",
     "text": [
      "False\n",
      "True\n"
     ]
    }
   ],
   "source": [
    "backpack = ['кошелек', 'наушники', 'студенческий', 'тетрадка', 'телефон']\n",
    "\n",
    "print('наушники' not in backpack)   # Выведет False, 'наушники' есть в списке\n",
    "print('проездной' not in backpack)  # Выведет True, 'проездной' мы не взяли"
   ]
  },
  {
   "cell_type": "markdown",
   "metadata": {
    "id": "l9bvH5OHHZHF"
   },
   "source": [
    "Раз в результате проверки с помощью `in` мы получаем логическую переменную, значит мы можем использовать такое выражение внутри логической конструкции.\n",
    "\n",
    "Конструкция `if ... in` работает следующим образом:\n",
    "\n",
    "    if <проверяемый элемент> in <название списка, кортежа или строки>:\n",
    "        <действие в случае если элемент присутсвует>"
   ]
  },
  {
   "cell_type": "markdown",
   "metadata": {
    "id": "tWFZmNUhTA8K"
   },
   "source": [
    "Посмотрим на примере: если в рюкзаке есть наушники, то будем в метро слушать музыку, а если забыли их положить — будем читать книжку."
   ]
  },
  {
   "cell_type": "code",
   "execution_count": null,
   "metadata": {
    "colab": {
     "base_uri": "https://localhost:8080/",
     "height": 34
    },
    "executionInfo": {
     "elapsed": 1044,
     "status": "ok",
     "timestamp": 1601748041759,
     "user": {
      "displayName": "Tatiana Rogovich",
      "photoUrl": "https://lh3.googleusercontent.com/a-/AOh14Gjj1YqMwkiGsMOcK4XoZPpJp6kCbYZ6EqgvdL3EXA=s64",
      "userId": "08185984249235601298"
     },
     "user_tz": -180
    },
    "id": "I0NN14dbTFfn",
    "outputId": "9801745a-daa1-4342-f252-3de1df59a6af"
   },
   "outputs": [
    {
     "name": "stdout",
     "output_type": "stream",
     "text": [
      "Слушаем музыку\n"
     ]
    }
   ],
   "source": [
    "backpack = ['кошелек', 'наушники', 'студенческий', 'тетрадка', 'телефон']\n",
    "\n",
    "if 'наушники' in backpack:\n",
    "    print('Слушаем музыку')\n",
    "else:\n",
    "    print('Читаем книжку')"
   ]
  },
  {
   "cell_type": "markdown",
   "metadata": {
    "id": "Fyc96S35HZHF"
   },
   "source": [
    "Конструкция `if ... not in` работает наоборот:\n",
    "\n",
    "    if <проверяемый элемент> not in <название списка, кортежа или строки>:\n",
    "        <действие в случае если элемент не присутсвует>"
   ]
  },
  {
   "cell_type": "markdown",
   "metadata": {
    "id": "H8ZXDf25HZHL"
   },
   "source": [
    "Давайте посмотрим как работает конструкция на примере со строками. Будем проверять содержит ли введенное слово введенную букву."
   ]
  },
  {
   "cell_type": "code",
   "execution_count": null,
   "metadata": {
    "id": "n_IDcGoYHZHM",
    "outputId": "eb26c323-949a-4191-bebe-4f1329f7749c"
   },
   "outputs": [
    {
     "name": "stdout",
     "output_type": "stream",
     "text": [
      "Введите слово аквариумистика\n",
      "Введите искомую букву ю\n",
      "В слове аквариумистика буквы ю нет\n"
     ]
    }
   ],
   "source": [
    "item = input('Введите слово: ')\n",
    "letter = input('Введите искомую букву: ')\n",
    "\n",
    "if letter not in word:                            # Если в слове нет такой буквы\n",
    "    print(f'В слове {word} буквы {letter} нет')\n",
    "else:\n",
    "    print(f'В слове {word} буква {letter} есть')"
   ]
  },
  {
   "cell_type": "markdown",
   "metadata": {
    "id": "kDq4UjcSTeZd"
   },
   "source": [
    "Проверим, что и с кортежами тоже работает. Вернемся к списку покупок, и проверим, не забыли ли мы что-то записать."
   ]
  },
  {
   "cell_type": "code",
   "execution_count": null,
   "metadata": {
    "colab": {
     "base_uri": "https://localhost:8080/",
     "height": 51
    },
    "executionInfo": {
     "elapsed": 4646,
     "status": "ok",
     "timestamp": 1601748199933,
     "user": {
      "displayName": "Tatiana Rogovich",
      "photoUrl": "https://lh3.googleusercontent.com/a-/AOh14Gjj1YqMwkiGsMOcK4XoZPpJp6kCbYZ6EqgvdL3EXA=s64",
      "userId": "08185984249235601298"
     },
     "user_tz": -180
    },
    "id": "WV0_26XWHZHC",
    "outputId": "aa068dfd-8c32-4fe3-8308-a87bf7d3051c"
   },
   "outputs": [
    {
     "name": "stdout",
     "output_type": "stream",
     "text": [
      "Что проверяем? молоко\n",
      "Да, записали!\n"
     ]
    }
   ],
   "source": [
    "shopping_tuple = ('хлеб', 'молоко', 'сметана', 'сыр', 'молоко')\n",
    "thing = input('Что проверяем? ')\n",
    "\n",
    "if thing in shopping_tuple:   # Есть такой элемент в списке?\n",
    "    print('Да, записали!')\n",
    "else:\n",
    "    print('Нет, не записали!')"
   ]
  },
  {
   "cell_type": "markdown",
   "metadata": {
    "id": "dR4S0uz5Twpk"
   },
   "source": [
    "Мы можем проверить наличие в списке не одной, а сразу нескольких вещей, если перепишем прошлым пример через цикл ``while``. Наша программа будет делать проверку до тех пор, пока мы не введем \"конец\".\n"
   ]
  },
  {
   "cell_type": "code",
   "execution_count": null,
   "metadata": {
    "colab": {
     "base_uri": "https://localhost:8080/",
     "height": 103
    },
    "executionInfo": {
     "elapsed": 8710,
     "status": "ok",
     "timestamp": 1601748219979,
     "user": {
      "displayName": "Tatiana Rogovich",
      "photoUrl": "https://lh3.googleusercontent.com/a-/AOh14Gjj1YqMwkiGsMOcK4XoZPpJp6kCbYZ6EqgvdL3EXA=s64",
      "userId": "08185984249235601298"
     },
     "user_tz": -180
    },
    "id": "fkXbWnNwHZHH",
    "outputId": "b5745115-105a-4228-91df-4d37ec5cdbec"
   },
   "outputs": [
    {
     "name": "stdout",
     "output_type": "stream",
     "text": [
      "Что проверяем? хлеб\n",
      "Да, записали!\n",
      "Что проверяем? кефир\n",
      "Нет, не записали!\n",
      "Что проверяем? конец\n"
     ]
    }
   ],
   "source": [
    "shopping_tuple = ('хлеб', 'молоко', 'сметана', 'сыр', 'молоко')\n",
    "thing = input('Что проверяем? ')\n",
    "\n",
    "# Пока человек не напишет слово \"конец\", будем проверять\n",
    "while thing != 'конец':              \n",
    "    if thing in shopping_tuple:\n",
    "        print('Да, записали!')\n",
    "    else:\n",
    "        print('Нет, не записали!')\n",
    "    thing = input('Что проверяем? ')"
   ]
  },
  {
   "cell_type": "markdown",
   "metadata": {
    "id": "7XWArGhpHZHS"
   },
   "source": [
    " ## Склейка списков и кортежей"
   ]
  },
  {
   "cell_type": "markdown",
   "metadata": {
    "id": "2gsoVgnwHZHT"
   },
   "source": [
    "Python позволяет склеивать не только строки, но и другие последовательности. Вспомним, как работает склейка строк:"
   ]
  },
  {
   "cell_type": "code",
   "execution_count": 1,
   "metadata": {
    "id": "pU828AgPHZHV",
    "outputId": "065fc4fc-7391-474c-ae84-3b7c128f2c45"
   },
   "outputs": [
    {
     "name": "stdout",
     "output_type": "stream",
     "text": [
      "Человек, который любит книги — библиофил\n"
     ]
    }
   ],
   "source": [
    "a = 'библио'\n",
    "b = 'фил'\n",
    "print(f'Человек, который любит книги — {a + b}')"
   ]
  },
  {
   "cell_type": "markdown",
   "metadata": {
    "id": "rpbNXUz5HZHZ"
   },
   "source": [
    "Так же можно склеивать друг с другом и списки с кортежами.\n",
    "\n",
    "Склеим из двух список покупок один:"
   ]
  },
  {
   "cell_type": "code",
   "execution_count": null,
   "metadata": {
    "colab": {
     "base_uri": "https://localhost:8080/",
     "height": 34
    },
    "executionInfo": {
     "elapsed": 1021,
     "status": "ok",
     "timestamp": 1601728561899,
     "user": {
      "displayName": "Tatiana Rogovich",
      "photoUrl": "https://lh3.googleusercontent.com/a-/AOh14Gjj1YqMwkiGsMOcK4XoZPpJp6kCbYZ6EqgvdL3EXA=s64",
      "userId": "08185984249235601298"
     },
     "user_tz": -180
    },
    "id": "OHpYDHUjHZHa",
    "outputId": "870ce300-de71-4793-b6d8-bf61e9717d5d"
   },
   "outputs": [
    {
     "name": "stdout",
     "output_type": "stream",
     "text": [
      "хлеб, молоко, сметана, сыр, молоко, мыло, стиральный порошок\n"
     ]
    }
   ],
   "source": [
    "# покупки в продуктовом:\n",
    "shopping_list_1 = ['хлеб', 'молоко', 'сметана', 'сыр', 'молоко']\n",
    "\n",
    "# покупки в хозяйственном:\n",
    "shopping_list_2 = ['мыло', 'стиральный порошок']\n",
    "\n",
    "# все покупки:\n",
    "shopping_list_all = shopping_list_1 + shopping_list_2\n",
    "\n",
    "print(*shopping_list_all, sep=', ')"
   ]
  },
  {
   "cell_type": "markdown",
   "metadata": {
    "id": "d6og4L6hHZHc"
   },
   "source": [
    "Если мы не планировали менять списки покупок, их можно сохранить и как кортежи:"
   ]
  },
  {
   "cell_type": "code",
   "execution_count": null,
   "metadata": {
    "colab": {
     "base_uri": "https://localhost:8080/",
     "height": 34
    },
    "executionInfo": {
     "elapsed": 950,
     "status": "ok",
     "timestamp": 1601728580179,
     "user": {
      "displayName": "Tatiana Rogovich",
      "photoUrl": "https://lh3.googleusercontent.com/a-/AOh14Gjj1YqMwkiGsMOcK4XoZPpJp6kCbYZ6EqgvdL3EXA=s64",
      "userId": "08185984249235601298"
     },
     "user_tz": -180
    },
    "id": "UoqsJ9M2HZHd",
    "outputId": "53e82b18-ce63-4ec7-df82-cc364cdce2ae"
   },
   "outputs": [
    {
     "name": "stdout",
     "output_type": "stream",
     "text": [
      "хлеб, молоко, сметана, сыр, молоко, мыло, стиральный порошок\n"
     ]
    }
   ],
   "source": [
    "# Покупки в продуктовом:\n",
    "shopping_tuple_1 = ('хлеб', 'молоко', 'сметана', 'сыр', 'молоко')\n",
    "\n",
    "# Покупки второго отдела:\n",
    "shopping_tuple_2 = ('мыло', 'стиральный порошок')\n",
    "\n",
    "# Все покупки вообще:\n",
    "all = shopping_tuple_1 + shopping_tuple_2\n",
    "\n",
    "print(*all, sep=', ')"
   ]
  },
  {
   "cell_type": "markdown",
   "metadata": {
    "id": "4Vc20VUlVloV"
   },
   "source": [
    "При необходимости, мы всегда можем превратить список в кортеж, а кортеж — в список:"
   ]
  },
  {
   "cell_type": "code",
   "execution_count": null,
   "metadata": {
    "colab": {
     "base_uri": "https://localhost:8080/",
     "height": 86
    },
    "executionInfo": {
     "elapsed": 848,
     "status": "ok",
     "timestamp": 1601728677036,
     "user": {
      "displayName": "Tatiana Rogovich",
      "photoUrl": "https://lh3.googleusercontent.com/a-/AOh14Gjj1YqMwkiGsMOcK4XoZPpJp6kCbYZ6EqgvdL3EXA=s64",
      "userId": "08185984249235601298"
     },
     "user_tz": -180
    },
    "id": "pRF3d7ayVqL1",
    "outputId": "c8fc5db3-cea6-4a33-cd3c-227acb6eed43"
   },
   "outputs": [
    {
     "name": "stdout",
     "output_type": "stream",
     "text": [
      "мыло, стиральный порошок, хлеб, молоко, сметана, сыр, молоко\n",
      "мыло, стиральный порошок, хлеб, молоко, сметана, сыр, молоко\n",
      "Тип данных shopping_list после склейки: <class 'list'>\n",
      "Тип данных shopping_tuple после склейки: <class 'tuple'>\n"
     ]
    }
   ],
   "source": [
    "# Кортеж покупок в продуктовом\n",
    "shopping_food = ('хлеб', 'молоко', 'сметана', 'сыр', 'молоко')\n",
    "\n",
    "# Список покупок в хозяйственном\n",
    "shopping_household = ['мыло', 'стиральный порошок']             \n",
    "\n",
    "# Хотим список объединить с кортежем:\n",
    "## превратим shopping_food в список с помощью команды\n",
    "## list(), чтобы соединялись одинаковые типы данных\n",
    "shopping_list = shopping_household + list(shopping_food)        \n",
    "                                                                                                                              \n",
    "# Хотим кортеж объединить со списком:\n",
    "## превратим shopping_household в кортеж с помощью команды \n",
    "## tuple(), чтобы соединялись одинаковые типы данных\n",
    "shopping_tuple = tuple(shopping_household) + shopping_food      \n",
    "                                                                                                                                                                                      \n",
    "print(*shopping_list, sep=', ')\n",
    "print(*shopping_tuple, sep=', ')\n",
    "\n",
    "# Проверим типы данных у переменных shopping_list и shopping_tuple:\n",
    "print(f'Тип данных shopping_list после склейки: {type(shopping_list)}')\n",
    "print(f'Тип данных shopping_tuple после склейки: {type(shopping_tuple)}')"
   ]
  }
 ],
 "metadata": {
  "colab": {
   "collapsed_sections": [],
   "name": "3.5.3 Работа с последовательностью.ipynb",
   "provenance": []
  },
  "kernelspec": {
   "display_name": "Python 3 (ipykernel)",
   "language": "python",
   "name": "python3"
  },
  "language_info": {
   "codemirror_mode": {
    "name": "ipython",
    "version": 3
   },
   "file_extension": ".py",
   "mimetype": "text/x-python",
   "name": "python",
   "nbconvert_exporter": "python",
   "pygments_lexer": "ipython3",
   "version": "3.9.7"
  }
 },
 "nbformat": 4,
 "nbformat_minor": 4
}
