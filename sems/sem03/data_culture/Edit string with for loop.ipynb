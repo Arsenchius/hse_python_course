{
 "cells": [
  {
   "cell_type": "markdown",
   "metadata": {
    "id": "4Hf5h4N13y7D"
   },
   "source": [
    "# Цикл ``for`` как цикл редактирования строки. Метод строк ``.isdigit()``\n",
    "\n",
    "<div class=\"alert alert-info alertinfo\">\n",
    "\n",
    "<b><span style=\"color: black; font-style: italic\">Если вы нашли опечатку или другую проблему в этом материале, пожалуйста, расскажите нам об этом на <a href=\"https://edu.hse.ru/mod/forum/discuss.php?d=22869\" style=\"color: blue; font-style: italic\">форуме курса</a>. Спасибо, что помогаете нам стать лучше!</span></b>\n",
    "\n",
    "</div>\n",
    "\n",
    "\n",
    "Мы с вами уже применяли цикл ``for`` к строкам. Например, мы печатали побуквенно слово `Hello`:"
   ]
  },
  {
   "cell_type": "code",
   "execution_count": 1,
   "metadata": {
    "colab": {
     "base_uri": "https://localhost:8080/",
     "height": 107
    },
    "executionInfo": {
     "elapsed": 1423,
     "status": "ok",
     "timestamp": 1599507303781,
     "user": {
      "displayName": "Дмитрий Широков",
      "photoUrl": "https://lh3.googleusercontent.com/a-/AOh14Gj5ZAs-5dMegnzmhLzTxoLXJmKnF6n7i3ZxETt9Vw=s64",
      "userId": "13642431705883450455"
     },
     "user_tz": -180
    },
    "id": "FiO_-bmnOLgA",
    "outputId": "06321e27-2f9d-4c12-92c5-07d0e88ed023"
   },
   "outputs": [
    {
     "name": "stdout",
     "output_type": "stream",
     "text": [
      "H\n",
      "e\n",
      "l\n",
      "l\n",
      "o\n"
     ]
    }
   ],
   "source": [
    "for i in range(len('Hello')):\n",
    "    print('Hello'[i])"
   ]
  },
  {
   "cell_type": "markdown",
   "metadata": {
    "id": "pRz0_zSq4tUW"
   },
   "source": [
    "Как и в случае с перебором элементов списка, нам не обязательно обращаться к элементам строки через индекс — мы можем просто попросить цикл for скопировать каждый символ строки в переменную ``sym``:"
   ]
  },
  {
   "cell_type": "code",
   "execution_count": 2,
   "metadata": {
    "colab": {
     "base_uri": "https://localhost:8080/",
     "height": 107
    },
    "executionInfo": {
     "elapsed": 985,
     "status": "ok",
     "timestamp": 1596987996900,
     "user": {
      "displayName": "Дмитрий Широков",
      "photoUrl": "https://lh3.googleusercontent.com/a-/AOh14Gj5ZAs-5dMegnzmhLzTxoLXJmKnF6n7i3ZxETt9Vw=s64",
      "userId": "13642431705883450455"
     },
     "user_tz": -180
    },
    "id": "1Y0EjVHn5doX",
    "outputId": "81cc700e-cb8c-4d31-c934-06ec1ed71fbf"
   },
   "outputs": [
    {
     "name": "stdout",
     "output_type": "stream",
     "text": [
      "H\n",
      "e\n",
      "l\n",
      "l\n",
      "o\n"
     ]
    }
   ],
   "source": [
    "for sym in 'Hello':   # Возьми каждый символ из строки \"Hello\", скопируй в переменную sym и\n",
    "    print(sym)        # выведи sym на экран"
   ]
  },
  {
   "cell_type": "markdown",
   "metadata": {
    "id": "ycprkBOaJ7mp"
   },
   "source": [
    "Попробуем отредактировать строчку.\n",
    "В рекламе раньше часто использовались \"запоминаемые номера\" — когда цифры номера складывались в слова из букв, написанных на кнопках телефона — а мы хотим получить номер из цифр. Попробуем написать программу, которая заменит буквы в номере телефона из голливудского фильма: +1(800) 555-HAIR на соответствующие цифры и покажет нам номер телефона в его привычном варианте:"
   ]
  },
  {
   "cell_type": "code",
   "execution_count": 3,
   "metadata": {
    "colab": {
     "base_uri": "https://localhost:8080/",
     "height": 206
    },
    "executionInfo": {
     "elapsed": 311401,
     "status": "error",
     "timestamp": 1596187081127,
     "user": {
      "displayName": "Дмитрий Широков",
      "photoUrl": "https://lh3.googleusercontent.com/a-/AOh14Gj5ZAs-5dMegnzmhLzTxoLXJmKnF6n7i3ZxETt9Vw=s64",
      "userId": "13642431705883450455"
     },
     "user_tz": -180
    },
    "id": "aPt-PKb2_CZi",
    "outputId": "e60b7a09-886f-4435-adb0-60a93ad44ad5"
   },
   "outputs": [
    {
     "name": "stdin",
     "output_type": "stream",
     "text": [
      "Введите номер телефона:  +1(800) 555-HAIR\n"
     ]
    },
    {
     "ename": "TypeError",
     "evalue": "'str' object does not support item assignment",
     "output_type": "error",
     "traceback": [
      "\u001b[0;31m---------------------------------------------------------------------------\u001b[0m",
      "\u001b[0;31mTypeError\u001b[0m                                 Traceback (most recent call last)",
      "\u001b[0;32m<ipython-input-3-4518dfe5dad5>\u001b[0m in \u001b[0;36m<module>\u001b[0;34m\u001b[0m\n\u001b[1;32m      1\u001b[0m \u001b[0mphone_number\u001b[0m \u001b[0;34m=\u001b[0m \u001b[0minput\u001b[0m\u001b[0;34m(\u001b[0m\u001b[0;34m'Введите номер телефона: '\u001b[0m\u001b[0;34m)\u001b[0m\u001b[0;34m\u001b[0m\u001b[0;34m\u001b[0m\u001b[0m\n\u001b[0;32m----> 2\u001b[0;31m \u001b[0mphone_number\u001b[0m\u001b[0;34m[\u001b[0m\u001b[0;36m13\u001b[0m\u001b[0;34m]\u001b[0m \u001b[0;34m=\u001b[0m \u001b[0;34m'2'\u001b[0m\u001b[0;34m\u001b[0m\u001b[0;34m\u001b[0m\u001b[0m\n\u001b[0m",
      "\u001b[0;31mTypeError\u001b[0m: 'str' object does not support item assignment"
     ]
    }
   ],
   "source": [
    "phone_number = input('Введите номер телефона: ')\n",
    "phone_number[13] = '2'"
   ]
  },
  {
   "cell_type": "markdown",
   "metadata": {
    "id": "W4l5XNahLERQ"
   },
   "source": [
    "Как видно из возникшей ошибки `TypeError: 'str' object does not support item assignment`, Python не разрешает изменять строки. Самый простой способ изменить строку — создать новую.\n",
    "\n",
    "Давайте пройдём по номеру телефона, и все цифры перенесём в новую строчку."
   ]
  },
  {
   "cell_type": "code",
   "execution_count": null,
   "metadata": {
    "colab": {
     "base_uri": "https://localhost:8080/",
     "height": 53
    },
    "executionInfo": {
     "elapsed": 10520,
     "status": "ok",
     "timestamp": 1596988193621,
     "user": {
      "displayName": "Дмитрий Широков",
      "photoUrl": "https://lh3.googleusercontent.com/a-/AOh14Gj5ZAs-5dMegnzmhLzTxoLXJmKnF6n7i3ZxETt9Vw=s64",
      "userId": "13642431705883450455"
     },
     "user_tz": -180
    },
    "id": "L9yHY-8uLqYw",
    "outputId": "32c3799e-4628-43e7-982f-a706022073eb"
   },
   "outputs": [
    {
     "name": "stdout",
     "output_type": "stream",
     "text": [
      "Введите номер телефона: +1(800) 555-HAIR\n",
      "+1(800) 555-HAIR -> +1(800) 555-HAIR\n"
     ]
    }
   ],
   "source": [
    "phone_number = input('Введите номер телефона: ')\n",
    "new_number = ''                       # В эту строку мы будем сохранять правильный номер телефона\n",
    "for sym in phone_number:\n",
    "    new_number += sym                 # Приклей к концу строки new_number очередной символ из phone_number\n",
    "\n",
    "print(phone_number, '->', new_number) # Посмотрим на результат копирования"
   ]
  },
  {
   "cell_type": "markdown",
   "metadata": {
    "id": "yJ5Kvnv86SXI"
   },
   "source": [
    "Теперь научим компьютер копировать только цифры. Мы могли бы отдельно десять раз сравнивать каждый символ с цифрами, но мы можем воспользоваться методом строк `.isdigit()`, который узнали в прошлый раз: \n",
    "\n"
   ]
  },
  {
   "cell_type": "code",
   "execution_count": null,
   "metadata": {
    "colab": {
     "base_uri": "https://localhost:8080/",
     "height": 53
    },
    "executionInfo": {
     "elapsed": 3241,
     "status": "ok",
     "timestamp": 1600502829272,
     "user": {
      "displayName": "Дмитрий Широков",
      "photoUrl": "https://lh3.googleusercontent.com/a-/AOh14Gj5ZAs-5dMegnzmhLzTxoLXJmKnF6n7i3ZxETt9Vw=s64",
      "userId": "13642431705883450455"
     },
     "user_tz": -180
    },
    "id": "ohgnlCDb6WFn",
    "outputId": "20301b49-3bac-4223-ad7f-02a174146af9"
   },
   "outputs": [
    {
     "name": "stdout",
     "output_type": "stream",
     "text": [
      "Введите номер телефона: \n",
      " -> \n"
     ]
    }
   ],
   "source": [
    "phone_number = input('Введите номер телефона: ')\n",
    "new_number = ''                         # В эту строку мы будем сохранять правильный номер телефона\n",
    "for sym in phone_number:\n",
    "    if sym.isdigit():\n",
    "        new_number += sym               # Приклей к концу строки new_number очередную цифру из phone_number\n",
    "\n",
    "print(phone_number, '->', new_number)   # Посмотрим на результат копирования"
   ]
  },
  {
   "cell_type": "markdown",
   "metadata": {
    "id": "w-awkVceMWnG"
   },
   "source": [
    "Ещё в номере телефона нам нужны +, пробел, дефис и две скобки. Научим компьютер их добавлять к расшифрованному номеру. Для этого нам пригодится условие ``in``, которое позволяет проверить, есть ли символ в какой-то строке. Мы будем искать по строке из символов \"+() -\""
   ]
  },
  {
   "cell_type": "code",
   "execution_count": null,
   "metadata": {
    "colab": {
     "base_uri": "https://localhost:8080/",
     "height": 53
    },
    "executionInfo": {
     "elapsed": 3069,
     "status": "ok",
     "timestamp": 1596988461125,
     "user": {
      "displayName": "Дмитрий Широков",
      "photoUrl": "https://lh3.googleusercontent.com/a-/AOh14Gj5ZAs-5dMegnzmhLzTxoLXJmKnF6n7i3ZxETt9Vw=s64",
      "userId": "13642431705883450455"
     },
     "user_tz": -180
    },
    "id": "nT-mz9gvMfJB",
    "outputId": "6b1a7161-2e0c-4916-b143-adda22b55c11"
   },
   "outputs": [
    {
     "name": "stdout",
     "output_type": "stream",
     "text": [
      "Введите номер телефона: +1(800) 555-HAIR\n",
      "+1(800) 555-HAIR -> +1(800) 555-\n"
     ]
    }
   ],
   "source": [
    "phone_number = input('Введите номер телефона: ')\n",
    "new_number = '' \n",
    "for sym in phone_number:\n",
    "    if sym.isdigit() or sym in '+() -':   # Если наш символ присутствует в строке из знаков \"+() -\"\n",
    "        new_number += sym                 # или цифра — добавим к новому номеру\n",
    "\n",
    "print(phone_number, '->', new_number)"
   ]
  },
  {
   "cell_type": "markdown",
   "metadata": {
    "id": "Yx2cysNRMwi8"
   },
   "source": [
    "А теперь — научим компьютер подставлять для букв правильные номера (их можно посмотреть на экране телефона в момент набора номера): цифра 2 включает в себя буквы ABC, 3 — DEF, 4 — GHI, 5 — JKL, 6 — MNO, 7 — PQRS, 8 — TUV, 9 — WXYZ."
   ]
  },
  {
   "cell_type": "code",
   "execution_count": null,
   "metadata": {
    "colab": {
     "base_uri": "https://localhost:8080/",
     "height": 53
    },
    "executionInfo": {
     "elapsed": 3477,
     "status": "ok",
     "timestamp": 1596988611214,
     "user": {
      "displayName": "Дмитрий Широков",
      "photoUrl": "https://lh3.googleusercontent.com/a-/AOh14Gj5ZAs-5dMegnzmhLzTxoLXJmKnF6n7i3ZxETt9Vw=s64",
      "userId": "13642431705883450455"
     },
     "user_tz": -180
    },
    "id": "ygsYxZCMNQbQ",
    "outputId": "fec8a284-342d-4ec9-f07c-c63aa9c4c92a"
   },
   "outputs": [
    {
     "name": "stdout",
     "output_type": "stream",
     "text": [
      "Введите номер телефона: +1 (800) 555-HAIR\n",
      "+1 (800) 555-HAIR -> +1 (800) 555-4247\n"
     ]
    }
   ],
   "source": [
    "phone_number = input('Введите номер телефона: ')\n",
    "new_number = ''\n",
    "\n",
    "for sym in phone_number:\n",
    "    if sym.isdigit() or sym in '+() -':\n",
    "        new_number += sym\n",
    "    elif sym in 'ABC':\n",
    "        new_number += '2'  # Мы дописываем в конец номера текст с цифрой 2\n",
    "    elif sym in 'GHI': \n",
    "        new_number += '4'\n",
    "    elif sym in 'PQRS':    # В этой задаче сделаны условия только для тех кнопок телефона,\n",
    "        new_number += '7'  # которые есть в номере +1(800) 555-HAIR.\n",
    "\n",
    "print(phone_number, '->', new_number)"
   ]
  }
 ],
 "metadata": {
  "colab": {
   "collapsed_sections": [],
   "name": "4.6.2 Редактирование строки с помощью цикла for.ipynb",
   "provenance": []
  },
  "kernelspec": {
   "display_name": "Python 3 (ipykernel)",
   "language": "python",
   "name": "python3"
  },
  "language_info": {
   "codemirror_mode": {
    "name": "ipython",
    "version": 3
   },
   "file_extension": ".py",
   "mimetype": "text/x-python",
   "name": "python",
   "nbconvert_exporter": "python",
   "pygments_lexer": "ipython3",
   "version": "3.9.7"
  }
 },
 "nbformat": 4,
 "nbformat_minor": 4
}
