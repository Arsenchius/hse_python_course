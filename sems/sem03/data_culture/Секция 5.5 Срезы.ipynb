{
 "cells": [
  {
   "cell_type": "markdown",
   "metadata": {
    "id": "JyjUgPgrK3Ba"
   },
   "source": [
    "# Срезы\n",
    "\n",
    "<div class=\"alert alert-info alertinfo\">\n",
    "\n",
    "<b><span style=\"color: black; font-style: italic\">Если вы нашли опечатку или другую проблему в этом материале, пожалуйста, расскажите нам об этом на <a href=\"https://edu.hse.ru/mod/forum/discuss.php?d=22869\" style=\"color: blue; font-style: italic\">форуме курса</a>. Спасибо, что помогаете нам стать лучше!</span></b>\n",
    "\n",
    "</div>\n",
    "\n",
    "Иногда нам нужно работать с частями строк. Например, часто нужно работать с началом или концом строки."
   ]
  },
  {
   "cell_type": "markdown",
   "metadata": {
    "id": "cZZ36nuTzLeT"
   },
   "source": [
    "Проверим, входит ли сайт в зону российского интернета. Для этого нам достаточно посмотреть, заканчивается ли его домен на *.ru*. (Подробнее о доменах можно прочитать в [базе знаний](https://cctld.ru/domains/about/) Координационного центра доменов .ru и .рф)\n",
    "\n",
    "Чтобы проверить, как заканчивается строка, мы можем воспользоваться методом строк ``.endswith()``:"
   ]
  },
  {
   "cell_type": "code",
   "execution_count": null,
   "metadata": {
    "colab": {
     "base_uri": "https://localhost:8080/",
     "height": 35
    },
    "executionInfo": {
     "elapsed": 1520,
     "status": "ok",
     "timestamp": 1600551723717,
     "user": {
      "displayName": "Дмитрий Широков",
      "photoUrl": "https://lh3.googleusercontent.com/a-/AOh14Gj5ZAs-5dMegnzmhLzTxoLXJmKnF6n7i3ZxETt9Vw=s64",
      "userId": "13642431705883450455"
     },
     "user_tz": -180
    },
    "id": "o3FexdXA2GBV",
    "outputId": "87fcb45b-1a34-44b8-f276-8c331203afbb"
   },
   "outputs": [
    {
     "name": "stdout",
     "output_type": "stream",
     "text": [
      "True\n"
     ]
    }
   ],
   "source": [
    "domain = 'hse.ru'\n",
    "print(url.endswith('.ru'))"
   ]
  },
  {
   "cell_type": "markdown",
   "metadata": {
    "id": "9pf-6T59UY7b"
   },
   "source": [
    "Мы можем написать программу, которая по введённому адресу сайта будет говорить, относится ли он к русскоязычному сегменту Сети:"
   ]
  },
  {
   "cell_type": "code",
   "execution_count": null,
   "metadata": {
    "colab": {
     "base_uri": "https://localhost:8080/",
     "height": 53
    },
    "executionInfo": {
     "elapsed": 10681,
     "status": "ok",
     "timestamp": 1600551882333,
     "user": {
      "displayName": "Дмитрий Широков",
      "photoUrl": "https://lh3.googleusercontent.com/a-/AOh14Gj5ZAs-5dMegnzmhLzTxoLXJmKnF6n7i3ZxETt9Vw=s64",
      "userId": "13642431705883450455"
     },
     "user_tz": -180
    },
    "id": "MvnzA3CrUj05",
    "outputId": "fe5f4a07-0a2c-41f8-ab72-4883df9beb87"
   },
   "outputs": [
    {
     "name": "stdout",
     "output_type": "stream",
     "text": [
      "Укажите адрес сайта (вида hse.ru): yandex.ru\n",
      "Сайт yandex.ru относится к русскоязычному сегменту Сети.\n"
     ]
    }
   ],
   "source": [
    "domain = input('Укажите домен сайта (вида hse.ru): ')\n",
    "if domain.endswith('.ru'):\n",
    "    print(f'Сайт {domain} относится к русскоязычному сегменту Сети.')\n",
    "else:\n",
    "    print(f'Сайт {domain} не относится к русскоязычному сегменту Сети.')"
   ]
  },
  {
   "cell_type": "markdown",
   "metadata": {
    "id": "VUqJbNTLU5aX"
   },
   "source": [
    "Однако, к русскоязычному сегменту относится не только зона *.ru*, но и зоны *.рф* и *.дети*.\n",
    "\n",
    "Чтобы проверить сразу несколько условий:\n",
    "* оканчивается ли адрес сайта на .ru?\n",
    "* оканчивается ли адрес сайта на .рф?\n",
    "* оканчивается ли адрес сайта на .дети?\n",
    "\n",
    "мы можем создать из этих трёх окончаний кортеж и передать его в метод `.endwith()`:"
   ]
  },
  {
   "cell_type": "code",
   "execution_count": null,
   "metadata": {
    "colab": {
     "base_uri": "https://localhost:8080/",
     "height": 53
    },
    "executionInfo": {
     "elapsed": 6535,
     "status": "ok",
     "timestamp": 1600552442043,
     "user": {
      "displayName": "Дмитрий Широков",
      "photoUrl": "https://lh3.googleusercontent.com/a-/AOh14Gj5ZAs-5dMegnzmhLzTxoLXJmKnF6n7i3ZxETt9Vw=s64",
      "userId": "13642431705883450455"
     },
     "user_tz": -180
    },
    "id": "CojEv0MqWQ2y",
    "outputId": "0ab5b20a-7717-42ac-a094-73519801ea89"
   },
   "outputs": [
    {
     "name": "stdout",
     "output_type": "stream",
     "text": [
      "Укажите адрес сайта (вида hse.ru): кремль.рф\n",
      "Сайт кремль.рф относится к русскоязычному сегменту Сети.\n"
     ]
    }
   ],
   "source": [
    "domain = input('Укажите адрес сайта (вида hse.ru): ')\n",
    "russian_zones = ('.ru', '.рф', '.дети')\n",
    "\n",
    "if domain.endswith(russian_zones):  # Если адрес заканчивается хотя бы одной из зон\n",
    "    print(f'Сайт {domain} относится к русскоязычному сегменту Сети.')\n",
    "else:\n",
    "    print(f'Сайт {domain} не относится к русскоязычному сегменту Сети.')"
   ]
  },
  {
   "cell_type": "markdown",
   "metadata": {
    "id": "sj4qACljXCk6"
   },
   "source": [
    "Аналогично мы можем проверить, с чего начинается строка, с помощью метода строк `.startswith()` \n",
    "\n",
    "Например, адреса страниц защищённых сайтов, вроде банков или портала Госуслуг, начинаются с *https://*, а незащищённых — с *http://*. (Подробнее о защищённых страницах и слове HTTPS можно прочитать в [блоге Яндекса](https://yandex.ru/blog/company/77455))"
   ]
  },
  {
   "cell_type": "code",
   "execution_count": null,
   "metadata": {
    "colab": {
     "base_uri": "https://localhost:8080/",
     "height": 35
    },
    "executionInfo": {
     "elapsed": 951,
     "status": "ok",
     "timestamp": 1600552808119,
     "user": {
      "displayName": "Дмитрий Широков",
      "photoUrl": "https://lh3.googleusercontent.com/a-/AOh14Gj5ZAs-5dMegnzmhLzTxoLXJmKnF6n7i3ZxETt9Vw=s64",
      "userId": "13642431705883450455"
     },
     "user_tz": -180
    },
    "id": "iDo4VnPqYQdy",
    "outputId": "5a586d76-8b5f-4503-90a4-f66d34d83e14"
   },
   "outputs": [
    {
     "name": "stdout",
     "output_type": "stream",
     "text": [
      "True\n"
     ]
    }
   ],
   "source": [
    "print('https://www.hse.ru'.startswith('https://'))"
   ]
  },
  {
   "cell_type": "markdown",
   "metadata": {
    "id": "zUT9E5s5YeDN"
   },
   "source": [
    "Напишем программу, которая по введённому адресу страницы укажет, защищена ли эта страница:"
   ]
  },
  {
   "cell_type": "code",
   "execution_count": null,
   "metadata": {
    "colab": {
     "base_uri": "https://localhost:8080/",
     "height": 53
    },
    "executionInfo": {
     "elapsed": 15795,
     "status": "ok",
     "timestamp": 1600552893021,
     "user": {
      "displayName": "Дмитрий Широков",
      "photoUrl": "https://lh3.googleusercontent.com/a-/AOh14Gj5ZAs-5dMegnzmhLzTxoLXJmKnF6n7i3ZxETt9Vw=s64",
      "userId": "13642431705883450455"
     },
     "user_tz": -180
    },
    "id": "05mZhMeZYgxs",
    "outputId": "2b484eef-852a-4478-c7ac-d1054a8802e7"
   },
   "outputs": [
    {
     "name": "stdout",
     "output_type": "stream",
     "text": [
      "Укажите адрес страницы: https://www.gosuslugi.ru/\n",
      "Страница https://www.gosuslugi.ru/ защищена с помощью HTTPS.\n"
     ]
    }
   ],
   "source": [
    "url = input('Укажите адрес страницы: ')\n",
    "if url.startswith('https://'):\n",
    "    print(f'Страница {url} защищена с помощью HTTPS.')\n",
    "else:\n",
    "    print(f'Страница {url} не защищена с помощью HTTPS.')"
   ]
  },
  {
   "cell_type": "markdown",
   "metadata": {
    "id": "OnZB8Cn6ZDYB"
   },
   "source": [
    "Иногда нам нужно оборатиться к последовательности букв не в начале или конце строки, а внутри. Такая возможность называется **срезом строки**. Срезы похожи на обращение к символу строки по его индексу, только теперь будет не один индекс в квадратных скобках, а два — индекс символа, с которого нужно начать срез, и перед символом с каким индексом будет нужно остановиться."
   ]
  },
  {
   "cell_type": "code",
   "execution_count": null,
   "metadata": {
    "colab": {
     "base_uri": "https://localhost:8080/",
     "height": 53
    },
    "executionInfo": {
     "elapsed": 1001,
     "status": "ok",
     "timestamp": 1600252493521,
     "user": {
      "displayName": "Дмитрий Широков",
      "photoUrl": "https://lh3.googleusercontent.com/a-/AOh14Gj5ZAs-5dMegnzmhLzTxoLXJmKnF6n7i3ZxETt9Vw=s64",
      "userId": "13642431705883450455"
     },
     "user_tz": -180
    },
    "id": "ljkm6KADsvmf",
    "outputId": "9ea38390-a693-405f-d071-a2cffc31a7d0"
   },
   "outputs": [
    {
     "name": "stdout",
     "output_type": "stream",
     "text": [
      "He\n",
      "el\n"
     ]
    }
   ],
   "source": [
    "# Напечатай символы, начиная с первого символа в строке \"Hello\", и остановись перед третьим\n",
    "print('Hello'[0:2]) \n",
    "\n",
    "# Напечатай символы, начиная со второй буквы в слове \"Hello\", и остановись перед четвёртым\n",
    "print('Hello'[1:3]) "
   ]
  },
  {
   "cell_type": "markdown",
   "metadata": {
    "id": "F9L3fseKvOHH"
   },
   "source": [
    "Если мы хотим сделать срез \"от начала строки\" или \"до конца строки\", мы можем не писать соответствующие индексы:"
   ]
  },
  {
   "cell_type": "code",
   "execution_count": null,
   "metadata": {
    "colab": {
     "base_uri": "https://localhost:8080/",
     "height": 71
    },
    "executionInfo": {
     "elapsed": 736,
     "status": "ok",
     "timestamp": 1600252514676,
     "user": {
      "displayName": "Дмитрий Широков",
      "photoUrl": "https://lh3.googleusercontent.com/a-/AOh14Gj5ZAs-5dMegnzmhLzTxoLXJmKnF6n7i3ZxETt9Vw=s64",
      "userId": "13642431705883450455"
     },
     "user_tz": -180
    },
    "id": "NTBXDV0zvMVD",
    "outputId": "4792e4b4-d119-4780-eea0-3e9daea327b1"
   },
   "outputs": [
    {
     "name": "stdout",
     "output_type": "stream",
     "text": [
      "Hel\n",
      "lo\n",
      "Hello\n"
     ]
    }
   ],
   "source": [
    "# Напечатай символы, начиная с начала слова \"Hello\" и остановись перед четвёртой буквой\n",
    "print('Hello'[:3]) \n",
    "\n",
    "# Напечатай символы, начиная с четвёртого символа слова \"Hello\"\n",
    "print('Hello'[3:]) \n",
    "\n",
    "# Наконец, мы можем вообще не указать границы среза — тогда компьютер попробует угадать сам,\n",
    "# что нам нужно вывести; например, сейчас он выведет всю строку от начала и до конца\n",
    "print('Hello'[:])  "
   ]
  },
  {
   "cell_type": "markdown",
   "metadata": {
    "id": "VaHiiR7z6zX8"
   },
   "source": [
    "Срезы есть не только у строк. Например, мы можем вывести второй и третий элементы списка (кортежа):"
   ]
  },
  {
   "cell_type": "code",
   "execution_count": null,
   "metadata": {
    "colab": {
     "base_uri": "https://localhost:8080/",
     "height": 53
    },
    "executionInfo": {
     "elapsed": 766,
     "status": "ok",
     "timestamp": 1601233509214,
     "user": {
      "displayName": "Дмитрий Широков",
      "photoUrl": "https://lh3.googleusercontent.com/a-/AOh14Gj5ZAs-5dMegnzmhLzTxoLXJmKnF6n7i3ZxETt9Vw=s64",
      "userId": "13642431705883450455"
     },
     "user_tz": -180
    },
    "id": "w9sSW3IK6319",
    "outputId": "86305f06-b07f-44d6-8818-36f2e6a21060"
   },
   "outputs": [
    {
     "name": "stdout",
     "output_type": "stream",
     "text": [
      "['хлеб', 'колбаса']\n",
      "('Дима', 'Миша')\n"
     ]
    }
   ],
   "source": [
    "shopping_list = ['молоко', 'хлеб', 'колбаса']\n",
    "\n",
    "# Выведи элементы списка, со второго и до конца списка\n",
    "print(shopping_list[1:])  \n",
    "\n",
    "students = ('Аня', 'Дима', 'Миша', 'Алёна')\n",
    "\n",
    "# Выведи имена студентов, начав со второго и остановившись перед четвёртым\n",
    "print(students[1:3])    "
   ]
  },
  {
   "cell_type": "markdown",
   "metadata": {
    "id": "i3RYxNzkaM1D"
   },
   "source": [
    "## Пример\n",
    "Давайте попробуем на примере достать разную интересную информацию из разных мест строки. Например, большое количество информации вложено в [номер банковской карты](https://en.wikipedia.org/wiki/Payment_card_number#Issuer_identification_number_(IIN)).\n",
    "\n",
    "Попробуем разобрать номер банковской карты и извлечь из него всю возможную информацию: выпустившую платёжную систему, номер карты внутри банка и контрольную цифру.\n",
    "\n",
    "**Пожалуйста, не вводите в этом блокноте никаких настоящих номеров карт в примеры!**\n",
    "\n",
    "Попробуем определить платёжную систему, выпустившую карту:\n",
    "Например, карты МИР начинаются с 2200, 2201, 2202, 2203 или 2204"
   ]
  },
  {
   "cell_type": "code",
   "execution_count": null,
   "metadata": {
    "colab": {
     "base_uri": "https://localhost:8080/",
     "height": 53
    },
    "executionInfo": {
     "elapsed": 21146,
     "status": "ok",
     "timestamp": 1600252014372,
     "user": {
      "displayName": "Дмитрий Широков",
      "photoUrl": "https://lh3.googleusercontent.com/a-/AOh14Gj5ZAs-5dMegnzmhLzTxoLXJmKnF6n7i3ZxETt9Vw=s64",
      "userId": "13642431705883450455"
     },
     "user_tz": -180
    },
    "id": "nENCsHZZyhBq",
    "outputId": "09a00132-8962-4ed5-e9fb-0bb0a46a401e"
   },
   "outputs": [
    {
     "name": "stdout",
     "output_type": "stream",
     "text": [
      "Введите номер проверяемой карты (без пробелов): 2200123456789090\n",
      "Эта карта выпущена российской системой МИР\n"
     ]
    }
   ],
   "source": [
    "card_number = input('Введите номер проверяемой карты (без пробелов): ')\n",
    "\n",
    "if not card_number.isdigit():                   # Проверим, что нам ввели только цифры карты\n",
    "    print('Пожалуйста, введите только цифры!')\n",
    "if card_number.startswith('2200'):              # Проверим, что строка начинается с нужного нам текста\n",
    "    print(f'Карта {card_number} выпущена российской системой МИР')"
   ]
  },
  {
   "cell_type": "code",
   "execution_count": null,
   "metadata": {
    "colab": {
     "base_uri": "https://localhost:8080/",
     "height": 53
    },
    "executionInfo": {
     "elapsed": 5212,
     "status": "ok",
     "timestamp": 1596022806636,
     "user": {
      "displayName": "Дмитрий Широков",
      "photoUrl": "https://lh3.googleusercontent.com/a-/AOh14Gj5ZAs-5dMegnzmhLzTxoLXJmKnF6n7i3ZxETt9Vw=s64",
      "userId": "13642431705883450455"
     },
     "user_tz": -180
    },
    "id": "wMi8YKT02wqa",
    "outputId": "0d730a48-f2f7-4f59-ca99-071c5a67af91"
   },
   "outputs": [
    {
     "name": "stdout",
     "output_type": "stream",
     "text": [
      "Введите номер проверяемой карты (без пробелов): 2203123456789090\n",
      "Эта карта выпущена российской системой МИР\n"
     ]
    }
   ],
   "source": [
    "# Мы можем проверить, что строка начинается с одной из нужных нам строк, составив из этих строк кортеж\n",
    "if card_number.startswith(('2200','2201', '2202', '2203', '2204')):         \n",
    "    print(f'Карта {card_number} выпущена российской системой МИР')  \n",
    "                                                                    \n",
    "# Eсли появилась ошибка NameError — выполните предыдущую ячейку перед выполнением этой"
   ]
  },
  {
   "cell_type": "markdown",
   "metadata": {
    "id": "w4Ezk-ef3mbR"
   },
   "source": [
    "Карты VISA начинаются с 4, и мы можем проверить, выпущена ли карта системой VISA, просто посмотрев на начальный символ строки. Не так важно, как именно мы проверим первый символ — можно просто к нему обратиться по индексу, можно проверить через `card_number.startswith('4')`:"
   ]
  },
  {
   "cell_type": "code",
   "execution_count": null,
   "metadata": {
    "colab": {
     "base_uri": "https://localhost:8080/",
     "height": 53
    },
    "executionInfo": {
     "elapsed": 10867,
     "status": "ok",
     "timestamp": 1600252234693,
     "user": {
      "displayName": "Дмитрий Широков",
      "photoUrl": "https://lh3.googleusercontent.com/a-/AOh14Gj5ZAs-5dMegnzmhLzTxoLXJmKnF6n7i3ZxETt9Vw=s64",
      "userId": "13642431705883450455"
     },
     "user_tz": -180
    },
    "id": "ifLbX61N3tgf",
    "outputId": "4ea7b3f4-3a28-428f-9ba4-018dabf7e1f0"
   },
   "outputs": [
    {
     "name": "stdout",
     "output_type": "stream",
     "text": [
      "Введите номер проверяемой карты (без пробелов): 4200123456789090\n",
      "Карта 4200123456789090 выпущена международной системой Visa\n"
     ]
    }
   ],
   "source": [
    "# В этом примере мы заново запрашиваем номер карты и перезаписываем переменную card_number\n",
    "card_number = input('Введите номер проверяемой карты (без пробелов): ') \n",
    "\n",
    "if card_number[0] == '4':                                               \n",
    "    print(f'Карта {card_number} выпущена международной системой Visa')                  "
   ]
  },
  {
   "cell_type": "markdown",
   "metadata": {
    "id": "uydpc_nE4RAv"
   },
   "source": [
    "Карты MasterCard проверить сложней: они начинаются либо с цифр 51, 52, ... 55, либо с цифр 2221, 2222, ... 2720. Воспользуемся уже знакомыми нам срезами."
   ]
  },
  {
   "cell_type": "markdown",
   "metadata": {
    "id": "fzuF49G_vQTO"
   },
   "source": [
    "Попробуем определить карту, выпущенную платёжной системой MasterCard:\n",
    "\n",
    "\n",
    "*   Сделаем срез из первых двух символов номера карты и превратим эти два символа в число, запомнив его как ``first_two``\n",
    "* Сделаем срез из первых четырёх символов номера карты и превратим эти четыре символа в число, запомнив его как ``first_four``\n",
    "*   Если ``first_two`` больше (или равно) 51 и меньше (или равно) 55:\n",
    " - Напишем, что это MasterCard\n",
    "* Иначе попробуем с проверить, что ``first_four`` больше 2220 и меньше 2721:\n",
    " - Если ``first_four`` попал в диапазон, то напишем, что это MasterCard\n",
    "* Иначе напишем, что карта выпущена другой системой\n",
    "\n"
   ]
  },
  {
   "cell_type": "code",
   "execution_count": null,
   "metadata": {
    "colab": {
     "base_uri": "https://localhost:8080/",
     "height": 53
    },
    "executionInfo": {
     "elapsed": 2632,
     "status": "ok",
     "timestamp": 1597002928949,
     "user": {
      "displayName": "Дмитрий Широков",
      "photoUrl": "https://lh3.googleusercontent.com/a-/AOh14Gj5ZAs-5dMegnzmhLzTxoLXJmKnF6n7i3ZxETt9Vw=s64",
      "userId": "13642431705883450455"
     },
     "user_tz": -180
    },
    "id": "eSZ9MqB5wUY-",
    "outputId": "aed34261-d939-45fe-f617-6d1fce899834"
   },
   "outputs": [
    {
     "name": "stdout",
     "output_type": "stream",
     "text": [
      "Введите номер проверяемой карты (без пробелов): 2229123456789090\n",
      "Карта 2229123456789090 выпущена международной системой MasterCard\n"
     ]
    }
   ],
   "source": [
    "card_number = input('Введите номер проверяемой карты (без пробелов): ')\n",
    "first_two = card_number[:2]         # Сделаем новую строку, скопировав первые два символа из номера карты\n",
    "first_two = int(first_two)          # Обновим переменную firt_two, превратив её из строки в целое число\n",
    "\n",
    "first_four = int(card_number[:4])   # Получим строку из первых четырёх цифр строки, \n",
    "                                    # сразу после выполнения среза превратив её в целое число\n",
    "\n",
    "if first_two >= 51 and first_two <= 55:\n",
    "    print(f'Карта {card_number} выпущена международной системой MasterCard')\n",
    "elif first_four > 2220 and first_four < 2721:\n",
    "    print(f'Карта {card_number} выпущена международной системой MasterCard')\n",
    "else:\n",
    "    print(f'Карта {card_number} выпущена другой системой')"
   ]
  },
  {
   "cell_type": "markdown",
   "metadata": {
    "id": "3yLVMTNAyt2F"
   },
   "source": [
    "Хоть срезы и называются *срезами*, они не изменяют исходную строку, ничего из неё не вырезают и не отрезают: в последней строке наша программа выводит тот же номер карты, который и был введён человеком."
   ]
  },
  {
   "cell_type": "markdown",
   "metadata": {
    "id": "qRi9naXX0isw"
   },
   "source": [
    "В указанных системах количество цифр в номере карты всегда равно 16. Чтобы узнать количество символов в строке, мы можем воспользоваться уже знакомой нам по спискам и кортежам функцией `len()`:"
   ]
  },
  {
   "cell_type": "code",
   "execution_count": null,
   "metadata": {
    "colab": {
     "base_uri": "https://localhost:8080/",
     "height": 35
    },
    "executionInfo": {
     "elapsed": 909,
     "status": "ok",
     "timestamp": 1597003496845,
     "user": {
      "displayName": "Дмитрий Широков",
      "photoUrl": "https://lh3.googleusercontent.com/a-/AOh14Gj5ZAs-5dMegnzmhLzTxoLXJmKnF6n7i3ZxETt9Vw=s64",
      "userId": "13642431705883450455"
     },
     "user_tz": -180
    },
    "id": "3LVS_PLB4uf8",
    "outputId": "72d829f6-8363-425e-a9ed-0601b25ff8c9"
   },
   "outputs": [
    {
     "name": "stdout",
     "output_type": "stream",
     "text": [
      "Во введённом номере карты 2229123456789090 ровно 16 символов\n"
     ]
    }
   ],
   "source": [
    "count = len(card_number)\n",
    "print(f'Во введённом номере карты {card_number} ровно {count} символов')"
   ]
  },
  {
   "cell_type": "markdown",
   "metadata": {
    "id": "w7NzNWmF04t_"
   },
   "source": [
    "Слово ``count`` не было воспринято как метод строки, так как было написано без скобок и не было прикреплено ни к какой строке. Сейчас это просто переменная. Впрочем, без неё можно обойтись, сразу подставив функцию `len()` внутрь команды `print()`:"
   ]
  },
  {
   "cell_type": "code",
   "execution_count": null,
   "metadata": {
    "colab": {
     "base_uri": "https://localhost:8080/",
     "height": 35
    },
    "executionInfo": {
     "elapsed": 817,
     "status": "ok",
     "timestamp": 1597003594829,
     "user": {
      "displayName": "Дмитрий Широков",
      "photoUrl": "https://lh3.googleusercontent.com/a-/AOh14Gj5ZAs-5dMegnzmhLzTxoLXJmKnF6n7i3ZxETt9Vw=s64",
      "userId": "13642431705883450455"
     },
     "user_tz": -180
    },
    "id": "CCj1WxKH1Lye",
    "outputId": "829ce094-aede-4260-bdaf-7da57054d8ab"
   },
   "outputs": [
    {
     "name": "stdout",
     "output_type": "stream",
     "text": [
      "Во введённом номере карты 2229123456789090 ровно 16 символов\n"
     ]
    }
   ],
   "source": [
    "# В этих примерах используется переменная card_number из вышестоящих ячеек\n",
    "print(f'Во введённом номере карты {card_number} ровно {len(card_number)} символов') \n",
    "        \n",
    "# Если программа выдала ошибку NameError — запустите верхние ячейки, и только потом — ещё раз эти две"
   ]
  },
  {
   "cell_type": "markdown",
   "metadata": {
    "id": "miREzXyx8F6E"
   },
   "source": [
    "Первые 6 цифр банковской карты указывают на выдавший карту банк и систему, с помощью которой работает карта. Следующие 9 цифр — номер карты внутри банка. Давайте его узнаем.\n",
    "Нам снова помогут срезы. Так как компьютер нумерует символы в текстах с 0, то нам нужно взять символы, начиная с 6 закончив на 15"
   ]
  },
  {
   "cell_type": "code",
   "execution_count": null,
   "metadata": {
    "colab": {
     "base_uri": "https://localhost:8080/",
     "height": 35
    },
    "executionInfo": {
     "elapsed": 704,
     "status": "ok",
     "timestamp": 1597003732776,
     "user": {
      "displayName": "Дмитрий Широков",
      "photoUrl": "https://lh3.googleusercontent.com/a-/AOh14Gj5ZAs-5dMegnzmhLzTxoLXJmKnF6n7i3ZxETt9Vw=s64",
      "userId": "13642431705883450455"
     },
     "user_tz": -180
    },
    "id": "KKg6DQ8p8ElS",
    "outputId": "8ee17232-b05c-4340-8741-f935123f33df"
   },
   "outputs": [
    {
     "name": "stdout",
     "output_type": "stream",
     "text": [
      "Номер карты 2229123456789090 внутри банка: 345678909\n"
     ]
    }
   ],
   "source": [
    "print(f'Номер карты {card_number} внутри банка: {card_number[6:15]}')"
   ]
  },
  {
   "cell_type": "markdown",
   "metadata": {
    "id": "aC2sdoVA-zwi"
   },
   "source": [
    "Последняя цифра номера карты нужна для того, чтобы банк [защитил вас от опечаток](https://ru.wikipedia.org/wiki/Алгоритм_Луна). Давайте выведем последнюю цифру с конца номера карты"
   ]
  },
  {
   "cell_type": "code",
   "execution_count": null,
   "metadata": {
    "colab": {
     "base_uri": "https://localhost:8080/",
     "height": 35
    },
    "executionInfo": {
     "elapsed": 675,
     "status": "ok",
     "timestamp": 1600252925660,
     "user": {
      "displayName": "Дмитрий Широков",
      "photoUrl": "https://lh3.googleusercontent.com/a-/AOh14Gj5ZAs-5dMegnzmhLzTxoLXJmKnF6n7i3ZxETt9Vw=s64",
      "userId": "13642431705883450455"
     },
     "user_tz": -180
    },
    "id": "etFq2PeA_DP_",
    "outputId": "50346014-7bab-4a91-f941-e28be995531d"
   },
   "outputs": [
    {
     "name": "stdout",
     "output_type": "stream",
     "text": [
      "Контрольная цифра, защищающая нас от опечаток (спасибо ей за это): 0\n"
     ]
    }
   ],
   "source": [
    "print(f'Контрольная цифра, защищающая нас от опечаток (спасибо ей за это): {card_number[-1]}')"
   ]
  },
  {
   "cell_type": "markdown",
   "metadata": {
    "id": "8jkhEUBw2O64"
   },
   "source": [
    "Программа целиком:"
   ]
  },
  {
   "cell_type": "code",
   "execution_count": null,
   "metadata": {
    "colab": {
     "base_uri": "https://localhost:8080/",
     "height": 107
    },
    "executionInfo": {
     "elapsed": 12985,
     "status": "ok",
     "timestamp": 1600252944573,
     "user": {
      "displayName": "Дмитрий Широков",
      "photoUrl": "https://lh3.googleusercontent.com/a-/AOh14Gj5ZAs-5dMegnzmhLzTxoLXJmKnF6n7i3ZxETt9Vw=s64",
      "userId": "13642431705883450455"
     },
     "user_tz": -180
    },
    "id": "md5DoyiK2R9F",
    "outputId": "280928ef-02dc-48a7-deba-6e5ea503e3ff"
   },
   "outputs": [
    {
     "name": "stdout",
     "output_type": "stream",
     "text": [
      "Введите номер проверяемой карты (без пробелов): 5200123456789090\n",
      "Во введённом номере карты 5200123456789090 ровно 16 символов\n",
      "Карта 5200123456789090 выпущена международной системой MasterCard\n",
      "Номер карты 5200123456789090 внутри банка: 345678909\n",
      "Контрольная цифра, защищающая нас от опечаток (спасибо ей за это): 0\n"
     ]
    }
   ],
   "source": [
    "card_number = input('Введите номер проверяемой карты (без пробелов): ')\n",
    "\n",
    "# Сделаем новую строку, скопировав первые два символа из номера карты\n",
    "first_two = card_number[:2]       \n",
    "\n",
    "# Обновим переменную firt_two, превратив её из строки в целое число\n",
    "first_two = int(first_two)        \n",
    "\n",
    "# Получим строку из первых четырёх цифр строки, сразу после выполнения среза превратив её в целое число\n",
    "first_four = int(card_number[:4]) \n",
    "                                  \n",
    "# Функция len() позволяет узнать, сколько символов в строке\n",
    "print(f'Во введённом номере карты {card_number} ровно {len(card_number)} символов') \n",
    "\n",
    "# Мы можем проверить, что строка начинается с одного из нужных нам текстов, составив из этих текстов кортеж\n",
    "if card_number.startswith(('2200','2201', '2202', '2203', '2204')):  \n",
    "    print(f'Карта {card_number} выпущена российской системой МИР')\n",
    "\n",
    "elif card_number[0] == '4':                                          \n",
    "    print(f'Карта {card_number} выпущена международной системой Visa')\n",
    "\n",
    "elif first_two >= 51 and first_two <= 55 or first_four > 2220 and first_four < 2721:\n",
    "    print(f'Карта {card_number} выпущена международной системой MasterCard')\n",
    "\n",
    "else:\n",
    "    print(f'Карта {card_number} выпущена другой системой')\n",
    "\n",
    "# Мы можем подставлять срезы внутрь выводимых строк\n",
    "print(f'Номер карты {card_number} внутри банка: {card_number[6:15]}') \n",
    "\n",
    "# Мы можем подставять обращение к символу по его индексу — даже если это индекс \n",
    "# с конца строки — внутрь выводимых строк\n",
    "print(f'Контрольная цифра, защищающая нас от опечаток (спасибо ей за это): {card_number[-1]}') "
   ]
  },
  {
   "cell_type": "markdown",
   "metadata": {
    "id": "IDXeuZzrbJ7N"
   },
   "source": [
    "## Повторим изученные методы и работу со срезами\n",
    "* `.startswith()` проверяет, начинается ли строка с нужной нам последовательностью символов (или одной из нужных нам последовательностей символов);\n",
    "* `.endswith()`, аналогично, проверяет, кончается ли строка нужной нам последовательностью символов (или одной из нужных нам последовательностей символов);\n",
    "* срезы позволяют обратиться сразу к нескольким символам внутри строки:\n",
    "    1. `'Hello'[2:4]` позволяет обратиться к символам слова Hello с индексами 2 и 3: `ll`;\n",
    "    2. `'Hello'[:3]` позволяет обратиться ко всем символам от символа с индексом 0 до символа с индексом 2: `Hel`;\n",
    "    3. `'Hello'[2:]` позволяет обратиться ко всем символам от символа с индексом 2 до конца строки: `llo`;\n",
    "    4. `'Hello'[:]` позволяет обратиться ко всем символам строки: `Hello`;\n",
    "    5. `'Hello'[-4:-1]` позволяет обратиться к символам с 4 до 1 (при нумерации с конца строки): `ell`"
   ]
  },
  {
   "cell_type": "code",
   "execution_count": null,
   "metadata": {
    "colab": {
     "base_uri": "https://localhost:8080/",
     "height": 161
    },
    "executionInfo": {
     "elapsed": 799,
     "status": "ok",
     "timestamp": 1600556280206,
     "user": {
      "displayName": "Дмитрий Широков",
      "photoUrl": "https://lh3.googleusercontent.com/a-/AOh14Gj5ZAs-5dMegnzmhLzTxoLXJmKnF6n7i3ZxETt9Vw=s64",
      "userId": "13642431705883450455"
     },
     "user_tz": -180
    },
    "id": "yRwgZUrajMfk",
    "outputId": "ea01c21f-3b3c-4215-fd7b-ba729f064528"
   },
   "outputs": [
    {
     "name": "stdout",
     "output_type": "stream",
     "text": [
      "Оканчивается ли \"hse.ru\" на \".ru\"? True\n",
      "Оканчивается ли \"hse.ru\" на \".ru\" или \".рф\"? True\n",
      "Начинается  ли строка \"https://cbr.ru\" с \"https\"? True\n",
      "Срез строки \"Hello\"[2:4]: ll\n",
      "Срез строки \"Hello\"[:3]: Hel\n",
      "Срез строки \"Hello\"[2:]: llo\n",
      "Срез строки \"Hello\"[:]: Hello\n",
      "Срез строки \"Hello\"[-4:-1]: ell\n"
     ]
    }
   ],
   "source": [
    "print(f'Оканчивается ли \"hse.ru\" на \".ru\"? {\"hse.ru\".endswith(\"ru\")}')\n",
    "print(f'Оканчивается ли \"hse.ru\" на \".ru\" или \".рф\"? {\"hse.ru\".endswith((\"ru\", \".рф\"))}')\n",
    "print(f'Начинается  ли строка \"https://cbr.ru\" с \"https\"? {\"https://cbr.ru\".startswith(\"https\")}')\n",
    "\n",
    "print(f'Срез строки \"Hello\"[2:4]: {\"Hello\"[2:4]}')\n",
    "print(f'Срез строки \"Hello\"[:3]: {\"Hello\"[:3]}')\n",
    "print(f'Срез строки \"Hello\"[2:]: {\"Hello\"[2:]}')\n",
    "print(f'Срез строки \"Hello\"[:]: {\"Hello\"[:]}')\n",
    "print(f'Срез строки \"Hello\"[-4:-1]: {\"Hello\"[-4:-1]}')"
   ]
  }
 ],
 "metadata": {
  "colab": {
   "collapsed_sections": [],
   "name": "4.6.5 Срезы с двумя аргументами.ipynb",
   "provenance": []
  },
  "kernelspec": {
   "display_name": "Python 3 (ipykernel)",
   "language": "python",
   "name": "python3"
  },
  "language_info": {
   "codemirror_mode": {
    "name": "ipython",
    "version": 3
   },
   "file_extension": ".py",
   "mimetype": "text/x-python",
   "name": "python",
   "nbconvert_exporter": "python",
   "pygments_lexer": "ipython3",
   "version": "3.9.7"
  }
 },
 "nbformat": 4,
 "nbformat_minor": 4
}
