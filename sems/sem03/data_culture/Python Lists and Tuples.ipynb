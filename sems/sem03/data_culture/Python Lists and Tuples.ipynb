{
 "cells": [
  {
   "cell_type": "markdown",
   "metadata": {
    "id": "d8ShhvetFpA7"
   },
   "source": [
    "# Введение в упорядоченные типы данных\n",
    "<div class=\"alert alert-info alertinfo\">\n",
    "\n",
    "<b><span style=\"color: black; font-style: italic\">Если вы нашли опечатку или другую проблему в этом материале, пожалуйста, расскажите нам об этом на <a href=\"https://edu.hse.ru/mod/forum/discuss.php?d=22868\" style=\"color: blue; font-style: italic\">форуме курса</a>. Спасибо, что помогаете нам стать лучше!</span></b>\n",
    "\n",
    "</div>"
   ]
  },
  {
   "cell_type": "markdown",
   "metadata": {
    "id": "3Zi-y2cRFpBB"
   },
   "source": [
    "## Обращение к элементам последовательности\n",
    "\n",
    "Вернемся к нашему списку продуктов.\n",
    "\n",
    "В дальнейших примерах мы будем задавать список сразу в коде, чтобы не тратить время при запуске демонстрации на ввод."
   ]
  },
  {
   "cell_type": "code",
   "execution_count": null,
   "metadata": {
    "colab": {
     "base_uri": "https://localhost:8080/",
     "height": 34
    },
    "executionInfo": {
     "elapsed": 1323,
     "status": "ok",
     "timestamp": 1601644169932,
     "user": {
      "displayName": "Tatiana Rogovich",
      "photoUrl": "https://lh3.googleusercontent.com/a-/AOh14Gjj1YqMwkiGsMOcK4XoZPpJp6kCbYZ6EqgvdL3EXA=s64",
      "userId": "08185984249235601298"
     },
     "user_tz": -180
    },
    "id": "rTAG4LY7FpBC",
    "outputId": "5106e984-4bcb-4bc5-9cfa-a65b2cf017d3"
   },
   "outputs": [
    {
     "name": "stdout",
     "output_type": "stream",
     "text": [
      "['хлеб', 'молоко', 'сметана', 'сыр', 'молоко']\n"
     ]
    }
   ],
   "source": [
    "# Создаем список и перечисляем его элементы\n",
    "shopping_list = ['хлеб', 'молоко', 'сметана', 'сыр', 'молоко']\n",
    "\n",
    "# Выводим список на экран\n",
    "print(shopping_list)"
   ]
  },
  {
   "cell_type": "markdown",
   "metadata": {
    "id": "V8pEDqe0FpBH"
   },
   "source": [
    "Мы пошли в магазин и по дороге проверяем наш список покупок:\n",
    "\n",
    "- хлеб;\n",
    "- молоко;\n",
    "- сметана;\n",
    "- сыр;\n",
    "- молоко.\n",
    "\n",
    "Когда мы смотрим на такой список, мы легко можем представить его пронумерованным, даже если не использовали цифры. Мы видим, что хлеб записан первым, а сметана третьей. У нашего списка есть четкая структура."
   ]
  },
  {
   "cell_type": "markdown",
   "metadata": {
    "id": "95EvJ1dUFpBH"
   },
   "source": [
    "\n",
    "Python видит этот список похожим образом: \n",
    "\n",
    "    [0] хлеб\n",
    "    [1] молоко\n",
    "    [2] сметана\n",
    "    [3] сыр\n",
    "    [4] молоко"
   ]
  },
  {
   "cell_type": "markdown",
   "metadata": {
    "id": "n0bkHI5NFpBI"
   },
   "source": [
    "У каждого элемента списка есть свой индекс. Мы можем обратиться к тому или иному элементу по его индексу, точно так же, как и обращались к отдельному символу строки:"
   ]
  },
  {
   "cell_type": "code",
   "execution_count": null,
   "metadata": {
    "colab": {
     "base_uri": "https://localhost:8080/",
     "height": 51
    },
    "executionInfo": {
     "elapsed": 1668,
     "status": "ok",
     "timestamp": 1601644208649,
     "user": {
      "displayName": "Tatiana Rogovich",
      "photoUrl": "https://lh3.googleusercontent.com/a-/AOh14Gjj1YqMwkiGsMOcK4XoZPpJp6kCbYZ6EqgvdL3EXA=s64",
      "userId": "08185984249235601298"
     },
     "user_tz": -180
    },
    "id": "bCzMA2uXC6hp",
    "outputId": "8d60818a-c112-4c0c-8a7d-c13662980540"
   },
   "outputs": [
    {
     "name": "stdout",
     "output_type": "stream",
     "text": [
      "сыр\n",
      "l\n"
     ]
    }
   ],
   "source": [
    "shopping_list = ['хлеб', 'молоко', 'сметана', 'сыр', 'молоко']\n",
    "s = 'Hello'\n",
    "print(shopping_list[3])     # Просим вывести 4 элемент списка shopping_list\n",
    "print(s[3])                 # Просим вывести 4 символ строки Hello"
   ]
  },
  {
   "cell_type": "markdown",
   "metadata": {
    "id": "Kvh_lMKLDjd8"
   },
   "source": [
    "Мы можем обращаться к элементам более интерактивно, например, узнав индекс у человека:"
   ]
  },
  {
   "cell_type": "code",
   "execution_count": null,
   "metadata": {
    "colab": {
     "base_uri": "https://localhost:8080/",
     "height": 69
    },
    "executionInfo": {
     "elapsed": 3041,
     "status": "ok",
     "timestamp": 1601644220997,
     "user": {
      "displayName": "Tatiana Rogovich",
      "photoUrl": "https://lh3.googleusercontent.com/a-/AOh14Gjj1YqMwkiGsMOcK4XoZPpJp6kCbYZ6EqgvdL3EXA=s64",
      "userId": "08185984249235601298"
     },
     "user_tz": -180
    },
    "id": "Q_oNYZCrFpBI",
    "outputId": "91f6d009-3f1d-4fde-850b-ca346c40b8b4",
    "scrolled": true
   },
   "outputs": [
    {
     "name": "stdout",
     "output_type": "stream",
     "text": [
      "['хлеб', 'молоко', 'сметана', 'сыр', 'молоко']\n",
      "Введите номер 4\n",
      "молоко\n"
     ]
    }
   ],
   "source": [
    "# Создаем список и перечисляем его элементы\n",
    "shopping_list = ['хлеб', 'молоко', 'сметана', 'сыр', 'молоко']\n",
    "print(shopping_list)                # Выводим список на экран\n",
    "\n",
    "i = int(input('Введите номер '))\n",
    "print(shopping_list[i])             # Выводим на экран элемент с i-м индексом"
   ]
  },
  {
   "cell_type": "markdown",
   "metadata": {
    "id": "QmpVTy1mFpBL"
   },
   "source": [
    "В этом примере нумерация элементов начинается с \"0\", нам так перечислять элементы неудобно, мы считаем с 1, а компьютер с 0.\n",
    "\n",
    "Посмотрим, что нужно сделать, чтобы и мы, и программа считали одинаково."
   ]
  },
  {
   "cell_type": "code",
   "execution_count": 1,
   "metadata": {
    "colab": {
     "base_uri": "https://localhost:8080/",
     "height": 69
    },
    "executionInfo": {
     "elapsed": 3863,
     "status": "ok",
     "timestamp": 1601644233356,
     "user": {
      "displayName": "Tatiana Rogovich",
      "photoUrl": "https://lh3.googleusercontent.com/a-/AOh14Gjj1YqMwkiGsMOcK4XoZPpJp6kCbYZ6EqgvdL3EXA=s64",
      "userId": "08185984249235601298"
     },
     "user_tz": -180
    },
    "id": "lrIagR6IFpBM",
    "outputId": "6dc64b6d-05fb-4d53-b5d7-21ef6ee37bdf"
   },
   "outputs": [
    {
     "name": "stdout",
     "output_type": "stream",
     "text": [
      "['хлеб', 'молоко', 'сметана', 'сыр', 'молоко']\n"
     ]
    },
    {
     "name": "stdin",
     "output_type": "stream",
     "text": [
      "Введите номер  3\n"
     ]
    },
    {
     "name": "stdout",
     "output_type": "stream",
     "text": [
      "сметана\n"
     ]
    }
   ],
   "source": [
    "shopping_list = ['хлеб', 'молоко', 'сметана', 'сыр', 'молоко']\n",
    "print(shopping_list)\n",
    "\n",
    "n = int(input('Введите номер '))\n",
    "\n",
    "# Вычтем из номера 1, чтобы получить нумерацию \"с нуля\"\n",
    "n -= 1  \n",
    "print(shopping_list[n])"
   ]
  },
  {
   "cell_type": "markdown",
   "metadata": {
    "id": "-pO824cwPG6-"
   },
   "source": [
    "## Распаковка: вывод элементов последовательности\n",
    "\n",
    "Чтобы вывести список на экран без квадратных скобок, мы можем указать внутри команды `print()` звёздочку:"
   ]
  },
  {
   "cell_type": "code",
   "execution_count": null,
   "metadata": {
    "colab": {
     "base_uri": "https://localhost:8080/",
     "height": 34
    },
    "executionInfo": {
     "elapsed": 610,
     "status": "ok",
     "timestamp": 1601844395964,
     "user": {
      "displayName": "Tatiana Rogovich",
      "photoUrl": "https://lh3.googleusercontent.com/a-/AOh14Gjj1YqMwkiGsMOcK4XoZPpJp6kCbYZ6EqgvdL3EXA=s64",
      "userId": "08185984249235601298"
     },
     "user_tz": -180
    },
    "id": "i0GsFsx4PORA",
    "outputId": "b67b89c5-fa1f-4867-bb2d-a78c65d8bba5"
   },
   "outputs": [
    {
     "name": "stdout",
     "output_type": "stream",
     "text": [
      "хлеб молоко сметана сыр молоко\n"
     ]
    }
   ],
   "source": [
    "shopping_list = ['хлеб', 'молоко', 'сметана', 'сыр', 'молоко']\n",
    "print(*shopping_list)"
   ]
  },
  {
   "cell_type": "markdown",
   "metadata": {
    "id": "yBpHZ42hB-Qs"
   },
   "source": [
    "Звёздочка перед shopping_list заставит компьютер увидеть не один список, переданный для печати на экран, а каждый из элементов отдельно, как если бы мы написали `print(shopping_list[0], shopping_list[1], shopping_list[2], shopping_list[3], shopping_list[4])`.\n",
    "\n",
    "Эту операцию обычно называют *распаковкой*, и мы с вами еще увидим, что подобным образом с помощью оператора `*` можно будет красиво вывести и некоторые другие типы даннных."
   ]
  },
  {
   "cell_type": "code",
   "execution_count": null,
   "metadata": {
    "colab": {
     "base_uri": "https://localhost:8080/",
     "height": 34
    },
    "executionInfo": {
     "elapsed": 622,
     "status": "ok",
     "timestamp": 1601644352772,
     "user": {
      "displayName": "Tatiana Rogovich",
      "photoUrl": "https://lh3.googleusercontent.com/a-/AOh14Gjj1YqMwkiGsMOcK4XoZPpJp6kCbYZ6EqgvdL3EXA=s64",
      "userId": "08185984249235601298"
     },
     "user_tz": -180
    },
    "id": "rdmLXuu2CVrN",
    "outputId": "5749ce15-df4d-488a-f104-189e0da78a12"
   },
   "outputs": [
    {
     "name": "stdout",
     "output_type": "stream",
     "text": [
      "хлеб молоко сметана сыр молоко\n"
     ]
    }
   ],
   "source": [
    "shopping_list = ['хлеб', 'молоко', 'сметана', 'сыр', 'молоко']\n",
    "print(shopping_list[0], shopping_list[1], shopping_list[2], shopping_list[3], shopping_list[4])"
   ]
  },
  {
   "cell_type": "markdown",
   "metadata": {
    "id": "bd9dV3qLPe6o"
   },
   "source": [
    "Сейчас наш список выводится без каких-либо запятых, давайте их вернём, указав внутри аргумента ``sep``:"
   ]
  },
  {
   "cell_type": "code",
   "execution_count": null,
   "metadata": {
    "colab": {
     "base_uri": "https://localhost:8080/",
     "height": 34
    },
    "executionInfo": {
     "elapsed": 652,
     "status": "ok",
     "timestamp": 1601644359579,
     "user": {
      "displayName": "Tatiana Rogovich",
      "photoUrl": "https://lh3.googleusercontent.com/a-/AOh14Gjj1YqMwkiGsMOcK4XoZPpJp6kCbYZ6EqgvdL3EXA=s64",
      "userId": "08185984249235601298"
     },
     "user_tz": -180
    },
    "id": "ORPZo5FEPk2J",
    "outputId": "d411c075-8645-460b-d582-826222ef7d4d"
   },
   "outputs": [
    {
     "name": "stdout",
     "output_type": "stream",
     "text": [
      "хлеб, молоко, сметана, сыр, молоко\n"
     ]
    }
   ],
   "source": [
    "shopping_list = ['хлеб', 'молоко', 'сметана', 'сыр', 'молоко']\n",
    "print(*shopping_list, sep=', ')"
   ]
  },
  {
   "cell_type": "markdown",
   "metadata": {
    "id": "4lIwqffibQCM"
   },
   "source": [
    "Обратите внимание, что такой синтаксис не будет работать внутри f-строки."
   ]
  },
  {
   "cell_type": "code",
   "execution_count": null,
   "metadata": {
    "colab": {
     "base_uri": "https://localhost:8080/",
     "height": 131
    },
    "executionInfo": {
     "elapsed": 841,
     "status": "error",
     "timestamp": 1601828679455,
     "user": {
      "displayName": "Tatiana Rogovich",
      "photoUrl": "https://lh3.googleusercontent.com/a-/AOh14Gjj1YqMwkiGsMOcK4XoZPpJp6kCbYZ6EqgvdL3EXA=s64",
      "userId": "08185984249235601298"
     },
     "user_tz": -180
    },
    "id": "Sbzr1BavbX_i",
    "outputId": "da0a9c69-0c04-45b5-f76c-9694e560826b"
   },
   "outputs": [
    {
     "ename": "SyntaxError",
     "evalue": "ignored",
     "output_type": "error",
     "traceback": [
      "\u001b[0;36m  File \u001b[0;32m\"<ipython-input-1-31e18a6b5cff>\"\u001b[0;36m, line \u001b[0;32m1\u001b[0m\n\u001b[0;31m    print(f'Наш список покупок {*shopping_list}')\u001b[0m\n\u001b[0m                                               ^\u001b[0m\n\u001b[0;31mSyntaxError\u001b[0m\u001b[0;31m:\u001b[0m can't use starred expression here\n"
     ]
    }
   ],
   "source": [
    "print(f'Наш список покупок {*shopping_list}')"
   ]
  },
  {
   "cell_type": "markdown",
   "metadata": {
    "id": "fT6usK-uFpBX"
   },
   "source": [
    "## Кортеж"
   ]
  },
  {
   "cell_type": "markdown",
   "metadata": {
    "id": "MuhruOtRFpBY"
   },
   "source": [
    "Есть еще одна очень похожая на список структура — она может хранить разные типы данных, к ним можно обращаться по индексу, но кортеж в отличие от списка невозможно изменить (об этом ниже). Эта структура называется кортеж. "
   ]
  },
  {
   "cell_type": "code",
   "execution_count": null,
   "metadata": {
    "id": "DVsCLGDxFpBZ"
   },
   "outputs": [],
   "source": [
    "a = (1, 2, 3, 4, 5, 6)"
   ]
  },
  {
   "cell_type": "markdown",
   "metadata": {
    "id": "J0ea_kClP3Oe"
   },
   "source": [
    "Посмотрим, как видит кортеж сам Python:"
   ]
  },
  {
   "cell_type": "code",
   "execution_count": null,
   "metadata": {
    "colab": {
     "base_uri": "https://localhost:8080/",
     "height": 34
    },
    "executionInfo": {
     "elapsed": 636,
     "status": "ok",
     "timestamp": 1601644367575,
     "user": {
      "displayName": "Tatiana Rogovich",
      "photoUrl": "https://lh3.googleusercontent.com/a-/AOh14Gjj1YqMwkiGsMOcK4XoZPpJp6kCbYZ6EqgvdL3EXA=s64",
      "userId": "08185984249235601298"
     },
     "user_tz": -180
    },
    "id": "CaprV3YyPy3u",
    "outputId": "85c0912e-3df6-464e-d90c-ba2615255bc0"
   },
   "outputs": [
    {
     "name": "stdout",
     "output_type": "stream",
     "text": [
      "<class 'tuple'>\n"
     ]
    }
   ],
   "source": [
    "a = (1, 2, 3, 4, 5, 6)\n",
    "print(type(a))"
   ]
  },
  {
   "cell_type": "markdown",
   "metadata": {
    "id": "IjVO-VCjiBgh"
   },
   "source": [
    "Python этот тип данных распознает как `tuple` (произносится `['tju:p(ə)l]`)."
   ]
  },
  {
   "cell_type": "markdown",
   "metadata": {
    "id": "lI3wlfLVYVcZ"
   },
   "source": [
    "## Изменяемые и неизменяемые типы данных"
   ]
  },
  {
   "cell_type": "markdown",
   "metadata": {
    "id": "Bz11ZI2vOqd3"
   },
   "source": [
    "Мы уже сказали, что, в отличие от списка, кортеж — неизменяемый тип данных, давайте посмотрим, что это значит.\n",
    "\n",
    "Раз мы можем обратиться к элементу нашего списка по его номеру, попробуем заменить в нашем списке покупок сметану на кефир."
   ]
  },
  {
   "cell_type": "code",
   "execution_count": null,
   "metadata": {
    "colab": {
     "base_uri": "https://localhost:8080/",
     "height": 34
    },
    "executionInfo": {
     "elapsed": 616,
     "status": "ok",
     "timestamp": 1601644309130,
     "user": {
      "displayName": "Tatiana Rogovich",
      "photoUrl": "https://lh3.googleusercontent.com/a-/AOh14Gjj1YqMwkiGsMOcK4XoZPpJp6kCbYZ6EqgvdL3EXA=s64",
      "userId": "08185984249235601298"
     },
     "user_tz": -180
    },
    "id": "o501k6_xOzyK",
    "outputId": "c2feb1af-9e27-4f40-8f33-2f255c9426b8"
   },
   "outputs": [
    {
     "name": "stdout",
     "output_type": "stream",
     "text": [
      "['хлеб', 'молоко', 'кефир', 'сыр', 'молоко']\n"
     ]
    }
   ],
   "source": [
    "shopping_list = ['хлеб', 'молоко', 'сметана', 'сыр', 'молоко']\n",
    "shopping_list[2] = 'кефир'\n",
    "print(shopping_list)"
   ]
  },
  {
   "cell_type": "markdown",
   "metadata": {
    "id": "FGvTS9YMFpBg"
   },
   "source": [
    "Таким образом, мы можем изменить любой элемент списка, просто присвоив новое значение элементу под определенным индексом.\n",
    "\n",
    "А элемент кортежа таким образом изменить нельзя — получим ошибку."
   ]
  },
  {
   "cell_type": "code",
   "execution_count": null,
   "metadata": {
    "colab": {
     "base_uri": "https://localhost:8080/",
     "height": 200
    },
    "executionInfo": {
     "elapsed": 625,
     "status": "error",
     "timestamp": 1601644417555,
     "user": {
      "displayName": "Tatiana Rogovich",
      "photoUrl": "https://lh3.googleusercontent.com/a-/AOh14Gjj1YqMwkiGsMOcK4XoZPpJp6kCbYZ6EqgvdL3EXA=s64",
      "userId": "08185984249235601298"
     },
     "user_tz": -180
    },
    "id": "mIK0NGnlFpBg",
    "outputId": "2b3848b2-4aa2-4b5e-c01c-c8d8cf19fb23"
   },
   "outputs": [
    {
     "ename": "TypeError",
     "evalue": "ignored",
     "output_type": "error",
     "traceback": [
      "\u001b[0;31m---------------------------------------------------------------------------\u001b[0m",
      "\u001b[0;31mTypeError\u001b[0m                                 Traceback (most recent call last)",
      "\u001b[0;32m<ipython-input-17-e94158f5b565>\u001b[0m in \u001b[0;36m<module>\u001b[0;34m()\u001b[0m\n\u001b[1;32m      1\u001b[0m \u001b[0;31m# Создаем кортеж и перечисляем его элементы\u001b[0m\u001b[0;34m\u001b[0m\u001b[0;34m\u001b[0m\u001b[0;34m\u001b[0m\u001b[0m\n\u001b[1;32m      2\u001b[0m \u001b[0mshopping_tuple\u001b[0m \u001b[0;34m=\u001b[0m \u001b[0;34m(\u001b[0m\u001b[0;34m'хлеб'\u001b[0m\u001b[0;34m,\u001b[0m \u001b[0;34m'молоко'\u001b[0m\u001b[0;34m,\u001b[0m \u001b[0;34m'сметана'\u001b[0m\u001b[0;34m,\u001b[0m \u001b[0;34m'сыр'\u001b[0m\u001b[0;34m,\u001b[0m \u001b[0;34m'молоко'\u001b[0m\u001b[0;34m)\u001b[0m\u001b[0;34m\u001b[0m\u001b[0;34m\u001b[0m\u001b[0m\n\u001b[0;32m----> 3\u001b[0;31m \u001b[0mshopping_tuple\u001b[0m\u001b[0;34m[\u001b[0m\u001b[0;36m2\u001b[0m\u001b[0;34m]\u001b[0m \u001b[0;34m=\u001b[0m \u001b[0;34m'кефир'\u001b[0m\u001b[0;34m\u001b[0m\u001b[0;34m\u001b[0m\u001b[0m\n\u001b[0m",
      "\u001b[0;31mTypeError\u001b[0m: 'tuple' object does not support item assignment"
     ]
    }
   ],
   "source": [
    "# Создаем кортеж и перечисляем его элементы\n",
    "shopping_tuple = ('хлеб', 'молоко', 'сметана', 'сыр', 'молоко')\n",
    "shopping_tuple[2] = 'кефир'"
   ]
  },
  {
   "cell_type": "markdown",
   "metadata": {
    "id": "cr395YmyFpBl"
   },
   "source": [
    "Строка — тоже неизменяемый тип данных. Заменить символ по индексу не выйдет."
   ]
  },
  {
   "cell_type": "code",
   "execution_count": null,
   "metadata": {
    "colab": {
     "base_uri": "https://localhost:8080/",
     "height": 183
    },
    "executionInfo": {
     "elapsed": 677,
     "status": "error",
     "timestamp": 1601644318694,
     "user": {
      "displayName": "Tatiana Rogovich",
      "photoUrl": "https://lh3.googleusercontent.com/a-/AOh14Gjj1YqMwkiGsMOcK4XoZPpJp6kCbYZ6EqgvdL3EXA=s64",
      "userId": "08185984249235601298"
     },
     "user_tz": -180
    },
    "id": "FwQcW0oYFpBl",
    "outputId": "af92e4e0-f452-421c-a6ba-8be838dbbab4"
   },
   "outputs": [
    {
     "ename": "TypeError",
     "evalue": "ignored",
     "output_type": "error",
     "traceback": [
      "\u001b[0;31m---------------------------------------------------------------------------\u001b[0m",
      "\u001b[0;31mTypeError\u001b[0m                                 Traceback (most recent call last)",
      "\u001b[0;32m<ipython-input-9-6cb8e5385c77>\u001b[0m in \u001b[0;36m<module>\u001b[0;34m()\u001b[0m\n\u001b[1;32m      1\u001b[0m \u001b[0ms\u001b[0m \u001b[0;34m=\u001b[0m \u001b[0;34m'черный хлеб'\u001b[0m\u001b[0;34m\u001b[0m\u001b[0;34m\u001b[0m\u001b[0m\n\u001b[0;32m----> 2\u001b[0;31m \u001b[0ms\u001b[0m\u001b[0;34m[\u001b[0m\u001b[0;36m0\u001b[0m\u001b[0;34m]\u001b[0m \u001b[0;34m=\u001b[0m \u001b[0;34m'Ч'\u001b[0m        \u001b[0;31m# хотим поменять \"ч\" на \"Ч\"\u001b[0m\u001b[0;34m\u001b[0m\u001b[0;34m\u001b[0m\u001b[0m\n\u001b[0m",
      "\u001b[0;31mTypeError\u001b[0m: 'str' object does not support item assignment"
     ]
    }
   ],
   "source": [
    "s = 'черный хлеб'\n",
    "s[0] = 'Ч'        # Хотим поменять \"ч\" на \"Ч\""
   ]
  },
  {
   "cell_type": "markdown",
   "metadata": {
    "id": "WTZ6mQc5FpBp"
   },
   "source": [
    "Если у нас есть кортеж, в котором надо изменить элемент — мы всегда можем сделать из него список и изменить его. При этом важно понимать, что новый кортеж не изменится, а будет перезаписан в памяти компьютера.\n",
    "\n",
    "Функция `list()` превратит наш кортеж в список, а функция `tuple()` — список в кортеж. Логика похожа на то, как мы превращали строку `2` в целое число с помощью функции `int()`.\n",
    "\n",
    "Позже мы увидим, что эти функции работают и с другими типами данных."
   ]
  },
  {
   "cell_type": "code",
   "execution_count": null,
   "metadata": {
    "colab": {
     "base_uri": "https://localhost:8080/",
     "height": 34
    },
    "executionInfo": {
     "elapsed": 625,
     "status": "ok",
     "timestamp": 1601644430095,
     "user": {
      "displayName": "Tatiana Rogovich",
      "photoUrl": "https://lh3.googleusercontent.com/a-/AOh14Gjj1YqMwkiGsMOcK4XoZPpJp6kCbYZ6EqgvdL3EXA=s64",
      "userId": "08185984249235601298"
     },
     "user_tz": -180
    },
    "id": "n2hShLzjFpBp",
    "outputId": "8af6be6f-3d83-4e81-b46d-a5b2be3de82f"
   },
   "outputs": [
    {
     "name": "stdout",
     "output_type": "stream",
     "text": [
      "('батон', 'молоко', 'сметана', 'сыр', 'молоко')\n"
     ]
    }
   ],
   "source": [
    "# Исходный кортеж.\n",
    "shopping_tuple = ('хлеб', 'молоко', 'сметана', 'сыр', 'молоко')\n",
    "\n",
    "shopping_list = list(shopping_tuple)    # Создаем список из кортежа\n",
    "shopping_list[0] = 'батон'              # Редактируем первый элемент списка\n",
    "\n",
    "shopping_tuple = tuple(shopping_list)   # Создаем новый кортеж из списка \n",
    "                                        # С отредактированным первым элементом\n",
    "print(shopping_tuple)\n"
   ]
  },
  {
   "cell_type": "markdown",
   "metadata": {
    "id": "P6DydUw9Xg_e"
   },
   "source": [
    "Подытожим. \n",
    "Мы ввели новое понятие: ***упорядоченный тип данных*** или ***последовательность***. \n",
    "\n",
    "В Python последовательностями являются ***списки***, ***кортежи*** и ***строки*** (`list`, `tuple`, `str`).\n",
    "\n",
    "Типы данных бывают ***изменяемые*** и ***неизменяемые***. И всех известных нам типов данных пока только ***список*** является ***изменяемым*** типом данных.\n"
   ]
  }
 ],
 "metadata": {
  "colab": {
   "collapsed_sections": [],
   "name": "3.5.2 Введение в упорядоченные типы данных-2.ipynb",
   "provenance": [
    {
     "file_id": "1YHAPO6_q6yieDX3Y3eQvxKuXRiLBHnOH",
     "timestamp": 1601830380481
    }
   ]
  },
  "kernelspec": {
   "display_name": "Python 3 (ipykernel)",
   "language": "python",
   "name": "python3"
  },
  "language_info": {
   "codemirror_mode": {
    "name": "ipython",
    "version": 3
   },
   "file_extension": ".py",
   "mimetype": "text/x-python",
   "name": "python",
   "nbconvert_exporter": "python",
   "pygments_lexer": "ipython3",
   "version": "3.9.7"
  }
 },
 "nbformat": 4,
 "nbformat_minor": 4
}
