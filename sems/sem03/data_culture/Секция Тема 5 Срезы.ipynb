{
 "cells": [
  {
   "cell_type": "markdown",
   "metadata": {
    "id": "zpANbiVWg4JI"
   },
   "source": [
    "# Срезы с тремя параметрами\n",
    "\n",
    "<div class=\"alert alert-info alertinfo\">\n",
    "\n",
    "<b><span style=\"color: black; font-style: italic\">Если вы нашли опечатку или другую проблему в этом материале, пожалуйста, расскажите нам об этом на <a href=\"https://edu.hse.ru/mod/forum/discuss.php?d=22869\" style=\"color: blue; font-style: italic\">форуме курса</a>. Спасибо, что помогаете нам стать лучше!</span></b>\n",
    "\n",
    "</div>\n",
    "\n",
    "Кроме того, что мы можем обратиться к части строки, мы можем ещё и обратиться к символам не подряд. Например, выведем каждую вторую букву алфавита:"
   ]
  },
  {
   "cell_type": "code",
   "execution_count": null,
   "metadata": {
    "colab": {
     "base_uri": "https://localhost:8080/",
     "height": 35
    },
    "executionInfo": {
     "elapsed": 1324,
     "status": "ok",
     "timestamp": 1600253609856,
     "user": {
      "displayName": "Дмитрий Широков",
      "photoUrl": "https://lh3.googleusercontent.com/a-/AOh14Gj5ZAs-5dMegnzmhLzTxoLXJmKnF6n7i3ZxETt9Vw=s64",
      "userId": "13642431705883450455"
     },
     "user_tz": -180
    },
    "id": "LPOBa811gyZZ",
    "outputId": "fd84b613-2318-4903-aed1-917eb5d3cc83"
   },
   "outputs": [
    {
     "name": "stdout",
     "output_type": "stream",
     "text": [
      "АВДЁЗЙЛНПСУХЧЩЫЭЯ\n"
     ]
    }
   ],
   "source": [
    "alphabet = 'АБВГДЕЁЖЗИЙКЛМНОПРСТУФХЦЧШЩЪЫЬЭЮЯ'\n",
    "\n",
    "# Начнём с первой буквы и остановимся на 33-й, будем брать каждую вторую букву\n",
    "print(alphabet[0:33:2]) "
   ]
  },
  {
   "cell_type": "markdown",
   "metadata": {
    "id": "LdcmDotvjFb_"
   },
   "source": [
    "В прошлом примере мы попросили компьютер взять каждую **вторую** букву алфавита, пройдя алфавит от начала и до конца. Мы могли бы опустить границы строки, оставив *длину шага*:"
   ]
  },
  {
   "cell_type": "code",
   "execution_count": null,
   "metadata": {
    "colab": {
     "base_uri": "https://localhost:8080/",
     "height": 35
    },
    "executionInfo": {
     "elapsed": 1380,
     "status": "ok",
     "timestamp": 1600253692289,
     "user": {
      "displayName": "Дмитрий Широков",
      "photoUrl": "https://lh3.googleusercontent.com/a-/AOh14Gj5ZAs-5dMegnzmhLzTxoLXJmKnF6n7i3ZxETt9Vw=s64",
      "userId": "13642431705883450455"
     },
     "user_tz": -180
    },
    "id": "etDSlAZLjR0a",
    "outputId": "851677fc-0bda-4385-8588-12192ea79dcf"
   },
   "outputs": [
    {
     "name": "stdout",
     "output_type": "stream",
     "text": [
      "АВДЁЗЙЛНПСУХЧЩЫЭЯ\n"
     ]
    }
   ],
   "source": [
    "print(alphabet[::2]) # Если появилась ошибка NameError — выполните предыдущую ячейку перед этой"
   ]
  },
  {
   "cell_type": "markdown",
   "metadata": {
    "id": "Wavx-pRAjaLh"
   },
   "source": [
    "Благодаря последнему аргументу мы можем управлять порядком чтения букв в строке. Например, можем попросить компьютер вывести алфавит в обратном порядке:"
   ]
  },
  {
   "cell_type": "code",
   "execution_count": null,
   "metadata": {
    "colab": {
     "base_uri": "https://localhost:8080/",
     "height": 35
    },
    "executionInfo": {
     "elapsed": 781,
     "status": "ok",
     "timestamp": 1600253747853,
     "user": {
      "displayName": "Дмитрий Широков",
      "photoUrl": "https://lh3.googleusercontent.com/a-/AOh14Gj5ZAs-5dMegnzmhLzTxoLXJmKnF6n7i3ZxETt9Vw=s64",
      "userId": "13642431705883450455"
     },
     "user_tz": -180
    },
    "id": "Xyny9N43jiF3",
    "outputId": "e3239501-4d28-4371-df7e-17878e919b1e"
   },
   "outputs": [
    {
     "name": "stdout",
     "output_type": "stream",
     "text": [
      "ЯЮЭЬЫЪЩШЧЦХФУТСРПОНМЛКЙИЗЖЁЕДГВБА\n"
     ]
    }
   ],
   "source": [
    "print(alphabet[::-1])"
   ]
  },
  {
   "cell_type": "markdown",
   "metadata": {
    "id": "7jDBmQUUjt6c"
   },
   "source": [
    "Можем попросить вывести каждую вторую букву из первых 10 букв алфавита в обратном порядке:"
   ]
  },
  {
   "cell_type": "code",
   "execution_count": null,
   "metadata": {
    "colab": {
     "base_uri": "https://localhost:8080/",
     "height": 35
    },
    "executionInfo": {
     "elapsed": 730,
     "status": "ok",
     "timestamp": 1600253845226,
     "user": {
      "displayName": "Дмитрий Широков",
      "photoUrl": "https://lh3.googleusercontent.com/a-/AOh14Gj5ZAs-5dMegnzmhLzTxoLXJmKnF6n7i3ZxETt9Vw=s64",
      "userId": "13642431705883450455"
     },
     "user_tz": -180
    },
    "id": "6xGOgkxDj0lw",
    "outputId": "67955c5f-0799-44a9-eb99-c367bc00fdc6"
   },
   "outputs": [
    {
     "name": "stdout",
     "output_type": "stream",
     "text": [
      "ИЖЕГБ\n"
     ]
    }
   ],
   "source": [
    "# Начинаем с 10-й буквы (компьютер всё считает с 0), заканчиваем на 0-й букве, \n",
    "# берём каждую вторую букву, идя назад\n",
    "print(alphabet[9::-2]) "
   ]
  },
  {
   "cell_type": "markdown",
   "metadata": {
    "id": "wrqEJ7YPksH6"
   },
   "source": [
    "Мы сможем применить срезы непосредственно внутри цикла for:"
   ]
  },
  {
   "cell_type": "code",
   "execution_count": null,
   "metadata": {
    "colab": {
     "base_uri": "https://localhost:8080/",
     "height": 143
    },
    "executionInfo": {
     "elapsed": 737,
     "status": "ok",
     "timestamp": 1600254301977,
     "user": {
      "displayName": "Дмитрий Широков",
      "photoUrl": "https://lh3.googleusercontent.com/a-/AOh14Gj5ZAs-5dMegnzmhLzTxoLXJmKnF6n7i3ZxETt9Vw=s64",
      "userId": "13642431705883450455"
     },
     "user_tz": -180
    },
    "id": "-qHxKG-_kzPP",
    "outputId": "3ddb2a15-0463-46ff-baec-007a3bbd0279"
   },
   "outputs": [
    {
     "name": "stdout",
     "output_type": "stream",
     "text": [
      "Дима\n",
      "Миша\n",
      "\n",
      "Алёна\n",
      "Миша\n",
      "Дима\n",
      "Аня\n"
     ]
    }
   ],
   "source": [
    "students = ('Аня', 'Дима', 'Миша', 'Алёна')\n",
    "\n",
    "for name in students[1:3]:  # В этом цикле работай только со вторым и третьим именем\n",
    "    print(name)\n",
    "print()\n",
    "\n",
    "for name in students[::-1]: # В этом цикле выведи имена в обратном порядке\n",
    "    print(name)"
   ]
  },
  {
   "cell_type": "markdown",
   "metadata": {
    "id": "yznmFGaYman4"
   },
   "source": [
    "Мощь языка Python в том, что один и тот же результат можно получить разными методами. Например, тот же результат можно получить циклом `for i in range()`, который мы изучали на прошлой неделе:"
   ]
  },
  {
   "cell_type": "code",
   "execution_count": null,
   "metadata": {
    "colab": {
     "base_uri": "https://localhost:8080/",
     "height": 143
    },
    "executionInfo": {
     "elapsed": 843,
     "status": "ok",
     "timestamp": 1600254695393,
     "user": {
      "displayName": "Дмитрий Широков",
      "photoUrl": "https://lh3.googleusercontent.com/a-/AOh14Gj5ZAs-5dMegnzmhLzTxoLXJmKnF6n7i3ZxETt9Vw=s64",
      "userId": "13642431705883450455"
     },
     "user_tz": -180
    },
    "id": "wo4MAtkpm61o",
    "outputId": "9c4d66d4-aa23-4d94-9ed1-3d9865f25240"
   },
   "outputs": [
    {
     "name": "stdout",
     "output_type": "stream",
     "text": [
      "Дима\n",
      "Миша\n",
      "\n",
      "Алёна\n",
      "Миша\n",
      "Дима\n",
      "Аня\n"
     ]
    }
   ],
   "source": [
    "students = ('Аня', 'Дима', 'Миша', 'Алёна')\n",
    "\n",
    "for i in range(1,3):      # В этом цикле работай только со вторым и третьим именем\n",
    "    print(students[i])\n",
    "print()\n",
    "\n",
    "for i in range(3,-1,-1):  # В этом цикле выведи имена в обратном порядке\n",
    "    print(students[i])"
   ]
  },
  {
   "cell_type": "markdown",
   "metadata": {
    "id": "ThXo7DQwoc70"
   },
   "source": [
    "Срезы можно применять и для работы с `map()`. Например, мы можем каждое второе имя написать большими буквами, и вывести кортеж из изменённых имён:"
   ]
  },
  {
   "cell_type": "code",
   "execution_count": null,
   "metadata": {
    "colab": {
     "base_uri": "https://localhost:8080/",
     "height": 53
    },
    "executionInfo": {
     "elapsed": 702,
     "status": "ok",
     "timestamp": 1600255308091,
     "user": {
      "displayName": "Дмитрий Широков",
      "photoUrl": "https://lh3.googleusercontent.com/a-/AOh14Gj5ZAs-5dMegnzmhLzTxoLXJmKnF6n7i3ZxETt9Vw=s64",
      "userId": "13642431705883450455"
     },
     "user_tz": -180
    },
    "id": "ewlgLAeOoqOP",
    "outputId": "1bcbcf0e-9534-4e31-e74e-859c8a49bea1"
   },
   "outputs": [
    {
     "name": "stdout",
     "output_type": "stream",
     "text": [
      "Исходный кортеж: ('Аня', 'Дима', 'Миша', 'Алёна', 'Катя', 'Таня')\n",
      "Изменённый кортеж: ('АНЯ', 'МИША', 'КАТЯ')\n"
     ]
    }
   ],
   "source": [
    "students = ('Аня', 'Дима', 'Миша', 'Алёна', 'Катя', 'Таня')\n",
    "\n",
    "# Так как students и STUDENTS написано разными буквами, компьютер будет считать это разными\n",
    "# кортежами (никогда так не делайте!)\n",
    "STUDENTS = tuple(map(str.upper, students[::2]))  \n",
    "                                                 \n",
    "print(f'Исходный кортеж: {students}')\n",
    "print(f'Изменённый кортеж: {STUDENTS}')"
   ]
  },
  {
   "cell_type": "markdown",
   "metadata": {
    "id": "bdRH3zWCHFPk"
   },
   "source": [
    "## Пример\n",
    "Попробуем применить полученные в этой теме знания для работы с текстами.\n",
    "\n",
    "Примерно 400 лет назад Фрэнсис Бэкон придумал, как можно тайно писать сообщения в обычных текстах:\n",
    "\n",
    "\n",
    "1.   все буквы, стоящие на нечётных местах в алфавите, заменить на букву A (из слова *knife* получится *AnAfA*);\n",
    "2.   все буквы, стоящие на чётных местах в алфавите, заменить на букву B (из слова *AnAfA* получится *ABABA*);\n",
    "3. заменить 5 идущих подряд символов из букв A и B по таблице (из слова *ABABA* получится буква *K*, которая и была зашифрована).\n",
    "\n",
    "<table>\n",
    "\n",
    "<tbody><tr>\n",
    "<td>a</td>\n",
    "<td>AAAAA</td>\n",
    "<td>g</td>\n",
    "<td>AABBA</td>\n",
    "<td>m</td>\n",
    "<td>ABBAA</td>\n",
    "<td>s</td>\n",
    "<td>BAABA</td>\n",
    "<td>y</td>\n",
    "<td>BBAAA\n",
    "</td></tr>\n",
    "<tr>\n",
    "<td>b</td>\n",
    "<td>AAAAB</td>\n",
    "<td>h</td>\n",
    "<td>AABBB</td>\n",
    "<td>n</td>\n",
    "<td>ABBAB</td>\n",
    "<td>t</td>\n",
    "<td>BAABB</td>\n",
    "<td>z</td>\n",
    "<td>BBAAB\n",
    "</td></tr>\n",
    "<tr>\n",
    "<td>c</td>\n",
    "<td>AAABA</td>\n",
    "<td>i</td>\n",
    "<td>ABAAA</td>\n",
    "<td>o</td>\n",
    "<td>ABBBA</td>\n",
    "<td>u</td>\n",
    "<td>BABAA</td>\n",
    "<td></td>\n",
    "<td>\n",
    "</td></tr>\n",
    "<tr>\n",
    "<td>d</td>\n",
    "<td>AAABB</td>\n",
    "<td>j</td>\n",
    "<td>ABAAB</td>\n",
    "<td>p</td>\n",
    "<td>ABBBB</td>\n",
    "<td>v</td>\n",
    "<td>BABAB</td>\n",
    "<td></td>\n",
    "<td>\n",
    "</td></tr>\n",
    "<tr>\n",
    "<td>e</td>\n",
    "<td>AABAA</td>\n",
    "<td>k</td>\n",
    "<td>ABABA</td>\n",
    "<td>q</td>\n",
    "<td>BAAAA</td>\n",
    "<td>w</td>\n",
    "<td>BABBA</td>\n",
    "<td></td>\n",
    "<td>\n",
    "</td></tr>\n",
    "<tr>\n",
    "<td>f</td>\n",
    "<td>AABAB</td>\n",
    "<td>l</td>\n",
    "<td>ABABB</td>\n",
    "<td>r</td>\n",
    "<td>BAAAB</td>\n",
    "<td>x</td>\n",
    "<td>BABBB</td>\n",
    "<td></td>\n",
    "<td>\n",
    "</td></tr></tbody></table>\n",
    "\n"
   ]
  },
  {
   "cell_type": "markdown",
   "metadata": {
    "id": "LD3McbYFLP86"
   },
   "source": [
    "Нам попалась строчка, закодированная [шифром Бэкона](https://ru.wikipedia.org/wiki/Шифр_Бэкона#Способ_4): IRAIK'WBHCQ EAFBHMWGASSTTTNYDRHNDPOAO.\n",
    "\n",
    "Попробуем её расшифровать.\n",
    "\n",
    "Для начала, узнаем список букв на чётных и нечётных позициях в алфавите:"
   ]
  },
  {
   "cell_type": "code",
   "execution_count": 2,
   "metadata": {
    "colab": {
     "base_uri": "https://localhost:8080/",
     "height": 51
    },
    "executionInfo": {
     "elapsed": 1076,
     "status": "ok",
     "timestamp": 1601839475624,
     "user": {
      "displayName": "Tatiana Rogovich",
      "photoUrl": "https://lh3.googleusercontent.com/a-/AOh14Gjj1YqMwkiGsMOcK4XoZPpJp6kCbYZ6EqgvdL3EXA=s64",
      "userId": "08185984249235601298"
     },
     "user_tz": -180
    },
    "id": "X46oGvCML4LF",
    "outputId": "7033ea8e-0087-462b-f330-e1df9fc166e4"
   },
   "outputs": [
    {
     "name": "stdout",
     "output_type": "stream",
     "text": [
      "Буквы алфавита на нечётных позициях (A-буквы): ACEGIKMOQSUWY\n",
      "Буквы алфавита на чётных позициях (B-буквы): BDFHJLNPRTVXZ\n"
     ]
    }
   ],
   "source": [
    "alphabet = 'abcdefghijklmnopqrstuvwxyz'\n",
    "\n",
    "# Извлечём каждую вторую букву, начиная с первой и получим строчку из букв на нечётных позициях\n",
    "a_alph = alphabet[::2].upper()   \n",
    "                    \n",
    "# Извлечём каждую вторую букву, начиная с первой и получим строчку из букв на чётных позициях\n",
    "b_alph = alphabet[1::2].upper()  \n",
    "\n",
    "print(f'Буквы алфавита на нечётных позициях (A-буквы): {a_alph}')\n",
    "print(f'Буквы алфавита на чётных позициях (B-буквы): {b_alph}')"
   ]
  },
  {
   "cell_type": "markdown",
   "metadata": {
    "id": "deOGVj3SMwZw"
   },
   "source": [
    "Теперь напишем программу, которая заменит все буквы на их эквивалент из шифра Бэкона: на A или B:"
   ]
  },
  {
   "cell_type": "code",
   "execution_count": 7,
   "metadata": {
    "colab": {
     "base_uri": "https://localhost:8080/",
     "height": 51
    },
    "executionInfo": {
     "elapsed": 3421,
     "status": "ok",
     "timestamp": 1601839635112,
     "user": {
      "displayName": "Tatiana Rogovich",
      "photoUrl": "https://lh3.googleusercontent.com/a-/AOh14Gjj1YqMwkiGsMOcK4XoZPpJp6kCbYZ6EqgvdL3EXA=s64",
      "userId": "08185984249235601298"
     },
     "user_tz": -180
    },
    "id": "2lnfFrflM3SK",
    "outputId": "51e28d8d-1633-44de-cfb1-1cc572d9330a"
   },
   "outputs": [
    {
     "name": "stdout",
     "output_type": "stream",
     "text": [
      "Укажите зашифрованную строку: IRAIK'WBHCQ EAFBHMWGASSTTTNYDRHNDPOAO\n",
      "Промежуточная строка: ABAAA'ABBAA AABBBAAAAAABBBBABBBBBBAAA\n"
     ]
    }
   ],
   "source": [
    "to_decrypt = input('Укажите зашифрованную строку: ')\n",
    "\n",
    "# Заведём пустую строчку, внутри которой будем наращивать промежуточную строчку из букв A и B\n",
    "ab_string = ''            \n",
    "                        \n",
    "for sym in to_decrypt:\n",
    "    if sym in a_alph:\n",
    "        ab_string += 'A'\n",
    "    elif sym in b_alph:\n",
    "        ab_string += 'B'\n",
    "    else:                 # знаки препинания просто перенесём в промежуточную строчку\n",
    "        ab_string += sym\n",
    "print(f'Промежуточная строка: {ab_string}')"
   ]
  },
  {
   "cell_type": "markdown",
   "metadata": {
    "id": "iyNzcKEsOo0b"
   },
   "source": [
    "Посмотрим на промежуточную строчку:\n",
    "ABAAA'ABBAA AABBBAAAAAABBBBABBBBBBAAA.\n",
    "Она состоит из знаков препинания, пробелов, апострофов (их будет нужно без расшифровки перенести в строчку расшифрованного текста и букв i, m, h, a, p, y.\n",
    "\n",
    "Напишем программу, которая будет расшировывать строку ``ab_string``:\n"
   ]
  },
  {
   "cell_type": "code",
   "execution_count": 8,
   "metadata": {
    "colab": {
     "base_uri": "https://localhost:8080/",
     "height": 275
    },
    "executionInfo": {
     "elapsed": 954,
     "status": "ok",
     "timestamp": 1601839638019,
     "user": {
      "displayName": "Tatiana Rogovich",
      "photoUrl": "https://lh3.googleusercontent.com/a-/AOh14Gjj1YqMwkiGsMOcK4XoZPpJp6kCbYZ6EqgvdL3EXA=s64",
      "userId": "08185984249235601298"
     },
     "user_tz": -180
    },
    "id": "vxzI4ngCUa4y",
    "outputId": "613554df-6529-486f-d92b-c19c7f2fde89"
   },
   "outputs": [
    {
     "name": "stdout",
     "output_type": "stream",
     "text": [
      "Раскодируем букву с кодом \"ABAAA\"!\n",
      "Осталось расшифровать строку 'ABBAA AABBBAAAAAABBBBABBBBBBAAA!\n",
      "Раскодируем букву с кодом \"ABBAA\"!\n",
      "Осталось расшифровать строку  AABBBAAAAAABBBBABBBBBBAAA!\n",
      "Раскодируем букву с кодом \"AABBB\"!\n",
      "Осталось расшифровать строку AAAAAABBBBABBBBBBAAA!\n",
      "Раскодируем букву с кодом \"AAAAA\"!\n",
      "Осталось расшифровать строку ABBBBABBBBBBAAA!\n",
      "Раскодируем букву с кодом \"ABBBB\"!\n",
      "Осталось расшифровать строку ABBBBBBAAA!\n",
      "Раскодируем букву с кодом \"ABBBB\"!\n",
      "Осталось расшифровать строку BBAAA!\n",
      "Раскодируем букву с кодом \"BBAAA\"!\n",
      "Осталось расшифровать строку !\n",
      "Расшифрованный текст: \"i'm happy\".\n"
     ]
    }
   ],
   "source": [
    "decrypted = ''                    # Заведём пустую строчку, куда будем наращивать расшифрованный текст\n",
    "\n",
    "while ab_string:                  # Пока внутри ab_string что-то осталось\n",
    "    \n",
    "    if ab_string[0] in 'AB':      # Если сейчас строка начинается с A или B, то мы \n",
    "                                  # можем расшифровать букву по 5 первым символам строки ab_string\n",
    "        code = ab_string[:5]\n",
    "        print(f'Раскодируем букву с кодом \"{code}\"!')\n",
    "        if code == 'ABAAA':       # Если это код для буквы i\n",
    "            decrypted += 'i'\n",
    "        elif code == 'ABBAA':     # Если это код для буквы m\n",
    "            decrypted += 'm'\n",
    "        elif code == 'AABBB':     # Если это код для буквы h\n",
    "            decrypted += 'h'\n",
    "        elif code == 'AAAAA':     # Если это код для буквы a\n",
    "            decrypted += 'a'\n",
    "        elif code == 'ABBBB':     # Если это код для буквы p\n",
    "            decrypted += 'p'\n",
    "        elif code == 'BBAAA':     # Если это код для буквы y\n",
    "            decrypted += 'y'\n",
    "        \n",
    "        # Теперь мы можем удалить из строки ab_string первые 5 символов\n",
    "        ab_string = ab_string[5:]\n",
    "        print(f'Осталось расшифровать строку {ab_string}!')\n",
    "    \n",
    "    else:                           # Если это знак препинания или пробел, то\n",
    "        decrypted += ab_string[0]   # добавим его к расшифрованной строке\n",
    "        ab_string = ab_string[1:]   # и удалим первый символ из строки ab_string\n",
    "\n",
    "print(f'Расшифрованный текст: \"{decrypted}\".')"
   ]
  }
 ],
 "metadata": {
  "colab": {
   "collapsed_sections": [],
   "name": "4.6.6 Срезы с тремя аргументами.ipynb",
   "provenance": []
  },
  "kernelspec": {
   "display_name": "Python 3 (ipykernel)",
   "language": "python",
   "name": "python3"
  },
  "language_info": {
   "codemirror_mode": {
    "name": "ipython",
    "version": 3
   },
   "file_extension": ".py",
   "mimetype": "text/x-python",
   "name": "python",
   "nbconvert_exporter": "python",
   "pygments_lexer": "ipython3",
   "version": "3.9.7"
  }
 },
 "nbformat": 4,
 "nbformat_minor": 4
}
