{
 "cells": [
  {
   "cell_type": "markdown",
   "metadata": {
    "id": "zC0ykTJG-Ytx"
   },
   "source": [
    "# Методы работы со списками\n",
    "\n",
    "<div class=\"alert alert-info alertinfo\">\n",
    "\n",
    "<b><span style=\"color: black; font-style: italic\">Если вы нашли опечатку или другую проблему в этом материале, пожалуйста, расскажите нам об этом на <a href=\"https://edu.hse.ru/mod/forum/discuss.php?d=22869\" style=\"color: blue; font-style: italic\">форуме курса</a>. Спасибо, что помогаете нам стать лучше!</span></b>\n",
    "\n",
    "</div>"
   ]
  },
  {
   "cell_type": "markdown",
   "metadata": {
    "id": "AiW0d9zB-Yt0"
   },
   "source": [
    "Кроме строк, методы — специальные команды — есть и у списков. Как и в случае строк, методы списков пишутся через точку после списка. В отличие от методов строк, методы списков изменяют *сам список*, а не создают новый."
   ]
  },
  {
   "cell_type": "markdown",
   "metadata": {
    "id": "FvaHmqM2-Yt1"
   },
   "source": [
    "## Метод списков ``.append()``\n",
    "\n",
    "Данный метод позволяет добавлять в список новый элемент:"
   ]
  },
  {
   "cell_type": "code",
   "execution_count": null,
   "metadata": {
    "colab": {
     "base_uri": "https://localhost:8080/",
     "height": 53
    },
    "executionInfo": {
     "elapsed": 1806,
     "status": "ok",
     "timestamp": 1600503321319,
     "user": {
      "displayName": "Дмитрий Широков",
      "photoUrl": "https://lh3.googleusercontent.com/a-/AOh14Gj5ZAs-5dMegnzmhLzTxoLXJmKnF6n7i3ZxETt9Vw=s64",
      "userId": "13642431705883450455"
     },
     "user_tz": -180
    },
    "id": "2NzZccOmbYsK",
    "outputId": "93728ed3-f40a-4d7d-ce5a-2c4deda8daa7"
   },
   "outputs": [
    {
     "name": "stdout",
     "output_type": "stream",
     "text": [
      "молоко\n",
      "молоко, хлеб\n"
     ]
    }
   ],
   "source": [
    "shopping_list = ['молоко']\n",
    "print(*shopping_list)           # Посмотрим на список до работы метода .append()\n",
    "\n",
    "shopping_list.append('хлеб')    # Добавим в него новый элемент\n",
    "print(*shopping_list, sep=', ') # Посмотрим на обновлённый список "
   ]
  },
  {
   "cell_type": "code",
   "execution_count": 3,
   "metadata": {},
   "outputs": [
    {
     "name": "stdout",
     "output_type": "stream",
     "text": [
      "1, 2, 3, 4\n"
     ]
    }
   ],
   "source": [
    "numbers = [1,2,3,4]\n",
    "print(*numbers, sep=', ')"
   ]
  },
  {
   "cell_type": "markdown",
   "metadata": {
    "id": "JAU20TeUbqkg"
   },
   "source": [
    "Метод `.append()` можно применять и в цикле:"
   ]
  },
  {
   "cell_type": "code",
   "execution_count": null,
   "metadata": {
    "colab": {
     "base_uri": "https://localhost:8080/",
     "height": 89
    },
    "executionInfo": {
     "elapsed": 10934,
     "status": "ok",
     "timestamp": 1600503467058,
     "user": {
      "displayName": "Дмитрий Широков",
      "photoUrl": "https://lh3.googleusercontent.com/a-/AOh14Gj5ZAs-5dMegnzmhLzTxoLXJmKnF6n7i3ZxETt9Vw=s64",
      "userId": "13642431705883450455"
     },
     "user_tz": -180
    },
    "id": "EgZYbKmd-Yt2",
    "outputId": "90e88279-fdbf-4172-eec7-92ba35384333"
   },
   "outputs": [
    {
     "name": "stdout",
     "output_type": "stream",
     "text": [
      "Введите 1 покупку: хлеб\n",
      "Введите 2 покупку: молоко\n",
      "Введите 3 покупку: кефир\n",
      "хлеб, молоко, кефир\n"
     ]
    }
   ],
   "source": [
    "shopping_list = []      # Задаем пустой список, в котором будем хранить список покупок\n",
    "\n",
    "for i in range(3):                                          # 3 раза добавим в список новый элемент —\n",
    "    shopping_list.append(input(f'Введите {i+1} покупку: ')) # запрашиваем и добавляем элемент в список\n",
    "    \n",
    "print(*shopping_list, sep=', ')                             # Посмотрим на созданный и заполненный список "
   ]
  },
  {
   "cell_type": "markdown",
   "metadata": {
    "id": "7M7Qu3FF-Yt7"
   },
   "source": [
    "Итак, мы заполнили наш список покупок, применив для этого метод списков `.append()`. \n",
    "\n",
    "Такое заполнение списка с клавиатуры — очень удобная и важная конструкция, которой мы ещё не раз будем пользоваться в блокнотах и которую рекомендуем вам использовать при решении задач."
   ]
  },
  {
   "cell_type": "markdown",
   "metadata": {
    "id": "4Dvt1o8X-Yt8"
   },
   "source": [
    "## Метод списков ``.count()``\n",
    "\n",
    "Данный метод позволяет узнать количество элементов списка с заданным значением:"
   ]
  },
  {
   "cell_type": "code",
   "execution_count": 4,
   "metadata": {
    "colab": {
     "base_uri": "https://localhost:8080/",
     "height": 35
    },
    "executionInfo": {
     "elapsed": 1434,
     "status": "ok",
     "timestamp": 1600504052858,
     "user": {
      "displayName": "Дмитрий Широков",
      "photoUrl": "https://lh3.googleusercontent.com/a-/AOh14Gj5ZAs-5dMegnzmhLzTxoLXJmKnF6n7i3ZxETt9Vw=s64",
      "userId": "13642431705883450455"
     },
     "user_tz": -180
    },
    "id": "cEA62cCHeRTH",
    "outputId": "efe0cde3-927c-4c45-88f5-5a74bb893b77"
   },
   "outputs": [
    {
     "name": "stdout",
     "output_type": "stream",
     "text": [
      "Молоко встречается 2 раза.\n"
     ]
    }
   ],
   "source": [
    "shopping_list = ['молоко', 'молоко', 'хлеб']\n",
    "print(f'Молоко встречается {shopping_list.count(\"молоко\")} раза.')"
   ]
  },
  {
   "cell_type": "markdown",
   "metadata": {
    "id": "wjPoyk_zlFDP"
   },
   "source": [
    "Очень похоже на работу метода строк `.count()`, где метод `.count()` позволяет посчитать количество вхождений последовательности символов в строку:"
   ]
  },
  {
   "cell_type": "code",
   "execution_count": null,
   "metadata": {
    "colab": {
     "base_uri": "https://localhost:8080/",
     "height": 35
    },
    "executionInfo": {
     "elapsed": 1057,
     "status": "ok",
     "timestamp": 1600506051188,
     "user": {
      "displayName": "Дмитрий Широков",
      "photoUrl": "https://lh3.googleusercontent.com/a-/AOh14Gj5ZAs-5dMegnzmhLzTxoLXJmKnF6n7i3ZxETt9Vw=s64",
      "userId": "13642431705883450455"
     },
     "user_tz": -180
    },
    "id": "2u6Ywks9lNps",
    "outputId": "7bed2979-1ed4-4ee5-ee43-ab7d8d6c91b5"
   },
   "outputs": [
    {
     "name": "stdout",
     "output_type": "stream",
     "text": [
      "В строке \"Hello, Dolly (1969) — фильм-мюзикл, который смотрит робот WALL-E.\" две подряд буквы l встречаются 2 раза.\n"
     ]
    }
   ],
   "source": [
    "s = 'Hello, Dolly (1969) — фильм-мюзикл, который смотрит робот WALL-E.'\n",
    "print(f'В строке \"{s}\" две подряд буквы l встречаются {s.count(\"ll\")} раза.')"
   ]
  },
  {
   "cell_type": "markdown",
   "metadata": {
    "id": "3j9pk2QofR4a"
   },
   "source": [
    "Мы можем использовать метод списков `.count()` и в более интерактивном примере: будем заполнять список покупок, пока пользователь не введёт слово \"конец\" вместо очередной покупки."
   ]
  },
  {
   "cell_type": "code",
   "execution_count": null,
   "metadata": {
    "colab": {
     "base_uri": "https://localhost:8080/",
     "height": 125
    },
    "executionInfo": {
     "elapsed": 12512,
     "status": "ok",
     "timestamp": 1600505472750,
     "user": {
      "displayName": "Дмитрий Широков",
      "photoUrl": "https://lh3.googleusercontent.com/a-/AOh14Gj5ZAs-5dMegnzmhLzTxoLXJmKnF6n7i3ZxETt9Vw=s64",
      "userId": "13642431705883450455"
     },
     "user_tz": -180
    },
    "id": "b54texYr-Yt8",
    "outputId": "8e45873d-1b51-4457-9ec8-aa2f8fa5473b"
   },
   "outputs": [
    {
     "name": "stdout",
     "output_type": "stream",
     "text": [
      "Что добавить в список покупок? молоко\n",
      "Что добавить в список покупок? молоко\n",
      "Что добавить в список покупок? хлеб\n",
      "Что добавить в список покупок? конец\n",
      "Наличие какой вещи проверить в списке покупок? молоко\n",
      "молоко было добавлено в список 2 раза\n"
     ]
    }
   ],
   "source": [
    "shopping_list = []  # Создадим пустой список покупок\n",
    "while True:\n",
    "    thing = input('Что добавить в список покупок? ')\n",
    "    if thing == 'конец':        # Если человек написал слово \"конец\", то\n",
    "        break                   # закончим заполнять список покупок\n",
    "    shopping_list.append(thing)\n",
    "thing = input('Наличие какой вещи проверить в списке покупок? ')\n",
    "print(f'{thing} было добавлено в список {shopping_list.count(thing)} раза.')"
   ]
  },
  {
   "cell_type": "markdown",
   "metadata": {
    "id": "9REqJrDpTZtO"
   },
   "source": [
    "С помощью метода списков `.count()` можно ещё усовершенствовать наш пример: чтобы при добавлении второго молока он уточнял, действительно ли мы хотим его добавить:"
   ]
  },
  {
   "cell_type": "code",
   "execution_count": null,
   "metadata": {
    "colab": {
     "base_uri": "https://localhost:8080/",
     "height": 161
    },
    "executionInfo": {
     "elapsed": 22239,
     "status": "ok",
     "timestamp": 1600534964072,
     "user": {
      "displayName": "Дмитрий Широков",
      "photoUrl": "https://lh3.googleusercontent.com/a-/AOh14Gj5ZAs-5dMegnzmhLzTxoLXJmKnF6n7i3ZxETt9Vw=s64",
      "userId": "13642431705883450455"
     },
     "user_tz": -180
    },
    "id": "Qz4r_nEiToO6",
    "outputId": "fad41333-8b0d-4b08-f4be-cb8cc79b52b7"
   },
   "outputs": [
    {
     "name": "stdout",
     "output_type": "stream",
     "text": [
      "Что добавить в список покупок? молоко\n",
      "Что добавить в список покупок? молоко\n",
      "молоко уже добавлено в список 1 раз,\n",
      "Добавить ещё раз? (Да/Нет) Да\n",
      "Что добавить в список покупок? хлеб\n",
      "Что добавить в список покупок? конец\n",
      "Наличие какой вещи проверить в списке покупок? молоко\n",
      "молоко было добавлено в список 2 раза\n"
     ]
    }
   ],
   "source": [
    "shopping_list = []  # Создадим пустой список покупок\n",
    "while True:\n",
    "    thing = input('Что добавить в список покупок? ')\n",
    "    \n",
    "    if thing == 'конец':    # Если человек написал слово \"конец\", то\n",
    "        break               # закончим заполнять список покупок\n",
    "    \n",
    "    if shopping_list.count(thing) > 0:\n",
    "        print(f'{thing} уже добавлено в список {shopping_list.count(thing)} раз,')\n",
    "        if input('Добавить ещё раз? (Да/Нет) ') == 'Да':\n",
    "            shopping_list.append(thing)\n",
    "    else:\n",
    "        shopping_list.append(thing)\n",
    "\n",
    "thing = input('Наличие какой вещи проверить в списке покупок? ')\n",
    "print(f'{thing} было добавлено в список {shopping_list.count(thing)} раза.')"
   ]
  },
  {
   "cell_type": "markdown",
   "metadata": {
    "id": "T9rLRuZtkE0y"
   },
   "source": [
    "## Метод списков ``.remove()``\n",
    "Мы можем не только добавить элемент, но и удалить, если мы знаем его номер.\n",
    "Удалим из списка покупок хлеб:"
   ]
  },
  {
   "cell_type": "code",
   "execution_count": null,
   "metadata": {
    "colab": {
     "base_uri": "https://localhost:8080/",
     "height": 53
    },
    "executionInfo": {
     "elapsed": 1080,
     "status": "ok",
     "timestamp": 1600506695685,
     "user": {
      "displayName": "Дмитрий Широков",
      "photoUrl": "https://lh3.googleusercontent.com/a-/AOh14Gj5ZAs-5dMegnzmhLzTxoLXJmKnF6n7i3ZxETt9Vw=s64",
      "userId": "13642431705883450455"
     },
     "user_tz": -180
    },
    "id": "1JA9IoNokP-V",
    "outputId": "a001cfbc-aefb-468b-dff4-74257a7551b8"
   },
   "outputs": [
    {
     "name": "stdout",
     "output_type": "stream",
     "text": [
      "молоко, хлеб, молоко, кефир\n",
      "молоко, молоко, кефир\n"
     ]
    }
   ],
   "source": [
    "shopping_list = ['молоко', 'хлеб', 'молоко', 'кефир']\n",
    "print(*shopping_list, sep=', ')     # Посмотрим на полный список\n",
    "\n",
    "shopping_list.remove('хлеб')\n",
    "print(*shopping_list, sep=', ')     # Посмотрим на список без хлеба"
   ]
  },
  {
   "cell_type": "markdown",
   "metadata": {
    "id": "vSLBTzickp5Y"
   },
   "source": [
    "Метод remove удаляет первый элемент, совпадающий с указанным. Например, если у нас в списке покупок молоко будет встречаться два раза, метод `.remove()` удалит только первое:"
   ]
  },
  {
   "cell_type": "code",
   "execution_count": null,
   "metadata": {
    "colab": {
     "base_uri": "https://localhost:8080/",
     "height": 53
    },
    "executionInfo": {
     "elapsed": 1143,
     "status": "ok",
     "timestamp": 1600505754731,
     "user": {
      "displayName": "Дмитрий Широков",
      "photoUrl": "https://lh3.googleusercontent.com/a-/AOh14Gj5ZAs-5dMegnzmhLzTxoLXJmKnF6n7i3ZxETt9Vw=s64",
      "userId": "13642431705883450455"
     },
     "user_tz": -180
    },
    "id": "snJt9aTek0pm",
    "outputId": "e2a287b3-81a6-4580-9bd8-8af0e35792d3"
   },
   "outputs": [
    {
     "name": "stdout",
     "output_type": "stream",
     "text": [
      "молоко, хлеб, молоко, кефир\n",
      "хлеб, молоко, кефир\n"
     ]
    }
   ],
   "source": [
    "shopping_list = ['молоко', 'хлеб', 'молоко', 'кефир']\n",
    "print(*shopping_list, sep=', ')     # Посмотрим на полный список\n",
    "\n",
    "shopping_list.remove('молоко')\n",
    "print(*shopping_list, sep=', ')     # Посмотрим на список без первого молока"
   ]
  },
  {
   "cell_type": "markdown",
   "metadata": {
    "id": "JemqzyuVojNp"
   },
   "source": [
    "## Метод списков ``.index()``\n",
    "Иногда нам нужно узнать индекс элемента. Мы можем попробовать узнать его, пройдя по всем элементам списка в цикле `for i in range()` и остановившись, как только мы найдём искомый элемент:"
   ]
  },
  {
   "cell_type": "code",
   "execution_count": null,
   "metadata": {
    "colab": {
     "base_uri": "https://localhost:8080/",
     "height": 35
    },
    "executionInfo": {
     "elapsed": 1096,
     "status": "ok",
     "timestamp": 1600507196316,
     "user": {
      "displayName": "Дмитрий Широков",
      "photoUrl": "https://lh3.googleusercontent.com/a-/AOh14Gj5ZAs-5dMegnzmhLzTxoLXJmKnF6n7i3ZxETt9Vw=s64",
      "userId": "13642431705883450455"
     },
     "user_tz": -180
    },
    "id": "VHZ2tK45p3aj",
    "outputId": "31591152-53c1-43c4-cd8e-27ae8b12f67e"
   },
   "outputs": [
    {
     "name": "stdout",
     "output_type": "stream",
     "text": [
      "хлеб находится под индексом 1\n"
     ]
    }
   ],
   "source": [
    "shopping_list = ['молоко', 'хлеб', 'молоко', 'кефир']\n",
    "\n",
    "for i in range(len(shopping_list)):\n",
    "    if shopping_list[i] == 'хлеб':  # Если мы нашли хлеб, то\n",
    "        break                       # остановим цикл, и в переменной i будет \n",
    "                                    # лежать индекс хлеба в списке покупок\n",
    "\n",
    "print(f'хлеб находится под индексом {i}')"
   ]
  },
  {
   "cell_type": "markdown",
   "metadata": {
    "id": "PZK-KlAzqcVg"
   },
   "source": [
    "Но проще воспользоваться методом списков `.index()`:"
   ]
  },
  {
   "cell_type": "code",
   "execution_count": null,
   "metadata": {
    "colab": {
     "base_uri": "https://localhost:8080/",
     "height": 35
    },
    "executionInfo": {
     "elapsed": 1161,
     "status": "ok",
     "timestamp": 1600507392058,
     "user": {
      "displayName": "Дмитрий Широков",
      "photoUrl": "https://lh3.googleusercontent.com/a-/AOh14Gj5ZAs-5dMegnzmhLzTxoLXJmKnF6n7i3ZxETt9Vw=s64",
      "userId": "13642431705883450455"
     },
     "user_tz": -180
    },
    "id": "2nN8CVCNqgn9",
    "outputId": "bae3d917-4b9f-4972-944a-be01abd15c90"
   },
   "outputs": [
    {
     "name": "stdout",
     "output_type": "stream",
     "text": [
      "Хлеб находится под индексом 1\n"
     ]
    }
   ],
   "source": [
    "shopping_list = ['молоко', 'хлеб', 'молоко', 'кефир']\n",
    "print(f'Хлеб находится под индексом {shopping_list.index(\"хлеб\")}')"
   ]
  },
  {
   "cell_type": "markdown",
   "metadata": {
    "id": "5R57YjGrq-Pa"
   },
   "source": [
    "Однако, если мы попробуем узнать индекс элемента, которого в нашем списке нет, возникнет ошибка:"
   ]
  },
  {
   "cell_type": "code",
   "execution_count": null,
   "metadata": {
    "colab": {
     "base_uri": "https://localhost:8080/",
     "height": 188
    },
    "executionInfo": {
     "elapsed": 1274,
     "status": "error",
     "timestamp": 1600507393228,
     "user": {
      "displayName": "Дмитрий Широков",
      "photoUrl": "https://lh3.googleusercontent.com/a-/AOh14Gj5ZAs-5dMegnzmhLzTxoLXJmKnF6n7i3ZxETt9Vw=s64",
      "userId": "13642431705883450455"
     },
     "user_tz": -180
    },
    "id": "TkyVkHp7q_fP",
    "outputId": "8d8e3350-b1f7-4afe-eb2c-06b6b040b653"
   },
   "outputs": [
    {
     "ename": "ValueError",
     "evalue": "ignored",
     "output_type": "error",
     "traceback": [
      "\u001b[0;31m---------------------------------------------------------------------------\u001b[0m",
      "\u001b[0;31mValueError\u001b[0m                                Traceback (most recent call last)",
      "\u001b[0;32m<ipython-input-24-eb47d666517a>\u001b[0m in \u001b[0;36m<module>\u001b[0;34m()\u001b[0m\n\u001b[1;32m      1\u001b[0m \u001b[0mshopping_list\u001b[0m \u001b[0;34m=\u001b[0m \u001b[0;34m[\u001b[0m\u001b[0;34m'молоко'\u001b[0m\u001b[0;34m,\u001b[0m \u001b[0;34m'хлеб'\u001b[0m\u001b[0;34m,\u001b[0m \u001b[0;34m'молоко'\u001b[0m\u001b[0;34m,\u001b[0m \u001b[0;34m'кефир'\u001b[0m\u001b[0;34m]\u001b[0m\u001b[0;34m\u001b[0m\u001b[0;34m\u001b[0m\u001b[0m\n\u001b[0;32m----> 2\u001b[0;31m \u001b[0mprint\u001b[0m\u001b[0;34m(\u001b[0m\u001b[0;34mf'Сметана находится под индексом {shopping_list.index(\"сметана\")}'\u001b[0m\u001b[0;34m)\u001b[0m\u001b[0;34m\u001b[0m\u001b[0;34m\u001b[0m\u001b[0m\n\u001b[0m",
      "\u001b[0;31mValueError\u001b[0m: 'сметана' is not in list"
     ]
    }
   ],
   "source": [
    "shopping_list = ['молоко', 'хлеб', 'молоко', 'кефир']\n",
    "print(f'Сметана находится под индексом {shopping_list.index(\"сметана\")}')"
   ]
  },
  {
   "cell_type": "markdown",
   "metadata": {
    "id": "W61Md6FprMmh"
   },
   "source": [
    "Перед попыткой найти индекс элемента с помощью метода списков `.index()`, нужно проверить, что такой элемент в списке вообще есть:"
   ]
  },
  {
   "cell_type": "code",
   "execution_count": null,
   "metadata": {
    "colab": {
     "base_uri": "https://localhost:8080/",
     "height": 35
    },
    "executionInfo": {
     "elapsed": 1031,
     "status": "ok",
     "timestamp": 1600507467461,
     "user": {
      "displayName": "Дмитрий Широков",
      "photoUrl": "https://lh3.googleusercontent.com/a-/AOh14Gj5ZAs-5dMegnzmhLzTxoLXJmKnF6n7i3ZxETt9Vw=s64",
      "userId": "13642431705883450455"
     },
     "user_tz": -180
    },
    "id": "Hv86VVPQrWZr",
    "outputId": "b5265383-0666-41e3-9907-1ec448a7372b"
   },
   "outputs": [
    {
     "name": "stdout",
     "output_type": "stream",
     "text": [
      "Сметаны в списке нет!\n"
     ]
    }
   ],
   "source": [
    "shopping_list = ['молоко', 'хлеб', 'молоко', 'кефир']\n",
    "if 'сметана' in shopping_list:\n",
    "    print(f'Сметана находится под индексом {shopping_list.index(\"сметана\")}')\n",
    "else:\n",
    "    print('Сметаны в списке нет!')"
   ]
  },
  {
   "cell_type": "markdown",
   "metadata": {
    "id": "QU4jbsZjjSpd"
   },
   "source": [
    "Соответственно и задачу замены элемента по его значению, которую мы в прошлый раз решали через перебор всех элементов списка, можно решить с помощью метода `.index()`."
   ]
  },
  {
   "cell_type": "code",
   "execution_count": null,
   "metadata": {
    "colab": {
     "base_uri": "https://localhost:8080/",
     "height": 69
    },
    "executionInfo": {
     "elapsed": 4929,
     "status": "ok",
     "timestamp": 1601160010839,
     "user": {
      "displayName": "Tatiana Rogovich",
      "photoUrl": "https://lh3.googleusercontent.com/a-/AOh14Gjj1YqMwkiGsMOcK4XoZPpJp6kCbYZ6EqgvdL3EXA=s64",
      "userId": "08185984249235601298"
     },
     "user_tz": -180
    },
    "id": "c4tUxgmijSF1",
    "outputId": "59c46c7c-646f-4aa6-8e75-5cd669dddab2"
   },
   "outputs": [
    {
     "name": "stdout",
     "output_type": "stream",
     "text": [
      "Что отредактировать? молоко\n",
      "На что хотите заменить? сливки\n",
      "Список покупок: сливки хлеб молоко кефир\n"
     ]
    }
   ],
   "source": [
    "shopping_list = ['молоко', 'хлеб', 'молоко', 'кефир']\n",
    "\n",
    "thing = input('Что отредактировать? ')\n",
    "new_thing = input('На что хотите заменить? ')\n",
    "\n",
    "if thing in shopping_list:                   # Проверяем, что элемент, который хотим заменить, есть в списке,\n",
    "    thing_index = shopping_list.index(thing) # и находим его индекс;\n",
    "    shopping_list[thing_index] = new_thing   # присваиваем этому индексу новый элемент\n",
    "else:\n",
    "    print(f'{thing} в списке нет!')          # пишем, что такого элемента нет\n",
    "    \n",
    "print('Список покупок:', *shopping_list)     # Печатаем список покупок\n",
    "\n"
   ]
  },
  {
   "cell_type": "markdown",
   "metadata": {
    "id": "-gvA7xoy6b9S"
   },
   "source": [
    "## Сумма элементов списка и кортежа\n",
    "Кроме методов, со списками умеют работать ещё и некоторые функции. Например, функция `sum()` позволяет посчитать сумму элементов списка или кортежа, если эти списки и кортежи состоят только из чисел:"
   ]
  },
  {
   "cell_type": "code",
   "execution_count": 5,
   "metadata": {},
   "outputs": [
    {
     "ename": "TypeError",
     "evalue": "unsupported operand type(s) for +: 'int' and 'str'",
     "output_type": "error",
     "traceback": [
      "\u001b[0;31m---------------------------------------------------------------------------\u001b[0m",
      "\u001b[0;31mTypeError\u001b[0m                                 Traceback (most recent call last)",
      "Cell \u001b[0;32mIn[5], line 1\u001b[0m\n\u001b[0;32m----> 1\u001b[0m \u001b[38;5;28;43msum\u001b[39;49m\u001b[43m(\u001b[49m\u001b[43m[\u001b[49m\u001b[38;5;241;43m1\u001b[39;49m\u001b[43m,\u001b[49m\u001b[38;5;241;43m2\u001b[39;49m\u001b[43m,\u001b[49m\u001b[38;5;124;43m\"\u001b[39;49m\u001b[38;5;124;43mnumber\u001b[39;49m\u001b[38;5;124;43m\"\u001b[39;49m\u001b[43m]\u001b[49m\u001b[43m)\u001b[49m\n",
      "\u001b[0;31mTypeError\u001b[0m: unsupported operand type(s) for +: 'int' and 'str'"
     ]
    }
   ],
   "source": [
    "sum([1,2,\"number\"])"
   ]
  },
  {
   "cell_type": "code",
   "execution_count": null,
   "metadata": {
    "colab": {
     "base_uri": "https://localhost:8080/",
     "height": 53
    },
    "executionInfo": {
     "elapsed": 1107,
     "status": "ok",
     "timestamp": 1600511505384,
     "user": {
      "displayName": "Дмитрий Широков",
      "photoUrl": "https://lh3.googleusercontent.com/a-/AOh14Gj5ZAs-5dMegnzmhLzTxoLXJmKnF6n7i3ZxETt9Vw=s64",
      "userId": "13642431705883450455"
     },
     "user_tz": -180
    },
    "id": "jRAqwvt66pBI",
    "outputId": "65e4caf0-3c7e-4e4e-eb9d-a5279c2c2dd2"
   },
   "outputs": [
    {
     "name": "stdout",
     "output_type": "stream",
     "text": [
      "6\n",
      "10.5\n"
     ]
    }
   ],
   "source": [
    "print(sum([1,2,3]))     # Попросим посчитать и вывести сумму чисел в списке\n",
    "print(sum((3.5,3,4)))   # Попросим посчитать и вывести сумму чисел в кортеже"
   ]
  },
  {
   "cell_type": "markdown",
   "metadata": {
    "id": "UA2tfn8NSmvL"
   },
   "source": [
    "Со списками (и кортежами) из чисел ещё работают функции `min()` и `max()`, позволяющие найти минимальное и максимальное число в указанном списке (кортеже):"
   ]
  },
  {
   "cell_type": "code",
   "execution_count": 1,
   "metadata": {
    "colab": {
     "base_uri": "https://localhost:8080/",
     "height": 53
    },
    "executionInfo": {
     "elapsed": 771,
     "status": "ok",
     "timestamp": 1600534616664,
     "user": {
      "displayName": "Дмитрий Широков",
      "photoUrl": "https://lh3.googleusercontent.com/a-/AOh14Gj5ZAs-5dMegnzmhLzTxoLXJmKnF6n7i3ZxETt9Vw=s64",
      "userId": "13642431705883450455"
     },
     "user_tz": -180
    },
    "id": "YkynR46_S1me",
    "outputId": "72662da3-8551-4fe4-bd10-7171ce4271eb"
   },
   "outputs": [
    {
     "name": "stdout",
     "output_type": "stream",
     "text": [
      "Из чисел списка [4, -9, 12] самое маленькое: -9\n",
      "Из чисел списка [4, -9, 12] самое большое: 12\n"
     ]
    }
   ],
   "source": [
    "numbers = [4,-9,12]\n",
    "print(f'Из чисел списка {numbers} самое маленькое: {min(numbers)}')\n",
    "print(f'Из чисел списка {numbers} самое большое: {max(numbers)}')"
   ]
  },
  {
   "cell_type": "markdown",
   "metadata": {
    "id": "o_Vb-QKBwldz"
   },
   "source": [
    "Кстати, `min()` и `max()` работают и для строк — они могут найти самый маленький и самый большой, по мнению компьютера, символ строки:"
   ]
  },
  {
   "cell_type": "code",
   "execution_count": null,
   "metadata": {
    "colab": {
     "base_uri": "https://localhost:8080/",
     "height": 35
    },
    "executionInfo": {
     "elapsed": 1058,
     "status": "ok",
     "timestamp": 1601231851732,
     "user": {
      "displayName": "Дмитрий Широков",
      "photoUrl": "https://lh3.googleusercontent.com/a-/AOh14Gj5ZAs-5dMegnzmhLzTxoLXJmKnF6n7i3ZxETt9Vw=s64",
      "userId": "13642431705883450455"
     },
     "user_tz": -180
    },
    "id": "uUWe0wT8wrsp",
    "outputId": "fdc274df-effb-42cd-fccc-6a48c763f1f7"
   },
   "outputs": [
    {
     "name": "stdout",
     "output_type": "stream",
     "text": [
      "Минимальный символ в строке abz112358: 1, максимальный: z.\n"
     ]
    }
   ],
   "source": [
    "s = 'abz112358'\n",
    "print(f'Минимальный символ в строке {s}: {min(s)}, максимальный: {max(s)}.')"
   ]
  },
  {
   "cell_type": "markdown",
   "metadata": {
    "id": "dOU-cRgm2dBO"
   },
   "source": [
    "Подробней о том, почему z больше 1, мы поговорим в теме \"Сортировки\"."
   ]
  },
  {
   "cell_type": "markdown",
   "metadata": {
    "id": "nhQyfEIL-YuG"
   },
   "source": [
    "## Метод строк ``.join()``"
   ]
  },
  {
   "cell_type": "markdown",
   "metadata": {
    "id": "8n3rfnW0-YuG"
   },
   "source": [
    "Метод строк `.join()` позволяет сформировать строку из элементов списка, если все элементы списка — строки.\n",
    "\n",
    "Например, превратим список покупок в строку, где элементы будут перечислены через запятую:"
   ]
  },
  {
   "cell_type": "code",
   "execution_count": 9,
   "metadata": {
    "colab": {
     "base_uri": "https://localhost:8080/",
     "height": 35
    },
    "executionInfo": {
     "elapsed": 948,
     "status": "ok",
     "timestamp": 1600508425309,
     "user": {
      "displayName": "Дмитрий Широков",
      "photoUrl": "https://lh3.googleusercontent.com/a-/AOh14Gj5ZAs-5dMegnzmhLzTxoLXJmKnF6n7i3ZxETt9Vw=s64",
      "userId": "13642431705883450455"
     },
     "user_tz": -180
    },
    "id": "4uwNN9hW-YuH",
    "outputId": "b8d72e3c-f8de-4abf-ca40-d03efb5631b4"
   },
   "outputs": [
    {
     "name": "stdout",
     "output_type": "stream",
     "text": [
      "молоко, хлеб, молоко, кефир\n"
     ]
    }
   ],
   "source": [
    "shopping_list = ['молоко', 'хлеб', 'молоко', 'кефир']\n",
    "\n",
    "s = ', '.join(shopping_list)    # Объедини все элементы shopping_list, использовав\n",
    "                                # в качестве разделителя запятую и пробел\n",
    "print(f'Нужно купить: {s}.')"
   ]
  },
  {
   "cell_type": "code",
   "execution_count": 7,
   "metadata": {},
   "outputs": [
    {
     "name": "stdout",
     "output_type": "stream",
     "text": [
      "молоко, хлеб, молоко, кефир\n"
     ]
    }
   ],
   "source": [
    "print(*shopping_list, sep=\", \")"
   ]
  },
  {
   "cell_type": "markdown",
   "metadata": {
    "id": "rMtLd1YgvKyh"
   },
   "source": [
    "Тот же результат можно получить и без промежуточной переменной s:"
   ]
  },
  {
   "cell_type": "code",
   "execution_count": null,
   "metadata": {
    "colab": {
     "base_uri": "https://localhost:8080/",
     "height": 35
    },
    "executionInfo": {
     "elapsed": 992,
     "status": "ok",
     "timestamp": 1600508536617,
     "user": {
      "displayName": "Дмитрий Широков",
      "photoUrl": "https://lh3.googleusercontent.com/a-/AOh14Gj5ZAs-5dMegnzmhLzTxoLXJmKnF6n7i3ZxETt9Vw=s64",
      "userId": "13642431705883450455"
     },
     "user_tz": -180
    },
    "id": "h6UcZ2h--YuS",
    "outputId": "d1dcf0a7-a4a8-4f8b-80f1-c1874042374c"
   },
   "outputs": [
    {
     "name": "stdout",
     "output_type": "stream",
     "text": [
      "Нужно купить: молоко, хлеб, молоко, кефир.\n"
     ]
    }
   ],
   "source": [
    "shopping_list = ['молоко', 'хлеб', 'молоко', 'кефир']\n",
    "print(f'Нужно купить: {\", \".join(shopping_list)}.')"
   ]
  },
  {
   "cell_type": "markdown",
   "metadata": {
    "id": "mdjjQSNYSUIN"
   },
   "source": [
    "Если вдруг в списке будут не только строки, компьютер укажет ошибку:"
   ]
  },
  {
   "cell_type": "code",
   "execution_count": 10,
   "metadata": {
    "colab": {
     "base_uri": "https://localhost:8080/",
     "height": 170
    },
    "executionInfo": {
     "elapsed": 1330,
     "status": "error",
     "timestamp": 1600534470934,
     "user": {
      "displayName": "Дмитрий Широков",
      "photoUrl": "https://lh3.googleusercontent.com/a-/AOh14Gj5ZAs-5dMegnzmhLzTxoLXJmKnF6n7i3ZxETt9Vw=s64",
      "userId": "13642431705883450455"
     },
     "user_tz": -180
    },
    "id": "KXQMzwY_SX7G",
    "outputId": "b28ce7f9-a3ab-476e-cd90-f5097f30587a"
   },
   "outputs": [
    {
     "data": {
      "text/plain": [
       "'Привет,  5'"
      ]
     },
     "execution_count": 10,
     "metadata": {},
     "output_type": "execute_result"
    }
   ],
   "source": [
    "',  '.join(['Привет', str(5)])"
   ]
  },
  {
   "cell_type": "markdown",
   "metadata": {
    "id": "h8J7Jfkp2l6o"
   },
   "source": [
    "## Пример\n",
    "Воспользуемся этими методами.\n",
    "\n",
    "Напишем программу, которая будет покупать продукты по списку и в нужном количестве. \n",
    "\n",
    "Для хранения информации о покупке (количество, цены, названия) мы будем использовать три отдельных списка, где элементы с одинаковыми номерами будут относиться к одному и тому же товару.\n",
    "\n",
    "Чтобы \"купить товары\" мы:\n",
    "1. пройдём по списку покупок:\n",
    "    2. проверим, покупали ли мы уже такой товар, и если покупали:\n",
    "        1. увеличим количество купленного товара с этим индексом на единицу\n",
    "    3. если ещё покупали такой товар:\n",
    "        1. узнаем его цену\n",
    "        2. добавим эту цену в список цен\n",
    "        3. добавим число 1 в список количеств купленного товара\n",
    "        4. добавим название товара в список купленных товаров.\n",
    "        \n",
    "Чтобы \"напечатать чек\":\n",
    "1. заведём переменную, в которой будем считать общую стоимость заказа\n",
    "2. пройдём по списку всех купленных товаров:\n",
    "    1. напечатаем строчку о покупке товара\n",
    "    2. увеличим переменную с общей стоимостью на стоимость покупки товара\n",
    "3. выведем общую стоимость."
   ]
  },
  {
   "cell_type": "code",
   "execution_count": null,
   "metadata": {
    "colab": {
     "base_uri": "https://localhost:8080/",
     "height": 233
    },
    "executionInfo": {
     "elapsed": 9014,
     "status": "ok",
     "timestamp": 1600514460637,
     "user": {
      "displayName": "Дмитрий Широков",
      "photoUrl": "https://lh3.googleusercontent.com/a-/AOh14Gj5ZAs-5dMegnzmhLzTxoLXJmKnF6n7i3ZxETt9Vw=s64",
      "userId": "13642431705883450455"
     },
     "user_tz": -180
    },
    "id": "iHiFc2-j24CW",
    "outputId": "80144f7c-63ad-4b7e-8d8b-a42434887538"
   },
   "outputs": [
    {
     "name": "stdout",
     "output_type": "stream",
     "text": [
      "Вы покупаете продукты по списку: молоко, хлеб, молоко, кефир.\n",
      "Сколько стоит единица товара \"молоко\" в рублях? 86\n",
      "Сколько стоит единица товара \"хлеб\" в рублях? 28\n",
      "Сколько стоит единица товара \"кефир\" в рублях? 97\n",
      "\n",
      "\"Продукты 24\"\n",
      "Касса №1\n",
      "молоко — 2x86 руб.\n",
      "хлеб — 1x28 руб.\n",
      "кефир — 1x97 руб.\n",
      "Итого: 297 рублей за 4 вещи.\n",
      "Спасибо за покупку!\n"
     ]
    }
   ],
   "source": [
    "shopping_list = ['молоко', 'хлеб', 'молоко', 'кефир']\n",
    "print(f'Вы покупаете продукты по списку: {\", \".join(shopping_list)}.')\n",
    "\n",
    "# Создадим пустые списки для хранения данных чека:\n",
    "amounts = []    # количество каждого купленного товара\n",
    "prices = []     # цена каждого товара\n",
    "bought = []     # название каждого уже купленного товара\n",
    "\n",
    "for thing in shopping_list:\n",
    "    if thing in bought:         # Если мы уже купили такой товар, то\n",
    "        i = bought.index(thing) # узнаем индекс купленного товара\n",
    "        amounts[i] += 1         # увеличим количество купленного товара на единицу\n",
    "    \n",
    "    else:                       # Если ещё не покупали такой товар, то\n",
    "        bought.append(thing)    # добавим название товара в список \"уже купленных\"\n",
    "        amounts.append(1)       # укажем, что пока мы купили только 1 штуку\n",
    "        prices.append(int(input(f'Сколько стоит единица товара \"{thing}\" в рублях? ')))\n",
    "                                # узнаем цену на товар и впишем её в список цен\n",
    "\n",
    "\n",
    "\n",
    "# Напечатаем чек:\n",
    "total = 0                           # В самом начале \"общая стоимость покупки\" равна 0\n",
    "print('\\n\"Продукты 24\"\\nКасса №1')  # Напечатаем название магазина и номер кассы\n",
    "\n",
    "for i in range(len(bought)):\n",
    "    print(f'{bought[i]} — {amounts[i]}x{prices[i]} руб.')\n",
    "    total += amounts[i] * prices[i] # Добавим к \"общей стоимости\" цену единицы товара,\n",
    "                                    # Умноженную на количество купленного товара\n",
    "\n",
    "print(f'Итого: {total} рублей за {sum(amounts)} вещи.')\n",
    "print('Спасибо за покупку!')"
   ]
  },
  {
   "cell_type": "markdown",
   "metadata": {
    "id": "E7pr_F0jdTuA"
   },
   "source": [
    "## Повторим изученные команды\n"
   ]
  },
  {
   "cell_type": "markdown",
   "metadata": {
    "id": "GWDwN9oBP5z3"
   },
   "source": [
    "Функции, работающие со списками и кортежами чисел:\n",
    "* функция `sum()` посчитает сумму чисел в списке;\n",
    "* функции `min()` и `max()` находят минимальное и максимальное число в списке."
   ]
  },
  {
   "cell_type": "code",
   "execution_count": null,
   "metadata": {
    "colab": {
     "base_uri": "https://localhost:8080/",
     "height": 143
    },
    "executionInfo": {
     "elapsed": 1847,
     "status": "ok",
     "timestamp": 1601196807432,
     "user": {
      "displayName": "Дмитрий Широков",
      "photoUrl": "https://lh3.googleusercontent.com/a-/AOh14Gj5ZAs-5dMegnzmhLzTxoLXJmKnF6n7i3ZxETt9Vw=s64",
      "userId": "13642431705883450455"
     },
     "user_tz": -180
    },
    "id": "ay9MqXABBK8p",
    "outputId": "2f016194-e3ac-4814-f5d1-1b9175683af0"
   },
   "outputs": [
    {
     "name": "stdout",
     "output_type": "stream",
     "text": [
      "Минимум списка [5, 7, 30]: 5\n",
      "Максимум списка [5, 7, 30]: 30\n",
      "Сумма списка [5, 7, 30]: 42\n",
      "Минимум кортежа (5, 7, 30): 5\n",
      "Максимум кортежа (5, 7, 30): 30\n",
      "Сумма кортежа (5, 7, 30): 42\n",
      "Минимальная цифра в строке 112358: 1, максимальная: 8.\n"
     ]
    }
   ],
   "source": [
    "numbers = [5,7,30]\n",
    "print(f'Минимум списка {numbers}: {min(numbers)}')\n",
    "print(f'Максимум списка {numbers}: {max(numbers)}')\n",
    "print(f'Сумма списка {numbers}: {sum(numbers)}')\n",
    "\n",
    "numbers = (5,7,30)\n",
    "print(f'Минимум кортежа {numbers}: {min(numbers)}')\n",
    "print(f'Максимум кортежа {numbers}: {max(numbers)}')\n",
    "print(f'Сумма кортежа {numbers}: {sum(numbers)}')\n",
    "\n",
    "s = '112358'\n",
    "print(f'Минимальная цифра в строке {s}: {min(s)}, максимальная: {max(s)}')"
   ]
  },
  {
   "cell_type": "markdown",
   "metadata": {
    "id": "yH-VBmBgQV-Z"
   },
   "source": [
    "Метод строк `.join()` создаёт из списка строк новую строку. Строка, к которой был применён метод, станет разделителем между элементами: `'.'.join([1,2,3])` создаст строку `'1.2.3'`."
   ]
  },
  {
   "cell_type": "code",
   "execution_count": null,
   "metadata": {
    "colab": {
     "base_uri": "https://localhost:8080/",
     "height": 35
    },
    "executionInfo": {
     "elapsed": 651,
     "status": "ok",
     "timestamp": 1600547419954,
     "user": {
      "displayName": "Дмитрий Широков",
      "photoUrl": "https://lh3.googleusercontent.com/a-/AOh14Gj5ZAs-5dMegnzmhLzTxoLXJmKnF6n7i3ZxETt9Vw=s64",
      "userId": "13642431705883450455"
     },
     "user_tz": -180
    },
    "id": "i-2poEpDCXGU",
    "outputId": "236503a0-3dc4-4a9b-cbba-f33968160c87"
   },
   "outputs": [
    {
     "name": "stdout",
     "output_type": "stream",
     "text": [
      "Применение метода .join(\", \") к списку ['Привет', 'мир!'] выдаст: Привет, мир!\n"
     ]
    }
   ],
   "source": [
    "parts = ['Привет', 'мир!']\n",
    "print(f'Применение метода .join(\", \") к списку {parts} выдаст: {\", \".join(parts)}')"
   ]
  },
  {
   "cell_type": "markdown",
   "metadata": {
    "id": "YgCdHR2JQ1mc"
   },
   "source": [
    "Метод списков:\n",
    "* `.append()` добавляет в существующий список новый элемент;\n",
    "* `.remove()` удаляет из существующего списка указанный элемент;\n",
    "* `.count()` подсчитывает, сколько раз указанный элемент входит в список;\n",
    "* `.index()` находит индекс первого элемента, совпадающего с указанным.\n",
    "\n",
    "Методы `.append()` и `.remove()` изменяют исходный список.\n",
    "\n",
    "Методы `.count()` и `.index()` можно применять и к кортежам."
   ]
  },
  {
   "cell_type": "code",
   "execution_count": null,
   "metadata": {
    "colab": {
     "base_uri": "https://localhost:8080/",
     "height": 197
    },
    "executionInfo": {
     "elapsed": 785,
     "status": "ok",
     "timestamp": 1600551177517,
     "user": {
      "displayName": "Дмитрий Широков",
      "photoUrl": "https://lh3.googleusercontent.com/a-/AOh14Gj5ZAs-5dMegnzmhLzTxoLXJmKnF6n7i3ZxETt9Vw=s64",
      "userId": "13642431705883450455"
     },
     "user_tz": -180
    },
    "id": "fs1LBVSoD8Sl",
    "outputId": "b29d8e4e-7db6-438f-c682-1ef418803e14"
   },
   "outputs": [
    {
     "name": "stdout",
     "output_type": "stream",
     "text": [
      "Исходный список: ['молоко', 'хлеб', 'сметана', 'молоко']\n",
      "Список с кефиром: ['молоко', 'хлеб', 'сметана', 'молоко', 'кефир']\n",
      "Список без сметаны: ['молоко', 'хлеб', 'молоко', 'кефир']\n",
      "Молоко встречается 2 раза.\n",
      "Первый раз молоко встречается под индексом 0.\n",
      "Первый раз кефир встречается под индексом 3.\n",
      "\n",
      "Молоко встречается 2 раза.\n",
      "Первый раз молоко встречается под индексом 0.\n",
      "Первый раз кефир встречается под индексом 4.\n"
     ]
    }
   ],
   "source": [
    "shopping_list = ['молоко', 'хлеб', 'сметана', 'молоко']\n",
    "print(f'Исходный список: {shopping_list}')     # Выведем исходный список\n",
    "\n",
    "shopping_list.append('кефир')                  # Добавим в исходный список кефир\n",
    "print(f'Список с кефиром: {shopping_list}')    # Выведем список с кефиром\n",
    "\n",
    "shopping_list.remove('сметана')                # Удалим из списка сметану\n",
    "print(f'Список без сметаны: {shopping_list}')  # Выведем список без сметаны\n",
    "\n",
    "print(f'Молоко встречается {shopping_list.count(\"молоко\")} раза.')\n",
    "print(f'Первый раз молоко встречается под индексом {shopping_list.index(\"молоко\")}.')\n",
    "print(f'Первый раз кефир встречается под индексом {shopping_list.index(\"кефир\")}.')\n",
    "\n",
    "print()\n",
    "shopping_tuple = ('молоко', 'хлеб', 'сметана', 'молоко', 'кефир')\n",
    "print(f'Молоко встречается {shopping_tuple.count(\"молоко\")} раза.')\n",
    "print(f'Первый раз молоко встречается под индексом {shopping_tuple.index(\"молоко\")}.')\n",
    "print(f'Первый раз кефир встречается под индексом {shopping_tuple.index(\"кефир\")}.')"
   ]
  }
 ],
 "metadata": {
  "colab": {
   "collapsed_sections": [],
   "name": "4.6.3 Методы списков.ipynb",
   "provenance": []
  },
  "kernelspec": {
   "display_name": "Python 3 (ipykernel)",
   "language": "python",
   "name": "python3"
  },
  "language_info": {
   "codemirror_mode": {
    "name": "ipython",
    "version": 3
   },
   "file_extension": ".py",
   "mimetype": "text/x-python",
   "name": "python",
   "nbconvert_exporter": "python",
   "pygments_lexer": "ipython3",
   "version": "3.10.8"
  }
 },
 "nbformat": 4,
 "nbformat_minor": 4
}
