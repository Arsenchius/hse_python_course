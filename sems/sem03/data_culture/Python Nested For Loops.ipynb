{
 "cells": [
  {
   "cell_type": "markdown",
   "metadata": {
    "id": "H9pnqSUHKa6v"
   },
   "source": [
    "# Вложенные циклы и информация, хранящаяся сразу в нескольких списках или кортежах\n",
    "<div class=\"alert alert-info alertinfo\">\n",
    "\n",
    "<b><span style=\"color: black; font-style: italic\">Если вы нашли опечатку или другую проблему в этом материале, пожалуйста, расскажите нам об этом на <a href=\"https://edu.hse.ru/mod/forum/discuss.php?d=22868\" style=\"color: blue; font-style: italic\">форуме курса</a>. Спасибо, что помогаете нам стать лучше!</span></b>\n",
    "\n",
    "</div>\n"
   ]
  },
  {
   "cell_type": "markdown",
   "metadata": {
    "id": "bAaLM_hKMcBF"
   },
   "source": [
    "Иногда нам нужно перебрать вещи, которые слишком сложно перебрать за один цикл. Например, если мы хотим вывести кусок таблицы умножения для нескольких чисел (2, 3 и 4). В этом случае мы можем разместить один из циклов внутри другого:\n",
    "* Будем перебирать числа 2, 3 и 4:\n",
    "    * Для каждого из них будем перебирать второй множитель для таблицы умножения от 1 до 9 включительно:\n",
    "        * Для полученных двух чисел выведем результат их перемножения.\n"
   ]
  },
  {
   "cell_type": "code",
   "execution_count": null,
   "metadata": {
    "colab": {
     "base_uri": "https://localhost:8080/",
     "height": 179
    },
    "executionInfo": {
     "elapsed": 962,
     "status": "ok",
     "timestamp": 1601155307586,
     "user": {
      "displayName": "Дмитрий Широков",
      "photoUrl": "https://lh3.googleusercontent.com/a-/AOh14Gj5ZAs-5dMegnzmhLzTxoLXJmKnF6n7i3ZxETt9Vw=s64",
      "userId": "13642431705883450455"
     },
     "user_tz": -180
    },
    "id": "LZ0Q2o_iO9zB",
    "outputId": "37ba5894-64a1-4fcc-c45e-8dd02effb138"
   },
   "outputs": [
    {
     "name": "stdout",
     "output_type": "stream",
     "text": [
      "2*1 = 2\n",
      "2*2 = 4\n",
      "2*3 = 6\n",
      "2*4 = 8\n",
      "2*5 = 10\n",
      "2*6 = 12\n",
      "2*7 = 14\n",
      "2*8 = 16\n",
      "2*9 = 18\n"
     ]
    }
   ],
   "source": [
    "for a in [2,3,4]:\n",
    "    for b in range(1,10):\n",
    "        print(f'{a}*{b} = {a*b}')\n",
    "    break   # Остановим внешний цикл после печати куска таблицы для числа 2"
   ]
  },
  {
   "cell_type": "markdown",
   "metadata": {
    "id": "IRVAPJtMSyGZ"
   },
   "source": [
    "Заметим, что сейчас в переменной a лежало число 2, которое мы умножили на все числа от 1 до 9 (включительно). Если бы мы не остановили программу с помощью ``break``, в переменную a бы попало число 3 и вложенный цикл бы заново пробежал все значения переменной b от 1 до 9 (включительно). А затем то же самое он сделал бы для 4. \n",
    "\n",
    "Построим полную таблицу для чисел 2, 3 и 4:"
   ]
  },
  {
   "cell_type": "code",
   "execution_count": null,
   "metadata": {
    "colab": {
     "base_uri": "https://localhost:8080/",
     "height": 503
    },
    "executionInfo": {
     "elapsed": 1001,
     "status": "ok",
     "timestamp": 1601155459091,
     "user": {
      "displayName": "Дмитрий Широков",
      "photoUrl": "https://lh3.googleusercontent.com/a-/AOh14Gj5ZAs-5dMegnzmhLzTxoLXJmKnF6n7i3ZxETt9Vw=s64",
      "userId": "13642431705883450455"
     },
     "user_tz": -180
    },
    "id": "A2Qj3Z0ATDtf",
    "outputId": "b3d446e8-47f3-4760-8b88-a15fc343d0cc"
   },
   "outputs": [
    {
     "name": "stdout",
     "output_type": "stream",
     "text": [
      "2*1 = 2\n",
      "2*2 = 4\n",
      "2*3 = 6\n",
      "2*4 = 8\n",
      "2*5 = 10\n",
      "2*6 = 12\n",
      "2*7 = 14\n",
      "2*8 = 16\n",
      "2*9 = 18\n",
      "3*1 = 3\n",
      "3*2 = 6\n",
      "3*3 = 9\n",
      "3*4 = 12\n",
      "3*5 = 15\n",
      "3*6 = 18\n",
      "3*7 = 21\n",
      "3*8 = 24\n",
      "3*9 = 27\n",
      "4*1 = 4\n",
      "4*2 = 8\n",
      "4*3 = 12\n",
      "4*4 = 16\n",
      "4*5 = 20\n",
      "4*6 = 24\n",
      "4*7 = 28\n",
      "4*8 = 32\n",
      "4*9 = 36\n"
     ]
    }
   ],
   "source": [
    "for a in [2,3,4]:\n",
    "    for b in range(1,10):\n",
    "        print(f'{a}*{b} = {a*b}')"
   ]
  },
  {
   "cell_type": "markdown",
   "metadata": {
    "id": "q4QXl-UDOX6L"
   },
   "source": [
    "Вложенные циклы ``for`` бывают полезны не только в задачах с числами. Например, если мы хотим, как в самом начале курса, напечатать пригласительные на бал первокурсников, но на этот раз для нескольких студентов сразу.\n",
    "\n",
    "Так как мы не планируем как-либо менять наш перечень студентов, мы можем воспользоваться кортежами:"
   ]
  },
  {
   "cell_type": "code",
   "execution_count": null,
   "metadata": {
    "colab": {
     "base_uri": "https://localhost:8080/",
     "height": 377
    },
    "executionInfo": {
     "elapsed": 17447,
     "status": "ok",
     "timestamp": 1596992495668,
     "user": {
      "displayName": "Дмитрий Широков",
      "photoUrl": "https://lh3.googleusercontent.com/a-/AOh14Gj5ZAs-5dMegnzmhLzTxoLXJmKnF6n7i3ZxETt9Vw=s64",
      "userId": "13642431705883450455"
     },
     "user_tz": -180
    },
    "id": "ljjmHnnbXc2M",
    "outputId": "4333b17e-ea7c-4f04-eea1-6154e6f18eab"
   },
   "outputs": [
    {
     "name": "stdout",
     "output_type": "stream",
     "text": [
      "Где будет бал? Покровка, 11\n",
      "Когда? надцатого мартобря\n",
      "Во сколько? 40:96\n",
      "\n",
      "Привет, Аня!\n",
      "Приглашаем тебя на бал первокурсников, который состоится надцатого мартобря в 40:96 по адресу Покровка, 11.\n",
      "Приходи, будем ждать!\n",
      "\n",
      "Привет, Дима!\n",
      "Приглашаем тебя на бал первокурсников, который состоится надцатого мартобря в 40:96 по адресу Покровка, 11.\n",
      "Приходи, будем ждать!\n",
      "\n",
      "Привет, Алёна!\n",
      "Приглашаем тебя на бал первокурсников, который состоится надцатого мартобря в 40:96 по адресу Покровка, 11.\n",
      "Приходи, будем ждать!\n",
      "\n",
      "Привет, Миша!\n",
      "Приглашаем тебя на бал первокурсников, который состоится надцатого мартобря в 40:96 по адресу Покровка, 11.\n",
      "Приходи, будем ждать!\n",
      "\n"
     ]
    }
   ],
   "source": [
    "# Укажем компьютеру перечень студентов, которым нужно приглашение\n",
    "students = ('Аня', 'Дима', 'Алёна', 'Миша') \n",
    "addr = input('Где будет бал? ')\n",
    "date = input('Когда? ')\n",
    "time = input('Во сколько? ')\n",
    "\n",
    "# Добавим отступ перед первым приглашением во имя красоты\n",
    "print() \n",
    "\n",
    "# Пожалуйста, перебери перечень студентов и, сохранив имя\n",
    "# конкретного  студента в переменной name, сделай следующее:\n",
    "# распечатай оформленное приглашение, после него напечатай дополнительный отступ\n",
    "for name in students:  \n",
    "    print( f'Привет, {name}!\\nПриглашаем тебя на бал первокурсников, который состоится {date} в {time} по адресу {addr}.\\nПриходи, будем ждать!', end='\\n\\n' )"
   ]
  },
  {
   "cell_type": "markdown",
   "metadata": {
    "id": "CxgH2rPJPbWv"
   },
   "source": [
    "Теперь мы знаем достаточно для реализации идеи перевода текста приглашения — пусть компьютер каждому студенту выдаст приглашение и на русском, и на английском языках. Для этого создадим второй кортеж — из текстов приглашений на русском и английском языках, и для каждого студента будем печатать приглашения на обоих, с помощью ещё одного цикла ``for``:"
   ]
  },
  {
   "cell_type": "code",
   "execution_count": 1,
   "metadata": {
    "colab": {
     "base_uri": "https://localhost:8080/",
     "height": 809
    },
    "executionInfo": {
     "elapsed": 12396,
     "status": "ok",
     "timestamp": 1596992573032,
     "user": {
      "displayName": "Дмитрий Широков",
      "photoUrl": "https://lh3.googleusercontent.com/a-/AOh14Gj5ZAs-5dMegnzmhLzTxoLXJmKnF6n7i3ZxETt9Vw=s64",
      "userId": "13642431705883450455"
     },
     "user_tz": -180
    },
    "id": "pHmJCTooPJBY",
    "outputId": "2e3230c4-1211-4add-80e6-b745e14a3530"
   },
   "outputs": [
    {
     "name": "stdout",
     "output_type": "stream",
     "text": [
      "Где будет бал? Покровка, 11\n",
      "Когда? надцатого мартобря\n",
      "Во сколько? 40:96\n",
      "\n",
      "Привет, Аня!\n",
      "Приглашаем тебя на бал первокурсников, который состоится надцатого мартобря в 40:96 по адресу Покровка, 11.\n",
      "Приходи, будем ждать!\n",
      "\n",
      "Hello Аня! \n",
      "We invite you to the Freshman Ball that will be held on надцатого мартобря at 40:96 at Покровка, 11. \n",
      "We look forward to seeing you!\n",
      "\n",
      "----\n",
      "\n",
      "Привет, Дима!\n",
      "Приглашаем тебя на бал первокурсников, который состоится надцатого мартобря в 40:96 по адресу Покровка, 11.\n",
      "Приходи, будем ждать!\n",
      "\n",
      "Hello Дима! \n",
      "We invite you to the Freshman Ball that will be held on надцатого мартобря at 40:96 at Покровка, 11. \n",
      "We look forward to seeing you!\n",
      "\n",
      "----\n",
      "\n",
      "Привет, Алёна!\n",
      "Приглашаем тебя на бал первокурсников, который состоится надцатого мартобря в 40:96 по адресу Покровка, 11.\n",
      "Приходи, будем ждать!\n",
      "\n",
      "Hello Алёна! \n",
      "We invite you to the Freshman Ball that will be held on надцатого мартобря at 40:96 at Покровка, 11. \n",
      "We look forward to seeing you!\n",
      "\n",
      "----\n",
      "\n",
      "Привет, Миша!\n",
      "Приглашаем тебя на бал первокурсников, который состоится надцатого мартобря в 40:96 по адресу Покровка, 11.\n",
      "Приходи, будем ждать!\n",
      "\n",
      "Hello Миша! \n",
      "We invite you to the Freshman Ball that will be held on надцатого мартобря at 40:96 at Покровка, 11. \n",
      "We look forward to seeing you!\n",
      "\n",
      "----\n",
      "\n"
     ]
    }
   ],
   "source": [
    "# Укажем компьютеру перечень студентов, которым нужно приглашение\n",
    "students = ('Аня', 'Дима', 'Алёна', 'Миша') \n",
    "addr = input('Где будет бал? ')\n",
    "date = input('Когда? ')\n",
    "time = input('Во сколько? ')\n",
    "print()\n",
    "\n",
    "# Пожалуйста, перебери перечень студентов и, сохранив имя \n",
    "# конкретного студента в переменной name, сделай следующее:\n",
    "for name in students:   \n",
    "    texts = (\n",
    "        f'Привет, {name}!\\nПриглашаем тебя на бал первокурсников, который состоится {date} в {time} по адресу {addr}.\\nПриходи, будем ждать!',\n",
    "        f'Hello {name}! \\nWe invite you to the Freshman Ball that will be held on {date} at {time} at {addr}. \\nWe look forward to seeing you!'\n",
    "    )    \n",
    "    \n",
    "    # Для нашего удобства кортежи можно задавать и в несколько строчек исходного кода\n",
    "    \n",
    "    # Пожалуйста, возьми тексты из texts и, сохраняя  \n",
    "    # каждый текст в переменную text, сделай следующее:\n",
    "    for text in texts:           \n",
    "        print(text, end='\\n\\n') ## распечатай оформленное приглашение, \n",
    "                                ## после него напечатай два отступа\n",
    "    \n",
    "    print('----\\n')             # когда напечатаешь два приглашения для этого студента — \n",
    "                                # напечатай, пожалуйста, небольшую линию с отступом"
   ]
  },
  {
   "cell_type": "markdown",
   "metadata": {
    "id": "-kxhLTgrJBzg"
   },
   "source": [
    "Иногда мы не можем просто так сохранить информацию в одном списке. Например, когда мы печатаем чек: нужно помнить о названии товара, количестве купленного товара каждого наименования и о цене за одну штуку. Мы не сможем сохранить это в одном списке, но сможем в трёх:"
   ]
  },
  {
   "cell_type": "code",
   "execution_count": null,
   "metadata": {
    "colab": {
     "base_uri": "https://localhost:8080/",
     "height": 179
    },
    "executionInfo": {
     "elapsed": 1195,
     "status": "ok",
     "timestamp": 1599593476060,
     "user": {
      "displayName": "Дмитрий Широков",
      "photoUrl": "https://lh3.googleusercontent.com/a-/AOh14Gj5ZAs-5dMegnzmhLzTxoLXJmKnF6n7i3ZxETt9Vw=s64",
      "userId": "13642431705883450455"
     },
     "user_tz": -180
    },
    "id": "WB_s6F7GKvVB",
    "outputId": "bce0b762-d732-4b93-9b0e-c83a50762a6a"
   },
   "outputs": [
    {
     "name": "stdout",
     "output_type": "stream",
     "text": [
      "Происхождение видов\n",
      "1 x 422\n",
      "Стоимость: 422 ₽\n",
      "Кибернетика и общество\n",
      "1 x 382\n",
      "Стоимость: 382 ₽\n",
      "Изучаем Python. Том 1\n",
      "3 x 3544\n",
      "Стоимость: 10632 ₽\n"
     ]
    }
   ],
   "source": [
    "prices = [422, 382, 3544]\n",
    "goods = ['Происхождение видов', 'Кибернетика и общество', 'Изучаем Python. Том 1']\n",
    "amount = [1, 1, 3]\n",
    "\n",
    "for i in range(len(goods)):\n",
    "    print(f\"{goods[i]}\\n{amount[i]} x {prices[i]}\")\n",
    "    print(f\"Стоимость: {amount[i] * prices[i]} ₽\")"
   ]
  },
  {
   "cell_type": "markdown",
   "metadata": {
    "id": "eDoo_BYC7fEU"
   },
   "source": [
    "Разумеется, информацию о товарах в чеке мы тоже могли бы сохранить в кортеже — ведь в этом блокноте мы никак не меняем ни названия товаров, ни их цены."
   ]
  }
 ],
 "metadata": {
  "colab": {
   "collapsed_sections": [],
   "name": "3.5.7 Вложенный for и хранение информации в нескольких списках.ipynb",
   "provenance": []
  },
  "kernelspec": {
   "display_name": "Python 3 (ipykernel)",
   "language": "python",
   "name": "python3"
  },
  "language_info": {
   "codemirror_mode": {
    "name": "ipython",
    "version": 3
   },
   "file_extension": ".py",
   "mimetype": "text/x-python",
   "name": "python",
   "nbconvert_exporter": "python",
   "pygments_lexer": "ipython3",
   "version": "3.9.7"
  }
 },
 "nbformat": 4,
 "nbformat_minor": 4
}
