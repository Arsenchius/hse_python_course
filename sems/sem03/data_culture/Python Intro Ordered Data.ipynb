{
 "cells": [
  {
   "cell_type": "markdown",
   "metadata": {
    "id": "d8ShhvetFpA7"
   },
   "source": [
    "# Введение в упорядоченные типы данных\n",
    "\n",
    "<div class=\"alert alert-info alertinfo\">\n",
    "\n",
    "<b><span style=\"color: black; font-style: italic\">Если вы нашли опечатку или другую проблему в этом материале, пожалуйста, расскажите нам об этом на <a href=\"https://edu.hse.ru/mod/forum/discuss.php?d=22868\" style=\"color: blue; font-style: italic\">форуме курса</a>. Спасибо, что помогаете нам стать лучше!</span></b>\n",
    "\n",
    "</div>"
   ]
  },
  {
   "cell_type": "markdown",
   "metadata": {
    "id": "RcFvlz11FpA8"
   },
   "source": [
    "Нам очень удобно объединять что-то похожее. Документы — складывать в одну папку, носки — в один угол ящика комода. Мы любим наводить порядок, удобный для нашей работы. Идея группировать как-либо данные существует и в программировании. В Python она реализована несколькими способами."
   ]
  },
  {
   "cell_type": "markdown",
   "metadata": {
    "id": "jWhNIlbzFpA8"
   },
   "source": [
    "С одним типом упорядоченных данных мы уже знакомы — `str` — строки. \n",
    "\n",
    "Когда мы объединяем символы алфавита вместе, мы получаем слово. Складывая вместе \"м\", \"а\" и повторяя их дважды, получаем слово \"мама\". Программе все равно, что это за символы и почему мы их объединили.\n",
    "\n",
    "Python воспринимает строку как набор символов и объединяет символы в одну переменную.\n",
    "\n",
    "Ситуация, в которой мы объединяем только символы — не единственная, с которой приходится сталкиваться. Часто надо объединить разные строки, числа, логические переменные в одну структуру."
   ]
  },
  {
   "cell_type": "markdown",
   "metadata": {
    "id": "9h_92vUmFpA9"
   },
   "source": [
    "## Список\n",
    "Когда мы идём в магазин, мы составляем список продуктов.\n",
    "\n",
    "Например, сегодня нам нужно купить следующее:\n",
    "хлеб, молоко, сметана, сыр, молоко (да, две бутылки!). \n",
    "\n",
    "Python такой список будет видеть так:\n",
    "`['хлеб', 'молоко', 'сметана', 'сыр', 'молоко']` — некий контейнер, где каждая строка (название продукта) — отдельный объект. \n",
    "\n",
    "Основной список, с которым мы будем работать в примерах, будет содержать только строки. Но вообще список может содержать и разные типы данных. Например:\n"
   ]
  },
  {
   "cell_type": "code",
   "execution_count": 1,
   "metadata": {
    "executionInfo": {
     "elapsed": 1202,
     "status": "ok",
     "timestamp": 1603119826416,
     "user": {
      "displayName": "Tatiana Rogovich",
      "photoUrl": "https://lh3.googleusercontent.com/a-/AOh14Gjj1YqMwkiGsMOcK4XoZPpJp6kCbYZ6EqgvdL3EXA=s64",
      "userId": "08185984249235601298"
     },
     "user_tz": -180
    },
    "id": "-_hBk1brFpA-"
   },
   "outputs": [],
   "source": [
    "# Название, цена, количество, срок годности не кончился\n",
    "food_info = ['Творог', 79.90, 2, True]  "
   ]
  },
  {
   "cell_type": "markdown",
   "metadata": {
    "id": "2qyBNsYDNgnr"
   },
   "source": [
    "Посмотрим, как воспринимает Python наш список:"
   ]
  },
  {
   "cell_type": "code",
   "execution_count": null,
   "metadata": {
    "colab": {
     "base_uri": "https://localhost:8080/",
     "height": 35
    },
    "executionInfo": {
     "elapsed": 1357,
     "status": "ok",
     "timestamp": 1600449320727,
     "user": {
      "displayName": "Дмитрий Широков",
      "photoUrl": "https://lh3.googleusercontent.com/a-/AOh14Gj5ZAs-5dMegnzmhLzTxoLXJmKnF6n7i3ZxETt9Vw=s64",
      "userId": "13642431705883450455"
     },
     "user_tz": -180
    },
    "id": "gjg9Y8bgNjoH",
    "outputId": "5d31b4b0-314d-4ea4-e308-f5053e440346"
   },
   "outputs": [
    {
     "name": "stdout",
     "output_type": "stream",
     "text": [
      "<class 'list'>\n"
     ]
    }
   ],
   "source": [
    "food_info = ['Творог', 79.90, 2, True]\n",
    "print(type(food_info))"
   ]
  },
  {
   "cell_type": "markdown",
   "metadata": {
    "id": "qKlSuymef5IS"
   },
   "source": [
    "Как мы видим, чтобы создать указать список напрямую в нашем коде, нужно:\n",
    "1. Создать переменную, которая будет хранить в себе список;\n",
    "2. Перечислить элементы списка в квадратных скобках."
   ]
  },
  {
   "cell_type": "markdown",
   "metadata": {
    "id": "WEcqwjoJNp-s"
   },
   "source": [
    "Можно заметить, что Python использует слово `list` для обозначения списков."
   ]
  },
  {
   "cell_type": "markdown",
   "metadata": {
    "id": "oaK5Y5JOFpBO"
   },
   "source": [
    "В Python списки можно создавать и \"пустыми\". Позже мы научимся добавлять в списки новые элементы и нам будет часто требоваться пустой список, который мы будем заполнять в ходе работы программы."
   ]
  },
  {
   "cell_type": "code",
   "execution_count": 2,
   "metadata": {
    "colab": {
     "base_uri": "https://localhost:8080/",
     "height": 52
    },
    "executionInfo": {
     "elapsed": 1116,
     "status": "ok",
     "timestamp": 1603119951915,
     "user": {
      "displayName": "Tatiana Rogovich",
      "photoUrl": "https://lh3.googleusercontent.com/a-/AOh14Gjj1YqMwkiGsMOcK4XoZPpJp6kCbYZ6EqgvdL3EXA=s64",
      "userId": "08185984249235601298"
     },
     "user_tz": -180
    },
    "id": "-HzaePp_FpBP",
    "outputId": "283990d5-8d97-4b89-852f-00deb4a074a9"
   },
   "outputs": [
    {
     "name": "stdout",
     "output_type": "stream",
     "text": [
      "[]\n",
      "[]\n"
     ]
    }
   ],
   "source": [
    "# Пустой список можно задать пустыми квадратными скобками\n",
    "shopping_list = []  \n",
    "print(shopping_list)\n",
    "\n",
    "# А можно с помощью функции list()\n",
    "shopping_list_2 = list()    \n",
    "print(shopping_list_2)"
   ]
  },
  {
   "cell_type": "markdown",
   "metadata": {
    "id": "bMVkcIjtHXoF"
   },
   "source": [
    "## Чтение списка с клавиатуры\n",
    "\n",
    "Мы можем прочитать список с клавиатуры, для этого нам нужно:\n",
    "1. Прочитать с клавиатуры строчку со списком значений;\n",
    "2. Превратить эту строчку в список.\n",
    "\n",
    "С последним нам поможет команда `.split()`. В отличие от известных нам функций, вроде `print()` и `input()`, которые существуют сами по себе и могут быть написаны в любом месте программы, команда `.split()` всегда должна относиться к какой-либо строке. Такие команды, существующие только рядом со строками, называют *методами строк*, а пишут их — через точку после соответствующей строки. Ещё бывают *методы списков* и *методы* других типов данных, но об этом — позднее."
   ]
  },
  {
   "cell_type": "code",
   "execution_count": null,
   "metadata": {
    "colab": {
     "base_uri": "https://localhost:8080/",
     "height": 53
    },
    "executionInfo": {
     "elapsed": 652,
     "status": "ok",
     "timestamp": 1600531929522,
     "user": {
      "displayName": "Дмитрий Широков",
      "photoUrl": "https://lh3.googleusercontent.com/a-/AOh14Gj5ZAs-5dMegnzmhLzTxoLXJmKnF6n7i3ZxETt9Vw=s64",
      "userId": "13642431705883450455"
     },
     "user_tz": -180
    },
    "id": "a2xfnurRIhch",
    "outputId": "00af3adc-06b7-4f6d-cdbe-cf0e06bfd9d0"
   },
   "outputs": [
    {
     "name": "stdout",
     "output_type": "stream",
     "text": [
      "Строка: a b c d e f g\n",
      "Список: ['a', 'b', 'c', 'd', 'e', 'f', 'g']\n"
     ]
    }
   ],
   "source": [
    "s = 'a b c d e f g'     # Строка с буквами английского алфавита\n",
    "alphabet = s.split()    # Список букв будет храниться под именем alphabet\n",
    "print(f'Строка: {s}')\n",
    "print(f'Список: {alphabet}')"
   ]
  },
  {
   "cell_type": "markdown",
   "metadata": {
    "id": "7O3oOvV_c8yy"
   },
   "source": [
    "Мы видим, что `.split()` разбивает информацию по пробелам. Прооверим это:"
   ]
  },
  {
   "cell_type": "code",
   "execution_count": null,
   "metadata": {
    "colab": {
     "base_uri": "https://localhost:8080/",
     "height": 35
    },
    "executionInfo": {
     "elapsed": 1639,
     "status": "ok",
     "timestamp": 1600772152416,
     "user": {
      "displayName": "Дмитрий Широков",
      "photoUrl": "https://lh3.googleusercontent.com/a-/AOh14Gj5ZAs-5dMegnzmhLzTxoLXJmKnF6n7i3ZxETt9Vw=s64",
      "userId": "13642431705883450455"
     },
     "user_tz": -180
    },
    "id": "52b62ZEKdB8t",
    "outputId": "6426c4c0-639f-4546-f8db-2215838582a8"
   },
   "outputs": [
    {
     "name": "stdout",
     "output_type": "stream",
     "text": [
      "['ab', 'cde', 'f', 'g']\n"
     ]
    }
   ],
   "source": [
    "s = 'ab cde f g' \n",
    "print(s.split())"
   ]
  },
  {
   "cell_type": "markdown",
   "metadata": {
    "id": "2N00v-uqeFsi"
   },
   "source": [
    "На самом деле  `.split()` по умолчанию разбивает строку по другим пробельным символам — к ним, например, относятся и знаки перехода на новую строку, и табуляция."
   ]
  },
  {
   "cell_type": "code",
   "execution_count": 3,
   "metadata": {
    "colab": {
     "base_uri": "https://localhost:8080/",
     "height": 34
    },
    "executionInfo": {
     "elapsed": 976,
     "status": "ok",
     "timestamp": 1603120065485,
     "user": {
      "displayName": "Tatiana Rogovich",
      "photoUrl": "https://lh3.googleusercontent.com/a-/AOh14Gjj1YqMwkiGsMOcK4XoZPpJp6kCbYZ6EqgvdL3EXA=s64",
      "userId": "08185984249235601298"
     },
     "user_tz": -180
    },
    "id": "Q8zhUg5AeFQ_",
    "outputId": "a2d2661b-9244-4bb1-8cf2-63f74b6d8e29"
   },
   "outputs": [
    {
     "name": "stdout",
     "output_type": "stream",
     "text": [
      "['молоко', 'кефир', 'сметана', 'хлеб']\n"
     ]
    }
   ],
   "source": [
    "s = 'молоко\\nкефир\\tсметана хлеб' \n",
    "\n",
    "# Увидим, что метод разбил строку и по символу обозначения новой строки \\n, \n",
    "# и табуляции \\t \n",
    "print(s.split())"
   ]
  },
  {
   "cell_type": "markdown",
   "metadata": {
    "id": "C-cLcncfI0t0"
   },
   "source": [
    "Попробуем ввести список с клавиатуры:"
   ]
  },
  {
   "cell_type": "code",
   "execution_count": null,
   "metadata": {
    "colab": {
     "base_uri": "https://localhost:8080/",
     "height": 53
    },
    "executionInfo": {
     "elapsed": 6002,
     "status": "ok",
     "timestamp": 1600532075300,
     "user": {
      "displayName": "Дмитрий Широков",
      "photoUrl": "https://lh3.googleusercontent.com/a-/AOh14Gj5ZAs-5dMegnzmhLzTxoLXJmKnF6n7i3ZxETt9Vw=s64",
      "userId": "13642431705883450455"
     },
     "user_tz": -180
    },
    "id": "4F1OvzUrI3VL",
    "outputId": "f5f3e78a-6f9b-4674-fb4d-28c5a4c6ad7c"
   },
   "outputs": [
    {
     "name": "stdout",
     "output_type": "stream",
     "text": [
      "Введите список покупок через пробел: молоко хлеб сметана\n",
      "Список покупок: ['молоко', 'хлеб', 'сметана']\n"
     ]
    }
   ],
   "source": [
    "s = input('Введите список покупок через пробел: ')\n",
    "shopping_list = s.split()\n",
    "print(f'Список покупок: {shopping_list}')"
   ]
  },
  {
   "cell_type": "markdown",
   "metadata": {
    "id": "6Fgp7J31JG80"
   },
   "source": [
    "Метод `.split()` может разделять строку на элементы списка и по другим разделителям. Введём список через запятую и добавим в `.split()` аргумент — символ \"запятая\", чтобы `.split()` знал, по какому символу разбивать строчку на элементы списка:"
   ]
  },
  {
   "cell_type": "code",
   "execution_count": null,
   "metadata": {
    "colab": {
     "base_uri": "https://localhost:8080/",
     "height": 53
    },
    "executionInfo": {
     "elapsed": 8952,
     "status": "ok",
     "timestamp": 1600532105909,
     "user": {
      "displayName": "Дмитрий Широков",
      "photoUrl": "https://lh3.googleusercontent.com/a-/AOh14Gj5ZAs-5dMegnzmhLzTxoLXJmKnF6n7i3ZxETt9Vw=s64",
      "userId": "13642431705883450455"
     },
     "user_tz": -180
    },
    "id": "yZhDJ-eKJQtw",
    "outputId": "0cd257b8-8478-492d-992a-e821a11bc9eb"
   },
   "outputs": [
    {
     "name": "stdout",
     "output_type": "stream",
     "text": [
      "Введите список покупок через запятую: молоко,хлеб,сметана\n",
      "Список покупок: ['молоко', 'хлеб', 'сметана']\n"
     ]
    }
   ],
   "source": [
    "s = input('Введите список покупок через запятую: ')\n",
    "shopping_list = s.split(',')\n",
    "print(f'Список покупок: {shopping_list}')"
   ]
  },
  {
   "cell_type": "markdown",
   "metadata": {
    "id": "_5G58opQJdoC"
   },
   "source": [
    "Для простоты мы можем избавиться из лишней переменной s, и применять метод `.split()` сразу к результату работы функции `input()`:"
   ]
  },
  {
   "cell_type": "code",
   "execution_count": null,
   "metadata": {
    "colab": {
     "base_uri": "https://localhost:8080/",
     "height": 53
    },
    "executionInfo": {
     "elapsed": 9453,
     "status": "ok",
     "timestamp": 1600532160712,
     "user": {
      "displayName": "Дмитрий Широков",
      "photoUrl": "https://lh3.googleusercontent.com/a-/AOh14Gj5ZAs-5dMegnzmhLzTxoLXJmKnF6n7i3ZxETt9Vw=s64",
      "userId": "13642431705883450455"
     },
     "user_tz": -180
    },
    "id": "EVXoareuJdW3",
    "outputId": "34901553-83e3-4aa1-f987-5c41b28f049e"
   },
   "outputs": [
    {
     "name": "stdout",
     "output_type": "stream",
     "text": [
      "Введите список покупок через запятую: молоко,белый хлеб,сметана\n",
      "Список покупок: ['молоко', 'белый хлеб', 'сметана']\n"
     ]
    }
   ],
   "source": [
    "shopping_list = input('Введите список покупок через запятую: ').split(',')\n",
    "print(f'Список покупок: {shopping_list}')"
   ]
  }
 ],
 "metadata": {
  "colab": {
   "collapsed_sections": [],
   "name": "3.5.1 Введение в упорядоченные типы данных-1.ipynb",
   "provenance": []
  },
  "kernelspec": {
   "display_name": "Python 3 (ipykernel)",
   "language": "python",
   "name": "python3"
  },
  "language_info": {
   "codemirror_mode": {
    "name": "ipython",
    "version": 3
   },
   "file_extension": ".py",
   "mimetype": "text/x-python",
   "name": "python",
   "nbconvert_exporter": "python",
   "pygments_lexer": "ipython3",
   "version": "3.9.7"
  }
 },
 "nbformat": 4,
 "nbformat_minor": 4
}
