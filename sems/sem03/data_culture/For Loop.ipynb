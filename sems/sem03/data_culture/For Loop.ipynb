{
 "cells": [
  {
   "cell_type": "markdown",
   "metadata": {
    "id": "9mRz_MapaW7O"
   },
   "source": [
    "# Просмотр последовательности в цикле\n",
    "\n",
    "<div class=\"alert alert-info alertinfo\">\n",
    "\n",
    "<b><span style=\"color: black; font-style: italic\">Если вы нашли опечатку или другую проблему в этом материале, пожалуйста, расскажите нам об этом на <a href=\"https://edu.hse.ru/mod/forum/discuss.php?d=22868\" style=\"color: blue; font-style: italic\">форуме курса</a>. Спасибо, что помогаете нам стать лучше!</span></b>\n",
    "\n",
    "</div>"
   ]
  },
  {
   "cell_type": "markdown",
   "metadata": {
    "id": "1IrV-dR5aW7Q"
   },
   "source": [
    "Вернемся к нашему списку покупок.\n",
    "\n",
    "- хлеб;\n",
    "- молоко;\n",
    "- сметана;\n",
    "- сыр;\n",
    "- молоко."
   ]
  },
  {
   "cell_type": "code",
   "execution_count": null,
   "metadata": {
    "colab": {
     "base_uri": "https://localhost:8080/",
     "height": 34
    },
    "executionInfo": {
     "elapsed": 946,
     "status": "ok",
     "timestamp": 1601728870410,
     "user": {
      "displayName": "Tatiana Rogovich",
      "photoUrl": "https://lh3.googleusercontent.com/a-/AOh14Gjj1YqMwkiGsMOcK4XoZPpJp6kCbYZ6EqgvdL3EXA=s64",
      "userId": "08185984249235601298"
     },
     "user_tz": -180
    },
    "id": "woMUVHNMaW7R",
    "outputId": "fe490607-42d9-4059-f84a-6895037c1f9b"
   },
   "outputs": [
    {
     "name": "stdout",
     "output_type": "stream",
     "text": [
      "Мы купили в магазине: хлеб молоко сметана сыр молоко\n"
     ]
    }
   ],
   "source": [
    "shopping_list = ['хлеб', 'молоко', 'сметана', 'сыр', 'молоко']\n",
    "\n",
    "# Выводим на экран элементы списка\n",
    "print('Мы купили в магазине:', *shopping_list) "
   ]
  },
  {
   "cell_type": "markdown",
   "metadata": {
    "id": "P2hg5qC_aW7Z"
   },
   "source": [
    "Мы с вами уже печатали список с помощью команды распаковки, которую обозначали звездочкой. Но часто, кроме простого вывода элементов, нам нужно еще проделать с ними какие-то операции.\n",
    "\n",
    "Кажется логичной идея перебрать все элементы списка, обратившись к ним по индексу."
   ]
  },
  {
   "cell_type": "code",
   "execution_count": null,
   "metadata": {
    "colab": {
     "base_uri": "https://localhost:8080/",
     "height": 103
    },
    "executionInfo": {
     "elapsed": 924,
     "status": "ok",
     "timestamp": 1601728947072,
     "user": {
      "displayName": "Tatiana Rogovich",
      "photoUrl": "https://lh3.googleusercontent.com/a-/AOh14Gjj1YqMwkiGsMOcK4XoZPpJp6kCbYZ6EqgvdL3EXA=s64",
      "userId": "08185984249235601298"
     },
     "user_tz": -180
    },
    "id": "TgZNn1eoecm-",
    "outputId": "fe4af3b4-f702-4fe3-bd36-38b8df70bc7d"
   },
   "outputs": [
    {
     "name": "stdout",
     "output_type": "stream",
     "text": [
      "Нужно купить: хлеб\n",
      "Нужно купить: молоко\n",
      "Нужно купить: сметана\n",
      "Нужно купить: сыр\n",
      "Нужно купить: молоко\n"
     ]
    }
   ],
   "source": [
    "print(f'Нужно купить: {shopping_list[0]}')\n",
    "print(f'Нужно купить: {shopping_list[1]}')\n",
    "print(f'Нужно купить: {shopping_list[2]}')\n",
    "print(f'Нужно купить: {shopping_list[3]}')\n",
    "print(f'Нужно купить: {shopping_list[4]}')"
   ]
  },
  {
   "cell_type": "markdown",
   "metadata": {
    "id": "3cD6J5g3ebpi"
   },
   "source": [
    " Даже с пятью элементами такой подход выглядит утомительно. А что делать, если список большой и элементов много?\n",
    "\n",
    "Задачу повторения инструкций мы уже решали с помощью цикла `while`. Давайте попробуем с его помощью вывести элементы списка:"
   ]
  },
  {
   "cell_type": "code",
   "execution_count": null,
   "metadata": {
    "colab": {
     "base_uri": "https://localhost:8080/",
     "height": 103
    },
    "executionInfo": {
     "elapsed": 1205,
     "status": "ok",
     "timestamp": 1601729059481,
     "user": {
      "displayName": "Tatiana Rogovich",
      "photoUrl": "https://lh3.googleusercontent.com/a-/AOh14Gjj1YqMwkiGsMOcK4XoZPpJp6kCbYZ6EqgvdL3EXA=s64",
      "userId": "08185984249235601298"
     },
     "user_tz": -180
    },
    "id": "neNbK0NwO4IJ",
    "outputId": "dc8192c6-7877-4a15-8f03-81ed1fe7564f"
   },
   "outputs": [
    {
     "name": "stdout",
     "output_type": "stream",
     "text": [
      "хлеб\n",
      "молоко\n",
      "сметана\n",
      "сыр\n",
      "молоко\n"
     ]
    }
   ],
   "source": [
    "i = 0  # Начнём вывод списка с элемента с индексом 0\n",
    "\n",
    "shopping_list = ['хлеб', 'молоко', 'сметана', 'сыр', 'молоко']\n",
    "\n",
    "while i < len(shopping_list):\n",
    "    print(shopping_list[i])    # Выведем элемент с индексом i\n",
    "    i += 1                     # Перейдём к следующему элементу"
   ]
  },
  {
   "cell_type": "markdown",
   "metadata": {
    "id": "AiQGPa4ePJRD"
   },
   "source": [
    "Выглядит не очень удобно: нам нужно вручную обновлять значение индекса и думать о том, как корректно сформулировать условие остановки выполнения цикла.\n",
    "\n",
    "Как это часто бывает с популярными задачами, в Python есть специальный инструмент, чтобы решать их более эффективно. Мы можем напрямую перебирать элементы с помощью цикла `for`:"
   ]
  },
  {
   "cell_type": "markdown",
   "metadata": {
    "id": "40FNUExFaW7f"
   },
   "source": [
    "    for <элемент> in <название списка или кортежа>:\n",
    "        <действие с элементом списка или кортежа>"
   ]
  },
  {
   "cell_type": "code",
   "execution_count": null,
   "metadata": {
    "colab": {
     "base_uri": "https://localhost:8080/",
     "height": 103
    },
    "executionInfo": {
     "elapsed": 1288,
     "status": "ok",
     "timestamp": 1601751989391,
     "user": {
      "displayName": "Tatiana Rogovich",
      "photoUrl": "https://lh3.googleusercontent.com/a-/AOh14Gjj1YqMwkiGsMOcK4XoZPpJp6kCbYZ6EqgvdL3EXA=s64",
      "userId": "08185984249235601298"
     },
     "user_tz": -180
    },
    "id": "bGJEjMdfPRX6",
    "outputId": "71eaf113-d8db-4152-b762-a29146b8eb7f"
   },
   "outputs": [
    {
     "name": "stdout",
     "output_type": "stream",
     "text": [
      "хлеб\n",
      "молоко\n",
      "сметана\n",
      "сыр\n",
      "молоко\n"
     ]
    }
   ],
   "source": [
    "shopping_list = ['хлеб', 'молоко', 'сметана', 'сыр', 'молоко']\n",
    "\n",
    "# Пройди по списку shopping_list и, копируя каждый элемент в переменную thing,\n",
    "## напечатай этот элемент\n",
    "for thing in shopping_list: \n",
    "    print(thing)             "
   ]
  },
  {
   "cell_type": "markdown",
   "metadata": {
    "id": "JYtBRo-ZaW7g"
   },
   "source": [
    "Цикл ``for`` содержит внутри себя внутреннюю переменную (например, ``thing``). Переменная может называться как угодно, она объявляется внутри цикла. Но существует и вне его. В нашем примере последнее значение переменной ``thing`` было \"молоко\".  Проверим, помнит ли Python значение переменной после выхода из цикла."
   ]
  },
  {
   "cell_type": "code",
   "execution_count": null,
   "metadata": {
    "colab": {
     "base_uri": "https://localhost:8080/",
     "height": 120
    },
    "executionInfo": {
     "elapsed": 726,
     "status": "ok",
     "timestamp": 1601755522219,
     "user": {
      "displayName": "Tatiana Rogovich",
      "photoUrl": "https://lh3.googleusercontent.com/a-/AOh14Gjj1YqMwkiGsMOcK4XoZPpJp6kCbYZ6EqgvdL3EXA=s64",
      "userId": "08185984249235601298"
     },
     "user_tz": -180
    },
    "id": "gB1Ifk9jaW7h",
    "outputId": "dc62ce8d-e29b-44a7-bd31-c6cbbaacb8a0"
   },
   "outputs": [
    {
     "name": "stdout",
     "output_type": "stream",
     "text": [
      "хлеб\n",
      "молоко\n",
      "сметана\n",
      "сыр\n",
      "молоко\n",
      "Последнее значение thing: молоко\n"
     ]
    }
   ],
   "source": [
    "shopping_list = ['хлеб', 'молоко', 'сметана', 'сыр', 'молоко']\n",
    "for thing in shopping_list:\n",
    "    print(thing)  \n",
    "# Цикл for закончился\n",
    "\n",
    "print('Последнее значение thing:', thing)"
   ]
  },
  {
   "cell_type": "markdown",
   "metadata": {
    "id": "SK8aLmJlaW7m"
   },
   "source": [
    "Если у нас в программе есть несколько циклов for, то в момент начала работы следующего цикла переменная возвращается в исходное состояние. Посмотрим на примере:"
   ]
  },
  {
   "cell_type": "code",
   "execution_count": null,
   "metadata": {
    "colab": {
     "base_uri": "https://localhost:8080/",
     "height": 172
    },
    "executionInfo": {
     "elapsed": 679,
     "status": "ok",
     "timestamp": 1601755526544,
     "user": {
      "displayName": "Tatiana Rogovich",
      "photoUrl": "https://lh3.googleusercontent.com/a-/AOh14Gjj1YqMwkiGsMOcK4XoZPpJp6kCbYZ6EqgvdL3EXA=s64",
      "userId": "08185984249235601298"
     },
     "user_tz": -180
    },
    "id": "XeOfDwKBaW7n",
    "outputId": "b1498caa-89a2-45c2-9c54-b1fdfe93285c"
   },
   "outputs": [
    {
     "name": "stdout",
     "output_type": "stream",
     "text": [
      "хлеб\n",
      "молоко\n",
      "сметана\n",
      "Последнее значение elem: сметана\n",
      "\n",
      "Белый клык\n",
      "Дубровский\n",
      "ОНО\n",
      "Последнее значение elem: ОНО\n"
     ]
    }
   ],
   "source": [
    "shopping_list_food = ['хлеб', 'молоко', 'сметана']\n",
    "for elem in shopping_list_food:\n",
    "    print(elem)\n",
    "# Цикл for закончился\n",
    "print(f'Последнее значение elem: {elem}\\n')\n",
    "\n",
    "shopping_list_book = ['Белый клык', 'Дубровский', 'ОНО']\n",
    "for elem in shopping_list_book:\n",
    "    print(elem)\n",
    "# Цикл for закончился    \n",
    "print(f'Последнее значение elem: {elem}')"
   ]
  },
  {
   "cell_type": "markdown",
   "metadata": {
    "id": "3am17U4IEFIY"
   },
   "source": [
    "Не удивляйтесь, если увидите два цикла подряд с одинаковой переменной: мы знаем, что ообычно эта переменная нужна только внутри цикла и не страшно, если она повторится."
   ]
  },
  {
   "cell_type": "markdown",
   "metadata": {
    "id": "SroEh19JaW7s"
   },
   "source": [
    "То же работает и с кортежами. Мы можем вывести их элементы на экран:"
   ]
  },
  {
   "cell_type": "code",
   "execution_count": null,
   "metadata": {
    "colab": {
     "base_uri": "https://localhost:8080/",
     "height": 103
    },
    "executionInfo": {
     "elapsed": 1661,
     "status": "ok",
     "timestamp": 1601729039068,
     "user": {
      "displayName": "Tatiana Rogovich",
      "photoUrl": "https://lh3.googleusercontent.com/a-/AOh14Gjj1YqMwkiGsMOcK4XoZPpJp6kCbYZ6EqgvdL3EXA=s64",
      "userId": "08185984249235601298"
     },
     "user_tz": -180
    },
    "id": "5BfltPhaaW7t",
    "outputId": "37960395-1be3-4041-bfaa-6d4671a36472"
   },
   "outputs": [
    {
     "name": "stdout",
     "output_type": "stream",
     "text": [
      "хлеб\n",
      "молоко\n",
      "сметана\n",
      "сыр\n",
      "молоко\n"
     ]
    }
   ],
   "source": [
    "shopping_tuple = ('хлеб', 'молоко', 'сметана', 'сыр', 'молоко')\n",
    "\n",
    "for thing in shopping_tuple:    # Возьми каждый элемент из кортежа shopping_tuple,\n",
    "    print(thing)                # скопируй в переменную thing и выведи на печать"
   ]
  },
  {
   "cell_type": "markdown",
   "metadata": {
    "id": "TQUvVdh-FZTs"
   },
   "source": [
    "Конечно же, мы можем использовать и другие инструкции кроме вывода `print()` внутри цикла ``for``. Например, давайте пронумеруем наш список покупок."
   ]
  },
  {
   "cell_type": "code",
   "execution_count": null,
   "metadata": {
    "colab": {
     "base_uri": "https://localhost:8080/",
     "height": 103
    },
    "executionInfo": {
     "elapsed": 1009,
     "status": "ok",
     "timestamp": 1601729106269,
     "user": {
      "displayName": "Tatiana Rogovich",
      "photoUrl": "https://lh3.googleusercontent.com/a-/AOh14Gjj1YqMwkiGsMOcK4XoZPpJp6kCbYZ6EqgvdL3EXA=s64",
      "userId": "08185984249235601298"
     },
     "user_tz": -180
    },
    "id": "Mfe77s1FFYe1",
    "outputId": "37bf9de2-5e39-4f22-cb7e-780d4397bf06"
   },
   "outputs": [
    {
     "name": "stdout",
     "output_type": "stream",
     "text": [
      "1 хлеб\n",
      "2 молоко\n",
      "3 сметана\n",
      "4 сыр\n",
      "5 молоко\n"
     ]
    }
   ],
   "source": [
    "shopping_tuple = ('хлеб', 'молоко', 'сметана', 'сыр', 'молоко')\n",
    "\n",
    "# Создаем переменную, в которой будем хранить номер пункта списка\n",
    "number = 1                       \n",
    "for thing in shopping_tuple:\n",
    "    print(number, thing)         # Печатаем номер и пункт списка через пробел\n",
    "    number += 1                  # Обновляем номер"
   ]
  },
  {
   "cell_type": "markdown",
   "metadata": {
    "id": "sb3GxsmnEuHT"
   },
   "source": [
    "Цикл `for` работает не только со списками и кортежами, но и со строками, и с некоторыми другими типами данных, о которых мы поговорим позже. "
   ]
  }
 ],
 "metadata": {
  "colab": {
   "collapsed_sections": [],
   "name": "3.5.4 Просмотр последовательности в цикле.ipynb",
   "provenance": []
  },
  "kernelspec": {
   "display_name": "Python 3 (ipykernel)",
   "language": "python",
   "name": "python3"
  },
  "language_info": {
   "codemirror_mode": {
    "name": "ipython",
    "version": 3
   },
   "file_extension": ".py",
   "mimetype": "text/x-python",
   "name": "python",
   "nbconvert_exporter": "python",
   "pygments_lexer": "ipython3",
   "version": "3.9.7"
  }
 },
 "nbformat": 4,
 "nbformat_minor": 4
}
