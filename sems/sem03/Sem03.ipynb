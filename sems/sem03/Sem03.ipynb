{
 "cells": [
  {
   "cell_type": "markdown",
   "metadata": {},
   "source": [
    "#### Задача 1"
   ]
  },
  {
   "cell_type": "code",
   "execution_count": 10,
   "metadata": {},
   "outputs": [
    {
     "name": "stdout",
     "output_type": "stream",
     "text": [
      "1\n",
      "5\n",
      "1 2 3 4 5\n"
     ]
    }
   ],
   "source": [
    "a = int(input())\n",
    "b = int(input())\n",
    "ans = []\n",
    "for i in range(a, b+1):\n",
    "    ans.append(i)\n",
    "#     print(i, end=\"\")\n",
    "print(*ans)"
   ]
  },
  {
   "cell_type": "code",
   "execution_count": 3,
   "metadata": {},
   "outputs": [
    {
     "name": "stdout",
     "output_type": "stream",
     "text": [
      "[1, 2, 3, 4, 5]\n",
      "1 2 3 4 5\n"
     ]
    }
   ],
   "source": [
    "print(ans)\n",
    "print(*ans)"
   ]
  },
  {
   "cell_type": "markdown",
   "metadata": {},
   "source": [
    "#### Задача 2"
   ]
  },
  {
   "cell_type": "code",
   "execution_count": 12,
   "metadata": {},
   "outputs": [
    {
     "name": "stdout",
     "output_type": "stream",
     "text": [
      "10\n",
      "1\n",
      "10 9 8 7 6 5 4 3 2 1\n"
     ]
    }
   ],
   "source": [
    "a = int(input())\n",
    "b = int(input())\n",
    "ans = []\n",
    "if a < b:\n",
    "    step = 1\n",
    "else:\n",
    "    step = -1\n",
    "for i in range(a, b+step, step):\n",
    "    ans.append(i)\n",
    "    # print(i, end = ' ')\n",
    "print(*ans)"
   ]
  },
  {
   "cell_type": "markdown",
   "metadata": {},
   "source": [
    "#### Задача 3"
   ]
  },
  {
   "cell_type": "code",
   "execution_count": 19,
   "metadata": {},
   "outputs": [
    {
     "name": "stdout",
     "output_type": "stream",
     "text": [
      "2\n",
      "99 97 95 93 91 89 87 85 83 81 79 77 75 73 71 69 67 65 63 61 59 57 55 53 51 49 47 45 43 41 39 37 35 33 31 29 27 25 23 21 19 17 15 13 11\n"
     ]
    }
   ],
   "source": [
    "n = int(input())\n",
    "num = 10**(n)-1\n",
    "lb = int(num/10)\n",
    "arr = []\n",
    "while(num > lb):\n",
    "    arr.append(num)\n",
    "    num-=2\n",
    "\n",
    "print(*arr)"
   ]
  },
  {
   "cell_type": "code",
   "execution_count": 15,
   "metadata": {},
   "outputs": [
    {
     "name": "stdout",
     "output_type": "stream",
     "text": [
      "9 7 5 3 1\n"
     ]
    }
   ],
   "source": [
    "n = int(input())\n",
    "start = 10**n\n",
    "finish = 10**(n-1)\n",
    "ans = []\n",
    "for num in range(start, finish - 1, -1):\n",
    "    if num % 2 != 0:\n",
    "        ans.append(num)\n",
    "\n",
    "print(*ans)"
   ]
  },
  {
   "cell_type": "markdown",
   "metadata": {},
   "source": [
    "#### Задача 4"
   ]
  },
  {
   "cell_type": "code",
   "execution_count": 16,
   "metadata": {},
   "outputs": [
    {
     "name": "stdout",
     "output_type": "stream",
     "text": [
      "5\n"
     ]
    }
   ],
   "source": [
    "n = int(input())\n",
    "\n",
    "ans = 0\n",
    "\n",
    "for i in range(n):\n",
    "    ans += (i+1)*(i+1)\n",
    "#     ans += (i+1)**2\n",
    "print(ans)"
   ]
  },
  {
   "cell_type": "markdown",
   "metadata": {},
   "source": [
    "#### Задача 5"
   ]
  },
  {
   "cell_type": "code",
   "execution_count": 17,
   "metadata": {},
   "outputs": [
    {
     "name": "stdout",
     "output_type": "stream",
     "text": [
      "+___ +___ +___ +___ \n",
      "|1 / |2 / |3 / |4 / \n",
      "|__\\ |__\\ |__\\ |__\\ \n",
      "|    |    |    |    \n"
     ]
    }
   ],
   "source": [
    "n = int(input())\n",
    "for i in range(n):\n",
    "    print(\"+___\", end=\" \")\n",
    "print()\n",
    "for i in range(1, n+1):\n",
    "    print('|',i,\" / \", sep='', end=\"\")\n",
    "print()\n",
    "for i in range(n):\n",
    "    print(\"|__\\\\\", end=\" \")\n",
    "print()\n",
    "for i in range(n):\n",
    "    print(\"|   \", end=\" \")\n",
    "print()"
   ]
  },
  {
   "cell_type": "markdown",
   "metadata": {},
   "source": [
    "#### Задача 6"
   ]
  },
  {
   "cell_type": "code",
   "execution_count": 21,
   "metadata": {},
   "outputs": [
    {
     "name": "stdout",
     "output_type": "stream",
     "text": [
      "5\n",
      "1\n",
      "1\n",
      "0\n",
      "0\n",
      "0\n",
      "3\n"
     ]
    }
   ],
   "source": [
    "n = int(input())\n",
    "num_zeroes = 0\n",
    "for _ in range(n):\n",
    "    num = int(input())\n",
    "    if num == 0:\n",
    "        num_zeroes += 1\n",
    "print(num_zeroes)"
   ]
  },
  {
   "cell_type": "markdown",
   "metadata": {},
   "source": [
    "#### Задача 7"
   ]
  },
  {
   "cell_type": "code",
   "execution_count": 21,
   "metadata": {},
   "outputs": [
    {
     "name": "stdout",
     "output_type": "stream",
     "text": [
      "1\n"
     ]
    }
   ],
   "source": [
    "a=int(input())\n",
    "b=int(input())\n",
    "c=int(input())\n",
    "d=int(input())\n",
    "e=int(input())\n",
    "num_answers=0\n",
    "for i in range(1001):\n",
    "    if e != i:\n",
    "        if (a*i**3+b*i**2+c*i+d)/(i-e)==0:\n",
    "            num_answers+=1\n",
    "print(num_answers)"
   ]
  },
  {
   "cell_type": "markdown",
   "metadata": {},
   "source": [
    "#### Задача 8"
   ]
  },
  {
   "cell_type": "code",
   "execution_count": 22,
   "metadata": {},
   "outputs": [
    {
     "name": "stdout",
     "output_type": "stream",
     "text": [
      "1\n",
      "12\n",
      "123\n",
      "1234\n",
      "12345\n"
     ]
    }
   ],
   "source": [
    "n = int(input())\n",
    "temp = \"\"\n",
    "for i in range(1, n + 1):\n",
    "    temp += str(i)\n",
    "#     for j in range(1, i + 1):\n",
    "#         print(j, sep='', end='')\n",
    "    print(temp)\n",
    "#     print()"
   ]
  },
  {
   "cell_type": "markdown",
   "metadata": {},
   "source": [
    "#### Задача 9"
   ]
  },
  {
   "cell_type": "code",
   "execution_count": 31,
   "metadata": {},
   "outputs": [
    {
     "name": "stdout",
     "output_type": "stream",
     "text": [
      "36\n"
     ]
    }
   ],
   "source": [
    "ans = []\n",
    "for num in range(10, 100):\n",
    "    first = num//10\n",
    "    second = num % 10\n",
    "    if num == 2*first*second:\n",
    "        ans.append(num)\n",
    "print(*ans)"
   ]
  },
  {
   "cell_type": "markdown",
   "metadata": {},
   "source": [
    "#### Задача 10"
   ]
  },
  {
   "cell_type": "code",
   "execution_count": 32,
   "metadata": {},
   "outputs": [
    {
     "name": "stdout",
     "output_type": "stream",
     "text": [
      "1661\n",
      "1771\n",
      "1881\n",
      "1991\n",
      "2002\n"
     ]
    }
   ],
   "source": [
    "a = int(input())\n",
    "b = int(input())\n",
    "for num in range(a, b + 1):\n",
    "    current_number = num\n",
    "    reversed_number = 0\n",
    "    while current_number > 0:\n",
    "        reversed_number = reversed_number * 10 + current_number % 10\n",
    "        current_number = current_number // 10\n",
    "    if reversed_number == num:\n",
    "        print(reversed_number)"
   ]
  },
  {
   "cell_type": "markdown",
   "metadata": {},
   "source": [
    "#### Задача 11"
   ]
  },
  {
   "cell_type": "code",
   "execution_count": 35,
   "metadata": {},
   "outputs": [
    {
     "name": "stdout",
     "output_type": "stream",
     "text": [
      "9\n"
     ]
    }
   ],
   "source": [
    "n = int(input())\n",
    "part_fac = 1\n",
    "ans = 0\n",
    "for num in range(1, n + 1):\n",
    "    part_fac *= num\n",
    "    ans += part_fac\n",
    "print(ans)"
   ]
  },
  {
   "cell_type": "markdown",
   "metadata": {},
   "source": [
    "#### Задача 12"
   ]
  },
  {
   "cell_type": "code",
   "execution_count": 37,
   "metadata": {},
   "outputs": [
    {
     "name": "stdout",
     "output_type": "stream",
     "text": [
      "5\n"
     ]
    }
   ],
   "source": [
    "n = int(input())\n",
    "total = 0\n",
    "for num in range(1, n + 1):\n",
    "    total += num\n",
    "for _ in range(n - 1):\n",
    "    number = int(input())\n",
    "    total -= number\n",
    "print(total)"
   ]
  },
  {
   "cell_type": "code",
   "execution_count": null,
   "metadata": {},
   "outputs": [],
   "source": []
  }
 ],
 "metadata": {
  "kernelspec": {
   "display_name": "Python 3 (ipykernel)",
   "language": "python",
   "name": "python3"
  },
  "language_info": {
   "codemirror_mode": {
    "name": "ipython",
    "version": 3
   },
   "file_extension": ".py",
   "mimetype": "text/x-python",
   "name": "python",
   "nbconvert_exporter": "python",
   "pygments_lexer": "ipython3",
   "version": "3.11.0"
  }
 },
 "nbformat": 4,
 "nbformat_minor": 2
}
