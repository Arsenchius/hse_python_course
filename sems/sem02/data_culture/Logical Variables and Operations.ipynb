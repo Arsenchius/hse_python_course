{
 "cells": [
  {
   "cell_type": "markdown",
   "metadata": {
    "id": "XUQdbDXDDrDB"
   },
   "source": [
    "# Логические операторы\n",
    "\n",
    "<div class=\"alert alert-info alertinfo\">\n",
    "\n",
    "<b><span style=\"color: black; font-style: italic\">Если вы нашли опечатку или другую проблему в этом материале, пожалуйста, расскажите нам об этом на <a href=\"https://edu.hse.ru/mod/forum/discuss.php?d=22865\" style=\"color: blue; font-style: italic\">форуме курса</a>. Спасибо, что помогаете нам стать лучше!</span></b>\n",
    "\n",
    "</div>"
   ]
  },
  {
   "cell_type": "markdown",
   "metadata": {
    "id": "FigG5rWXDrDC"
   },
   "source": [
    "В этом разделе мы научимся записывать более сложные условия, которые зависят от нескольких параметров."
   ]
  },
  {
   "cell_type": "markdown",
   "metadata": {
    "id": "0QeIw2luDrDD"
   },
   "source": [
    "В начале курса мы изучили арифметические операторы — брали два числа и получали какой-то результат, который тоже являлся числом.\n",
    "\n",
    "Позже мы рассмотрели операторы сравнения — брали два числа либо две строки, сравнивали между собой и получали в качестве ответа логическую переменную.\n",
    "\n",
    "Теперь же мы научимся брать две логические переменные и получать результат, который тоже будет логической переменной. Так работают **логические операторы**.\n",
    "\n",
    "Но сначала давайте вспомним, как получать логические переменные с помощью операторов сравнения."
   ]
  },
  {
   "cell_type": "code",
   "execution_count": null,
   "metadata": {
    "id": "fSJ8iynuDrDE",
    "outputId": "930c9f67-2077-4265-b619-c15b92e0bdae"
   },
   "outputs": [
    {
     "name": "stdout",
     "output_type": "stream",
     "text": [
      "False\n"
     ]
    }
   ],
   "source": [
    "a = (10 == 11)\n",
    "print(a)"
   ]
  },
  {
   "cell_type": "markdown",
   "metadata": {
    "id": "GJBkylOYDrDI"
   },
   "source": [
    "Высказывание о том, что 10 равно 11, естественно, будет ложным."
   ]
  },
  {
   "cell_type": "code",
   "execution_count": null,
   "metadata": {
    "id": "AF5o8npjDrDK",
    "outputId": "cdb1ac7f-4e44-4ab7-db97-00e3105b08b8"
   },
   "outputs": [
    {
     "name": "stdout",
     "output_type": "stream",
     "text": [
      "True\n"
     ]
    }
   ],
   "source": [
    "a = (10 == 10)\n",
    "print(a)"
   ]
  },
  {
   "cell_type": "markdown",
   "metadata": {
    "id": "FwGDPmPQDrDN"
   },
   "source": [
    "А высказывание о том, что 10 равно 10, естественно, будет истинным."
   ]
  },
  {
   "cell_type": "markdown",
   "metadata": {
    "id": "KhHMueZJ2w3p"
   },
   "source": [
    "Когда же нам могут потребоваться операторы, которые работают с логическими переменными?\n",
    "\n",
    "Когда мы начинаем работать с более сложными условиями.\n",
    "\n",
    "Например, *чтобы пойти в поход, нужно набрать в группу хотя бы 7 человек, но не больше 15.*"
   ]
  },
  {
   "cell_type": "markdown",
   "metadata": {
    "id": "mNtlqkkG2w3q"
   },
   "source": [
    "Какие здесь варианты развития событий?\n",
    "\n",
    "* В группе больше 6 человек **И** меньше 16 — тогда условие выполняется\n",
    "* В группе меньше 7 человек **ИЛИ** больше 15 — тогда условие НЕ выполняется\n",
    "\n",
    "С выражениями типа \"в группе меньше 7 человек\" мы отлично знакомы — здесь используются операторы сравнения, и это логические переменные.\n",
    "А вот объединяющие их **И**/**ИЛИ** — это и есть логические операторы, их также называют логическое **И** и логическое **ИЛИ**.\n",
    "\n",
    "Давайте разбираться на примерах."
   ]
  },
  {
   "cell_type": "code",
   "execution_count": null,
   "metadata": {
    "colab": {
     "base_uri": "https://localhost:8080/",
     "height": 68
    },
    "executionInfo": {
     "elapsed": 3239,
     "status": "ok",
     "timestamp": 1601667494574,
     "user": {
      "displayName": "Валентина Лебедева",
      "photoUrl": "https://lh3.googleusercontent.com/a-/AOh14Gg7Q7DrL9nVPebzX4mH-UNQJgHtGgmbWRs_ChLt=s64",
      "userId": "01364351571403829057"
     },
     "user_tz": -180
    },
    "id": "R7rhsSOzDrDO",
    "outputId": "8698a800-5c05-4727-d8ef-b597cb5ee82f"
   },
   "outputs": [
    {
     "name": "stdout",
     "output_type": "stream",
     "text": [
      "Сколько человек в группе? 20\n",
      "True\n",
      "False\n"
     ]
    }
   ],
   "source": [
    "group = int(input('Сколько человек в группе? '))\n",
    "print(group > 6) # В группе есть хотя бы 7 человек?\n",
    "print(group < 16)   # Состав группы не превышает 15 человек?"
   ]
  },
  {
   "cell_type": "markdown",
   "metadata": {
    "id": "BjoAB8q7DrDU"
   },
   "source": [
    "Смоделируем условие того, что группа идет в поход, с помощью логического **И**.\n",
    "\n",
    "В Python этот оператор записывается как ``and``."
   ]
  },
  {
   "cell_type": "code",
   "execution_count": 2,
   "metadata": {
    "colab": {
     "base_uri": "https://localhost:8080/",
     "height": 51
    },
    "executionInfo": {
     "elapsed": 2880,
     "status": "ok",
     "timestamp": 1601667510579,
     "user": {
      "displayName": "Валентина Лебедева",
      "photoUrl": "https://lh3.googleusercontent.com/a-/AOh14Gg7Q7DrL9nVPebzX4mH-UNQJgHtGgmbWRs_ChLt=s64",
      "userId": "01364351571403829057"
     },
     "user_tz": -180
    },
    "id": "l7w-_rX7DrDV",
    "outputId": "de9f7ebe-5203-4934-dddb-833723f49df6"
   },
   "outputs": [
    {
     "name": "stdout",
     "output_type": "stream",
     "text": [
      "Сколько человек в группе? 5\n",
      "False\n"
     ]
    }
   ],
   "source": [
    "group = int(input('Сколько человек в группе? '))\n",
    "print(group > 6 and group < 16) # &"
   ]
  },
  {
   "cell_type": "markdown",
   "metadata": {
    "id": "P9bnt89LDrDY"
   },
   "source": [
    "То есть в данном случае выражение будет истинным **только** тогда, когда **обе** логические переменные будут истинными.\n",
    "\n",
    "Теперь мы готовы записать требуемое условие."
   ]
  },
  {
   "cell_type": "code",
   "execution_count": null,
   "metadata": {
    "colab": {
     "base_uri": "https://localhost:8080/",
     "height": 51
    },
    "executionInfo": {
     "elapsed": 24722,
     "status": "ok",
     "timestamp": 1601668716948,
     "user": {
      "displayName": "Валентина Лебедева",
      "photoUrl": "https://lh3.googleusercontent.com/a-/AOh14Gg7Q7DrL9nVPebzX4mH-UNQJgHtGgmbWRs_ChLt=s64",
      "userId": "01364351571403829057"
     },
     "user_tz": -180
    },
    "id": "rH4JxrR62w35",
    "outputId": "5ec621f3-54c0-43dc-ff27-19cf58043b50"
   },
   "outputs": [
    {
     "name": "stdout",
     "output_type": "stream",
     "text": [
      "Сколько человек в группе? 12\n",
      "Группа может пойти в поход\n"
     ]
    }
   ],
   "source": [
    "group = int(input('Сколько человек в группе? '))\n",
    "if group > 6 and group < 16: \n",
    "    print('Группа может пойти в поход')\n",
    "else:\n",
    "    print('Группа не может пойти в поход')"
   ]
  },
  {
   "cell_type": "markdown",
   "metadata": {
    "id": "02BThEhK6FW_"
   },
   "source": [
    "Теперь смоделируем условие того, что группа НЕ идет в поход, с помощью логического **ИЛИ**.\n",
    "\n",
    "В Python этот оператор записывается как ``or``."
   ]
  },
  {
   "cell_type": "code",
   "execution_count": 4,
   "metadata": {
    "id": "Y7NX3Un7DrDZ",
    "outputId": "a9e0d08d-4caf-4e34-9cf1-1254de8bfb2b"
   },
   "outputs": [
    {
     "name": "stdout",
     "output_type": "stream",
     "text": [
      "Сколько человек в группе? 8\n",
      "False\n"
     ]
    }
   ],
   "source": [
    "group = int(input('Сколько человек в группе? '))\n",
    "print(group < 7 or group > 15) # |"
   ]
  },
  {
   "cell_type": "markdown",
   "metadata": {
    "id": "zugjkVPe2w34"
   },
   "source": [
    "Здесь выражение будет истинным тогда, когда **хотя бы одна** из двух логических переменных будет истинной.\n",
    "\n",
    "Записать условие того, что группа НЕ идет в поход, можно и другим способом: взять условие того, что группа идет в поход, и применить к нему логическое отрицание — оператор **НЕ**.\n",
    "\n",
    "Оператор **НЕ** \"переворачивает\" значения логических переменных, делая из ``True`` ``False``, а из ``False`` ``True``. В Python он записывается как ``not``."
   ]
  },
  {
   "cell_type": "code",
   "execution_count": 6,
   "metadata": {
    "colab": {
     "base_uri": "https://localhost:8080/",
     "height": 51
    },
    "executionInfo": {
     "elapsed": 4469,
     "status": "ok",
     "timestamp": 1601812299604,
     "user": {
      "displayName": "Tatiana Rogovich",
      "photoUrl": "https://lh3.googleusercontent.com/a-/AOh14Gjj1YqMwkiGsMOcK4XoZPpJp6kCbYZ6EqgvdL3EXA=s64",
      "userId": "08185984249235601298"
     },
     "user_tz": -180
    },
    "id": "kC3WFpBs2w39",
    "outputId": "61614887-bd52-4fa9-dd22-4a1e2aa75c9a"
   },
   "outputs": [
    {
     "name": "stdout",
     "output_type": "stream",
     "text": [
      "Сколько человек в группе? 4\n",
      "Группа не может пойти в поход\n"
     ]
    }
   ],
   "source": [
    "group = int(input('Сколько человек в группе? '))\n",
    "is_hike_possible = group > 6 and group < 16 # Проверяем, что группа идет в поход\n",
    "\n",
    "if not is_hike_possible:                    # Получаем \"противоположное\" значение с помощью not\n",
    "    print('Группа не может пойти в поход')\n",
    "else:\n",
    "    print('Группа может пойти в поход')"
   ]
  },
  {
   "cell_type": "markdown",
   "metadata": {
    "id": "DGc073YcDrDg"
   },
   "source": [
    "## Использование нескольких логических операторов в одном условии\n",
    "\n",
    "Мы можем использовать и несколько логических операторов в одном условии. Однако стоит помнить, что как и арифметические операторы, логические операторы имеют приоритет выполнения (как мы сначала умножаем числа, а потом складываем). Порядок выполнения операторов в одном выражении следующий:\n",
    "\n",
    "1. `not`\n",
    "2. `and`\n",
    "3. `or`\n",
    "\n",
    "Например, в предыдущем примере не выносить условие того, что группа может пойти в поход, в отдельную переменную."
   ]
  },
  {
   "cell_type": "code",
   "execution_count": null,
   "metadata": {
    "colab": {
     "base_uri": "https://localhost:8080/",
     "height": 51
    },
    "executionInfo": {
     "elapsed": 3024,
     "status": "ok",
     "timestamp": 1601672709489,
     "user": {
      "displayName": "Валентина Лебедева",
      "photoUrl": "https://lh3.googleusercontent.com/a-/AOh14Gg7Q7DrL9nVPebzX4mH-UNQJgHtGgmbWRs_ChLt=s64",
      "userId": "01364351571403829057"
     },
     "user_tz": -180
    },
    "id": "-0MSKGmZ-cU5",
    "outputId": "ef5ee5d7-97e5-4b33-b578-3a89d4472eea"
   },
   "outputs": [
    {
     "name": "stdout",
     "output_type": "stream",
     "text": [
      "Сколько человек в группе? 20\n",
      "Группа может пойти в поход\n"
     ]
    }
   ],
   "source": [
    "group = int(input('Сколько человек в группе? '))\n",
    "\n",
    "if not group > 6 and group < 16:\n",
    "    print('Группа не может пойти в поход')\n",
    "else:\n",
    "    print('Группа может пойти в поход')"
   ]
  },
  {
   "cell_type": "markdown",
   "metadata": {
    "id": "tsCayKcO-z0B"
   },
   "source": [
    "Упс, что-то пошло не так.\n",
    "\n",
    "Конечно, проблема в том, что в выражении \n",
    "\n",
    "```\n",
    "not group > 6 and group < 16\n",
    "```\n",
    "\n",
    "``not`` выполняется первым и условие сводится к \n",
    "\n",
    "```\n",
    "group <= 6 and group < 16\n",
    "```\n",
    "\n",
    "что эквивалентно ``group <= 6``. Но здесь есть еще один важный аспект: у логических операции есть особый приоритет выполнения, прямо как у арифметических (например, умножение приоритетнее сложения).\n",
    "\n",
    "У ``not`` самый высокий приоритет по сравнению с ``and`` и ``or``. Решить эту проблему можно, расставив скобки."
   ]
  },
  {
   "cell_type": "code",
   "execution_count": null,
   "metadata": {
    "colab": {
     "base_uri": "https://localhost:8080/",
     "height": 51
    },
    "executionInfo": {
     "elapsed": 5329,
     "status": "ok",
     "timestamp": 1601673086188,
     "user": {
      "displayName": "Валентина Лебедева",
      "photoUrl": "https://lh3.googleusercontent.com/a-/AOh14Gg7Q7DrL9nVPebzX4mH-UNQJgHtGgmbWRs_ChLt=s64",
      "userId": "01364351571403829057"
     },
     "user_tz": -180
    },
    "id": "koeIjNgeJ4oh",
    "outputId": "21e65fc6-0e71-4b83-ead8-ddc9cb786cf7"
   },
   "outputs": [
    {
     "name": "stdout",
     "output_type": "stream",
     "text": [
      "Сколько человек в группе? 20\n",
      "Группа не может пойти в поход\n"
     ]
    }
   ],
   "source": [
    "group = int(input('Сколько человек в группе? '))\n",
    "\n",
    "if not (group > 6 and group < 16):\n",
    "    print('Группа не может пойти в поход')\n",
    "else:\n",
    "    print('Группа может пойти в поход')"
   ]
  },
  {
   "cell_type": "markdown",
   "metadata": {
    "id": "DWUh4Nh79zTg"
   },
   "source": [
    "Теперь давайте посмотрим, как взаимодействуют ``and`` и ``or``.\n",
    "\n",
    "Например, мы хотим приготовить булочки с ягодами (вишней или черникой) из готового слоеного теста. Чтобы приготовить булочки, нам надо проверить, что у нас есть начинка и тесто.\n",
    "\n",
    "Можно решить задачу с помощью вложенного условия"
   ]
  },
  {
   "cell_type": "code",
   "execution_count": null,
   "metadata": {
    "id": "c8FhCGGH2w4A",
    "outputId": "ee267c20-9ab0-4d5e-c8f1-f0965d62f7af"
   },
   "outputs": [
    {
     "name": "stdout",
     "output_type": "stream",
     "text": [
      "У нас есть вишня? Да\n",
      "У нас есть черника? Да\n",
      "У нас есть тесто? Нет\n",
      "Не хватает продуктов\n"
     ]
    }
   ],
   "source": [
    "cherry = input('У нас есть вишня? ')\n",
    "blueberry = input('У нас есть черника? ')\n",
    "dough = input('У нас есть тесто? ')\n",
    "\n",
    "if cherry == 'Да' or blueberry == 'Да': # Проверяем, что есть начинка\n",
    "    if dough == 'Да':                   # Проверяем, что есть тесто\n",
    "        print('Готовим пирог')\n",
    "    else:\n",
    "        print('Не хватает продуктов')\n",
    "else:\n",
    "    print('Не хватает продуктов')"
   ]
  },
  {
   "cell_type": "markdown",
   "metadata": {
    "id": "OPpx_sNS2w4D"
   },
   "source": [
    "Решение получилось слишком сложным, к тому же пришлось писать два одинаковых ``else``.\n",
    "\n",
    "Мы можем просто записать несколько логических операторов в одном выражении."
   ]
  },
  {
   "cell_type": "code",
   "execution_count": null,
   "metadata": {
    "id": "ajYx-Hr42w4D",
    "outputId": "b3ee6c24-4d98-4f85-e352-6ac55b162e3f"
   },
   "outputs": [
    {
     "name": "stdout",
     "output_type": "stream",
     "text": [
      "У нас есть вишня? Да\n",
      "У нас есть черника? Нет\n",
      "У нас есть тесто? Нет\n",
      "Готовим пирог\n"
     ]
    }
   ],
   "source": [
    "cherry = input('У нас есть вишня? ')\n",
    "blueberry = input('У нас есть черника? ')\n",
    "dough = input('У нас есть тесто? ')\n",
    "\n",
    "if cherry == 'Да' or blueberry == 'Да' and dough == 'Да':\n",
    "    print('Готовим пирог')\n",
    "else:\n",
    "    print('Не хватает продуктов')"
   ]
  },
  {
   "cell_type": "markdown",
   "metadata": {
    "id": "qSWQI8Uq2w4H"
   },
   "source": [
    "Ошибка! У нас нет теста, но мы все равно готовим пирог.\n",
    "\n",
    "Это произошло из-за того, что оператор ``and`` имеет более высокий приоритет, чем ``or``.\n",
    "\n",
    "В нашем примере ``or`` выполнился вторым, и чтобы условие выполнилось, оказалось достаточным того, что на кухне есть только вишня.\n",
    "\n",
    "Чтобы исправить это, можно заключить ``or`` в скобки."
   ]
  },
  {
   "cell_type": "code",
   "execution_count": null,
   "metadata": {
    "colab": {
     "base_uri": "https://localhost:8080/",
     "height": 85
    },
    "executionInfo": {
     "elapsed": 7851,
     "status": "ok",
     "timestamp": 1601815360413,
     "user": {
      "displayName": "Валентина Лебедева",
      "photoUrl": "https://lh3.googleusercontent.com/a-/AOh14Gg7Q7DrL9nVPebzX4mH-UNQJgHtGgmbWRs_ChLt=s64",
      "userId": "01364351571403829057"
     },
     "user_tz": -180
    },
    "id": "1-Uze9pE2w4I",
    "outputId": "461fd36b-840f-47b3-922d-fc00a9670919"
   },
   "outputs": [
    {
     "name": "stdout",
     "output_type": "stream",
     "text": [
      "У нас есть вишня? Да\n",
      "У нас есть черника? Нет\n",
      "У нас есть тесто? Да\n",
      "Готовим пирог\n"
     ]
    }
   ],
   "source": [
    "cherry = input('У нас есть вишня? ')\n",
    "blueberry = input('У нас есть черника? ')\n",
    "dough = input('У нас есть тесто? ')\n",
    "\n",
    "if (cherry == 'Да' or blueberry == 'Да') and dough == 'Да':\n",
    "    print('Готовим пирог')\n",
    "else:\n",
    "    print('Не хватает продуктов')"
   ]
  },
  {
   "cell_type": "markdown",
   "metadata": {
    "id": "RJb-tRA_DrEB"
   },
   "source": [
    "Вот теперь все верно!\n"
   ]
  }
 ],
 "metadata": {
  "colab": {
   "collapsed_sections": [],
   "name": "3.4_valya_v1.ipynb",
   "provenance": []
  },
  "kernelspec": {
   "display_name": "Python 3 (ipykernel)",
   "language": "python",
   "name": "python3"
  },
  "language_info": {
   "codemirror_mode": {
    "name": "ipython",
    "version": 3
   },
   "file_extension": ".py",
   "mimetype": "text/x-python",
   "name": "python",
   "nbconvert_exporter": "python",
   "pygments_lexer": "ipython3",
   "version": "3.10.8"
  }
 },
 "nbformat": 4,
 "nbformat_minor": 4
}
