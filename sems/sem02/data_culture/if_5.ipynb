{
 "cells": [
  {
   "cell_type": "markdown",
   "metadata": {},
   "source": [
    "# Тема 2. Чему мы научились?\n",
    "<div class=\"alert alert-info alertinfo\">\n",
    "\n",
    "<b><span style=\"color: black; font-style: italic\">Если вы нашли опечатку или другую проблему в этом материале, пожалуйста, расскажите нам об этом на <a href=\"https://edu.hse.ru/mod/forum/discuss.php?d=22865\" style=\"color: blue; font-style: italic\">форуме курса</a>. Спасибо, что помогаете нам стать лучше!</span></b>\n",
    "\n",
    "</div>\n",
    "\n",
    "1. **Узнали, что такое логический тип данных**."
   ]
  },
  {
   "cell_type": "code",
   "execution_count": 56,
   "metadata": {},
   "outputs": [
    {
     "name": "stdout",
     "output_type": "stream",
     "text": [
      "True False\n",
      "<class 'bool'>\n"
     ]
    }
   ],
   "source": [
    "yes = True         # Истина\n",
    "no = False         # Ложь\n",
    "print(yes, no)\n",
    "print(type(yes))   # Проверяем тип данных — bool"
   ]
  },
  {
   "cell_type": "markdown",
   "metadata": {},
   "source": [
    "2. Научились **использовать операторы сравнения**, чтобы получать логический тип данных."
   ]
  },
  {
   "cell_type": "code",
   "execution_count": 54,
   "metadata": {},
   "outputs": [
    {
     "name": "stdout",
     "output_type": "stream",
     "text": [
      "True\n",
      "False\n",
      "False\n",
      "True\n",
      "True\n",
      "False\n"
     ]
    }
   ],
   "source": [
    "print(2 == 2)  # 2 равно 2 — это утверждение истинно\n",
    "print(2 != 2)  # 2 не равно 2 — это утверждение ложно\n",
    "print(2 > 3)   # 2 больше 3 — это утверждение ложно\n",
    "print(2 < 3)   # 2 меньше 2 — это утверждение истинно\n",
    "print(3 >= 3)  # 3 больше или равно 3 — это утверждение истинно\n",
    "print(4 <= 3)  # 4 меньше или равно 3 — это утверждение ложно"
   ]
  },
  {
   "cell_type": "markdown",
   "metadata": {},
   "source": [
    "Можно сравнивать и строки."
   ]
  },
  {
   "cell_type": "code",
   "execution_count": 55,
   "metadata": {},
   "outputs": [
    {
     "name": "stdout",
     "output_type": "stream",
     "text": [
      "True\n"
     ]
    }
   ],
   "source": [
    "name = 'Петя'\n",
    "print(name == 'Петя')  # Строка, сохраненная в переменной name \"равна\" строке \"Петя\" — утверждение истинно"
   ]
  },
  {
   "cell_type": "markdown",
   "metadata": {},
   "source": [
    "3. Научились **\"разветвлять\" логику программы** с помощью условного оператора `if`, а также писать вложенные условия."
   ]
  },
  {
   "cell_type": "code",
   "execution_count": 33,
   "metadata": {},
   "outputs": [
    {
     "name": "stdout",
     "output_type": "stream",
     "text": [
      "Идем в магазин\n",
      "Завтракаем\n"
     ]
    }
   ],
   "source": [
    "eggs = 1\n",
    "yougurt = 'да'\n",
    "\n",
    "# Проверяем условие, что количество яиц меньше двух, то есть их недостаточно\n",
    "if eggs < 2:  \n",
    "    print('Идем в магазин')\n",
    "print('Завтракаем')"
   ]
  },
  {
   "cell_type": "code",
   "execution_count": 34,
   "metadata": {},
   "outputs": [
    {
     "name": "stdout",
     "output_type": "stream",
     "text": [
      "Завтракаем\n"
     ]
    }
   ],
   "source": [
    "eggs = 1\n",
    "yougurt = 'да'\n",
    "\n",
    "if eggs < 2:                  \n",
    "    if yougurt == 'нет':\n",
    "        print('Идем в магазин') # Идем в магазин только в случае, когда нет ни йогурта, ни яиц\n",
    "\n",
    "print('Завтракаем')"
   ]
  },
  {
   "cell_type": "markdown",
   "metadata": {},
   "source": [
    "4. **Научились использовать оператор `else` для обработки \"всех остальных случаев\"**, которые не удовлетворяют нашему условию."
   ]
  },
  {
   "cell_type": "code",
   "execution_count": 32,
   "metadata": {},
   "outputs": [
    {
     "name": "stdout",
     "output_type": "stream",
     "text": [
      "Завтракаем в кафе\n"
     ]
    }
   ],
   "source": [
    "eggs = 1\n",
    "\n",
    "if eggs < 2: \n",
    "    print('Завтракаем в кафе') # Завтракаем в кафе только в случае, когда яиц недостаточно\n",
    "else:\n",
    "    print('Завтракаем дома')   # Во всех остальных случаях (=когда яиц достаточно) — завтракаем дома"
   ]
  },
  {
   "cell_type": "markdown",
   "metadata": {},
   "source": [
    "А также писать вложенные конструкции с `else`."
   ]
  },
  {
   "cell_type": "code",
   "execution_count": 35,
   "metadata": {},
   "outputs": [
    {
     "name": "stdout",
     "output_type": "stream",
     "text": [
      "Завтракаем йогуртом\n"
     ]
    }
   ],
   "source": [
    "eggs = 1\n",
    "yogurt = 'да'\n",
    "\n",
    "if eggs < 2:                  \n",
    "    if yogurt == 'нет':\n",
    "        print('Идем в магазин')\n",
    "    else:                             # else относится к условию про йогурт\n",
    "        print('Завтракаем йогуртом')\n",
    "else:                                 # этот else относится к условию про количество яиц\n",
    "    print('Завтракаем яичницей')"
   ]
  },
  {
   "cell_type": "markdown",
   "metadata": {},
   "source": [
    "5. Научились **использовать оператор `elif` для проверки дополнительных условий**."
   ]
  },
  {
   "cell_type": "code",
   "execution_count": 36,
   "metadata": {},
   "outputs": [
    {
     "name": "stdout",
     "output_type": "stream",
     "text": [
      "Завтракаем йогуртом\n"
     ]
    }
   ],
   "source": [
    "eggs = 0\n",
    "yougurtyou = 'да'\n",
    "\n",
    "if eggs > 2:                      # Если дома 3 и больше яйца -> завтракаем яичницей\n",
    "    print('Завтракаем яичницей') \n",
    "elif yogurt == 'да':              # Если яиц недостаточно, но дома есть йогурт —> завтракаем йогуртом\n",
    "    print('Завтракаем йогуртом')\n",
    "else:                             # Во всех остальных случаях —> идем в кафе\n",
    "    print('Завтракаем в кафе')"
   ]
  },
  {
   "cell_type": "markdown",
   "metadata": {},
   "source": [
    "6. Научились **использовать логические операторы — ключевые слова `or`, `and`, `not` — для составления более сложных логических утверждений**.\n",
    "\n",
    "* Логическое отрицание (`not`) **изменяет `True` на `False` и наоборот**\n",
    "* Логическое И (`and`) **возвращает истину только тогда, когда оба условия истинны**\n",
    "* Логическое ИЛИ (`or`) **возвращает истину тогда, когда хотя бы одно условие истинно**\n"
   ]
  },
  {
   "cell_type": "code",
   "execution_count": 39,
   "metadata": {},
   "outputs": [
    {
     "name": "stdout",
     "output_type": "stream",
     "text": [
      "True\n",
      "False\n",
      "False\n",
      "False\n"
     ]
    }
   ],
   "source": [
    "gender = 'woman'\n",
    "age = 18\n",
    "print(gender == 'woman' and age >= 18)  # Оба условия истинны -> True\n",
    "print(gender == 'men' and age >= 18)    # Первое условие ложно -> False\n",
    "print(gender == 'woman' and age >= 25)  # Второе условие ложно -> False\n",
    "print(gender == 'men' and age >= 25)    # Оба условия ложны -> False"
   ]
  },
  {
   "cell_type": "code",
   "execution_count": 41,
   "metadata": {},
   "outputs": [
    {
     "name": "stdout",
     "output_type": "stream",
     "text": [
      "True\n",
      "True\n",
      "True\n",
      "False\n"
     ]
    }
   ],
   "source": [
    "gender = 'woman'\n",
    "age = 18\n",
    "print(gender == 'woman' or age >= 18)  # Оба условия истинны -> True\n",
    "print(gender == 'men' or age >= 18)    # Второе условие истинно -> True\n",
    "print(gender == 'woman' or age >= 25)  # Первое условие истинно -> True\n",
    "print(gender == 'men' or age >= 25)    # Оба условия ложны -> False"
   ]
  },
  {
   "cell_type": "code",
   "execution_count": 45,
   "metadata": {},
   "outputs": [
    {
     "name": "stdout",
     "output_type": "stream",
     "text": [
      "True\n",
      "False\n",
      "True\n"
     ]
    }
   ],
   "source": [
    "gender = 'woman'\n",
    "age = 18\n",
    "\n",
    "is_woman = gender == 'woman' # Сохраняем результат логического сравнения в переменную\n",
    "print(is_woman)              # Выводим значение переменной\n",
    "\n",
    "# Используем логическое отрицание с переменной: True -> False\n",
    "print(not(is_woman))       \n",
    "\n",
    "# Используем логическое отрицание с выражением: False -> True\n",
    "print(not(gender == 'men' and age >= 18))  "
   ]
  },
  {
   "cell_type": "markdown",
   "metadata": {},
   "source": [
    "**Порядок применения операторов:**\n",
    "\n",
    "1. `not`\n",
    "2. `and`\n",
    "3. `or`\n",
    "\n",
    "Если вам нужно изменить этот порядок, то, как и арифметике, используйте скобки для группировки операций."
   ]
  },
  {
   "cell_type": "code",
   "execution_count": 57,
   "metadata": {},
   "outputs": [
    {
     "name": "stdout",
     "output_type": "stream",
     "text": [
      "Готовим пирог\n"
     ]
    }
   ],
   "source": [
    "# Неправильный ответ, потому что сначала вычисляется and, а затем or\n",
    "cherry = 'Да'\n",
    "blueberry = 'Нет'\n",
    "dough = 'Нет'\n",
    "\n",
    "# Программа должна выводить 'Готовим пирог', \n",
    "# если у нас есть хотя бы один вид ягод И тесто\n",
    "if cherry == 'Да' or blueberry == 'Да' and dough == 'Да':\n",
    "    print('Готовим пирог')\n",
    "else:\n",
    "    print('Не хватает продуктов')"
   ]
  },
  {
   "cell_type": "code",
   "execution_count": 58,
   "metadata": {},
   "outputs": [
    {
     "name": "stdout",
     "output_type": "stream",
     "text": [
      "Не хватает продуктов\n"
     ]
    }
   ],
   "source": [
    "# Правильный ответ, потому что теперь сначала вычисляется \n",
    "# выражение с or в скобках и только затем and\n",
    "cherry = 'Да'\n",
    "blueberry = 'Нет'\n",
    "dough = 'Нет'\n",
    "\n",
    "# Программа должна выводить 'Готовим пирог', \n",
    "# если у нас есть хотя бы один вид ягод И тесто\n",
    "if (cherry == 'Да' or blueberry == 'Да') and dough == 'Да':\n",
    "    print('Готовим пирог')\n",
    "else:\n",
    "    print('Не хватает продуктов')"
   ]
  }
 ],
 "metadata": {
  "kernelspec": {
   "display_name": "Python 3 (ipykernel)",
   "language": "python",
   "name": "python3"
  },
  "language_info": {
   "codemirror_mode": {
    "name": "ipython",
    "version": 3
   },
   "file_extension": ".py",
   "mimetype": "text/x-python",
   "name": "python",
   "nbconvert_exporter": "python",
   "pygments_lexer": "ipython3",
   "version": "3.10.8"
  }
 },
 "nbformat": 4,
 "nbformat_minor": 4
}
