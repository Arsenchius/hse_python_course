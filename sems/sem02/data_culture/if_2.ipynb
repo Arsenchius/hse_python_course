{
 "cells": [
  {
   "cell_type": "markdown",
   "metadata": {
    "id": "I5vVn9-Zitxh"
   },
   "source": [
    "# Условия в языке Python. Конструкция ``if...else``\n",
    "\n",
    "\n",
    "<div class=\"alert alert-info alertinfo\">\n",
    "\n",
    "<b><span style=\"color: black; font-style: italic\">Если вы нашли опечатку или другую проблему в этом материале, пожалуйста, расскажите нам об этом на <a href=\"https://edu.hse.ru/mod/forum/discuss.php?d=22865\" style=\"color: blue; font-style: italic\">форуме курса</a>. Спасибо, что помогаете нам стать лучше!</span></b>\n",
    "\n",
    "</div>"
   ]
  },
  {
   "cell_type": "markdown",
   "metadata": {
    "id": "99bn-xBCitxi"
   },
   "source": [
    "Понятие условного оператора нам с вами уже знакомо. Теперь рассмотрим реализацию этой конструкции в языке Python."
   ]
  },
  {
   "cell_type": "markdown",
   "metadata": {
    "id": "wMkRjeNDitxk"
   },
   "source": [
    "## Логические переменные\n",
    "\n",
    "Рассмотрим подробнее пример действий при готовке яичницы:\n",
    "\n",
    "*Если в холодильнике нет яиц — мы идем в магазин.*\n",
    "\n",
    "Вот так выглядела блок-схема для этой последовательности действий.\n",
    "\n",
    "<img src=\"https://github.com/lalentine96/img/blob/main/hse-foreign/3.2/1.png?raw='true'\" width=\"300\">\n",
    "\n",
    "Здесь используется условие — <*Если в холодильнике нет яиц*>\n",
    "\n",
    "Два возможных варианта:\n",
    "* В холодильнике действительно нет яиц, тогда *условие выполняется* и принимает значение **Истина** \n",
    "* В холодильнике есть яйца, тогда *условие НЕ выполняется* и принимает значение **Ложь**. \n",
    "\n",
    "Как видите, условие *принимает значение*, то есть является переменной. Но она может принимать всего два значения — Истина и Ложь.\n",
    "\n",
    "Такие переменные, которые могут принимать либо истинное либо ложное значения, мы будем называть **логическими переменными**."
   ]
  },
  {
   "cell_type": "markdown",
   "metadata": {
    "id": "n5PJIuzMitxl"
   },
   "source": [
    "## Операторы сравнения\n",
    "Что значит <*Если в холодильнике нет яиц*>? Как описать условие на языке Python?\n",
    "\n",
    "Если <*Если в холодильнике нет яиц*>, это значит, что количество яиц равно нулю.\n",
    "\n",
    "```\n",
    "Если <количество яиц = 0>, то <мы идем в магазин>\n",
    "```\n",
    "\n",
    "Но такая запись будет не верна. Мы использовали с вами оператор ``=``, который не сравнивает, а присваивает, то есть записывает в переменную с названием <*количество яиц*> значение 0. \n",
    "\n",
    "Чтобы проверить, что два значения равны между собой, нужно использовать оператор ``==``.\n",
    "\n",
    "```\n",
    "Если <количество яиц == 0>, то <мы идем в магазин>\n",
    "```\n",
    "\n",
    "Какие еще операторы сравнения есть?\n",
    "\n",
    "- **``>``** — оператор \"больше\";\n",
    "- **``<``** — оператор \"меньше\";\n",
    "- **``==``** — оператор \"равно\".\n",
    "- **``>=``** — оператор \"больше или равно\";\n",
    "- **``<=``** — оператор \"меньше или равно\";\n",
    "- **``!=``** — оператор \"не равно\".\n",
    "    \n",
    "Если Python \"увидел\" оператор сравнения, он воспринимает такую запись как логическую переменную.\n",
    "    \n",
    "Рассмотрим пример логической переменной, являющейся результатом сравнения.\n",
    "    \n",
    "10 равно 10 — это утверждение истинно.\n"
   ]
  },
  {
   "cell_type": "code",
   "execution_count": 1,
   "metadata": {
    "id": "izZIVbLbitxm",
    "outputId": "3a5eb554-807e-4e1c-d41f-b5630acba3c2"
   },
   "outputs": [
    {
     "name": "stdout",
     "output_type": "stream",
     "text": [
      "True\n"
     ]
    }
   ],
   "source": [
    "print(10 == 10)"
   ]
  },
  {
   "cell_type": "markdown",
   "metadata": {
    "id": "hhrYfePRitxt"
   },
   "source": [
    "Сравнивать можно и результаты арифметических выражений."
   ]
  },
  {
   "cell_type": "code",
   "execution_count": 2,
   "metadata": {
    "id": "pnvRXPq7itxu",
    "outputId": "5387a9c5-9cfe-4b39-af85-c497b781b87d"
   },
   "outputs": [
    {
     "name": "stdout",
     "output_type": "stream",
     "text": [
      "True\n"
     ]
    }
   ],
   "source": [
    "print(9 + 1 == 10)"
   ]
  },
  {
   "cell_type": "markdown",
   "metadata": {
    "id": "2hwcvW5sitxz"
   },
   "source": [
    "Рассмотрим пример ложного утверждения: 10 больше 10."
   ]
  },
  {
   "cell_type": "code",
   "execution_count": 3,
   "metadata": {
    "id": "9xVvr3seitx0",
    "outputId": "20f76c61-11a7-4c42-ba2d-d8ade7a5069a"
   },
   "outputs": [
    {
     "name": "stdout",
     "output_type": "stream",
     "text": [
      "False\n"
     ]
    }
   ],
   "source": [
    "print(10 > 10)"
   ]
  },
  {
   "cell_type": "markdown",
   "metadata": {
    "id": "pret5ysFitx5"
   },
   "source": [
    "Как мы видим, в Python истинные значения называются **``True``**, а ложные — **``False``**.\n",
    "\n",
    "Для логических переменных в Python есть свой тип данных — **``bool``**.\n",
    "\n",
    "Убедимся в этом с помощью функции ``type()``."
   ]
  },
  {
   "cell_type": "code",
   "execution_count": null,
   "metadata": {
    "id": "KKthXd3kitx5",
    "outputId": "d6cd8c00-0cc7-4c98-ef00-6c7db6e97825"
   },
   "outputs": [
    {
     "name": "stdout",
     "output_type": "stream",
     "text": [
      "<class 'bool'>\n"
     ]
    }
   ],
   "source": [
    "print(type(10 > 10))"
   ]
  },
  {
   "cell_type": "code",
   "execution_count": null,
   "metadata": {
    "id": "ARdmLMfJitx_",
    "outputId": "7645e8e4-b803-48c7-b474-b02ffc7b4c70"
   },
   "outputs": [
    {
     "name": "stdout",
     "output_type": "stream",
     "text": [
      "<class 'bool'>\n"
     ]
    }
   ],
   "source": [
    "print(type(True))"
   ]
  },
  {
   "cell_type": "markdown",
   "metadata": {
    "id": "zM45qqQIityE"
   },
   "source": [
    "Теперь стало понятно, как именно Python воспринимает подобные конструкции."
   ]
  },
  {
   "cell_type": "markdown",
   "metadata": {
    "id": "0nh0BVPstCdl"
   },
   "source": [
    "## Оператор ``if``"
   ]
  },
  {
   "cell_type": "markdown",
   "metadata": {
    "id": "mWQAE62tityF"
   },
   "source": [
    "Теперь мы можем переходить к реализации условия в Python.\n",
    "\n",
    "Конструкция *«Если <выполняется условие>, то <выполняются инструкции>»* реализуется следующим образом:\n",
    "\n",
    "```\n",
    "if <условие>:\n",
    "    <инструкции, если условие выполнилось>\n",
    "```\n",
    "\n",
    "В этой конструкции *условие* — это всегда некоторая логическая переменная.\n",
    "Теперь мы можем записать наш пример с яичницей.\n",
    "\n",
    "<img src=\"https://github.com/lalentine96/img/blob/main/hse-foreign/3.2/if.png?raw='true'\" width=\"200\">"
   ]
  },
  {
   "cell_type": "code",
   "execution_count": 7,
   "metadata": {
    "colab": {
     "base_uri": "https://localhost:8080/",
     "height": 68
    },
    "executionInfo": {
     "elapsed": 6931,
     "status": "ok",
     "timestamp": 1601749167575,
     "user": {
      "displayName": "Валентина Лебедева",
      "photoUrl": "https://lh3.googleusercontent.com/a-/AOh14Gg7Q7DrL9nVPebzX4mH-UNQJgHtGgmbWRs_ChLt=s64",
      "userId": "01364351571403829057"
     },
     "user_tz": -180
    },
    "id": "-UFM-zepityH",
    "outputId": "4171f693-2c4d-45ca-d11b-079f08bb09be"
   },
   "outputs": [
    {
     "name": "stdout",
     "output_type": "stream",
     "text": [
      "Сколько яиц в холодильнике? 10\n",
      "Готовим яичницу\n"
     ]
    }
   ],
   "source": [
    "eggs = int(input('Сколько яиц в холодильнике? '))   # Выводим на экран вопрос и запоминаем ответ внутри переменной eggs\n",
    "\n",
    "if eggs == 0:                # Обрабатываем ответ пользователя и\n",
    "    print('Идем в магазин')  # выводим на экран событие если условие истинно\n",
    "\n",
    "print('Готовим яичницу')"
   ]
  },
  {
   "cell_type": "markdown",
   "metadata": {
    "id": "q4ekgdVhityM"
   },
   "source": [
    "Таким образом, инструкции выполняются тогда и только тогда, когда выражение, записанное после ``if``, равно ``True``.\n",
    "\n",
    "Обратите внимание, что инструкции, которые надо выполнить в случае выполнения условия, пишутся с отступом от левого края. В дальнейшем мы всегда будем делать отступы, перечисляя инструкции, относящийся к конкретной конструкции.\n",
    "\n",
    "Теперь давайте будем считать, что для готовки яичницы нам обязательно нужно хотя бы три яйца.\n",
    "\n",
    "<img src=\"https://github.com/lalentine96/img/blob/main/hse-foreign/3.2/if-2.png?raw='true'\" width=\"200\">"
   ]
  },
  {
   "cell_type": "code",
   "execution_count": 8,
   "metadata": {
    "colab": {
     "base_uri": "https://localhost:8080/",
     "height": 68
    },
    "executionInfo": {
     "elapsed": 6129,
     "status": "ok",
     "timestamp": 1601749279131,
     "user": {
      "displayName": "Валентина Лебедева",
      "photoUrl": "https://lh3.googleusercontent.com/a-/AOh14Gg7Q7DrL9nVPebzX4mH-UNQJgHtGgmbWRs_ChLt=s64",
      "userId": "01364351571403829057"
     },
     "user_tz": -180
    },
    "id": "1w07LEtGsEqu",
    "outputId": "f227cdb3-6ee0-4607-cd77-283eaf2a3dd4"
   },
   "outputs": [
    {
     "name": "stdout",
     "output_type": "stream",
     "text": [
      "Сколько яиц в холодильнике? 2\n",
      "Идем в магазин\n",
      "Готовим яичницу\n"
     ]
    }
   ],
   "source": [
    "eggs = int(input('Сколько яиц в холодильнике? '))\n",
    "                                                        \n",
    "if eggs < 3:                  # Проверяем условие, что количество яиц меньше трех, то есть их недостаточно\n",
    "    print('Идем в магазин')\n",
    "\n",
    "print('Готовим яичницу')"
   ]
  },
  {
   "cell_type": "markdown",
   "metadata": {
    "id": "4LUXOxpLmIYn"
   },
   "source": [
    "## Оператор ``else``"
   ]
  },
  {
   "cell_type": "markdown",
   "metadata": {
    "id": "s7D2MEYwtCdt"
   },
   "source": [
    "Пусть теперь в случае нехватки яиц мы хотим не идти в магазин, а пойти в кафе в соседнем доме и позавтракать там.\n",
    "\n",
    "То есть в предыдущем примере мы совершали какое-то действие только в том случае, когда условие выполнялось, а теперь нам нужно обработать оба случая.\n",
    "\n",
    "Для начала попробуем просто добавить еще одну конструкцию ``if``."
   ]
  },
  {
   "cell_type": "code",
   "execution_count": 9,
   "metadata": {
    "id": "H8DnEk9hityN",
    "outputId": "c6921ffd-c9c2-4de6-b2d9-bb9b93df2e21"
   },
   "outputs": [
    {
     "name": "stdout",
     "output_type": "stream",
     "text": [
      "Сколько яиц в холодильнике? 1\n",
      "Идем завтракать в кафе\n"
     ]
    }
   ],
   "source": [
    "eggs = int(input('Сколько яиц в холодильнике? '))\n",
    "# первое условие\n",
    "if eggs < 3:\n",
    "    print('Идем завтракать в кафе')\n",
    "# второе условие\n",
    "if eggs >= 3:       \n",
    "    print('Готовим яичницу')  "
   ]
  },
  {
   "cell_type": "markdown",
   "metadata": {
    "id": "TEMnTlLYityR"
   },
   "source": [
    "Вычисление логической переменной в дальнейшем может оказаться довольно громоздким, и прописывать отдельно \"противоположное\" ему может быть неудобно.\n",
    "\n",
    "Решить эту проблему мы можем с помощью оператора ``else``.\n",
    "\n",
    "```\n",
    "if <условие>:\n",
    "    <инструкции, если условие выполнилось>\n",
    "else:\n",
    "    <инструкции если условие не выполнилось>\n",
    "```  \n",
    "\n",
    "Инструкции, записанные после ``else``, будут выполняться тогда и только тогда, когда выражение, записанное после ``if``, равно ``False``.\n",
    "\n",
    "Вот так теперь будет выглядеть решение нашей задачи.\n",
    "\n",
    "<img src=\"https://github.com/lalentine96/img/blob/main/hse-foreign/3.2/else.png?raw='true'\" width=\"300\">\n"
   ]
  },
  {
   "cell_type": "code",
   "execution_count": 11,
   "metadata": {
    "id": "nZkeESIoityS",
    "outputId": "a518321b-f809-4cb6-e0ef-efb1d674d200"
   },
   "outputs": [
    {
     "name": "stdout",
     "output_type": "stream",
     "text": [
      "Сколько яиц в холодильнике? 10\n",
      "Готовим яичницу\n"
     ]
    }
   ],
   "source": [
    "eggs = int(input('Сколько яиц в холодильнике? '))\n",
    "\n",
    "# Конструкция if...else:\n",
    "if eggs < 3:\n",
    "    print('Идем завтракать в кафе')  # Инструкции, если условие выполнилось\n",
    "else:\n",
    "    print('Готовим яичницу')         # Инструкции если условие не выполнилось"
   ]
  },
  {
   "cell_type": "markdown",
   "metadata": {
    "id": "vgFywxH1nVzC"
   },
   "source": [
    "Теперь в одном условии обрабатываются сразу два случая: когда оно выполняется, и когда оно не выполняется."
   ]
  },
  {
   "cell_type": "markdown",
   "metadata": {
    "id": "U4fl4XdGityW"
   },
   "source": [
    "## Вложенные конструкции ``if``\n",
    "\n",
    "Нередко при выполнении (или невыполнении) условия нам нужно проверить выполнение еще одного условия. То есть внутри конструкции ``if`` будет еще одна конструкция ``if``, так называемая вложенная конструкция.\n",
    "\n",
    "В дальнейшем вложенные конструкции будут нередко нам встречаться. Обратите внимание на отступы во вложенных конструкциях.\n",
    "\n",
    "Давайте теперь при наличии яиц будем проверять еще и наличие молока, чтобы приготовить омлет.\n",
    "\n",
    "<img src=\"https://github.com/lalentine96/img/blob/main/hse-foreign/3.2/nested-if.png?raw='true'\" width=\"350\">"
   ]
  },
  {
   "cell_type": "code",
   "execution_count": 2,
   "metadata": {
    "colab": {
     "base_uri": "https://localhost:8080/",
     "height": 85
    },
    "executionInfo": {
     "elapsed": 9381,
     "status": "ok",
     "timestamp": 1601664111700,
     "user": {
      "displayName": "Валентина Лебедева",
      "photoUrl": "https://lh3.googleusercontent.com/a-/AOh14Gg7Q7DrL9nVPebzX4mH-UNQJgHtGgmbWRs_ChLt=s64",
      "userId": "01364351571403829057"
     },
     "user_tz": -180
    },
    "id": "gx-pjN95ityX",
    "outputId": "0a8b61e5-e800-48e6-a179-24a7757b9b62"
   },
   "outputs": [
    {
     "name": "stdout",
     "output_type": "stream",
     "text": [
      "Сколько яиц в холодильнике? 4\n",
      "Готовим дома!\n",
      "Есть ли молоко? Да\n",
      "Готовим омлет\n"
     ]
    }
   ],
   "source": [
    "eggs = int(input('Сколько яиц в холодильнике? '))\n",
    "\n",
    "# Конструкция if...else:\n",
    "if eggs >= 3:       \n",
    "    print('Готовим дома!')            # Инструкции, если условие выполнилось\n",
    "    milk = input('Есть ли молоко? ')\n",
    "    \n",
    "    # Вложенное условие:\n",
    "    if milk == 'Да': \n",
    "        print('Готовим омлет')        # Инструкции записываются после двойного отступа\n",
    "\n",
    "else:\n",
    "    print('Идем завтракать в кафе!')  # Инструкции, если условие не выполнилось"
   ]
  },
  {
   "cell_type": "markdown",
   "metadata": {
    "id": "C-Mrz67Nityb"
   },
   "source": [
    "Вложенной может быть не только конструкция ``if``, но и конструкция ``if...else``.\n",
    "\n",
    "Например, если у нас есть только яйца, а молока нет, приготовим яичницу\n",
    "\n",
    "<img src=\"https://github.com/lalentine96/img/blob/main/hse-foreign/3.2/nested-if-else.png?raw='true'\" width=\"400\">"
   ]
  },
  {
   "cell_type": "code",
   "execution_count": null,
   "metadata": {
    "id": "qOXVEk1yityc",
    "outputId": "4eb07f59-fa22-4fdc-fa27-35a169689152"
   },
   "outputs": [
    {
     "name": "stdout",
     "output_type": "stream",
     "text": [
      "Сколько яиц в холодильнике? 5\n",
      "Готовим дома!\n",
      "Есть ли молоко? Нет\n",
      "Готовим яичницу\n"
     ]
    }
   ],
   "source": [
    "eggs = int(input('Сколько яиц в холодильнике? '))\n",
    "\n",
    "# Конструкция if...else:\n",
    "if eggs >= 3:       \n",
    "    print('Готовим дома!')            # Инструкции, если условие выполнилось\n",
    "    milk = input('Есть ли молоко? ')\n",
    "    \n",
    "    # Вложенное условие:\n",
    "    if milk == 'Да':\n",
    "        print('Готовим омлет')\n",
    "    else:\n",
    "        print('Готовим яичницу')\n",
    "\n",
    "else:\n",
    "    print('Идем завтракать в кафе!')  # Инструкции если условие не выполнилось"
   ]
  }
 ],
 "metadata": {
  "colab": {
   "collapsed_sections": [],
   "name": "1.3.2 Конструкции if, else.ipynb",
   "provenance": []
  },
  "kernelspec": {
   "display_name": "Python 3 (ipykernel)",
   "language": "python",
   "name": "python3"
  },
  "language_info": {
   "codemirror_mode": {
    "name": "ipython",
    "version": 3
   },
   "file_extension": ".py",
   "mimetype": "text/x-python",
   "name": "python",
   "nbconvert_exporter": "python",
   "pygments_lexer": "ipython3",
   "version": "3.10.8"
  }
 },
 "nbformat": 4,
 "nbformat_minor": 4
}
