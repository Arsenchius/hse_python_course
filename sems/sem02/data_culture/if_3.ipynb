{
 "cells": [
  {
   "cell_type": "markdown",
   "metadata": {
    "id": "yTVKx_G2CE5c"
   },
   "source": [
    "# Конструкция ``if...elif``\n",
    "\n",
    "<div class=\"alert alert-info alertinfo\">\n",
    "\n",
    "<b><span style=\"color: black; font-style: italic\">Если вы нашли опечатку или другую проблему в этом материале, пожалуйста, расскажите нам об этом на <a href=\"https://edu.hse.ru/mod/forum/discuss.php?d=22865\" style=\"color: blue; font-style: italic\">форуме курса</a>. Спасибо, что помогаете нам стать лучше!</span></b>\n",
    "\n",
    "</div>"
   ]
  },
  {
   "cell_type": "markdown",
   "metadata": {
    "id": "m7d63ay6CE5d"
   },
   "source": [
    "В предыдущих примерах в рамках одной конструкции `if` мы обрабатывали одно условие и один либо два варианта развития событий. Но что, если нам нужно больше?\n",
    "\n",
    "Пусть мы зашли в кофейню и хотим выбрать напиток — чай или кофе."
   ]
  },
  {
   "cell_type": "markdown",
   "metadata": {
    "id": "rOXRo5B2CE58"
   },
   "source": [
    "Бариста спрашивает, какой напиток мы хотим."
   ]
  },
  {
   "cell_type": "code",
   "execution_count": 1,
   "metadata": {
    "colab": {
     "base_uri": "https://localhost:8080/",
     "height": 34
    },
    "executionInfo": {
     "elapsed": 5298,
     "status": "ok",
     "timestamp": 1601927825499,
     "user": {
      "displayName": "Валентина Лебедева",
      "photoUrl": "https://lh3.googleusercontent.com/a-/AOh14Gg7Q7DrL9nVPebzX4mH-UNQJgHtGgmbWRs_ChLt=s64",
      "userId": "01364351571403829057"
     },
     "user_tz": -180
    },
    "id": "btxOp93ZCE6Q",
    "outputId": "e4a9360f-2a8e-4d6c-c287-170741b07be0"
   },
   "outputs": [
    {
     "name": "stdout",
     "output_type": "stream",
     "text": [
      "Какой напиток желаете? кофе\n"
     ]
    }
   ],
   "source": [
    "coffee = input('Какой напиток желаете? ')"
   ]
  },
  {
   "cell_type": "markdown",
   "metadata": {
    "id": "A25pPpqqCE61"
   },
   "source": [
    "Добавим обработку ответов."
   ]
  },
  {
   "cell_type": "code",
   "execution_count": 3,
   "metadata": {
    "colab": {
     "base_uri": "https://localhost:8080/",
     "height": 51
    },
    "executionInfo": {
     "elapsed": 3025,
     "status": "ok",
     "timestamp": 1601927971840,
     "user": {
      "displayName": "Валентина Лебедева",
      "photoUrl": "https://lh3.googleusercontent.com/a-/AOh14Gg7Q7DrL9nVPebzX4mH-UNQJgHtGgmbWRs_ChLt=s64",
      "userId": "01364351571403829057"
     },
     "user_tz": -180
    },
    "id": "m4nkwJ5FCE64",
    "outputId": "d6c19ae1-3d02-4407-eaf9-844292f4176a"
   },
   "outputs": [
    {
     "name": "stdout",
     "output_type": "stream",
     "text": [
      "Какой напиток желаете? кофе\n",
      "С вас 150 рублей за кофе\n"
     ]
    }
   ],
   "source": [
    "drink = input('Какой напиток желаете? ')\n",
    "\n",
    "# Обработка ответов\n",
    "if drink == 'чай':\n",
    "    print('С вас 100 рублей за чай')\n",
    "if drink == 'кофе':\n",
    "    print('С вас 150 рублей за кофе')"
   ]
  },
  {
   "cell_type": "markdown",
   "metadata": {
    "id": "BLnGCjm0CE7W"
   },
   "source": [
    "Если мы попросим не чай и не кофе, бариста вежливо ответит, что такого напитка у них нет."
   ]
  },
  {
   "cell_type": "code",
   "execution_count": 4,
   "metadata": {
    "colab": {
     "base_uri": "https://localhost:8080/",
     "height": 68
    },
    "executionInfo": {
     "elapsed": 3438,
     "status": "ok",
     "timestamp": 1601927982620,
     "user": {
      "displayName": "Валентина Лебедева",
      "photoUrl": "https://lh3.googleusercontent.com/a-/AOh14Gg7Q7DrL9nVPebzX4mH-UNQJgHtGgmbWRs_ChLt=s64",
      "userId": "01364351571403829057"
     },
     "user_tz": -180
    },
    "id": "GuBAryBTCE7X",
    "outputId": "00ce18f2-e3a6-4a06-92ca-e8d3b0860994"
   },
   "outputs": [
    {
     "name": "stdout",
     "output_type": "stream",
     "text": [
      "Какой напиток желаете? чай\n",
      "С вас 100 рублей за чай\n",
      "Такого напитка нет в нашем меню\n"
     ]
    }
   ],
   "source": [
    "drink = input('Какой напиток желаете? ')\n",
    "\n",
    "# Обработка ответов\n",
    "if drink == 'чай':\n",
    "    print('С вас 100 рублей за чай')\n",
    "if drink == 'кофе':\n",
    "    print('С вас 150 рублей за кофе')\n",
    "else:\n",
    "    print('Такого напитка нет в нашем меню')"
   ]
  },
  {
   "cell_type": "markdown",
   "metadata": {
    "id": "Fc4vZSeDCE7-"
   },
   "source": [
    "Ой!\n",
    "\n",
    "Мы ввели напиток, который есть в меню, но программа все равно напечатала фразу \"Такого напитка нет в нашем меню\".\n",
    "\n",
    "Это происходит потому, что три конструкции ``if`` работают независимо друг от друга. Когда мы вводим \"чай\", то после выполнения соответствующего условия мы все равно попадаем в условие для кофе, которое не выполняется.\n",
    "\n",
    "Вот так будет выглядеть блок-схема для этого случая.\n",
    "\n",
    "<img src=\"https://github.com/lalentine96/img/blob/main/hse-foreign/3.3/double-if.png?raw=true\" width=\"350\">\n",
    "\n",
    "Нам нужно научиться обрабатывать несколько условий в одной конструкции ``if``, и в этом поможет оператор ``elif``.\n",
    "\n",
    "* ``if`` позволяет выполнять действия при наступлении какого-либо условия\n",
    "* ``if...else`` обрабатывает два случая: когда событие наступило, и когда оно не наступило\n",
    "* ``if...elif...else`` позволяет обрабатывать несколько условий сразу внутри одной конструкции ``if``\n"
   ]
  },
  {
   "cell_type": "markdown",
   "metadata": {
    "id": "WGS_0brbCE-C"
   },
   "source": [
    "Вот так будет выглядеть блок-схема при использовании ``elif``.\n",
    "\n",
    "<img src=\"https://github.com/lalentine96/img/blob/main/hse-foreign/3.3/if-elif.png?raw=true\" width=\"350\">\n",
    "\n",
    "Давайте перепишем пример выше с использованием ``elif``."
   ]
  },
  {
   "cell_type": "code",
   "execution_count": 7,
   "metadata": {
    "colab": {
     "base_uri": "https://localhost:8080/",
     "height": 51
    },
    "executionInfo": {
     "elapsed": 2383,
     "status": "ok",
     "timestamp": 1601928061257,
     "user": {
      "displayName": "Валентина Лебедева",
      "photoUrl": "https://lh3.googleusercontent.com/a-/AOh14Gg7Q7DrL9nVPebzX4mH-UNQJgHtGgmbWRs_ChLt=s64",
      "userId": "01364351571403829057"
     },
     "user_tz": -180
    },
    "id": "38ohXU3mCE-E",
    "outputId": "0caab145-89a5-4e65-e5e9-fde8b9414095"
   },
   "outputs": [
    {
     "name": "stdout",
     "output_type": "stream",
     "text": [
      "Какой напиток желаете? чай\n",
      "С вас 100 рублей за чай\n"
     ]
    }
   ],
   "source": [
    "drink = input('Какой напиток желаете? ')\n",
    "\n",
    "# Обработка ответов\n",
    "if drink == 'чай':\n",
    "    print('С вас 100 рублей за чай')\n",
    "elif drink == 'кофе': # Условие, которое будет проверяться, только если предыдущее не выполнилось\n",
    "    print('С вас 150 рублей за кофе')\n",
    "else: # Секция else, которая выполнится, только если не выполнилось НИ ОДНО из двух условий выше\n",
    "    print('Такого напитка нет в нашем меню')"
   ]
  },
  {
   "cell_type": "markdown",
   "metadata": {
    "id": "RZWLSxAsCE_v"
   },
   "source": [
    "Ура, программа работает корректно!\n",
    "\n",
    "Теперь все условия работают вместе, каждое из них проверяется *только тогда, когда не выполнились предыдущие*. В этом отличие от предыдущего решения, где *условия работали независимо, и всегда проверялось каждое из них*."
   ]
  },
  {
   "cell_type": "markdown",
   "metadata": {
    "id": "_mvgPa2Dyfpr"
   },
   "source": [
    "Конечно, ``if... elif... else`` можно использовать как вложенные конструкции.\n",
    "\n",
    "Пусть теперь в кофейне делают разный кофе."
   ]
  },
  {
   "cell_type": "code",
   "execution_count": null,
   "metadata": {
    "id": "GAhYY0w5yfpt",
    "outputId": "d2637b9f-c8eb-4e09-8b13-583f24e6d1ae"
   },
   "outputs": [
    {
     "name": "stdout",
     "output_type": "stream",
     "text": [
      "Какой напиток желаете? чай\n",
      "С вас 100 рублей за чай\n"
     ]
    }
   ],
   "source": [
    "drink = input('Какой напиток желаете? ')\n",
    "if drink == 'кофе':\n",
    "    coffee = input('Какой кофе желаете? ')\n",
    "    if coffee == 'латте':\n",
    "        print('С вас 150 рублей за латте')\n",
    "    elif coffee == 'капучино': \n",
    "        print('С вас 120 рублей за капучино')\n",
    "    elif coffee == 'раф':\n",
    "        print('С вас 190 рублей за раф')\n",
    "    else:\n",
    "        print('Такого напитка нет в нашем меню')\n",
    "elif drink == 'чай':\n",
    "    print('С вас 100 рублей за чай')\n",
    "else:\n",
    "    print('Такого напитка нет в нашем меню')"
   ]
  },
  {
   "cell_type": "markdown",
   "metadata": {
    "id": "bNG0fU7CxDyl"
   },
   "source": [
    "В качестве самопроверки допишите программу, добавив в меню разные варианты чая — например, эрл грей, травяной и с жасмином."
   ]
  },
  {
   "cell_type": "code",
   "execution_count": 2,
   "metadata": {},
   "outputs": [
    {
     "name": "stdout",
     "output_type": "stream",
     "text": [
      "3\n",
      "4\n",
      "4\n"
     ]
    }
   ],
   "source": [
    "n1=int(input())\n",
    "n2=int(input())\n",
    "if n1>n2:\n",
    "    print(n1)\n",
    "elif n2>n1:\n",
    "    print(n2)\n",
    "elif n1==n2:\n",
    "    print(\"0\")"
   ]
  },
  {
   "cell_type": "code",
   "execution_count": null,
   "metadata": {},
   "outputs": [],
   "source": []
  },
  {
   "cell_type": "code",
   "execution_count": null,
   "metadata": {},
   "outputs": [],
   "source": []
  },
  {
   "cell_type": "code",
   "execution_count": null,
   "metadata": {},
   "outputs": [],
   "source": []
  },
  {
   "cell_type": "code",
   "execution_count": null,
   "metadata": {},
   "outputs": [],
   "source": []
  },
  {
   "cell_type": "code",
   "execution_count": null,
   "metadata": {},
   "outputs": [],
   "source": [
    "    "
   ]
  },
  {
   "cell_type": "code",
   "execution_count": null,
   "metadata": {},
   "outputs": [],
   "source": []
  },
  {
   "cell_type": "code",
   "execution_count": null,
   "metadata": {},
   "outputs": [],
   "source": []
  },
  {
   "cell_type": "code",
   "execution_count": null,
   "metadata": {},
   "outputs": [],
   "source": []
  },
  {
   "cell_type": "code",
   "execution_count": null,
   "metadata": {},
   "outputs": [],
   "source": []
  },
  {
   "cell_type": "code",
   "execution_count": null,
   "metadata": {},
   "outputs": [],
   "source": []
  },
  {
   "cell_type": "code",
   "execution_count": null,
   "metadata": {},
   "outputs": [],
   "source": []
  },
  {
   "cell_type": "code",
   "execution_count": null,
   "metadata": {},
   "outputs": [],
   "source": []
  },
  {
   "cell_type": "code",
   "execution_count": null,
   "metadata": {},
   "outputs": [],
   "source": []
  }
 ],
 "metadata": {
  "colab": {
   "collapsed_sections": [],
   "name": "3.3_valya_v1.ipynb",
   "provenance": []
  },
  "kernelspec": {
   "display_name": "Python 3 (ipykernel)",
   "language": "python",
   "name": "python3"
  },
  "language_info": {
   "codemirror_mode": {
    "name": "ipython",
    "version": 3
   },
   "file_extension": ".py",
   "mimetype": "text/x-python",
   "name": "python",
   "nbconvert_exporter": "python",
   "pygments_lexer": "ipython3",
   "version": "3.10.8"
  }
 },
 "nbformat": 4,
 "nbformat_minor": 4
}
