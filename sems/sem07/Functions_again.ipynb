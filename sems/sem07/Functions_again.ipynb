{
 "cells": [
  {
   "cell_type": "markdown",
   "id": "b4fdf61f",
   "metadata": {},
   "source": [
    "### Аргументы функции <a name=\"par2.3\"></a>\n",
    "\n",
    "Об этом мы уже начали говорить. Добавим лишь то, что при объявлении функции можно выставить какое-то дефолтное значение аргумента, которое будет подставяться, если мы ничего не указали."
   ]
  },
  {
   "cell_type": "code",
   "execution_count": 17,
   "id": "1676d777",
   "metadata": {},
   "outputs": [],
   "source": [
    "def get_degree(number, degree = 2):\n",
    "    '''\n",
    "    number — число, которое возведется в степень degree\n",
    "    '''\n",
    "    return number ** degree"
   ]
  },
  {
   "cell_type": "markdown",
   "id": "7b1f695b",
   "metadata": {},
   "source": [
    "Например, сейчас, если я вызову функцию, не подставив второй аргумент, то по умолчанию вместо него будет стоять 2."
   ]
  },
  {
   "cell_type": "code",
   "execution_count": 18,
   "id": "00e5a381",
   "metadata": {},
   "outputs": [
    {
     "data": {
      "text/plain": [
       "25"
      ]
     },
     "execution_count": 18,
     "metadata": {},
     "output_type": "execute_result"
    }
   ],
   "source": [
    "get_degree(5)"
   ]
  },
  {
   "cell_type": "code",
   "execution_count": 19,
   "id": "fa3b9919",
   "metadata": {},
   "outputs": [
    {
     "data": {
      "text/plain": [
       "125"
      ]
     },
     "execution_count": 19,
     "metadata": {},
     "output_type": "execute_result"
    }
   ],
   "source": [
    "get_degree(5, 3)"
   ]
  },
  {
   "cell_type": "markdown",
   "id": "f5d9198c",
   "metadata": {},
   "source": [
    "Помимо таких нюансов, есть еще возможность передавать функции неограниченное число *неименованных* аргументов (тут нам поможет знак `*`)."
   ]
  },
  {
   "cell_type": "code",
   "execution_count": 20,
   "id": "d5ef33ee",
   "metadata": {},
   "outputs": [
    {
     "name": "stdout",
     "output_type": "stream",
     "text": [
      "(1, 9, 'qwerty', 8)\n"
     ]
    }
   ],
   "source": [
    "def our_sum(*args): # args = arguments\n",
    "    return args\n",
    "\n",
    "print(our_sum(1, 9, 'qwerty', 8))"
   ]
  },
  {
   "cell_type": "markdown",
   "id": "3f91a71c",
   "metadata": {},
   "source": [
    "В итоге все наши аргументы преобразовались в один — кортеж, итерируемый объект, с которым дальше можно делать все, что хотим."
   ]
  },
  {
   "cell_type": "code",
   "execution_count": 21,
   "id": "d333bf81",
   "metadata": {},
   "outputs": [
    {
     "name": "stdout",
     "output_type": "stream",
     "text": [
      "21\n"
     ]
    }
   ],
   "source": [
    "def our_sum(*args): # args = arguments\n",
    "    summa = 0\n",
    "    \n",
    "    for var in args:\n",
    "        summa += var\n",
    "        \n",
    "    return summa\n",
    "\n",
    "print(our_sum(1, 9, 3, 8))"
   ]
  },
  {
   "cell_type": "markdown",
   "id": "8da0adf9",
   "metadata": {},
   "source": [
    "Именнованные аргументы также можно передать, но для этого мы используем уже два знака `**`."
   ]
  },
  {
   "cell_type": "code",
   "execution_count": 22,
   "id": "a0cfa4d4",
   "metadata": {},
   "outputs": [
    {
     "name": "stdout",
     "output_type": "stream",
     "text": [
      "name — Anastasia\n",
      "surname — Parshina\n",
      "Добро пожаловать, Anastasia Parshina\n"
     ]
    }
   ],
   "source": [
    "def welcome(**kwargs): # kwargs = keyword arguments\n",
    "    \n",
    "    for key, value in kwargs.items():\n",
    "        print(f'{key} — {value}')\n",
    "    \n",
    "    print(f'Добро пожаловать, {\" \".join(kwargs.values())}')\n",
    "    \n",
    "welcome(name = 'Anastasia', surname = 'Parshina')"
   ]
  },
  {
   "cell_type": "markdown",
   "id": "ea3e5305",
   "metadata": {},
   "source": [
    "Обратите внимание, что мы написали функцию, которая ничего не возвращает, а только печатает. Такие функции тоже бывают, как, например, бывают и те, которым не передаются какие либо аргументы. Чем больше вы с ними работаете и пишете свои собственные функции, тем больше узнаете!"
   ]
  },
  {
   "cell_type": "markdown",
   "id": "c68e5470",
   "metadata": {},
   "source": [
    "## Анонимная функция <a name=\"par3\"></a>\n",
    "\n",
    "Бывает такое, что функция потребуется нам всего раз — здесь и сейчас. Тогда зачем нам как-то ее определять и давать ей название? Можно просто это название заменить словом `lambda`.\n",
    "\n",
    "`lambda`-функции принимают любое количество аргументов, но не могут содержать несколько выражений и всегда возвращают только одно значение.\n",
    "\n",
    "Отдельно синтаксис `lambda`-функций покажется вам странным, но выглядит он так:\n",
    "\n",
    "    `Lambda arguments: expression`\n",
    "\n",
    "Чтобы передать значения в аргументы этой функции нужен следующий синтаксис:\n",
    "\n",
    "    `(lambda arguments: expression)(data)`\n",
    "    \n",
    "Идея такая: \n",
    "\n",
    "+ `arguments` — аргументы, с которыми работает функция\n",
    "+ `expression` — что функция с этими аргументами должна делать\n",
    "+ `data` — какие значения эти аргументы принимают"
   ]
  },
  {
   "cell_type": "markdown",
   "id": "7b1ca3fb",
   "metadata": {},
   "source": [
    "Ниже представлен пример лямбда-функции,  удваивающей вводимое значение."
   ]
  },
  {
   "cell_type": "code",
   "execution_count": 1,
   "id": "5360c4dd",
   "metadata": {},
   "outputs": [
    {
     "name": "stdout",
     "output_type": "stream",
     "text": [
      "10\n"
     ]
    }
   ],
   "source": [
    "double = lambda x: x*2\n",
    "print(double(5))"
   ]
  },
  {
   "cell_type": "markdown",
   "id": "f88a0bde",
   "metadata": {},
   "source": [
    "Эта функция безымянная. Она возвращает функциональный объект с идентификатором double. Сейчас мы можем считать её обычной функцией. Рассмотрим ниже аналог lambda функции"
   ]
  },
  {
   "cell_type": "code",
   "execution_count": 2,
   "id": "6f38f584",
   "metadata": {},
   "outputs": [],
   "source": [
    "def double(x):\n",
    "    return x * 2"
   ]
  },
  {
   "cell_type": "code",
   "execution_count": null,
   "id": "11bc1a2f",
   "metadata": {},
   "outputs": [],
   "source": []
  },
  {
   "cell_type": "code",
   "execution_count": 29,
   "id": "919d56da",
   "metadata": {},
   "outputs": [
    {
     "data": {
      "text/plain": [
       "9"
      ]
     },
     "execution_count": 29,
     "metadata": {},
     "output_type": "execute_result"
    }
   ],
   "source": [
    "(lambda var1, var2, var3: (var1 + var2) * var3)(1, 2, 3)"
   ]
  },
  {
   "cell_type": "markdown",
   "id": "03a90f66",
   "metadata": {},
   "source": [
    "А вот аналогичное действие, только с созданием функции через `def`:"
   ]
  },
  {
   "cell_type": "code",
   "execution_count": 30,
   "id": "fa76c9f9",
   "metadata": {},
   "outputs": [
    {
     "data": {
      "text/plain": [
       "9"
      ]
     },
     "execution_count": 30,
     "metadata": {},
     "output_type": "execute_result"
    }
   ],
   "source": [
    "def new_func(var1, var2, var3):\n",
    "    return (var1 + var2) * var3\n",
    "\n",
    "new_func(1, 2, 3)"
   ]
  },
  {
   "cell_type": "markdown",
   "id": "58a46cd8",
   "metadata": {},
   "source": [
    "Условные конструкции с ней также работают (но только простой `if-else`):"
   ]
  },
  {
   "cell_type": "code",
   "execution_count": 31,
   "id": "8d19244d",
   "metadata": {},
   "outputs": [
    {
     "data": {
      "text/plain": [
       "[2]"
      ]
     },
     "execution_count": 31,
     "metadata": {},
     "output_type": "execute_result"
    }
   ],
   "source": [
    "(lambda *args: [arg for arg in args if arg % 2 == 0])(1, 2, 3)"
   ]
  },
  {
   "cell_type": "markdown",
   "id": "66c023ba",
   "metadata": {},
   "source": [
    "## Про — `map()`"
   ]
  },
  {
   "cell_type": "markdown",
   "id": "cf4378c1",
   "metadata": {},
   "source": [
    "Тут нам помогло списковое включение, и фактически `lambda` вернула один объект — список. \n",
    "\n",
    "`lambda`-функции очень часто применяются для преобразования каких-то коллекций через функцию `map()`. "
   ]
  },
  {
   "cell_type": "code",
   "execution_count": 32,
   "id": "51a4cb48",
   "metadata": {},
   "outputs": [
    {
     "data": {
      "text/plain": [
       "[12, 0, 42, 16]"
      ]
     },
     "execution_count": 32,
     "metadata": {},
     "output_type": "execute_result"
    }
   ],
   "source": [
    "numbers = [12, 31, 42, 16]\n",
    "\n",
    "list(map(lambda x: x if x % 2 == 0 else 0, numbers))"
   ]
  },
  {
   "cell_type": "markdown",
   "id": "a9e458f5",
   "metadata": {},
   "source": [
    "Функция map() принимает в качестве аргументов функцию и список.\n",
    "\n",
    "Функция вызывается со всеми элементами в списке, и в результате возвращается новый список, содержащий элементы, возвращенные данной функцией для каждого исходного элемента.\n",
    "\n",
    "Ниже пример использования функции map() для удвоения всех элементов списка."
   ]
  },
  {
   "cell_type": "code",
   "execution_count": 5,
   "id": "7e1e1e68",
   "metadata": {},
   "outputs": [
    {
     "name": "stdout",
     "output_type": "stream",
     "text": [
      "[2, 6, 8, 12, 20, 22, 30, 24, 28]\n"
     ]
    }
   ],
   "source": [
    "current_list = [1, 3, 4, 6, 10, 11, 15, 12, 14]\n",
    "new_list = list(map(lambda x: x*2 , current_list))\n",
    "print(new_list)"
   ]
  },
  {
   "cell_type": "markdown",
   "id": "63888cf1",
   "metadata": {},
   "source": [
    "<center><b><font size=4>Задача №2</font></b></center>\n",
    "\n",
    "**Напишите анонимную функцию, которая принимает на вход строку с id студента и возвращает информацию о нем в формате `Номер группы: Фамилия`**\n",
    "\n",
    "Пример работы функции:\n",
    "```\n",
    "codes = ['БПЛПТЛ_232_Иванов Иван Иванович',\n",
    "        'БМКС_234_Петров Петр Петрович',\n",
    "        'БЭК_211_Ефимов Ефим Ефимович']\n",
    "list(map(... , codes)) # ['232: Иванов', '234: Петров', '211: Ефимов']\n",
    "```"
   ]
  },
  {
   "cell_type": "code",
   "execution_count": 3,
   "id": "4dbc6cb2",
   "metadata": {},
   "outputs": [
    {
     "data": {
      "text/plain": [
       "['232: Иванов', '234: Петров', '211: Ефимов']"
      ]
     },
     "execution_count": 3,
     "metadata": {},
     "output_type": "execute_result"
    }
   ],
   "source": [
    "codes = ['БПЛПТЛ_232_Иванов Иван Иванович',\n",
    "        'БМКС_234_Петров Петр Петрович',\n",
    "        'БЭК_211_Ефимов Ефим Ефимович']\n",
    "\n",
    "# YOUR CODE HERE ╰( ͡° ͜ʖ ͡° )つ──☆*:\n",
    "\n",
    "list(map(lambda x: x.split(\"_\")[1] + \": \" + x.split(\"_\")[2].split()[0], codes))"
   ]
  },
  {
   "cell_type": "markdown",
   "id": "f744bb8c",
   "metadata": {},
   "source": [
    "## Про — `filter()`"
   ]
  },
  {
   "cell_type": "markdown",
   "id": "576ee250",
   "metadata": {},
   "source": [
    "Если мы хотим отфильтровать данные, то нам поможет функция `filter()`."
   ]
  },
  {
   "cell_type": "code",
   "execution_count": 33,
   "id": "a2455056",
   "metadata": {},
   "outputs": [
    {
     "name": "stdout",
     "output_type": "stream",
     "text": [
      "[2, 2, 8, 10]\n"
     ]
    }
   ],
   "source": [
    "# старый дедовский способ\n",
    "\n",
    "numbers = [2, 5, 2, 1, 9, 8, 10]\n",
    "res = []\n",
    "\n",
    "for num in numbers:\n",
    "    if num % 2 == 0:\n",
    "        res.append(num)\n",
    "        \n",
    "print(res)"
   ]
  },
  {
   "cell_type": "code",
   "execution_count": 34,
   "id": "764a80f6",
   "metadata": {},
   "outputs": [
    {
     "name": "stdout",
     "output_type": "stream",
     "text": [
      "[2, 2, 8, 10]\n"
     ]
    }
   ],
   "source": [
    "# аналогично, но через списковые включения\n",
    "\n",
    "numbers = [2, 5, 2, 1, 9, 8, 10]\n",
    "res = [num for num in numbers if num % 2 == 0]\n",
    "\n",
    "print(res)"
   ]
  },
  {
   "cell_type": "code",
   "execution_count": 35,
   "id": "a6fb60c7",
   "metadata": {},
   "outputs": [
    {
     "name": "stdout",
     "output_type": "stream",
     "text": [
      "[2, 2, 8, 10]\n"
     ]
    }
   ],
   "source": [
    "# с помощью функции filter()\n",
    "\n",
    "numbers = [2, 5, 2, 1, 9, 8, 10]\n",
    "res = list(filter(lambda num: num % 2 == 0, numbers))\n",
    "\n",
    "print(res)"
   ]
  },
  {
   "cell_type": "markdown",
   "id": "7f5aedc3",
   "metadata": {},
   "source": [
    "Фактически, мы здесь фильтруем по *условию*, не заморачиваясь с использованием цикла. "
   ]
  },
  {
   "cell_type": "markdown",
   "id": "a15ce145",
   "metadata": {},
   "source": [
    "## Про — `reduce()`"
   ]
  },
  {
   "cell_type": "markdown",
   "id": "c1ff9e17",
   "metadata": {},
   "source": [
    "Функция reduce() принимает в качестве аргументов функцию и список. Функция вызывается с помощью лямбда-функции и итерируемого объекта  и возвращается новый уменьшенный результат. Так выполняется повторяющаяся операцию над парами итерируемых объектов. Функция reduce() входит в состав модуля functools."
   ]
  },
  {
   "cell_type": "code",
   "execution_count": 6,
   "id": "987763c9",
   "metadata": {},
   "outputs": [
    {
     "name": "stdout",
     "output_type": "stream",
     "text": [
      "380\n"
     ]
    }
   ],
   "source": [
    "from functools import reduce\n",
    "\n",
    "\n",
    "current_list = [5, 15, 20, 30, 50, 55, 75, 60, 70]\n",
    "summa = reduce((lambda x, y: x + y), current_list)\n",
    "print(summa)"
   ]
  },
  {
   "cell_type": "markdown",
   "id": "b41b87d5",
   "metadata": {},
   "source": [
    "Здесь результаты предыдущих двух элементов суммируются со  следующим элементом, и это продолжается до конца списка, вот так:"
   ]
  },
  {
   "cell_type": "code",
   "execution_count": 7,
   "id": "1dbe5b0b",
   "metadata": {},
   "outputs": [
    {
     "name": "stdout",
     "output_type": "stream",
     "text": [
      "380\n"
     ]
    }
   ],
   "source": [
    "print(5+15+20+30+50+55+75+60+70)"
   ]
  },
  {
   "cell_type": "markdown",
   "id": "b6c21bec",
   "metadata": {},
   "source": [
    "## Лямбда и  списковое включение"
   ]
  },
  {
   "cell_type": "markdown",
   "id": "dff25488",
   "metadata": {},
   "source": [
    "В этом примере мы будем использовать лямбда-функцию со списковым включением и лямбда-функцию с циклом for. Мы выведем на экран  таблицу из 10 элементов."
   ]
  },
  {
   "cell_type": "code",
   "execution_count": 8,
   "id": "60c877d0",
   "metadata": {},
   "outputs": [
    {
     "name": "stdout",
     "output_type": "stream",
     "text": [
      "10\n",
      "20\n",
      "30\n",
      "40\n",
      "50\n",
      "60\n",
      "70\n",
      "80\n",
      "90\n",
      "100\n"
     ]
    }
   ],
   "source": [
    "tables = [lambda x = x: x*10 for x in range(1, 11)]\n",
    "for table in tables:\n",
    "    print(table())"
   ]
  },
  {
   "cell_type": "markdown",
   "id": "9fc5f69c",
   "metadata": {},
   "source": [
    "## Лямбда и условные операторы"
   ]
  },
  {
   "cell_type": "markdown",
   "id": "de54aac3",
   "metadata": {},
   "source": [
    "Давайте рассмотрим использование условий if-else в лямбда-функции. Как вы знаете, Python позволяет нам использовать однострочные условия, и  именно их мы можем помещать в лямбда-функцию для обработки возвращаемого результата.\n",
    "\n",
    "Например, есть две цифры, и вы должны определить, какая из них представляет наибольшее число."
   ]
  },
  {
   "cell_type": "code",
   "execution_count": 9,
   "id": "57452a7e",
   "metadata": {},
   "outputs": [
    {
     "name": "stdout",
     "output_type": "stream",
     "text": [
      "5\n"
     ]
    }
   ],
   "source": [
    "max_number = lambda a, b: a if a > b else b\n",
    "print(max_number(3, 5))"
   ]
  },
  {
   "cell_type": "markdown",
   "id": "1e6f4bb3",
   "metadata": {},
   "source": [
    "## Лямбда и множественные операторы"
   ]
  },
  {
   "cell_type": "markdown",
   "id": "f768f3b0",
   "metadata": {},
   "source": [
    "Лямбда-функции не допускают использования нескольких операторов, однако мы можем создать две лямбда-функции, а затем вызвать вторую лямбда-функцию в качестве параметра для первой функции. Давайте попробуем найти второй по величине элемент, используя лямбду."
   ]
  },
  {
   "cell_type": "code",
   "execution_count": 12,
   "id": "a01e2d4a",
   "metadata": {},
   "outputs": [
    {
     "name": "stdout",
     "output_type": "stream",
     "text": [
      "[9, 16, 30]\n"
     ]
    }
   ],
   "source": [
    "current_list = [[10,6,9],[0, 14, 16, 80],[8, 12, 30, 44]]\n",
    "sorted_list = lambda x: (sorted(i) for i in x)\n",
    "second_largest = lambda x, func: [y[-2] for y in func(x)]\n",
    "result = second_largest(current_list, sorted_list)\n",
    "print(result)"
   ]
  },
  {
   "cell_type": "markdown",
   "id": "0977280c",
   "metadata": {},
   "source": [
    "## Дополнительные материалы <a name=\"parlast\"></a>\n",
    "\n",
    "+ Разница между методом и функцией [Python for Data Science](https://pythonru.com/osnovy/3-python-dlja-data-science-vstroennye-funkcii-i-metody-python)\n",
    "+ Документация Python [Built-in Functions](https://docs.python.org/3/library/functions.html)\n",
    "+ Документация Python [Support for type hints](https://docs.python.org/3/library/typing.html)\n",
    "+ Введение в аннотации типов Python [Статья на Хабр](https://habr.com/ru/company/lamoda/blog/432656/)\n",
    "+ Что такое \\*args и \\*\\*kwargs в Python? [Статья на Хабр](https://habr.com/ru/company/ruvds/blog/482464/)"
   ]
  },
  {
   "cell_type": "code",
   "execution_count": 10,
   "id": "355efc7a",
   "metadata": {},
   "outputs": [],
   "source": [
    "# from IPython.display import Image\n",
    "# from IPython.core.display import HTML \n",
    "# Image(url= \"https://www.meme-arsenal.com/memes/3fa9753e0f71247f5bda94b524494314.jpg\")"
   ]
  }
 ],
 "metadata": {
  "kernelspec": {
   "display_name": "Python 3 (ipykernel)",
   "language": "python",
   "name": "python3"
  },
  "language_info": {
   "codemirror_mode": {
    "name": "ipython",
    "version": 3
   },
   "file_extension": ".py",
   "mimetype": "text/x-python",
   "name": "python",
   "nbconvert_exporter": "python",
   "pygments_lexer": "ipython3",
   "version": "3.10.8"
  }
 },
 "nbformat": 4,
 "nbformat_minor": 5
}
