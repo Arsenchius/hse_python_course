{
 "cells": [
  {
   "cell_type": "markdown",
   "id": "b4fdf61f",
   "metadata": {},
   "source": [
    "## Frozenset"
   ]
  },
  {
   "cell_type": "markdown",
   "id": "6eeb5300",
   "metadata": {},
   "source": [
    "Frozenset имеет точно такие же характеристики как и обычное множество (set). Отличие здесь заключается в том, что элементы в frozenset нельзя изменить в дальнейшем. Можно сказать, что это смесь множества и кортежа."
   ]
  },
  {
   "cell_type": "code",
   "execution_count": 1,
   "id": "705dff98",
   "metadata": {},
   "outputs": [],
   "source": [
    "some_frozen_set = frozenset(\"Words\")\n",
    "simple_set = set(\"Words\")"
   ]
  },
  {
   "cell_type": "code",
   "execution_count": 2,
   "id": "8ab459f2",
   "metadata": {},
   "outputs": [
    {
     "data": {
      "text/plain": [
       "{'W', 'd', 'o', 'r', 's'}"
      ]
     },
     "execution_count": 2,
     "metadata": {},
     "output_type": "execute_result"
    }
   ],
   "source": [
    "simple_set"
   ]
  },
  {
   "cell_type": "code",
   "execution_count": 3,
   "id": "758c254b",
   "metadata": {},
   "outputs": [
    {
     "data": {
      "text/plain": [
       "frozenset({'W', 'd', 'o', 'r', 's'})"
      ]
     },
     "execution_count": 3,
     "metadata": {},
     "output_type": "execute_result"
    }
   ],
   "source": [
    "some_frozen_set"
   ]
  },
  {
   "cell_type": "code",
   "execution_count": 4,
   "id": "7035b9a5",
   "metadata": {},
   "outputs": [],
   "source": [
    "simple_set.add(7)"
   ]
  },
  {
   "cell_type": "code",
   "execution_count": 6,
   "id": "8653f19e",
   "metadata": {},
   "outputs": [
    {
     "data": {
      "text/plain": [
       "{7, 'W', 'd', 'o', 'r', 's'}"
      ]
     },
     "execution_count": 6,
     "metadata": {},
     "output_type": "execute_result"
    }
   ],
   "source": [
    "simple_set"
   ]
  },
  {
   "cell_type": "code",
   "execution_count": 7,
   "id": "51fc252c",
   "metadata": {},
   "outputs": [
    {
     "ename": "AttributeError",
     "evalue": "'frozenset' object has no attribute 'add'",
     "output_type": "error",
     "traceback": [
      "\u001b[0;31m---------------------------------------------------------------------------\u001b[0m",
      "\u001b[0;31mAttributeError\u001b[0m                            Traceback (most recent call last)",
      "Cell \u001b[0;32mIn[7], line 1\u001b[0m\n\u001b[0;32m----> 1\u001b[0m \u001b[43msome_frozen_set\u001b[49m\u001b[38;5;241;43m.\u001b[39;49m\u001b[43madd\u001b[49m(\u001b[38;5;124m\"\u001b[39m\u001b[38;5;124mP\u001b[39m\u001b[38;5;124m\"\u001b[39m)\n",
      "\u001b[0;31mAttributeError\u001b[0m: 'frozenset' object has no attribute 'add'"
     ]
    }
   ],
   "source": [
    "some_frozen_set.add(\"P\")"
   ]
  },
  {
   "cell_type": "code",
   "execution_count": null,
   "id": "d368fd47",
   "metadata": {},
   "outputs": [],
   "source": [
    "some_frozen_set."
   ]
  },
  {
   "cell_type": "code",
   "execution_count": null,
   "id": "a99ded10",
   "metadata": {},
   "outputs": [],
   "source": [
    "simple_set."
   ]
  },
  {
   "cell_type": "markdown",
   "id": "17f1ea24",
   "metadata": {},
   "source": [
    "### Аргументы функции\n",
    "\n",
    "Об этом мы уже начали говорить. Добавим лишь то, что при объявлении функции можно выставить какое-то дефолтное значение аргумента, которое будет подставяться, если мы ничего не указали."
   ]
  },
  {
   "cell_type": "code",
   "execution_count": 5,
   "id": "1676d777",
   "metadata": {},
   "outputs": [],
   "source": [
    "def get_degree(number, degree = 2):\n",
    "    '''\n",
    "    number — число, которое возведется в степень degree\n",
    "    '''\n",
    "    return number ** degree"
   ]
  },
  {
   "cell_type": "markdown",
   "id": "7b1f695b",
   "metadata": {},
   "source": [
    "Например, сейчас, если я вызову функцию, не подставив второй аргумент, то по умолчанию вместо него будет стоять 2."
   ]
  },
  {
   "cell_type": "code",
   "execution_count": 6,
   "id": "00e5a381",
   "metadata": {},
   "outputs": [
    {
     "data": {
      "text/plain": [
       "25"
      ]
     },
     "execution_count": 6,
     "metadata": {},
     "output_type": "execute_result"
    }
   ],
   "source": [
    "get_degree(5)"
   ]
  },
  {
   "cell_type": "code",
   "execution_count": 8,
   "id": "fa3b9919",
   "metadata": {},
   "outputs": [
    {
     "data": {
      "text/plain": [
       "125"
      ]
     },
     "execution_count": 8,
     "metadata": {},
     "output_type": "execute_result"
    }
   ],
   "source": [
    "get_degree(5, 3)"
   ]
  },
  {
   "cell_type": "markdown",
   "id": "f5d9198c",
   "metadata": {},
   "source": [
    "Помимо таких нюансов, есть еще возможность передавать функции неограниченное число *неименованных* аргументов (тут нам поможет знак `*`)."
   ]
  },
  {
   "cell_type": "code",
   "execution_count": 9,
   "id": "d5ef33ee",
   "metadata": {},
   "outputs": [
    {
     "name": "stdout",
     "output_type": "stream",
     "text": [
      "(1, 9, 'qwerty', 8)\n"
     ]
    }
   ],
   "source": [
    "def our_sum(*args): # args = arguments\n",
    "    return args\n",
    "\n",
    "print(our_sum(1, 9, 'qwerty', 8))"
   ]
  },
  {
   "cell_type": "code",
   "execution_count": 10,
   "id": "35bd3ec4",
   "metadata": {},
   "outputs": [
    {
     "name": "stdout",
     "output_type": "stream",
     "text": [
      "(1, 1, 1, 1, 1, 1, 1)\n"
     ]
    }
   ],
   "source": [
    "print(our_sum(1,1,1,1,1,1,1))"
   ]
  },
  {
   "cell_type": "markdown",
   "id": "3f91a71c",
   "metadata": {},
   "source": [
    "В итоге все наши аргументы преобразовались в один — кортеж, итерируемый объект, с которым дальше можно делать все, что хотим."
   ]
  },
  {
   "cell_type": "code",
   "execution_count": 11,
   "id": "d333bf81",
   "metadata": {},
   "outputs": [
    {
     "name": "stdout",
     "output_type": "stream",
     "text": [
      "21\n"
     ]
    }
   ],
   "source": [
    "def our_sum(*args): # args = arguments\n",
    "    summa = 0\n",
    "\n",
    "    for val in args:\n",
    "        summa += val\n",
    "\n",
    "    return summa\n",
    "\n",
    "print(our_sum(1, 9, 3, 8))"
   ]
  },
  {
   "cell_type": "code",
   "execution_count": 12,
   "id": "cb43bf25",
   "metadata": {},
   "outputs": [
    {
     "name": "stdout",
     "output_type": "stream",
     "text": [
      "7\n"
     ]
    }
   ],
   "source": [
    "print(our_sum(1,1,1,1,1,1,1))"
   ]
  },
  {
   "cell_type": "markdown",
   "id": "8da0adf9",
   "metadata": {},
   "source": [
    "Именнованные аргументы также можно передать, но для этого мы используем уже два знака `**`."
   ]
  },
  {
   "cell_type": "code",
   "execution_count": 13,
   "id": "a0cfa4d4",
   "metadata": {},
   "outputs": [
    {
     "name": "stdout",
     "output_type": "stream",
     "text": [
      "name — Anastasia\n",
      "surname — Parshina\n",
      "Добро пожаловать, Anastasia Parshina\n"
     ]
    }
   ],
   "source": [
    "def welcome(**kwargs): # kwargs = keyword arguments\n",
    "\n",
    "    for key, value in kwargs.items():\n",
    "        print(f'{key} — {value}')\n",
    "\n",
    "    print(f'Добро пожаловать, {\" \".join(kwargs.values())}')\n",
    "\n",
    "welcome(name = 'Anastasia', surname = 'Parshina')"
   ]
  },
  {
   "cell_type": "markdown",
   "id": "ea3e5305",
   "metadata": {},
   "source": [
    "Обратите внимание, что мы написали функцию, которая ничего не возвращает, а только печатает. Такие функции тоже бывают, как, например, бывают и те, которым не передаются какие либо аргументы. Чем больше вы с ними работаете и пишете свои собственные функции, тем больше узнаете!"
   ]
  },
  {
   "cell_type": "markdown",
   "id": "9d8ad103",
   "metadata": {},
   "source": [
    "## Функция sorted()"
   ]
  },
  {
   "cell_type": "markdown",
   "id": "1420d147",
   "metadata": {},
   "source": [
    "Функция sorted возвращает новый отсортированный список, который получен из итерируемого объекта, который был передан как аргумент."
   ]
  },
  {
   "cell_type": "code",
   "execution_count": 16,
   "id": "0a0b1228",
   "metadata": {},
   "outputs": [
    {
     "data": {
      "text/plain": [
       "[1, 2, 3, 4, 5]"
      ]
     },
     "execution_count": 16,
     "metadata": {},
     "output_type": "execute_result"
    }
   ],
   "source": [
    "a = [5, 2, 3, 1, 4]\n",
    "sorted(a)"
   ]
  },
  {
   "cell_type": "code",
   "execution_count": 17,
   "id": "dfb187e8",
   "metadata": {},
   "outputs": [
    {
     "data": {
      "text/plain": [
       "[5, 2, 3, 1, 4]"
      ]
     },
     "execution_count": 17,
     "metadata": {},
     "output_type": "execute_result"
    }
   ],
   "source": [
    "a"
   ]
  },
  {
   "cell_type": "code",
   "execution_count": 19,
   "id": "b3878045",
   "metadata": {},
   "outputs": [
    {
     "data": {
      "text/plain": [
       "[5, 4, 3, 2, 1]"
      ]
     },
     "execution_count": 19,
     "metadata": {},
     "output_type": "execute_result"
    }
   ],
   "source": [
    "a = [5, 2, 3, 1, 4]\n",
    "a.sort(reverse=True)\n",
    "a"
   ]
  },
  {
   "cell_type": "code",
   "execution_count": 20,
   "id": "fc3a38e4",
   "metadata": {},
   "outputs": [
    {
     "data": {
      "text/plain": [
       "[1, 2, 3, 4, 5]"
      ]
     },
     "execution_count": 20,
     "metadata": {},
     "output_type": "execute_result"
    }
   ],
   "source": [
    "sorted({1: 'D', 2: 'B', 4: 'E', 5: 'A', 3: 'B'})"
   ]
  },
  {
   "cell_type": "code",
   "execution_count": 21,
   "id": "1c7ad6cd",
   "metadata": {},
   "outputs": [
    {
     "data": {
      "text/plain": [
       "['This', 'is', 'a', 'test', 'string', 'from', 'Andrew']"
      ]
     },
     "execution_count": 21,
     "metadata": {},
     "output_type": "execute_result"
    }
   ],
   "source": [
    "\"This is a test string from Andrew\".split()"
   ]
  },
  {
   "cell_type": "code",
   "execution_count": 18,
   "id": "45f8a672",
   "metadata": {},
   "outputs": [
    {
     "data": {
      "text/plain": [
       "'aaa'"
      ]
     },
     "execution_count": 18,
     "metadata": {},
     "output_type": "execute_result"
    }
   ],
   "source": [
    "str.casefold(\"AAA\")"
   ]
  },
  {
   "cell_type": "code",
   "execution_count": 22,
   "id": "0ac6d905",
   "metadata": {},
   "outputs": [
    {
     "data": {
      "text/plain": [
       "['a', 'Andrew', 'from', 'is', 'string', 'test', 'This']"
      ]
     },
     "execution_count": 22,
     "metadata": {},
     "output_type": "execute_result"
    }
   ],
   "source": [
    "sorted(\"This is a test string from Andrew\".split(), key=str.casefold)"
   ]
  },
  {
   "cell_type": "code",
   "execution_count": 30,
   "id": "5ea776a7",
   "metadata": {},
   "outputs": [
    {
     "data": {
      "text/plain": [
       "[('john', 'A', 15), ('jane', 'B', 12), ('dave', 'B', 10)]"
      ]
     },
     "execution_count": 30,
     "metadata": {},
     "output_type": "execute_result"
    }
   ],
   "source": [
    "student_tuples = [\n",
    "    ('john', 'A', 15),\n",
    "    ('dave', 'B', 10),\n",
    "    ('jane', 'B', 12),\n",
    "]\n",
    "sorted(student_tuples, key=lambda student: student[2], reverse=True)"
   ]
  },
  {
   "cell_type": "markdown",
   "id": "c68e5470",
   "metadata": {},
   "source": [
    "## Анонимная функция <a name=\"par3\"></a>\n",
    "\n",
    "Бывает такое, что функция потребуется нам всего раз — здесь и сейчас. Тогда зачем нам как-то ее определять и давать ей название? Можно просто это название заменить словом `lambda`.\n",
    "\n",
    "`lambda`-функции принимают любое количество аргументов, но не могут содержать несколько выражений и всегда возвращают только одно значение.\n",
    "\n",
    "Отдельно синтаксис `lambda`-функций покажется вам странным, но выглядит он так:\n",
    "\n",
    "    `lambda arguments: expression`\n",
    "\n",
    "Чтобы передать значения в аргументы этой функции нужен следующий синтаксис:\n",
    "\n",
    "    `(lambda arguments: expression)(data)`\n",
    "    \n",
    "Идея такая: \n",
    "\n",
    "+ `arguments` — аргументы, с которыми работает функция\n",
    "+ `expression` — что функция с этими аргументами должна делать\n",
    "+ `data` — какие значения эти аргументы принимают"
   ]
  },
  {
   "cell_type": "markdown",
   "id": "504e1f79",
   "metadata": {},
   "source": [
    "Ниже представлен пример лямбда-функции,  удваивающей вводимое значение."
   ]
  },
  {
   "cell_type": "code",
   "execution_count": 23,
   "id": "bc0288d3",
   "metadata": {},
   "outputs": [
    {
     "name": "stdout",
     "output_type": "stream",
     "text": [
      "10\n"
     ]
    }
   ],
   "source": [
    "double = lambda x: x*2\n",
    "print(double(5))"
   ]
  },
  {
   "cell_type": "code",
   "execution_count": 24,
   "id": "89777608",
   "metadata": {},
   "outputs": [
    {
     "data": {
      "text/plain": [
       "10"
      ]
     },
     "execution_count": 24,
     "metadata": {},
     "output_type": "execute_result"
    }
   ],
   "source": [
    "(lambda x: x*2)(5)"
   ]
  },
  {
   "cell_type": "markdown",
   "id": "ee2e395c",
   "metadata": {},
   "source": [
    "Эта функция безымянная. Она возвращает функциональный объект с идентификатором double. Сейчас мы можем считать её обычной функцией. Рассмотрим ниже аналог lambda функции"
   ]
  },
  {
   "cell_type": "code",
   "execution_count": 25,
   "id": "71fc2eb9",
   "metadata": {},
   "outputs": [],
   "source": [
    "def double(x):\n",
    "    return x * 2"
   ]
  },
  {
   "cell_type": "code",
   "execution_count": 26,
   "id": "919d56da",
   "metadata": {},
   "outputs": [
    {
     "data": {
      "text/plain": [
       "9"
      ]
     },
     "execution_count": 26,
     "metadata": {},
     "output_type": "execute_result"
    }
   ],
   "source": [
    "(lambda var1, var2, var3: (var1 + var2) * var3)(1, 2, 3)"
   ]
  },
  {
   "cell_type": "markdown",
   "id": "03a90f66",
   "metadata": {},
   "source": [
    "А вот аналогичное действие, только с созданием функции через `def`:"
   ]
  },
  {
   "cell_type": "code",
   "execution_count": 27,
   "id": "fa76c9f9",
   "metadata": {},
   "outputs": [
    {
     "data": {
      "text/plain": [
       "9"
      ]
     },
     "execution_count": 27,
     "metadata": {},
     "output_type": "execute_result"
    }
   ],
   "source": [
    "def new_func(var1, var2, var3):\n",
    "    return (var1 + var2) * var3\n",
    "\n",
    "new_func(1, 2, 3)"
   ]
  },
  {
   "cell_type": "markdown",
   "id": "58a46cd8",
   "metadata": {},
   "source": [
    "Условные конструкции с ней также работают (но только простой `if-else`):"
   ]
  },
  {
   "cell_type": "code",
   "execution_count": 28,
   "id": "8d19244d",
   "metadata": {},
   "outputs": [
    {
     "data": {
      "text/plain": [
       "[2]"
      ]
     },
     "execution_count": 28,
     "metadata": {},
     "output_type": "execute_result"
    }
   ],
   "source": [
    "(lambda *args: [arg for arg in args if arg % 2 == 0])(1, 2, 3)"
   ]
  },
  {
   "cell_type": "code",
   "execution_count": 29,
   "id": "9e2521dd",
   "metadata": {},
   "outputs": [
    {
     "data": {
      "text/plain": [
       "[2, 4, 6, 8, 10]"
      ]
     },
     "execution_count": 29,
     "metadata": {},
     "output_type": "execute_result"
    }
   ],
   "source": [
    "(lambda *args: [arg for arg in args if arg % 2 == 0])(1, 2, 3,4,5,6,7,8,9,10)"
   ]
  },
  {
   "cell_type": "markdown",
   "id": "e1103877",
   "metadata": {},
   "source": [
    "## Про — `map()`"
   ]
  },
  {
   "cell_type": "markdown",
   "id": "cf4378c1",
   "metadata": {},
   "source": [
    "Тут нам помогло списковое включение, и фактически `lambda` вернула один объект — список. \n",
    "\n",
    "`lambda`-функции очень часто применяются для преобразования каких-то коллекций через функцию `map()`. "
   ]
  },
  {
   "cell_type": "code",
   "execution_count": 32,
   "id": "f7c56fdc",
   "metadata": {},
   "outputs": [],
   "source": [
    "# map(arg1(function), arg2(iterable)) -> for item in arg2: arg1(item)"
   ]
  },
  {
   "cell_type": "code",
   "execution_count": 33,
   "id": "51a4cb48",
   "metadata": {},
   "outputs": [
    {
     "data": {
      "text/plain": [
       "[12, 0, 42, 16]"
      ]
     },
     "execution_count": 33,
     "metadata": {},
     "output_type": "execute_result"
    }
   ],
   "source": [
    "numbers = [12, 31, 42, 16]\n",
    "\n",
    "list(map(lambda x: x if x % 2 == 0 else 0, numbers))"
   ]
  },
  {
   "cell_type": "markdown",
   "id": "94cbbf90",
   "metadata": {},
   "source": [
    "Функция map() принимает в качестве аргументов функцию и список.\n",
    "\n",
    "Функция вызывается со всеми элементами в списке, и в результате возвращается новый список, содержащий элементы, возвращенные данной функцией для каждого исходного элемента.\n",
    "\n",
    "Ниже пример использования функции map() для удвоения всех элементов списка."
   ]
  },
  {
   "cell_type": "code",
   "execution_count": 34,
   "id": "58819c7f",
   "metadata": {},
   "outputs": [
    {
     "name": "stdout",
     "output_type": "stream",
     "text": [
      "[2, 6, 8, 12, 20, 22, 30, 24, 28]\n"
     ]
    }
   ],
   "source": [
    "current_list = [1, 3, 4, 6, 10, 11, 15, 12, 14]\n",
    "new_list = list(map(lambda x: x*2 , current_list))\n",
    "print(new_list)"
   ]
  },
  {
   "cell_type": "markdown",
   "id": "63888cf1",
   "metadata": {},
   "source": [
    "<center><b><font size=4>Задача №2</font></b></center>\n",
    "\n",
    "**Напишите анонимную функцию, которая принимает на вход строку с id студента и возвращает информацию о нем в формате `Номер группы: Фамилия`**\n",
    "\n",
    "Пример работы функции:\n",
    "```\n",
    "codes = ['БПЛПТЛ_232_Иванов Иван Иванович',\n",
    "        'БМКС_234_Петров Петр Петрович',\n",
    "        'БЭК_211_Ефимов Ефим Ефимович']\n",
    "list(map(... , codes)) # ['232: Иванов', '234: Петров', '211: Ефимов']\n",
    "```"
   ]
  },
  {
   "cell_type": "code",
   "execution_count": 35,
   "id": "4dbc6cb2",
   "metadata": {},
   "outputs": [
    {
     "data": {
      "text/plain": [
       "['232: Иванов', '234: Петров', '211: Ефимов']"
      ]
     },
     "execution_count": 35,
     "metadata": {},
     "output_type": "execute_result"
    }
   ],
   "source": [
    "codes = ['БПЛПТЛ_232_Иванов Иван Иванович',\n",
    "        'БМКС_234_Петров Петр Петрович',\n",
    "        'БЭК_211_Ефимов Ефим Ефимович']\n",
    "\n",
    "# YOUR CODE HERE ╰( ͡° ͜ʖ ͡° )つ──☆*:\n",
    "\n",
    "list(map(lambda x: x.split(\"_\")[1] + \": \" + x.split(\"_\")[2].split()[0], codes))"
   ]
  },
  {
   "cell_type": "markdown",
   "id": "f744bb8c",
   "metadata": {},
   "source": [
    "## Про — `filter()`"
   ]
  },
  {
   "cell_type": "markdown",
   "id": "576ee250",
   "metadata": {},
   "source": [
    "Если мы хотим отфильтровать данные, то нам поможет функция `filter()`."
   ]
  },
  {
   "cell_type": "code",
   "execution_count": 36,
   "id": "a2455056",
   "metadata": {},
   "outputs": [
    {
     "name": "stdout",
     "output_type": "stream",
     "text": [
      "[2, 2, 8, 10]\n"
     ]
    }
   ],
   "source": [
    "# старый дедовский способ\n",
    "\n",
    "numbers = [2, 5, 2, 1, 9, 8, 10]\n",
    "res = []\n",
    "\n",
    "for num in numbers:\n",
    "    if num % 2 == 0:\n",
    "        res.append(num)\n",
    "\n",
    "print(res)"
   ]
  },
  {
   "cell_type": "code",
   "execution_count": 37,
   "id": "764a80f6",
   "metadata": {},
   "outputs": [
    {
     "name": "stdout",
     "output_type": "stream",
     "text": [
      "[2, 2, 8, 10]\n"
     ]
    }
   ],
   "source": [
    "# аналогично, но через списковые включения\n",
    "\n",
    "numbers = [2, 5, 2, 1, 9, 8, 10]\n",
    "res = [num for num in numbers if num % 2 == 0]\n",
    "\n",
    "print(res)"
   ]
  },
  {
   "cell_type": "code",
   "execution_count": 38,
   "id": "a6fb60c7",
   "metadata": {},
   "outputs": [
    {
     "name": "stdout",
     "output_type": "stream",
     "text": [
      "[2, 2, 8, 10]\n"
     ]
    }
   ],
   "source": [
    "# с помощью функции filter()\n",
    "\n",
    "numbers = [2, 5, 2, 1, 9, 8, 10]\n",
    "res = list(filter(lambda num: num % 2 == 0, numbers))\n",
    "\n",
    "print(res)"
   ]
  },
  {
   "cell_type": "markdown",
   "id": "7f5aedc3",
   "metadata": {},
   "source": [
    "Фактически, мы здесь фильтруем по *условию*, не заморачиваясь с использованием цикла. "
   ]
  },
  {
   "cell_type": "markdown",
   "id": "a0e4fb45",
   "metadata": {},
   "source": [
    "## Про — `reduce()`"
   ]
  },
  {
   "cell_type": "markdown",
   "id": "6e098074",
   "metadata": {},
   "source": [
    "Функция reduce() принимает в качестве аргументов функцию и список. Функция вызывается с помощью лямбда-функции и итерируемого объекта  и возвращается новый уменьшенный результат. Так выполняется повторяющаяся операцию над парами итерируемых объектов. Функция reduce() входит в состав модуля functools."
   ]
  },
  {
   "cell_type": "code",
   "execution_count": 39,
   "id": "efa1867c",
   "metadata": {},
   "outputs": [
    {
     "name": "stdout",
     "output_type": "stream",
     "text": [
      "380\n"
     ]
    }
   ],
   "source": [
    "from functools import reduce\n",
    "\n",
    "\n",
    "current_list = [5, 15, 20, 30, 50, 55, 75, 60, 70]\n",
    "summa = reduce((lambda x, y: x + y), current_list)\n",
    "print(summa)"
   ]
  },
  {
   "cell_type": "markdown",
   "id": "8aa3066a",
   "metadata": {},
   "source": [
    "Здесь результаты предыдущих двух элементов суммируются со  следующим элементом, и это продолжается до конца списка, вот так:"
   ]
  },
  {
   "cell_type": "code",
   "execution_count": 7,
   "id": "adb22ed4",
   "metadata": {},
   "outputs": [
    {
     "name": "stdout",
     "output_type": "stream",
     "text": [
      "380\n"
     ]
    }
   ],
   "source": [
    "print(5+15+20+30+50+55+75+60+70)"
   ]
  },
  {
   "cell_type": "markdown",
   "id": "2e18d978",
   "metadata": {},
   "source": [
    "## Лямбда и  списковое включение"
   ]
  },
  {
   "cell_type": "markdown",
   "id": "87e8635a",
   "metadata": {},
   "source": [
    "В этом примере мы будем использовать лямбда-функцию со списковым включением и лямбда-функцию с циклом for. Мы выведем на экран  таблицу из 10 элементов."
   ]
  },
  {
   "cell_type": "code",
   "execution_count": 2,
   "id": "cdc77469",
   "metadata": {},
   "outputs": [
    {
     "name": "stdout",
     "output_type": "stream",
     "text": [
      "10\n",
      "20\n",
      "30\n",
      "40\n",
      "50\n",
      "60\n",
      "70\n",
      "80\n",
      "90\n",
      "100\n"
     ]
    }
   ],
   "source": [
    "tables = [lambda x = x: x*10 for x in range(1, 11)]\n",
    "for table in tables:\n",
    "    print(table())"
   ]
  },
  {
   "cell_type": "code",
   "execution_count": 8,
   "id": "dc347cf1",
   "metadata": {},
   "outputs": [
    {
     "name": "stdout",
     "output_type": "stream",
     "text": [
      "100\n",
      "100\n",
      "100\n",
      "100\n",
      "100\n",
      "100\n",
      "100\n",
      "100\n",
      "100\n",
      "100\n"
     ]
    }
   ],
   "source": [
    "tables = [lambda: x*10 for x in range(1, 11)]\n",
    "for table in tables:\n",
    "    print(table())"
   ]
  },
  {
   "cell_type": "markdown",
   "id": "d1dd326e",
   "metadata": {},
   "source": [
    "## Лямбда и условные операторы"
   ]
  },
  {
   "cell_type": "markdown",
   "id": "5e61ba4c",
   "metadata": {},
   "source": [
    "Давайте рассмотрим использование условий if-else в лямбда-функции. Как вы знаете, Python позволяет нам использовать однострочные условия, и  именно их мы можем помещать в лямбда-функцию для обработки возвращаемого результата.\n",
    "\n",
    "Например, есть две цифры, и вы должны определить, какая из них представляет наибольшее число."
   ]
  },
  {
   "cell_type": "code",
   "execution_count": 9,
   "id": "2701d214",
   "metadata": {},
   "outputs": [
    {
     "name": "stdout",
     "output_type": "stream",
     "text": [
      "5\n"
     ]
    }
   ],
   "source": [
    "max_number = lambda a, b: a if a > b else b\n",
    "print(max_number(3, 5))"
   ]
  },
  {
   "cell_type": "markdown",
   "id": "aea025f2",
   "metadata": {},
   "source": [
    "## Лямбда и множественные операторы"
   ]
  },
  {
   "cell_type": "markdown",
   "id": "d68843cf",
   "metadata": {},
   "source": [
    "Лямбда-функции не допускают использования нескольких операторов, однако мы можем создать две лямбда-функции, а затем вызвать вторую лямбда-функцию в качестве параметра для первой функции. Давайте попробуем найти второй по величине элемент, используя лямбду."
   ]
  },
  {
   "cell_type": "code",
   "execution_count": 40,
   "id": "d15af33d",
   "metadata": {},
   "outputs": [
    {
     "name": "stdout",
     "output_type": "stream",
     "text": [
      "[9, 16, 30]\n"
     ]
    }
   ],
   "source": [
    "current_list = [[10,6,9],[0, 14, 16, 80],[8, 12, 30, 44]]\n",
    "sorted_list = lambda x: (sorted(i) for i in x)\n",
    "second_largest = lambda x, func: [y[-2] for y in func(x)]\n",
    "result = second_largest(current_list, sorted_list)\n",
    "print(result)"
   ]
  },
  {
   "cell_type": "code",
   "execution_count": null,
   "id": "ab9dd355",
   "metadata": {},
   "outputs": [],
   "source": [
    "# 1) func(x) -> [[6,9,10], [0,14,16,80], [8,12,30,44]]\n",
    "# 2) [y[-2] for y in func[x]]"
   ]
  },
  {
   "cell_type": "markdown",
   "id": "4f77e1c2",
   "metadata": {},
   "source": [
    "## Дополнительные материалы <a name=\"parlast\"></a>\n",
    "\n",
    "+ Разница между методом и функцией [Python for Data Science](https://pythonru.com/osnovy/3-python-dlja-data-science-vstroennye-funkcii-i-metody-python)\n",
    "+ Документация Python [Built-in Functions](https://docs.python.org/3/library/functions.html)\n",
    "+ Документация Python [Support for type hints](https://docs.python.org/3/library/typing.html)\n",
    "+ Введение в аннотации типов Python [Статья на Хабр](https://habr.com/ru/company/lamoda/blog/432656/)\n",
    "+ Что такое \\*args и \\*\\*kwargs в Python? [Статья на Хабр](https://habr.com/ru/company/ruvds/blog/482464/)"
   ]
  },
  {
   "cell_type": "code",
   "execution_count": 41,
   "id": "0bf80ce2",
   "metadata": {},
   "outputs": [
    {
     "data": {
      "text/html": [
       "<img src=\"https://www.meme-arsenal.com/memes/3fa9753e0f71247f5bda94b524494314.jpg\"/>"
      ],
      "text/plain": [
       "<IPython.core.display.Image object>"
      ]
     },
     "execution_count": 41,
     "metadata": {},
     "output_type": "execute_result"
    }
   ],
   "source": [
    "from IPython.display import Image\n",
    "from IPython.core.display import HTML\n",
    "Image(url= \"https://www.meme-arsenal.com/memes/3fa9753e0f71247f5bda94b524494314.jpg\")"
   ]
  },
  {
   "cell_type": "code",
   "execution_count": null,
   "id": "523a3670",
   "metadata": {},
   "outputs": [],
   "source": []
  }
 ],
 "metadata": {
  "kernelspec": {
   "display_name": "Python 3 (ipykernel)",
   "language": "python",
   "name": "python3"
  },
  "language_info": {
   "codemirror_mode": {
    "name": "ipython",
    "version": 3
   },
   "file_extension": ".py",
   "mimetype": "text/x-python",
   "name": "python",
   "nbconvert_exporter": "python",
   "pygments_lexer": "ipython3",
   "version": "3.10.8"
  }
 },
 "nbformat": 4,
 "nbformat_minor": 5
}
